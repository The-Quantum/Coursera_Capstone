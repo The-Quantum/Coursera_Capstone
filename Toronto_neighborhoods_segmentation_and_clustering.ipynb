{
 "cells": [
  {
   "cell_type": "markdown",
   "metadata": {},
   "source": [
    "# Week3 peer-graded Assignment: <ins> Segmenting and Clustering Neighborhoods in Toronto</ins>"
   ]
  },
  {
   "cell_type": "markdown",
   "metadata": {},
   "source": [
    "## 1. Scraping of Wikipedia page"
   ]
  },
  {
   "cell_type": "code",
   "execution_count": 1,
   "metadata": {},
   "outputs": [],
   "source": [
    "import pandas as pd\n",
    "import requests\n",
    "from bs4 import BeautifulSoup"
   ]
  },
  {
   "cell_type": "code",
   "execution_count": 2,
   "metadata": {},
   "outputs": [],
   "source": [
    "cn_postalcode_response = requests.get('https://en.wikipedia.org/wiki/List_of_postal_codes_of_Canada:_M')\n",
    "cn_postalcode_soup     = BeautifulSoup(cn_postalcode_response.text)"
   ]
  },
  {
   "cell_type": "markdown",
   "metadata": {},
   "source": [
    "### Generate the DataFrame from the table scraped from the wikipedia page"
   ]
  },
  {
   "cell_type": "code",
   "execution_count": 3,
   "metadata": {},
   "outputs": [
    {
     "data": {
      "text/html": [
       "<div>\n",
       "<style scoped>\n",
       "    .dataframe tbody tr th:only-of-type {\n",
       "        vertical-align: middle;\n",
       "    }\n",
       "\n",
       "    .dataframe tbody tr th {\n",
       "        vertical-align: top;\n",
       "    }\n",
       "\n",
       "    .dataframe thead th {\n",
       "        text-align: right;\n",
       "    }\n",
       "</style>\n",
       "<table border=\"1\" class=\"dataframe\">\n",
       "  <thead>\n",
       "    <tr style=\"text-align: right;\">\n",
       "      <th></th>\n",
       "      <th>PostalCode</th>\n",
       "      <th>Borough</th>\n",
       "      <th>Neighborhood</th>\n",
       "    </tr>\n",
       "  </thead>\n",
       "  <tbody>\n",
       "    <tr>\n",
       "      <th>0</th>\n",
       "      <td>M1A</td>\n",
       "      <td>Not assigned</td>\n",
       "      <td>Not assigned</td>\n",
       "    </tr>\n",
       "    <tr>\n",
       "      <th>1</th>\n",
       "      <td>M2A</td>\n",
       "      <td>Not assigned</td>\n",
       "      <td>Not assigned</td>\n",
       "    </tr>\n",
       "    <tr>\n",
       "      <th>2</th>\n",
       "      <td>M3A</td>\n",
       "      <td>North York</td>\n",
       "      <td>Parkwoods</td>\n",
       "    </tr>\n",
       "    <tr>\n",
       "      <th>3</th>\n",
       "      <td>M4A</td>\n",
       "      <td>North York</td>\n",
       "      <td>Victoria Village</td>\n",
       "    </tr>\n",
       "    <tr>\n",
       "      <th>4</th>\n",
       "      <td>M5A</td>\n",
       "      <td>Downtown Toronto</td>\n",
       "      <td>Regent Park, Harbourfront</td>\n",
       "    </tr>\n",
       "  </tbody>\n",
       "</table>\n",
       "</div>"
      ],
      "text/plain": [
       "  PostalCode           Borough               Neighborhood\n",
       "0        M1A      Not assigned               Not assigned\n",
       "1        M2A      Not assigned               Not assigned\n",
       "2        M3A        North York                  Parkwoods\n",
       "3        M4A        North York           Victoria Village\n",
       "4        M5A  Downtown Toronto  Regent Park, Harbourfront"
      ]
     },
     "execution_count": 3,
     "metadata": {},
     "output_type": "execute_result"
    }
   ],
   "source": [
    "table_headers = cn_postalcode_soup.find('tbody').find('tr').text\n",
    "header_list = [head for head in table_headers.split('\\n') if head != '']\n",
    "\n",
    "table_body = cn_postalcode_soup.find('tbody').findAll('tr')\n",
    "\n",
    "dict_table = {header_list[0] : [],\n",
    "              header_list[1] : [],\n",
    "              header_list[2] : []\n",
    "             }\n",
    "for i in range(1,len(table_body)):\n",
    "    table_row = table_body[i].text\n",
    "    table_row = [elt for elt in table_row.split('\\n') if elt != '']\n",
    "    for j in range(3):\n",
    "        dict_table[header_list[j]].append(table_row[j])\n",
    "        \n",
    "df_table = pd.DataFrame(dict_table)\n",
    "df_table.rename(columns={\"Postal Code\": \"PostalCode\"}, inplace=True)\n",
    "df_table.head()"
   ]
  },
  {
   "cell_type": "code",
   "execution_count": 4,
   "metadata": {},
   "outputs": [
    {
     "data": {
      "text/html": [
       "<div>\n",
       "<style scoped>\n",
       "    .dataframe tbody tr th:only-of-type {\n",
       "        vertical-align: middle;\n",
       "    }\n",
       "\n",
       "    .dataframe tbody tr th {\n",
       "        vertical-align: top;\n",
       "    }\n",
       "\n",
       "    .dataframe thead th {\n",
       "        text-align: right;\n",
       "    }\n",
       "</style>\n",
       "<table border=\"1\" class=\"dataframe\">\n",
       "  <thead>\n",
       "    <tr style=\"text-align: right;\">\n",
       "      <th></th>\n",
       "      <th>PostalCode</th>\n",
       "      <th>Borough</th>\n",
       "      <th>Neighborhood</th>\n",
       "    </tr>\n",
       "  </thead>\n",
       "  <tbody>\n",
       "    <tr>\n",
       "      <th>count</th>\n",
       "      <td>180</td>\n",
       "      <td>180</td>\n",
       "      <td>180</td>\n",
       "    </tr>\n",
       "    <tr>\n",
       "      <th>unique</th>\n",
       "      <td>180</td>\n",
       "      <td>11</td>\n",
       "      <td>100</td>\n",
       "    </tr>\n",
       "    <tr>\n",
       "      <th>top</th>\n",
       "      <td>M6J</td>\n",
       "      <td>Not assigned</td>\n",
       "      <td>Not assigned</td>\n",
       "    </tr>\n",
       "    <tr>\n",
       "      <th>freq</th>\n",
       "      <td>1</td>\n",
       "      <td>77</td>\n",
       "      <td>77</td>\n",
       "    </tr>\n",
       "  </tbody>\n",
       "</table>\n",
       "</div>"
      ],
      "text/plain": [
       "       PostalCode       Borough  Neighborhood\n",
       "count         180           180           180\n",
       "unique        180            11           100\n",
       "top           M6J  Not assigned  Not assigned\n",
       "freq            1            77            77"
      ]
     },
     "execution_count": 4,
     "metadata": {},
     "output_type": "execute_result"
    }
   ],
   "source": [
    "df_table.describe()"
   ]
  },
  {
   "cell_type": "markdown",
   "metadata": {},
   "source": [
    "### Remove rows with not assigned Borough from the DataFrame"
   ]
  },
  {
   "cell_type": "code",
   "execution_count": 5,
   "metadata": {},
   "outputs": [],
   "source": [
    "df_table_clean = df_table[df_table['Borough'] != 'Not assigned'].reset_index(drop=True)"
   ]
  },
  {
   "cell_type": "markdown",
   "metadata": {},
   "source": [
    "### Replace Not assigned Neighborhood with corresponding Borough if assigned"
   ]
  },
  {
   "cell_type": "code",
   "execution_count": 6,
   "metadata": {},
   "outputs": [
    {
     "data": {
      "text/html": [
       "<div>\n",
       "<style scoped>\n",
       "    .dataframe tbody tr th:only-of-type {\n",
       "        vertical-align: middle;\n",
       "    }\n",
       "\n",
       "    .dataframe tbody tr th {\n",
       "        vertical-align: top;\n",
       "    }\n",
       "\n",
       "    .dataframe thead th {\n",
       "        text-align: right;\n",
       "    }\n",
       "</style>\n",
       "<table border=\"1\" class=\"dataframe\">\n",
       "  <thead>\n",
       "    <tr style=\"text-align: right;\">\n",
       "      <th></th>\n",
       "      <th>PostalCode</th>\n",
       "      <th>Borough</th>\n",
       "      <th>Neighborhood</th>\n",
       "    </tr>\n",
       "  </thead>\n",
       "  <tbody>\n",
       "    <tr>\n",
       "      <th>0</th>\n",
       "      <td>M3A</td>\n",
       "      <td>North York</td>\n",
       "      <td>Parkwoods</td>\n",
       "    </tr>\n",
       "    <tr>\n",
       "      <th>1</th>\n",
       "      <td>M4A</td>\n",
       "      <td>North York</td>\n",
       "      <td>Victoria Village</td>\n",
       "    </tr>\n",
       "    <tr>\n",
       "      <th>2</th>\n",
       "      <td>M5A</td>\n",
       "      <td>Downtown Toronto</td>\n",
       "      <td>Regent Park, Harbourfront</td>\n",
       "    </tr>\n",
       "    <tr>\n",
       "      <th>3</th>\n",
       "      <td>M6A</td>\n",
       "      <td>North York</td>\n",
       "      <td>Lawrence Manor, Lawrence Heights</td>\n",
       "    </tr>\n",
       "    <tr>\n",
       "      <th>4</th>\n",
       "      <td>M7A</td>\n",
       "      <td>Downtown Toronto</td>\n",
       "      <td>Queen's Park, Ontario Provincial Government</td>\n",
       "    </tr>\n",
       "  </tbody>\n",
       "</table>\n",
       "</div>"
      ],
      "text/plain": [
       "  PostalCode           Borough                                 Neighborhood\n",
       "0        M3A        North York                                    Parkwoods\n",
       "1        M4A        North York                             Victoria Village\n",
       "2        M5A  Downtown Toronto                    Regent Park, Harbourfront\n",
       "3        M6A        North York             Lawrence Manor, Lawrence Heights\n",
       "4        M7A  Downtown Toronto  Queen's Park, Ontario Provincial Government"
      ]
     },
     "execution_count": 6,
     "metadata": {},
     "output_type": "execute_result"
    }
   ],
   "source": [
    "def clean_table(row):\n",
    "    if row[1] == 'Not assigned' and row[1] != 'Not assigned':\n",
    "        row[2] = row[1]\n",
    "    return row\n",
    "\n",
    "df_table_clean.apply(clean_table, axis=1)\n",
    "df_table_clean.head()"
   ]
  },
  {
   "cell_type": "markdown",
   "metadata": {},
   "source": [
    "## 2. Obtain Latitude and longitude coordinates of neighborhoods unsing geocoders api"
   ]
  },
  {
   "cell_type": "code",
   "execution_count": 7,
   "metadata": {},
   "outputs": [
    {
     "name": "stdout",
     "output_type": "stream",
     "text": [
      "[43.75, None, None, None, 43.66, None, 54.28, None, None, None, None, 43.64, 54.28, 43.73, None, None, None, 43.67, None, None, None, None, 43.76, None, None, None, None, None, None, None, 43.65, None, None, 43.75, None, None, None, 43.65, None, None, 43.74, None, None, 43.72, None, None, None, 43.67, None, None, None, None, 43.79, None, None, None, None, None, None, 43.75, None, None, None, 43.69, None, None, None, None, None, 43.72, None, None, None, None, None, None, None, 43.67, None, None, None, 43.72, None, None, None, None, None, None, None, None, 43.77, None, None, None, None, None, None, None, None, None, None, None, None] [-79.45, None, None, None, -79.38, None, -0.4, None, None, None, None, -79.54, -0.4, -79.35, None, None, None, -79.55, None, None, None, None, -79.23, None, None, None, None, None, None, None, -79.38, None, None, -79.45, None, None, None, -79.41, None, None, -79.48, None, None, -79.42, None, None, None, -79.3, None, None, None, None, -79.42, None, None, None, None, None, None, -79.45, None, None, None, -79.48, None, None, None, None, None, -79.42, None, None, None, None, None, None, None, -79.55, None, None, None, -79.42, None, None, None, None, None, None, None, None, -79.26, None, None, None, None, None, None, None, None, None, None, None, None]\n"
     ]
    }
   ],
   "source": [
    "#!conda install -c conda-forge geopy --yes \n",
    "from geopy.geocoders import Nominatim\n",
    "import time\n",
    "\n",
    "def compute_lat_long(address):\n",
    "    geolocator = Nominatim(user_agent=\"capstone_project\")\n",
    "    location   = geolocator.geocode(address)\n",
    "    if location is None:\n",
    "        lat = None ; long = None\n",
    "    else :\n",
    "        lat = location.latitude; long = location.longitude\n",
    "    return lat, long\n",
    "\n",
    "latitude = []; longitude = []\n",
    "for i in range(len(df_table_clean)):\n",
    "    address = df_table_clean.PostalCode[i] + ' ' + \\\n",
    "                             df_table_clean.Borough[i]\n",
    "    lat, long = compute_lat_long(address)\n",
    "    if (lat is not None) and (long is not None):\n",
    "        latitude.append(round(lat, 2)); longitude.append(round(long, 2))\n",
    "    else :\n",
    "        latitude.append(lat); longitude.append(long)\n",
    "    \n",
    "print(latitude, longitude)"
   ]
  },
  {
   "cell_type": "markdown",
   "metadata": {},
   "source": [
    "One sees that the **geocoders** does not reconized more than half of the adresses "
   ]
  },
  {
   "cell_type": "code",
   "execution_count": 8,
   "metadata": {},
   "outputs": [
    {
     "data": {
      "text/html": [
       "<div>\n",
       "<style scoped>\n",
       "    .dataframe tbody tr th:only-of-type {\n",
       "        vertical-align: middle;\n",
       "    }\n",
       "\n",
       "    .dataframe tbody tr th {\n",
       "        vertical-align: top;\n",
       "    }\n",
       "\n",
       "    .dataframe thead th {\n",
       "        text-align: right;\n",
       "    }\n",
       "</style>\n",
       "<table border=\"1\" class=\"dataframe\">\n",
       "  <thead>\n",
       "    <tr style=\"text-align: right;\">\n",
       "      <th></th>\n",
       "      <th>PostalCode</th>\n",
       "      <th>Borough</th>\n",
       "      <th>Neighborhood</th>\n",
       "      <th>latitude</th>\n",
       "      <th>longitude</th>\n",
       "    </tr>\n",
       "  </thead>\n",
       "  <tbody>\n",
       "    <tr>\n",
       "      <th>0</th>\n",
       "      <td>M3A</td>\n",
       "      <td>North York</td>\n",
       "      <td>Parkwoods</td>\n",
       "      <td>43.75</td>\n",
       "      <td>-79.45</td>\n",
       "    </tr>\n",
       "    <tr>\n",
       "      <th>1</th>\n",
       "      <td>M4A</td>\n",
       "      <td>North York</td>\n",
       "      <td>Victoria Village</td>\n",
       "      <td>NaN</td>\n",
       "      <td>NaN</td>\n",
       "    </tr>\n",
       "    <tr>\n",
       "      <th>2</th>\n",
       "      <td>M5A</td>\n",
       "      <td>Downtown Toronto</td>\n",
       "      <td>Regent Park, Harbourfront</td>\n",
       "      <td>NaN</td>\n",
       "      <td>NaN</td>\n",
       "    </tr>\n",
       "    <tr>\n",
       "      <th>3</th>\n",
       "      <td>M6A</td>\n",
       "      <td>North York</td>\n",
       "      <td>Lawrence Manor, Lawrence Heights</td>\n",
       "      <td>NaN</td>\n",
       "      <td>NaN</td>\n",
       "    </tr>\n",
       "    <tr>\n",
       "      <th>4</th>\n",
       "      <td>M7A</td>\n",
       "      <td>Downtown Toronto</td>\n",
       "      <td>Queen's Park, Ontario Provincial Government</td>\n",
       "      <td>43.66</td>\n",
       "      <td>-79.38</td>\n",
       "    </tr>\n",
       "  </tbody>\n",
       "</table>\n",
       "</div>"
      ],
      "text/plain": [
       "  PostalCode           Borough                                 Neighborhood  \\\n",
       "0        M3A        North York                                    Parkwoods   \n",
       "1        M4A        North York                             Victoria Village   \n",
       "2        M5A  Downtown Toronto                    Regent Park, Harbourfront   \n",
       "3        M6A        North York             Lawrence Manor, Lawrence Heights   \n",
       "4        M7A  Downtown Toronto  Queen's Park, Ontario Provincial Government   \n",
       "\n",
       "   latitude  longitude  \n",
       "0     43.75     -79.45  \n",
       "1       NaN        NaN  \n",
       "2       NaN        NaN  \n",
       "3       NaN        NaN  \n",
       "4     43.66     -79.38  "
      ]
     },
     "execution_count": 8,
     "metadata": {},
     "output_type": "execute_result"
    }
   ],
   "source": [
    "# Let add the requested latitude and longitude to the DataFrame\n",
    "df_table_clean['latitude']  = latitude\n",
    "df_table_clean['longitude'] = longitude\n",
    "df_table_clean.head()"
   ]
  },
  {
   "cell_type": "markdown",
   "metadata": {},
   "source": [
    "#### Let find out the ratio of NaN values on the requested Latitude and Longitude"
   ]
  },
  {
   "cell_type": "code",
   "execution_count": 9,
   "metadata": {},
   "outputs": [
    {
     "data": {
      "text/plain": [
       "PostalCode       0.00000\n",
       "Borough          0.00000\n",
       "Neighborhood     0.00000\n",
       "latitude        79.61165\n",
       "longitude       79.61165\n",
       "dtype: float64"
      ]
     },
     "execution_count": 9,
     "metadata": {},
     "output_type": "execute_result"
    }
   ],
   "source": [
    "df_table_clean.isna().sum()/len(df_table_clean)*100"
   ]
  },
  {
   "cell_type": "markdown",
   "metadata": {},
   "source": [
    "More than **79%** addresses are not reconized by geocoders api. <br>\n",
    "I found that this <ins>**value changes**</ins> each time the cell is run. <br>\n",
    "Therefore, it is important to import latitudes and longitudes from the csv file provides"
   ]
  },
  {
   "cell_type": "code",
   "execution_count": 10,
   "metadata": {},
   "outputs": [
    {
     "data": {
      "text/html": [
       "<div>\n",
       "<style scoped>\n",
       "    .dataframe tbody tr th:only-of-type {\n",
       "        vertical-align: middle;\n",
       "    }\n",
       "\n",
       "    .dataframe tbody tr th {\n",
       "        vertical-align: top;\n",
       "    }\n",
       "\n",
       "    .dataframe thead th {\n",
       "        text-align: right;\n",
       "    }\n",
       "</style>\n",
       "<table border=\"1\" class=\"dataframe\">\n",
       "  <thead>\n",
       "    <tr style=\"text-align: right;\">\n",
       "      <th></th>\n",
       "      <th>PostalCode</th>\n",
       "      <th>Latitude</th>\n",
       "      <th>Longitude</th>\n",
       "    </tr>\n",
       "  </thead>\n",
       "  <tbody>\n",
       "    <tr>\n",
       "      <th>0</th>\n",
       "      <td>M1B</td>\n",
       "      <td>43.806686</td>\n",
       "      <td>-79.194353</td>\n",
       "    </tr>\n",
       "    <tr>\n",
       "      <th>1</th>\n",
       "      <td>M1C</td>\n",
       "      <td>43.784535</td>\n",
       "      <td>-79.160497</td>\n",
       "    </tr>\n",
       "    <tr>\n",
       "      <th>2</th>\n",
       "      <td>M1E</td>\n",
       "      <td>43.763573</td>\n",
       "      <td>-79.188711</td>\n",
       "    </tr>\n",
       "    <tr>\n",
       "      <th>3</th>\n",
       "      <td>M1G</td>\n",
       "      <td>43.770992</td>\n",
       "      <td>-79.216917</td>\n",
       "    </tr>\n",
       "    <tr>\n",
       "      <th>4</th>\n",
       "      <td>M1H</td>\n",
       "      <td>43.773136</td>\n",
       "      <td>-79.239476</td>\n",
       "    </tr>\n",
       "  </tbody>\n",
       "</table>\n",
       "</div>"
      ],
      "text/plain": [
       "  PostalCode   Latitude  Longitude\n",
       "0        M1B  43.806686 -79.194353\n",
       "1        M1C  43.784535 -79.160497\n",
       "2        M1E  43.763573 -79.188711\n",
       "3        M1G  43.770992 -79.216917\n",
       "4        M1H  43.773136 -79.239476"
      ]
     },
     "execution_count": 10,
     "metadata": {},
     "output_type": "execute_result"
    }
   ],
   "source": [
    "# import the csv file from the provided url\n",
    "df_lat_long = pd.read_csv('https://cocl.us/Geospatial_data')\n",
    "df_lat_long.rename(columns={'Postal Code':'PostalCode'}, inplace=True)\n",
    "df_lat_long.head()"
   ]
  },
  {
   "cell_type": "code",
   "execution_count": 11,
   "metadata": {},
   "outputs": [
    {
     "data": {
      "text/html": [
       "<div>\n",
       "<style scoped>\n",
       "    .dataframe tbody tr th:only-of-type {\n",
       "        vertical-align: middle;\n",
       "    }\n",
       "\n",
       "    .dataframe tbody tr th {\n",
       "        vertical-align: top;\n",
       "    }\n",
       "\n",
       "    .dataframe thead th {\n",
       "        text-align: right;\n",
       "    }\n",
       "</style>\n",
       "<table border=\"1\" class=\"dataframe\">\n",
       "  <thead>\n",
       "    <tr style=\"text-align: right;\">\n",
       "      <th></th>\n",
       "      <th>PostalCode</th>\n",
       "      <th>Borough</th>\n",
       "      <th>Neighborhood</th>\n",
       "      <th>Latitude</th>\n",
       "      <th>Longitude</th>\n",
       "    </tr>\n",
       "  </thead>\n",
       "  <tbody>\n",
       "    <tr>\n",
       "      <th>0</th>\n",
       "      <td>M3A</td>\n",
       "      <td>North York</td>\n",
       "      <td>Parkwoods</td>\n",
       "      <td>43.753259</td>\n",
       "      <td>-79.329656</td>\n",
       "    </tr>\n",
       "    <tr>\n",
       "      <th>1</th>\n",
       "      <td>M4A</td>\n",
       "      <td>North York</td>\n",
       "      <td>Victoria Village</td>\n",
       "      <td>43.725882</td>\n",
       "      <td>-79.315572</td>\n",
       "    </tr>\n",
       "    <tr>\n",
       "      <th>2</th>\n",
       "      <td>M5A</td>\n",
       "      <td>Downtown Toronto</td>\n",
       "      <td>Regent Park, Harbourfront</td>\n",
       "      <td>43.654260</td>\n",
       "      <td>-79.360636</td>\n",
       "    </tr>\n",
       "    <tr>\n",
       "      <th>3</th>\n",
       "      <td>M6A</td>\n",
       "      <td>North York</td>\n",
       "      <td>Lawrence Manor, Lawrence Heights</td>\n",
       "      <td>43.718518</td>\n",
       "      <td>-79.464763</td>\n",
       "    </tr>\n",
       "    <tr>\n",
       "      <th>4</th>\n",
       "      <td>M7A</td>\n",
       "      <td>Downtown Toronto</td>\n",
       "      <td>Queen's Park, Ontario Provincial Government</td>\n",
       "      <td>43.662301</td>\n",
       "      <td>-79.389494</td>\n",
       "    </tr>\n",
       "  </tbody>\n",
       "</table>\n",
       "</div>"
      ],
      "text/plain": [
       "  PostalCode           Borough                                 Neighborhood  \\\n",
       "0        M3A        North York                                    Parkwoods   \n",
       "1        M4A        North York                             Victoria Village   \n",
       "2        M5A  Downtown Toronto                    Regent Park, Harbourfront   \n",
       "3        M6A        North York             Lawrence Manor, Lawrence Heights   \n",
       "4        M7A  Downtown Toronto  Queen's Park, Ontario Provincial Government   \n",
       "\n",
       "    Latitude  Longitude  \n",
       "0  43.753259 -79.329656  \n",
       "1  43.725882 -79.315572  \n",
       "2  43.654260 -79.360636  \n",
       "3  43.718518 -79.464763  \n",
       "4  43.662301 -79.389494  "
      ]
     },
     "execution_count": 11,
     "metadata": {},
     "output_type": "execute_result"
    }
   ],
   "source": [
    "# Drop the proviously added latitude and longitude\n",
    "df_table_clean.drop(columns=['latitude','longitude'], inplace=True)\n",
    "\n",
    "# Join both DataFrame with the outher joint method\n",
    "df_table_cord = pd.merge(df_table_clean, df_lat_long, on='PostalCode', how='outer')\n",
    "df_table_cord.head()"
   ]
  },
  {
   "cell_type": "code",
   "execution_count": 12,
   "metadata": {},
   "outputs": [
    {
     "data": {
      "text/plain": [
       "PostalCode      0.0\n",
       "Borough         0.0\n",
       "Neighborhood    0.0\n",
       "Latitude        0.0\n",
       "Longitude       0.0\n",
       "dtype: float64"
      ]
     },
     "execution_count": 12,
     "metadata": {},
     "output_type": "execute_result"
    }
   ],
   "source": [
    "# Check the rate of NaN value un the final DataFrame\n",
    "df_table_cord.isna().sum()/len(df_table_cord)*100"
   ]
  },
  {
   "cell_type": "code",
   "execution_count": 13,
   "metadata": {},
   "outputs": [
    {
     "data": {
      "text/plain": [
       "(103, 5)"
      ]
     },
     "execution_count": 13,
     "metadata": {},
     "output_type": "execute_result"
    }
   ],
   "source": [
    "# Check the shape of the final table\n",
    "df_table_cord.shape"
   ]
  },
  {
   "cell_type": "code",
   "execution_count": 14,
   "metadata": {},
   "outputs": [
    {
     "name": "stdout",
     "output_type": "stream",
     "text": [
      "Collecting package metadata (current_repodata.json): done\n",
      "Solving environment: done\n",
      "\n",
      "# All requested packages already installed.\n",
      "\n"
     ]
    }
   ],
   "source": [
    "!conda install -c conda-forge folium=0.5.0 --yes\n",
    "import folium "
   ]
  },
  {
   "cell_type": "markdown",
   "metadata": {},
   "source": [
    "### Representation on the map"
   ]
  },
  {
   "cell_type": "code",
   "execution_count": 15,
   "metadata": {
    "scrolled": true
   },
   "outputs": [
    {
     "data": {
      "text/html": [
       "<div style=\"width:100%;\"><div style=\"position:relative;width:100%;height:0;padding-bottom:60%;\"><span style=\"color:#565656\">Make this Notebook Trusted to load map: File -> Trust Notebook</span><iframe src=\"about:blank\" style=\"position:absolute;width:100%;height:100%;left:0;top:0;border:none !important;\" data-html=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 onload=\"this.contentDocument.open();this.contentDocument.write(atob(this.getAttribute('data-html')));this.contentDocument.close();\" allowfullscreen webkitallowfullscreen mozallowfullscreen></iframe></div></div>"
      ],
      "text/plain": [
       "<folium.folium.Map at 0x7f1f59090710>"
      ]
     },
     "execution_count": 15,
     "metadata": {},
     "output_type": "execute_result"
    }
   ],
   "source": [
    "# Generate map centred around M5A Downtown Toronto\n",
    "M6B_index = df_table_cord[df_table_cord['PostalCode']=='M6B'].index\n",
    "venues_map = folium.Map(location=[df_table_cord.Latitude[M6B_index[0]], df_table_cord.Longitude[M6B_index[0]]],\n",
    "                                  zoom_start=11)\n",
    "\n",
    "# Add a red circle marker to represent the Conrad Hotel\n",
    "folium.features.CircleMarker(\n",
    "                [df_table_cord.Latitude[M6B_index[0]], df_table_cord.Longitude[M6B_index[0]]],\n",
    "                radius=15,\n",
    "                color='red',\n",
    "                popup='Conrad Hotel',\n",
    "                fill = True,\n",
    "                fill_color = 'red',\n",
    "                fill_opacity = 0.7\n",
    "                ).add_to(venues_map)\n",
    "\n",
    "# Add the 103 addresses to the map as blue circle markers\n",
    "for lat, lng, label in zip(df_table_cord.Latitude, df_table_cord.Longitude, df_table_cord.PostalCode):\n",
    "    folium.features.CircleMarker(\n",
    "        [lat, lng],\n",
    "        radius=5,\n",
    "        popup=label,\n",
    "        fill=True,\n",
    "        color='blue',\n",
    "        fill_color='blue',\n",
    "        fill_opacity=0.6\n",
    "        ).add_to(venues_map)\n",
    "\n",
    "# display map\n",
    "venues_map"
   ]
  },
  {
   "cell_type": "code",
   "execution_count": null,
   "metadata": {},
   "outputs": [],
   "source": []
  }
 ],
 "metadata": {
  "kernelspec": {
   "display_name": "Python 3",
   "language": "python",
   "name": "python3"
  },
  "language_info": {
   "codemirror_mode": {
    "name": "ipython",
    "version": 3
   },
   "file_extension": ".py",
   "mimetype": "text/x-python",
   "name": "python",
   "nbconvert_exporter": "python",
   "pygments_lexer": "ipython3",
   "version": "3.7.7"
  }
 },
 "nbformat": 4,
 "nbformat_minor": 4
}
