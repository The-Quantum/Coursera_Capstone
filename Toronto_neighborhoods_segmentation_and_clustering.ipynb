{
 "cells": [
  {
   "cell_type": "markdown",
   "metadata": {},
   "source": [
    "# Week3 peer-graded Assignment: <ins> Segmenting and Clustering Neighborhoods in Toronto</ins>"
   ]
  },
  {
   "cell_type": "markdown",
   "metadata": {},
   "source": [
    "## 1. Scraping of Wikipedia page"
   ]
  },
  {
   "cell_type": "code",
   "execution_count": 1,
   "metadata": {},
   "outputs": [],
   "source": [
    "import pandas as pd\n",
    "import requests\n",
    "from bs4 import BeautifulSoup"
   ]
  },
  {
   "cell_type": "code",
   "execution_count": 2,
   "metadata": {},
   "outputs": [],
   "source": [
    "cn_postalcode_response = requests.get('https://en.wikipedia.org/wiki/List_of_postal_codes_of_Canada:_M')\n",
    "cn_postalcode_soup     = BeautifulSoup(cn_postalcode_response.text)"
   ]
  },
  {
   "cell_type": "markdown",
   "metadata": {},
   "source": [
    "### Generate the DataFrame from the table scraped from the wikipedia page"
   ]
  },
  {
   "cell_type": "code",
   "execution_count": 3,
   "metadata": {},
   "outputs": [
    {
     "data": {
      "text/html": [
       "<div>\n",
       "<style scoped>\n",
       "    .dataframe tbody tr th:only-of-type {\n",
       "        vertical-align: middle;\n",
       "    }\n",
       "\n",
       "    .dataframe tbody tr th {\n",
       "        vertical-align: top;\n",
       "    }\n",
       "\n",
       "    .dataframe thead th {\n",
       "        text-align: right;\n",
       "    }\n",
       "</style>\n",
       "<table border=\"1\" class=\"dataframe\">\n",
       "  <thead>\n",
       "    <tr style=\"text-align: right;\">\n",
       "      <th></th>\n",
       "      <th>PostalCode</th>\n",
       "      <th>Borough</th>\n",
       "      <th>Neighborhood</th>\n",
       "    </tr>\n",
       "  </thead>\n",
       "  <tbody>\n",
       "    <tr>\n",
       "      <th>0</th>\n",
       "      <td>M1A</td>\n",
       "      <td>Not assigned</td>\n",
       "      <td>Not assigned</td>\n",
       "    </tr>\n",
       "    <tr>\n",
       "      <th>1</th>\n",
       "      <td>M2A</td>\n",
       "      <td>Not assigned</td>\n",
       "      <td>Not assigned</td>\n",
       "    </tr>\n",
       "    <tr>\n",
       "      <th>2</th>\n",
       "      <td>M3A</td>\n",
       "      <td>North York</td>\n",
       "      <td>Parkwoods</td>\n",
       "    </tr>\n",
       "    <tr>\n",
       "      <th>3</th>\n",
       "      <td>M4A</td>\n",
       "      <td>North York</td>\n",
       "      <td>Victoria Village</td>\n",
       "    </tr>\n",
       "    <tr>\n",
       "      <th>4</th>\n",
       "      <td>M5A</td>\n",
       "      <td>Downtown Toronto</td>\n",
       "      <td>Regent Park, Harbourfront</td>\n",
       "    </tr>\n",
       "  </tbody>\n",
       "</table>\n",
       "</div>"
      ],
      "text/plain": [
       "  PostalCode           Borough               Neighborhood\n",
       "0        M1A      Not assigned               Not assigned\n",
       "1        M2A      Not assigned               Not assigned\n",
       "2        M3A        North York                  Parkwoods\n",
       "3        M4A        North York           Victoria Village\n",
       "4        M5A  Downtown Toronto  Regent Park, Harbourfront"
      ]
     },
     "execution_count": 3,
     "metadata": {},
     "output_type": "execute_result"
    }
   ],
   "source": [
    "table_headers = cn_postalcode_soup.find('tbody').find('tr').text\n",
    "header_list = [head for head in table_headers.split('\\n') if head != '']\n",
    "\n",
    "table_body = cn_postalcode_soup.find('tbody').findAll('tr')\n",
    "\n",
    "dict_table = {header_list[0] : [],\n",
    "              header_list[1] : [],\n",
    "              header_list[2] : []\n",
    "             }\n",
    "for i in range(1,len(table_body)):\n",
    "    table_row = table_body[i].text\n",
    "    table_row = [elt for elt in table_row.split('\\n') if elt != '']\n",
    "    for j in range(3):\n",
    "        dict_table[header_list[j]].append(table_row[j])\n",
    "        \n",
    "df_table = pd.DataFrame(dict_table)\n",
    "df_table.rename(columns={\"Postal Code\": \"PostalCode\"}, inplace=True)\n",
    "df_table.head()"
   ]
  },
  {
   "cell_type": "code",
   "execution_count": 4,
   "metadata": {},
   "outputs": [
    {
     "data": {
      "text/html": [
       "<div>\n",
       "<style scoped>\n",
       "    .dataframe tbody tr th:only-of-type {\n",
       "        vertical-align: middle;\n",
       "    }\n",
       "\n",
       "    .dataframe tbody tr th {\n",
       "        vertical-align: top;\n",
       "    }\n",
       "\n",
       "    .dataframe thead th {\n",
       "        text-align: right;\n",
       "    }\n",
       "</style>\n",
       "<table border=\"1\" class=\"dataframe\">\n",
       "  <thead>\n",
       "    <tr style=\"text-align: right;\">\n",
       "      <th></th>\n",
       "      <th>PostalCode</th>\n",
       "      <th>Borough</th>\n",
       "      <th>Neighborhood</th>\n",
       "    </tr>\n",
       "  </thead>\n",
       "  <tbody>\n",
       "    <tr>\n",
       "      <th>count</th>\n",
       "      <td>180</td>\n",
       "      <td>180</td>\n",
       "      <td>180</td>\n",
       "    </tr>\n",
       "    <tr>\n",
       "      <th>unique</th>\n",
       "      <td>180</td>\n",
       "      <td>11</td>\n",
       "      <td>100</td>\n",
       "    </tr>\n",
       "    <tr>\n",
       "      <th>top</th>\n",
       "      <td>M4A</td>\n",
       "      <td>Not assigned</td>\n",
       "      <td>Not assigned</td>\n",
       "    </tr>\n",
       "    <tr>\n",
       "      <th>freq</th>\n",
       "      <td>1</td>\n",
       "      <td>77</td>\n",
       "      <td>77</td>\n",
       "    </tr>\n",
       "  </tbody>\n",
       "</table>\n",
       "</div>"
      ],
      "text/plain": [
       "       PostalCode       Borough  Neighborhood\n",
       "count         180           180           180\n",
       "unique        180            11           100\n",
       "top           M4A  Not assigned  Not assigned\n",
       "freq            1            77            77"
      ]
     },
     "execution_count": 4,
     "metadata": {},
     "output_type": "execute_result"
    }
   ],
   "source": [
    "df_table.describe()"
   ]
  },
  {
   "cell_type": "markdown",
   "metadata": {},
   "source": [
    "### Remove rows with not assigned Borough from the DataFrame"
   ]
  },
  {
   "cell_type": "code",
   "execution_count": 5,
   "metadata": {},
   "outputs": [],
   "source": [
    "df_table_clean = df_table[df_table['Borough'] != 'Not assigned'].reset_index(drop=True)"
   ]
  },
  {
   "cell_type": "markdown",
   "metadata": {},
   "source": [
    "### Replace Not assigned Neighborhood with corresponding Borough if assigned"
   ]
  },
  {
   "cell_type": "code",
   "execution_count": 6,
   "metadata": {},
   "outputs": [
    {
     "data": {
      "text/html": [
       "<div>\n",
       "<style scoped>\n",
       "    .dataframe tbody tr th:only-of-type {\n",
       "        vertical-align: middle;\n",
       "    }\n",
       "\n",
       "    .dataframe tbody tr th {\n",
       "        vertical-align: top;\n",
       "    }\n",
       "\n",
       "    .dataframe thead th {\n",
       "        text-align: right;\n",
       "    }\n",
       "</style>\n",
       "<table border=\"1\" class=\"dataframe\">\n",
       "  <thead>\n",
       "    <tr style=\"text-align: right;\">\n",
       "      <th></th>\n",
       "      <th>PostalCode</th>\n",
       "      <th>Borough</th>\n",
       "      <th>Neighborhood</th>\n",
       "    </tr>\n",
       "  </thead>\n",
       "  <tbody>\n",
       "    <tr>\n",
       "      <th>0</th>\n",
       "      <td>M3A</td>\n",
       "      <td>North York</td>\n",
       "      <td>Parkwoods</td>\n",
       "    </tr>\n",
       "    <tr>\n",
       "      <th>1</th>\n",
       "      <td>M4A</td>\n",
       "      <td>North York</td>\n",
       "      <td>Victoria Village</td>\n",
       "    </tr>\n",
       "    <tr>\n",
       "      <th>2</th>\n",
       "      <td>M5A</td>\n",
       "      <td>Downtown Toronto</td>\n",
       "      <td>Regent Park, Harbourfront</td>\n",
       "    </tr>\n",
       "    <tr>\n",
       "      <th>3</th>\n",
       "      <td>M6A</td>\n",
       "      <td>North York</td>\n",
       "      <td>Lawrence Manor, Lawrence Heights</td>\n",
       "    </tr>\n",
       "    <tr>\n",
       "      <th>4</th>\n",
       "      <td>M7A</td>\n",
       "      <td>Downtown Toronto</td>\n",
       "      <td>Queen's Park, Ontario Provincial Government</td>\n",
       "    </tr>\n",
       "  </tbody>\n",
       "</table>\n",
       "</div>"
      ],
      "text/plain": [
       "  PostalCode           Borough                                 Neighborhood\n",
       "0        M3A        North York                                    Parkwoods\n",
       "1        M4A        North York                             Victoria Village\n",
       "2        M5A  Downtown Toronto                    Regent Park, Harbourfront\n",
       "3        M6A        North York             Lawrence Manor, Lawrence Heights\n",
       "4        M7A  Downtown Toronto  Queen's Park, Ontario Provincial Government"
      ]
     },
     "execution_count": 6,
     "metadata": {},
     "output_type": "execute_result"
    }
   ],
   "source": [
    "def clean_table(row):\n",
    "    if row[1] == 'Not assigned' and row[1] != 'Not assigned':\n",
    "        row[2] = row[1]\n",
    "    return row\n",
    "\n",
    "df_table_clean.apply(clean_table, axis=1)\n",
    "df_table_clean.head()"
   ]
  },
  {
   "cell_type": "markdown",
   "metadata": {},
   "source": [
    "## 2. Obtain Latitude and longitude coordinates of neighborhoods unsing geocoders api"
   ]
  },
  {
   "cell_type": "code",
   "execution_count": 7,
   "metadata": {},
   "outputs": [
    {
     "name": "stdout",
     "output_type": "stream",
     "text": [
      "[43.75, None, None, None, 43.66, None, 54.28, None, None, None, None, 43.64, 54.28, 43.73, None, None, None, 43.67, None, None, None, None, 43.76, None, None, None, None, None, None, None, 43.65, None, None, 43.75, None, None, None, 43.65, None, None, 43.74, None, None, 43.72, None, None, None, 43.67, None, None, None, None, 43.79, None, None, None, None, None, None, 43.75, None, None, None, 43.69, None, None, None, None, None, 43.72, None, None, None, None, None, None, None, 43.67, None, None, None, 43.72, None, None, None, None, None, None, None, None, 43.77, None, None, None, None, None, None, None, None, None, None, None, None] [-79.45, None, None, None, -79.38, None, -0.4, None, None, None, None, -79.54, -0.4, -79.35, None, None, None, -79.55, None, None, None, None, -79.23, None, None, None, None, None, None, None, -79.38, None, None, -79.45, None, None, None, -79.41, None, None, -79.48, None, None, -79.42, None, None, None, -79.3, None, None, None, None, -79.42, None, None, None, None, None, None, -79.45, None, None, None, -79.48, None, None, None, None, None, -79.42, None, None, None, None, None, None, None, -79.55, None, None, None, -79.42, None, None, None, None, None, None, None, None, -79.26, None, None, None, None, None, None, None, None, None, None, None, None]\n"
     ]
    }
   ],
   "source": [
    "#!conda install -c conda-forge geopy --yes \n",
    "from geopy.geocoders import Nominatim\n",
    "import time\n",
    "\n",
    "def compute_lat_long(address):\n",
    "    geolocator = Nominatim(user_agent=\"capstone_project\")\n",
    "    location   = geolocator.geocode(address)\n",
    "    if location is None:\n",
    "        lat = None ; long = None\n",
    "    else :\n",
    "        lat = location.latitude; long = location.longitude\n",
    "    return lat, long\n",
    "\n",
    "latitude = []; longitude = []\n",
    "for i in range(len(df_table_clean)):\n",
    "    address = df_table_clean.PostalCode[i] + ' ' + \\\n",
    "                             df_table_clean.Borough[i]\n",
    "    lat, long = compute_lat_long(address)\n",
    "    if (lat is not None) and (long is not None):\n",
    "        latitude.append(round(lat, 2)); longitude.append(round(long, 2))\n",
    "    else :\n",
    "        latitude.append(lat); longitude.append(long)\n",
    "    \n",
    "print(latitude, longitude)"
   ]
  },
  {
   "cell_type": "markdown",
   "metadata": {},
   "source": [
    "One sees that the **geocoders** does not reconized more than half of the adresses "
   ]
  },
  {
   "cell_type": "code",
   "execution_count": 8,
   "metadata": {},
   "outputs": [
    {
     "data": {
      "text/html": [
       "<div>\n",
       "<style scoped>\n",
       "    .dataframe tbody tr th:only-of-type {\n",
       "        vertical-align: middle;\n",
       "    }\n",
       "\n",
       "    .dataframe tbody tr th {\n",
       "        vertical-align: top;\n",
       "    }\n",
       "\n",
       "    .dataframe thead th {\n",
       "        text-align: right;\n",
       "    }\n",
       "</style>\n",
       "<table border=\"1\" class=\"dataframe\">\n",
       "  <thead>\n",
       "    <tr style=\"text-align: right;\">\n",
       "      <th></th>\n",
       "      <th>PostalCode</th>\n",
       "      <th>Borough</th>\n",
       "      <th>Neighborhood</th>\n",
       "      <th>latitude</th>\n",
       "      <th>longitude</th>\n",
       "    </tr>\n",
       "  </thead>\n",
       "  <tbody>\n",
       "    <tr>\n",
       "      <th>0</th>\n",
       "      <td>M3A</td>\n",
       "      <td>North York</td>\n",
       "      <td>Parkwoods</td>\n",
       "      <td>43.75</td>\n",
       "      <td>-79.45</td>\n",
       "    </tr>\n",
       "    <tr>\n",
       "      <th>1</th>\n",
       "      <td>M4A</td>\n",
       "      <td>North York</td>\n",
       "      <td>Victoria Village</td>\n",
       "      <td>NaN</td>\n",
       "      <td>NaN</td>\n",
       "    </tr>\n",
       "    <tr>\n",
       "      <th>2</th>\n",
       "      <td>M5A</td>\n",
       "      <td>Downtown Toronto</td>\n",
       "      <td>Regent Park, Harbourfront</td>\n",
       "      <td>NaN</td>\n",
       "      <td>NaN</td>\n",
       "    </tr>\n",
       "    <tr>\n",
       "      <th>3</th>\n",
       "      <td>M6A</td>\n",
       "      <td>North York</td>\n",
       "      <td>Lawrence Manor, Lawrence Heights</td>\n",
       "      <td>NaN</td>\n",
       "      <td>NaN</td>\n",
       "    </tr>\n",
       "    <tr>\n",
       "      <th>4</th>\n",
       "      <td>M7A</td>\n",
       "      <td>Downtown Toronto</td>\n",
       "      <td>Queen's Park, Ontario Provincial Government</td>\n",
       "      <td>43.66</td>\n",
       "      <td>-79.38</td>\n",
       "    </tr>\n",
       "  </tbody>\n",
       "</table>\n",
       "</div>"
      ],
      "text/plain": [
       "  PostalCode           Borough                                 Neighborhood  \\\n",
       "0        M3A        North York                                    Parkwoods   \n",
       "1        M4A        North York                             Victoria Village   \n",
       "2        M5A  Downtown Toronto                    Regent Park, Harbourfront   \n",
       "3        M6A        North York             Lawrence Manor, Lawrence Heights   \n",
       "4        M7A  Downtown Toronto  Queen's Park, Ontario Provincial Government   \n",
       "\n",
       "   latitude  longitude  \n",
       "0     43.75     -79.45  \n",
       "1       NaN        NaN  \n",
       "2       NaN        NaN  \n",
       "3       NaN        NaN  \n",
       "4     43.66     -79.38  "
      ]
     },
     "execution_count": 8,
     "metadata": {},
     "output_type": "execute_result"
    }
   ],
   "source": [
    "# Let add the requested latitude and longitude to the DataFrame\n",
    "df_table_clean['latitude']  = latitude\n",
    "df_table_clean['longitude'] = longitude\n",
    "df_table_clean.head()"
   ]
  },
  {
   "cell_type": "markdown",
   "metadata": {},
   "source": [
    "#### Let find out the ratio of NaN values on the requested Latitude and Longitude"
   ]
  },
  {
   "cell_type": "code",
   "execution_count": 9,
   "metadata": {},
   "outputs": [
    {
     "data": {
      "text/plain": [
       "PostalCode       0.00000\n",
       "Borough          0.00000\n",
       "Neighborhood     0.00000\n",
       "latitude        79.61165\n",
       "longitude       79.61165\n",
       "dtype: float64"
      ]
     },
     "execution_count": 9,
     "metadata": {},
     "output_type": "execute_result"
    }
   ],
   "source": [
    "df_table_clean.isna().sum()/len(df_table_clean)*100"
   ]
  },
  {
   "cell_type": "markdown",
   "metadata": {},
   "source": [
    "More than **79%** addresses are not reconized by geocoders api. <br>\n",
    "I found that this <ins>**value changes**</ins> each time the cell is run. <br>\n",
    "Therefore, it is important to import latitudes and longitudes from the csv file provides"
   ]
  },
  {
   "cell_type": "code",
   "execution_count": 10,
   "metadata": {},
   "outputs": [
    {
     "data": {
      "text/html": [
       "<div>\n",
       "<style scoped>\n",
       "    .dataframe tbody tr th:only-of-type {\n",
       "        vertical-align: middle;\n",
       "    }\n",
       "\n",
       "    .dataframe tbody tr th {\n",
       "        vertical-align: top;\n",
       "    }\n",
       "\n",
       "    .dataframe thead th {\n",
       "        text-align: right;\n",
       "    }\n",
       "</style>\n",
       "<table border=\"1\" class=\"dataframe\">\n",
       "  <thead>\n",
       "    <tr style=\"text-align: right;\">\n",
       "      <th></th>\n",
       "      <th>PostalCode</th>\n",
       "      <th>Latitude</th>\n",
       "      <th>Longitude</th>\n",
       "    </tr>\n",
       "  </thead>\n",
       "  <tbody>\n",
       "    <tr>\n",
       "      <th>0</th>\n",
       "      <td>M1B</td>\n",
       "      <td>43.806686</td>\n",
       "      <td>-79.194353</td>\n",
       "    </tr>\n",
       "    <tr>\n",
       "      <th>1</th>\n",
       "      <td>M1C</td>\n",
       "      <td>43.784535</td>\n",
       "      <td>-79.160497</td>\n",
       "    </tr>\n",
       "    <tr>\n",
       "      <th>2</th>\n",
       "      <td>M1E</td>\n",
       "      <td>43.763573</td>\n",
       "      <td>-79.188711</td>\n",
       "    </tr>\n",
       "    <tr>\n",
       "      <th>3</th>\n",
       "      <td>M1G</td>\n",
       "      <td>43.770992</td>\n",
       "      <td>-79.216917</td>\n",
       "    </tr>\n",
       "    <tr>\n",
       "      <th>4</th>\n",
       "      <td>M1H</td>\n",
       "      <td>43.773136</td>\n",
       "      <td>-79.239476</td>\n",
       "    </tr>\n",
       "  </tbody>\n",
       "</table>\n",
       "</div>"
      ],
      "text/plain": [
       "  PostalCode   Latitude  Longitude\n",
       "0        M1B  43.806686 -79.194353\n",
       "1        M1C  43.784535 -79.160497\n",
       "2        M1E  43.763573 -79.188711\n",
       "3        M1G  43.770992 -79.216917\n",
       "4        M1H  43.773136 -79.239476"
      ]
     },
     "execution_count": 10,
     "metadata": {},
     "output_type": "execute_result"
    }
   ],
   "source": [
    "# import the csv file from the provided url\n",
    "df_lat_long = pd.read_csv('https://cocl.us/Geospatial_data')\n",
    "df_lat_long.rename(columns={'Postal Code':'PostalCode'}, inplace=True)\n",
    "df_lat_long.head()"
   ]
  },
  {
   "cell_type": "code",
   "execution_count": 11,
   "metadata": {},
   "outputs": [
    {
     "data": {
      "text/html": [
       "<div>\n",
       "<style scoped>\n",
       "    .dataframe tbody tr th:only-of-type {\n",
       "        vertical-align: middle;\n",
       "    }\n",
       "\n",
       "    .dataframe tbody tr th {\n",
       "        vertical-align: top;\n",
       "    }\n",
       "\n",
       "    .dataframe thead th {\n",
       "        text-align: right;\n",
       "    }\n",
       "</style>\n",
       "<table border=\"1\" class=\"dataframe\">\n",
       "  <thead>\n",
       "    <tr style=\"text-align: right;\">\n",
       "      <th></th>\n",
       "      <th>PostalCode</th>\n",
       "      <th>Borough</th>\n",
       "      <th>Neighborhood</th>\n",
       "      <th>Latitude</th>\n",
       "      <th>Longitude</th>\n",
       "    </tr>\n",
       "  </thead>\n",
       "  <tbody>\n",
       "    <tr>\n",
       "      <th>0</th>\n",
       "      <td>M3A</td>\n",
       "      <td>North York</td>\n",
       "      <td>Parkwoods</td>\n",
       "      <td>43.753259</td>\n",
       "      <td>-79.329656</td>\n",
       "    </tr>\n",
       "    <tr>\n",
       "      <th>1</th>\n",
       "      <td>M4A</td>\n",
       "      <td>North York</td>\n",
       "      <td>Victoria Village</td>\n",
       "      <td>43.725882</td>\n",
       "      <td>-79.315572</td>\n",
       "    </tr>\n",
       "    <tr>\n",
       "      <th>2</th>\n",
       "      <td>M5A</td>\n",
       "      <td>Downtown Toronto</td>\n",
       "      <td>Regent Park, Harbourfront</td>\n",
       "      <td>43.654260</td>\n",
       "      <td>-79.360636</td>\n",
       "    </tr>\n",
       "    <tr>\n",
       "      <th>3</th>\n",
       "      <td>M6A</td>\n",
       "      <td>North York</td>\n",
       "      <td>Lawrence Manor, Lawrence Heights</td>\n",
       "      <td>43.718518</td>\n",
       "      <td>-79.464763</td>\n",
       "    </tr>\n",
       "    <tr>\n",
       "      <th>4</th>\n",
       "      <td>M7A</td>\n",
       "      <td>Downtown Toronto</td>\n",
       "      <td>Queen's Park, Ontario Provincial Government</td>\n",
       "      <td>43.662301</td>\n",
       "      <td>-79.389494</td>\n",
       "    </tr>\n",
       "  </tbody>\n",
       "</table>\n",
       "</div>"
      ],
      "text/plain": [
       "  PostalCode           Borough                                 Neighborhood  \\\n",
       "0        M3A        North York                                    Parkwoods   \n",
       "1        M4A        North York                             Victoria Village   \n",
       "2        M5A  Downtown Toronto                    Regent Park, Harbourfront   \n",
       "3        M6A        North York             Lawrence Manor, Lawrence Heights   \n",
       "4        M7A  Downtown Toronto  Queen's Park, Ontario Provincial Government   \n",
       "\n",
       "    Latitude  Longitude  \n",
       "0  43.753259 -79.329656  \n",
       "1  43.725882 -79.315572  \n",
       "2  43.654260 -79.360636  \n",
       "3  43.718518 -79.464763  \n",
       "4  43.662301 -79.389494  "
      ]
     },
     "execution_count": 11,
     "metadata": {},
     "output_type": "execute_result"
    }
   ],
   "source": [
    "# Drop the proviously added latitude and longitude\n",
    "df_table_clean.drop(columns=['latitude','longitude'], inplace=True)\n",
    "\n",
    "# Join both DataFrame with the outher joint method\n",
    "df_table_cord = pd.merge(df_table_clean, df_lat_long, on='PostalCode', how='outer')\n",
    "df_table_cord.head()"
   ]
  },
  {
   "cell_type": "code",
   "execution_count": 12,
   "metadata": {},
   "outputs": [
    {
     "data": {
      "text/plain": [
       "PostalCode      0.0\n",
       "Borough         0.0\n",
       "Neighborhood    0.0\n",
       "Latitude        0.0\n",
       "Longitude       0.0\n",
       "dtype: float64"
      ]
     },
     "execution_count": 12,
     "metadata": {},
     "output_type": "execute_result"
    }
   ],
   "source": [
    "# Check the rate of NaN value un the final DataFrame\n",
    "df_table_cord.isna().sum()/len(df_table_cord)*100"
   ]
  },
  {
   "cell_type": "code",
   "execution_count": 13,
   "metadata": {},
   "outputs": [
    {
     "data": {
      "text/plain": [
       "(103, 5)"
      ]
     },
     "execution_count": 13,
     "metadata": {},
     "output_type": "execute_result"
    }
   ],
   "source": [
    "# Check the shape of the final table\n",
    "df_table_cord.shape"
   ]
  },
  {
   "cell_type": "code",
   "execution_count": 14,
   "metadata": {},
   "outputs": [
    {
     "name": "stdout",
     "output_type": "stream",
     "text": [
      "Collecting package metadata (current_repodata.json): done\n",
      "Solving environment: done\n",
      "\n",
      "# All requested packages already installed.\n",
      "\n"
     ]
    }
   ],
   "source": [
    "!conda install -c conda-forge folium=0.5.0 --yes\n",
    "import folium "
   ]
  },
  {
   "cell_type": "markdown",
   "metadata": {},
   "source": [
    "### Representation on the map"
   ]
  },
  {
   "cell_type": "code",
   "execution_count": 15,
   "metadata": {
    "scrolled": true
   },
   "outputs": [
    {
     "data": {
      "text/html": [
       "<div style=\"width:100%;\"><div style=\"position:relative;width:100%;height:0;padding-bottom:60%;\"><span style=\"color:#565656\">Make this Notebook Trusted to load map: File -> Trust Notebook</span><iframe src=\"about:blank\" style=\"position:absolute;width:100%;height:100%;left:0;top:0;border:none !important;\" data-html=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 onload=\"this.contentDocument.open();this.contentDocument.write(atob(this.getAttribute('data-html')));this.contentDocument.close();\" allowfullscreen webkitallowfullscreen mozallowfullscreen></iframe></div></div>"
      ],
      "text/plain": [
       "<folium.folium.Map at 0x7f01e52a2050>"
      ]
     },
     "execution_count": 15,
     "metadata": {},
     "output_type": "execute_result"
    }
   ],
   "source": [
    "# Generate map centred around M5A Downtown Toronto\n",
    "M6B_index = df_table_cord[df_table_cord['PostalCode']=='M6B'].index\n",
    "venues_map = folium.Map(location=[df_table_cord.Latitude[M6B_index[0]], df_table_cord.Longitude[M6B_index[0]]],\n",
    "                                  zoom_start=11)\n",
    "\n",
    "# Add a red circle marker to represent the Conrad Hotel\n",
    "folium.features.CircleMarker(\n",
    "                [df_table_cord.Latitude[M6B_index[0]], df_table_cord.Longitude[M6B_index[0]]],\n",
    "                radius=15,\n",
    "                color='red',\n",
    "                popup='Conrad Hotel',\n",
    "                fill = True,\n",
    "                fill_color = 'red',\n",
    "                fill_opacity = 0.7\n",
    "                ).add_to(venues_map)\n",
    "\n",
    "# Add the 103 addresses to the map as blue circle markers\n",
    "for lat, lng, label in zip(df_table_cord.Latitude, df_table_cord.Longitude, df_table_cord.PostalCode):\n",
    "    folium.features.CircleMarker(\n",
    "        [lat, lng],\n",
    "        radius=5,\n",
    "        popup=label,\n",
    "        fill=True,\n",
    "        color='blue',\n",
    "        fill_color='blue',\n",
    "        fill_opacity=0.6\n",
    "        ).add_to(venues_map)\n",
    "\n",
    "# display map\n",
    "venues_map"
   ]
  },
  {
   "cell_type": "code",
   "execution_count": null,
   "metadata": {},
   "outputs": [],
   "source": []
  }
 ],
 "metadata": {
  "kernelspec": {
   "display_name": "Python 3",
   "language": "python",
   "name": "python3"
  },
  "language_info": {
   "codemirror_mode": {
    "name": "ipython",
    "version": 3
   },
   "file_extension": ".py",
   "mimetype": "text/x-python",
   "name": "python",
   "nbconvert_exporter": "python",
   "pygments_lexer": "ipython3",
   "version": "3.7.7"
  }
 },
 "nbformat": 4,
 "nbformat_minor": 4
}
