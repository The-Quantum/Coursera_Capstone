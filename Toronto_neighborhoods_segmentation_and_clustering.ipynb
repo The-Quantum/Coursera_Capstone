{
 "cells": [
  {
   "cell_type": "markdown",
   "metadata": {},
   "source": [
    "# Week3 peer-graded Assignment: <ins> Segmenting and Clustering Neighborhoods in Toronto</ins>"
   ]
  },
  {
   "cell_type": "markdown",
   "metadata": {},
   "source": [
    "## 1. Scraping of Wikipedia page"
   ]
  },
  {
   "cell_type": "code",
   "execution_count": 1,
   "metadata": {},
   "outputs": [],
   "source": [
    "import pandas as pd\n",
    "import requests\n",
    "from bs4 import BeautifulSoup"
   ]
  },
  {
   "cell_type": "code",
   "execution_count": 2,
   "metadata": {},
   "outputs": [],
   "source": [
    "cn_postalcode_response = requests.get('https://en.wikipedia.org/wiki/List_of_postal_codes_of_Canada:_M')\n",
    "cn_postalcode_soup     = BeautifulSoup(cn_postalcode_response.text)"
   ]
  },
  {
   "cell_type": "markdown",
   "metadata": {},
   "source": [
    "### Generate the DataFrame from the table scraped from the wikipedia page"
   ]
  },
  {
   "cell_type": "code",
   "execution_count": 3,
   "metadata": {},
   "outputs": [
    {
     "data": {
      "text/html": [
       "<div>\n",
       "<style scoped>\n",
       "    .dataframe tbody tr th:only-of-type {\n",
       "        vertical-align: middle;\n",
       "    }\n",
       "\n",
       "    .dataframe tbody tr th {\n",
       "        vertical-align: top;\n",
       "    }\n",
       "\n",
       "    .dataframe thead th {\n",
       "        text-align: right;\n",
       "    }\n",
       "</style>\n",
       "<table border=\"1\" class=\"dataframe\">\n",
       "  <thead>\n",
       "    <tr style=\"text-align: right;\">\n",
       "      <th></th>\n",
       "      <th>PostalCode</th>\n",
       "      <th>Borough</th>\n",
       "      <th>Neighborhood</th>\n",
       "    </tr>\n",
       "  </thead>\n",
       "  <tbody>\n",
       "    <tr>\n",
       "      <th>0</th>\n",
       "      <td>M1A</td>\n",
       "      <td>Not assigned</td>\n",
       "      <td>Not assigned</td>\n",
       "    </tr>\n",
       "    <tr>\n",
       "      <th>1</th>\n",
       "      <td>M2A</td>\n",
       "      <td>Not assigned</td>\n",
       "      <td>Not assigned</td>\n",
       "    </tr>\n",
       "    <tr>\n",
       "      <th>2</th>\n",
       "      <td>M3A</td>\n",
       "      <td>North York</td>\n",
       "      <td>Parkwoods</td>\n",
       "    </tr>\n",
       "    <tr>\n",
       "      <th>3</th>\n",
       "      <td>M4A</td>\n",
       "      <td>North York</td>\n",
       "      <td>Victoria Village</td>\n",
       "    </tr>\n",
       "    <tr>\n",
       "      <th>4</th>\n",
       "      <td>M5A</td>\n",
       "      <td>Downtown Toronto</td>\n",
       "      <td>Regent Park, Harbourfront</td>\n",
       "    </tr>\n",
       "  </tbody>\n",
       "</table>\n",
       "</div>"
      ],
      "text/plain": [
       "  PostalCode           Borough               Neighborhood\n",
       "0        M1A      Not assigned               Not assigned\n",
       "1        M2A      Not assigned               Not assigned\n",
       "2        M3A        North York                  Parkwoods\n",
       "3        M4A        North York           Victoria Village\n",
       "4        M5A  Downtown Toronto  Regent Park, Harbourfront"
      ]
     },
     "execution_count": 3,
     "metadata": {},
     "output_type": "execute_result"
    }
   ],
   "source": [
    "table_headers = cn_postalcode_soup.find('tbody').find('tr').text\n",
    "header_list = [head for head in table_headers.split('\\n') if head != '']\n",
    "\n",
    "table_body = cn_postalcode_soup.find('tbody').findAll('tr')\n",
    "\n",
    "dict_table = {header_list[0] : [],\n",
    "              header_list[1] : [],\n",
    "              header_list[2] : []\n",
    "             }\n",
    "for i in range(1,len(table_body)):\n",
    "    table_row = table_body[i].text\n",
    "    table_row = [elt for elt in table_row.split('\\n') if elt != '']\n",
    "    for j in range(3):\n",
    "        dict_table[header_list[j]].append(table_row[j])\n",
    "        \n",
    "df_table = pd.DataFrame(dict_table)\n",
    "df_table.rename(columns={\"Postal Code\": \"PostalCode\"}, inplace=True)\n",
    "df_table.head()"
   ]
  },
  {
   "cell_type": "code",
   "execution_count": 4,
   "metadata": {},
   "outputs": [
    {
     "data": {
      "text/html": [
       "<div>\n",
       "<style scoped>\n",
       "    .dataframe tbody tr th:only-of-type {\n",
       "        vertical-align: middle;\n",
       "    }\n",
       "\n",
       "    .dataframe tbody tr th {\n",
       "        vertical-align: top;\n",
       "    }\n",
       "\n",
       "    .dataframe thead th {\n",
       "        text-align: right;\n",
       "    }\n",
       "</style>\n",
       "<table border=\"1\" class=\"dataframe\">\n",
       "  <thead>\n",
       "    <tr style=\"text-align: right;\">\n",
       "      <th></th>\n",
       "      <th>PostalCode</th>\n",
       "      <th>Borough</th>\n",
       "      <th>Neighborhood</th>\n",
       "    </tr>\n",
       "  </thead>\n",
       "  <tbody>\n",
       "    <tr>\n",
       "      <th>count</th>\n",
       "      <td>180</td>\n",
       "      <td>180</td>\n",
       "      <td>180</td>\n",
       "    </tr>\n",
       "    <tr>\n",
       "      <th>unique</th>\n",
       "      <td>180</td>\n",
       "      <td>11</td>\n",
       "      <td>100</td>\n",
       "    </tr>\n",
       "    <tr>\n",
       "      <th>top</th>\n",
       "      <td>M3T</td>\n",
       "      <td>Not assigned</td>\n",
       "      <td>Not assigned</td>\n",
       "    </tr>\n",
       "    <tr>\n",
       "      <th>freq</th>\n",
       "      <td>1</td>\n",
       "      <td>77</td>\n",
       "      <td>77</td>\n",
       "    </tr>\n",
       "  </tbody>\n",
       "</table>\n",
       "</div>"
      ],
      "text/plain": [
       "       PostalCode       Borough  Neighborhood\n",
       "count         180           180           180\n",
       "unique        180            11           100\n",
       "top           M3T  Not assigned  Not assigned\n",
       "freq            1            77            77"
      ]
     },
     "execution_count": 4,
     "metadata": {},
     "output_type": "execute_result"
    }
   ],
   "source": [
    "df_table.describe()"
   ]
  },
  {
   "cell_type": "markdown",
   "metadata": {},
   "source": [
    "### Remove rows with not assigned Borough from the DataFrame"
   ]
  },
  {
   "cell_type": "code",
   "execution_count": 5,
   "metadata": {},
   "outputs": [],
   "source": [
    "df_table_clean = df_table[df_table['Borough'] != 'Not assigned'].reset_index(drop=True)"
   ]
  },
  {
   "cell_type": "markdown",
   "metadata": {},
   "source": [
    "### Replace Not assigned Neighborhood with corresponding Borough if assigned"
   ]
  },
  {
   "cell_type": "code",
   "execution_count": 6,
   "metadata": {},
   "outputs": [
    {
     "data": {
      "text/html": [
       "<div>\n",
       "<style scoped>\n",
       "    .dataframe tbody tr th:only-of-type {\n",
       "        vertical-align: middle;\n",
       "    }\n",
       "\n",
       "    .dataframe tbody tr th {\n",
       "        vertical-align: top;\n",
       "    }\n",
       "\n",
       "    .dataframe thead th {\n",
       "        text-align: right;\n",
       "    }\n",
       "</style>\n",
       "<table border=\"1\" class=\"dataframe\">\n",
       "  <thead>\n",
       "    <tr style=\"text-align: right;\">\n",
       "      <th></th>\n",
       "      <th>PostalCode</th>\n",
       "      <th>Borough</th>\n",
       "      <th>Neighborhood</th>\n",
       "    </tr>\n",
       "  </thead>\n",
       "  <tbody>\n",
       "    <tr>\n",
       "      <th>0</th>\n",
       "      <td>M3A</td>\n",
       "      <td>North York</td>\n",
       "      <td>Parkwoods</td>\n",
       "    </tr>\n",
       "    <tr>\n",
       "      <th>1</th>\n",
       "      <td>M4A</td>\n",
       "      <td>North York</td>\n",
       "      <td>Victoria Village</td>\n",
       "    </tr>\n",
       "    <tr>\n",
       "      <th>2</th>\n",
       "      <td>M5A</td>\n",
       "      <td>Downtown Toronto</td>\n",
       "      <td>Regent Park, Harbourfront</td>\n",
       "    </tr>\n",
       "    <tr>\n",
       "      <th>3</th>\n",
       "      <td>M6A</td>\n",
       "      <td>North York</td>\n",
       "      <td>Lawrence Manor, Lawrence Heights</td>\n",
       "    </tr>\n",
       "    <tr>\n",
       "      <th>4</th>\n",
       "      <td>M7A</td>\n",
       "      <td>Downtown Toronto</td>\n",
       "      <td>Queen's Park, Ontario Provincial Government</td>\n",
       "    </tr>\n",
       "  </tbody>\n",
       "</table>\n",
       "</div>"
      ],
      "text/plain": [
       "  PostalCode           Borough                                 Neighborhood\n",
       "0        M3A        North York                                    Parkwoods\n",
       "1        M4A        North York                             Victoria Village\n",
       "2        M5A  Downtown Toronto                    Regent Park, Harbourfront\n",
       "3        M6A        North York             Lawrence Manor, Lawrence Heights\n",
       "4        M7A  Downtown Toronto  Queen's Park, Ontario Provincial Government"
      ]
     },
     "execution_count": 6,
     "metadata": {},
     "output_type": "execute_result"
    }
   ],
   "source": [
    "def clean_table(row):\n",
    "    if row[1] == 'Not assigned' and row[1] != 'Not assigned':\n",
    "        row[2] = row[1]\n",
    "    return row\n",
    "\n",
    "df_table_clean.apply(clean_table, axis=1)\n",
    "df_table_clean.head()"
   ]
  },
  {
   "cell_type": "markdown",
   "metadata": {},
   "source": [
    "## 2. Obtain Latitude and longitude coordinates of neighborhoods unsing geocoders api"
   ]
  },
  {
   "cell_type": "code",
   "execution_count": 8,
   "metadata": {},
   "outputs": [
    {
     "name": "stdout",
     "output_type": "stream",
     "text": [
      "[43.75, None, None, None, 43.66, None, 54.28, None, None, None, None, 43.64, 54.28, 43.73, None, None, None, 43.67, None, None, None, None, 43.76, None, None, None, None, None, None, None, 43.65, None, None, 43.75, None, None, None, 43.65, None, None, 43.74, None, None, 43.72, None, None, None, 43.67, None, None, None, None, 43.79, None, None, None, None, None, None, 43.75, None, None, None, 43.69, None, None, None, None, None, 43.72, None, None, None, None, None, None, None, 43.67, None, None, None, 43.72, None, None, None, None, None, None, None, None, 43.77, None, None, None, None, None, None, None, None, None, None, None, None] [-79.45, None, None, None, -79.38, None, -0.4, None, None, None, None, -79.54, -0.4, -79.35, None, None, None, -79.55, None, None, None, None, -79.23, None, None, None, None, None, None, None, -79.38, None, None, -79.45, None, None, None, -79.41, None, None, -79.48, None, None, -79.42, None, None, None, -79.3, None, None, None, None, -79.42, None, None, None, None, None, None, -79.45, None, None, None, -79.48, None, None, None, None, None, -79.42, None, None, None, None, None, None, None, -79.55, None, None, None, -79.42, None, None, None, None, None, None, None, None, -79.26, None, None, None, None, None, None, None, None, None, None, None, None]\n"
     ]
    }
   ],
   "source": [
    "#!conda install -c conda-forge geopy --yes \n",
    "from geopy.geocoders import Nominatim\n",
    "import time\n",
    "\n",
    "def compute_lat_long(address):\n",
    "    geolocator = Nominatim(user_agent=\"capstone_project\")\n",
    "    location   = geolocator.geocode(address)\n",
    "    if location is None:\n",
    "        lat = None ; long = None\n",
    "    else :\n",
    "        lat = location.latitude; long = location.longitude\n",
    "    return lat, long\n",
    "\n",
    "latitude = []; longitude = []\n",
    "for i in range(len(df_table_clean)):\n",
    "    address = df_table_clean.PostalCode[i] + ' ' + \\\n",
    "                             df_table_clean.Borough[i]\n",
    "    lat, long = compute_lat_long(address)\n",
    "    if (lat is not None) and (long is not None):\n",
    "        latitude.append(round(lat, 2)); longitude.append(round(long, 2))\n",
    "    else :\n",
    "        latitude.append(lat); longitude.append(long)\n",
    "    \n",
    "print(latitude, longitude)"
   ]
  },
  {
   "cell_type": "markdown",
   "metadata": {},
   "source": [
    "One sees that the **geocoders** does not reconized more than half of the adresses "
   ]
  },
  {
   "cell_type": "code",
   "execution_count": 9,
   "metadata": {},
   "outputs": [
    {
     "data": {
      "text/html": [
       "<div>\n",
       "<style scoped>\n",
       "    .dataframe tbody tr th:only-of-type {\n",
       "        vertical-align: middle;\n",
       "    }\n",
       "\n",
       "    .dataframe tbody tr th {\n",
       "        vertical-align: top;\n",
       "    }\n",
       "\n",
       "    .dataframe thead th {\n",
       "        text-align: right;\n",
       "    }\n",
       "</style>\n",
       "<table border=\"1\" class=\"dataframe\">\n",
       "  <thead>\n",
       "    <tr style=\"text-align: right;\">\n",
       "      <th></th>\n",
       "      <th>PostalCode</th>\n",
       "      <th>Borough</th>\n",
       "      <th>Neighborhood</th>\n",
       "      <th>latitude</th>\n",
       "      <th>longitude</th>\n",
       "    </tr>\n",
       "  </thead>\n",
       "  <tbody>\n",
       "    <tr>\n",
       "      <th>0</th>\n",
       "      <td>M3A</td>\n",
       "      <td>North York</td>\n",
       "      <td>Parkwoods</td>\n",
       "      <td>43.75</td>\n",
       "      <td>-79.45</td>\n",
       "    </tr>\n",
       "    <tr>\n",
       "      <th>1</th>\n",
       "      <td>M4A</td>\n",
       "      <td>North York</td>\n",
       "      <td>Victoria Village</td>\n",
       "      <td>NaN</td>\n",
       "      <td>NaN</td>\n",
       "    </tr>\n",
       "    <tr>\n",
       "      <th>2</th>\n",
       "      <td>M5A</td>\n",
       "      <td>Downtown Toronto</td>\n",
       "      <td>Regent Park, Harbourfront</td>\n",
       "      <td>NaN</td>\n",
       "      <td>NaN</td>\n",
       "    </tr>\n",
       "    <tr>\n",
       "      <th>3</th>\n",
       "      <td>M6A</td>\n",
       "      <td>North York</td>\n",
       "      <td>Lawrence Manor, Lawrence Heights</td>\n",
       "      <td>NaN</td>\n",
       "      <td>NaN</td>\n",
       "    </tr>\n",
       "    <tr>\n",
       "      <th>4</th>\n",
       "      <td>M7A</td>\n",
       "      <td>Downtown Toronto</td>\n",
       "      <td>Queen's Park, Ontario Provincial Government</td>\n",
       "      <td>43.66</td>\n",
       "      <td>-79.38</td>\n",
       "    </tr>\n",
       "  </tbody>\n",
       "</table>\n",
       "</div>"
      ],
      "text/plain": [
       "  PostalCode           Borough                                 Neighborhood  \\\n",
       "0        M3A        North York                                    Parkwoods   \n",
       "1        M4A        North York                             Victoria Village   \n",
       "2        M5A  Downtown Toronto                    Regent Park, Harbourfront   \n",
       "3        M6A        North York             Lawrence Manor, Lawrence Heights   \n",
       "4        M7A  Downtown Toronto  Queen's Park, Ontario Provincial Government   \n",
       "\n",
       "   latitude  longitude  \n",
       "0     43.75     -79.45  \n",
       "1       NaN        NaN  \n",
       "2       NaN        NaN  \n",
       "3       NaN        NaN  \n",
       "4     43.66     -79.38  "
      ]
     },
     "execution_count": 9,
     "metadata": {},
     "output_type": "execute_result"
    }
   ],
   "source": [
    "# Let add the requested latitude and longitude to the DataFrame\n",
    "df_table_clean['latitude']  = latitude\n",
    "df_table_clean['longitude'] = longitude\n",
    "df_table_clean.head()"
   ]
  },
  {
   "cell_type": "markdown",
   "metadata": {},
   "source": [
    "#### Let find out the ratio of NaN values on the requested Latitude and Longitude"
   ]
  },
  {
   "cell_type": "code",
   "execution_count": 10,
   "metadata": {},
   "outputs": [
    {
     "data": {
      "text/plain": [
       "PostalCode       0.00000\n",
       "Borough          0.00000\n",
       "Neighborhood     0.00000\n",
       "latitude        79.61165\n",
       "longitude       79.61165\n",
       "dtype: float64"
      ]
     },
     "execution_count": 10,
     "metadata": {},
     "output_type": "execute_result"
    }
   ],
   "source": [
    "df_table_clean.isna().sum()/len(df_table_clean)*100"
   ]
  },
  {
   "cell_type": "markdown",
   "metadata": {},
   "source": [
    "More than **79%** addresses are not reconized by geocoders api. <br>\n",
    "I found that this <ins>**value changes**</ins> each time the cell is run. <br>\n",
    "Therefore, it is important to import latitudes and longitudes from the csv file provides"
   ]
  },
  {
   "cell_type": "code",
   "execution_count": 11,
   "metadata": {},
   "outputs": [
    {
     "data": {
      "text/html": [
       "<div>\n",
       "<style scoped>\n",
       "    .dataframe tbody tr th:only-of-type {\n",
       "        vertical-align: middle;\n",
       "    }\n",
       "\n",
       "    .dataframe tbody tr th {\n",
       "        vertical-align: top;\n",
       "    }\n",
       "\n",
       "    .dataframe thead th {\n",
       "        text-align: right;\n",
       "    }\n",
       "</style>\n",
       "<table border=\"1\" class=\"dataframe\">\n",
       "  <thead>\n",
       "    <tr style=\"text-align: right;\">\n",
       "      <th></th>\n",
       "      <th>PostalCode</th>\n",
       "      <th>Latitude</th>\n",
       "      <th>Longitude</th>\n",
       "    </tr>\n",
       "  </thead>\n",
       "  <tbody>\n",
       "    <tr>\n",
       "      <th>0</th>\n",
       "      <td>M1B</td>\n",
       "      <td>43.806686</td>\n",
       "      <td>-79.194353</td>\n",
       "    </tr>\n",
       "    <tr>\n",
       "      <th>1</th>\n",
       "      <td>M1C</td>\n",
       "      <td>43.784535</td>\n",
       "      <td>-79.160497</td>\n",
       "    </tr>\n",
       "    <tr>\n",
       "      <th>2</th>\n",
       "      <td>M1E</td>\n",
       "      <td>43.763573</td>\n",
       "      <td>-79.188711</td>\n",
       "    </tr>\n",
       "    <tr>\n",
       "      <th>3</th>\n",
       "      <td>M1G</td>\n",
       "      <td>43.770992</td>\n",
       "      <td>-79.216917</td>\n",
       "    </tr>\n",
       "    <tr>\n",
       "      <th>4</th>\n",
       "      <td>M1H</td>\n",
       "      <td>43.773136</td>\n",
       "      <td>-79.239476</td>\n",
       "    </tr>\n",
       "  </tbody>\n",
       "</table>\n",
       "</div>"
      ],
      "text/plain": [
       "  PostalCode   Latitude  Longitude\n",
       "0        M1B  43.806686 -79.194353\n",
       "1        M1C  43.784535 -79.160497\n",
       "2        M1E  43.763573 -79.188711\n",
       "3        M1G  43.770992 -79.216917\n",
       "4        M1H  43.773136 -79.239476"
      ]
     },
     "execution_count": 11,
     "metadata": {},
     "output_type": "execute_result"
    }
   ],
   "source": [
    "# import the csv file from the provided url\n",
    "df_lat_long = pd.read_csv('https://cocl.us/Geospatial_data')\n",
    "df_lat_long.rename(columns={'Postal Code':'PostalCode'}, inplace=True)\n",
    "df_lat_long.head()"
   ]
  },
  {
   "cell_type": "code",
   "execution_count": 12,
   "metadata": {},
   "outputs": [
    {
     "data": {
      "text/html": [
       "<div>\n",
       "<style scoped>\n",
       "    .dataframe tbody tr th:only-of-type {\n",
       "        vertical-align: middle;\n",
       "    }\n",
       "\n",
       "    .dataframe tbody tr th {\n",
       "        vertical-align: top;\n",
       "    }\n",
       "\n",
       "    .dataframe thead th {\n",
       "        text-align: right;\n",
       "    }\n",
       "</style>\n",
       "<table border=\"1\" class=\"dataframe\">\n",
       "  <thead>\n",
       "    <tr style=\"text-align: right;\">\n",
       "      <th></th>\n",
       "      <th>PostalCode</th>\n",
       "      <th>Borough</th>\n",
       "      <th>Neighborhood</th>\n",
       "      <th>Latitude</th>\n",
       "      <th>Longitude</th>\n",
       "    </tr>\n",
       "  </thead>\n",
       "  <tbody>\n",
       "    <tr>\n",
       "      <th>0</th>\n",
       "      <td>M3A</td>\n",
       "      <td>North York</td>\n",
       "      <td>Parkwoods</td>\n",
       "      <td>43.753259</td>\n",
       "      <td>-79.329656</td>\n",
       "    </tr>\n",
       "    <tr>\n",
       "      <th>1</th>\n",
       "      <td>M4A</td>\n",
       "      <td>North York</td>\n",
       "      <td>Victoria Village</td>\n",
       "      <td>43.725882</td>\n",
       "      <td>-79.315572</td>\n",
       "    </tr>\n",
       "    <tr>\n",
       "      <th>2</th>\n",
       "      <td>M5A</td>\n",
       "      <td>Downtown Toronto</td>\n",
       "      <td>Regent Park, Harbourfront</td>\n",
       "      <td>43.654260</td>\n",
       "      <td>-79.360636</td>\n",
       "    </tr>\n",
       "    <tr>\n",
       "      <th>3</th>\n",
       "      <td>M6A</td>\n",
       "      <td>North York</td>\n",
       "      <td>Lawrence Manor, Lawrence Heights</td>\n",
       "      <td>43.718518</td>\n",
       "      <td>-79.464763</td>\n",
       "    </tr>\n",
       "    <tr>\n",
       "      <th>4</th>\n",
       "      <td>M7A</td>\n",
       "      <td>Downtown Toronto</td>\n",
       "      <td>Queen's Park, Ontario Provincial Government</td>\n",
       "      <td>43.662301</td>\n",
       "      <td>-79.389494</td>\n",
       "    </tr>\n",
       "  </tbody>\n",
       "</table>\n",
       "</div>"
      ],
      "text/plain": [
       "  PostalCode           Borough                                 Neighborhood  \\\n",
       "0        M3A        North York                                    Parkwoods   \n",
       "1        M4A        North York                             Victoria Village   \n",
       "2        M5A  Downtown Toronto                    Regent Park, Harbourfront   \n",
       "3        M6A        North York             Lawrence Manor, Lawrence Heights   \n",
       "4        M7A  Downtown Toronto  Queen's Park, Ontario Provincial Government   \n",
       "\n",
       "    Latitude  Longitude  \n",
       "0  43.753259 -79.329656  \n",
       "1  43.725882 -79.315572  \n",
       "2  43.654260 -79.360636  \n",
       "3  43.718518 -79.464763  \n",
       "4  43.662301 -79.389494  "
      ]
     },
     "execution_count": 12,
     "metadata": {},
     "output_type": "execute_result"
    }
   ],
   "source": [
    "# Drop the proviously added latitude and longitude\n",
    "df_table_clean.drop(columns=['latitude','longitude'], inplace=True)\n",
    "\n",
    "# Join both DataFrame with the outher joint method\n",
    "df_table_cord = pd.merge(df_table_clean, df_lat_long, on='PostalCode', how='outer')\n",
    "df_table_cord.head()"
   ]
  },
  {
   "cell_type": "code",
   "execution_count": 13,
   "metadata": {},
   "outputs": [
    {
     "data": {
      "text/plain": [
       "PostalCode      0.0\n",
       "Borough         0.0\n",
       "Neighborhood    0.0\n",
       "Latitude        0.0\n",
       "Longitude       0.0\n",
       "dtype: float64"
      ]
     },
     "execution_count": 13,
     "metadata": {},
     "output_type": "execute_result"
    }
   ],
   "source": [
    "# Check the rate of NaN value un the final DataFrame\n",
    "df_table_cord.isna().sum()/len(df_table_cord)*100"
   ]
  },
  {
   "cell_type": "code",
   "execution_count": 14,
   "metadata": {},
   "outputs": [
    {
     "data": {
      "text/plain": [
       "(103, 5)"
      ]
     },
     "execution_count": 14,
     "metadata": {},
     "output_type": "execute_result"
    }
   ],
   "source": [
    "# Check the shape of the final table\n",
    "df_table_cord.shape"
   ]
  },
  {
   "cell_type": "code",
   "execution_count": 15,
   "metadata": {},
   "outputs": [
    {
     "name": "stdout",
     "output_type": "stream",
     "text": [
      "Collecting package metadata (current_repodata.json): done\n",
      "Solving environment: done\n",
      "\n",
      "# All requested packages already installed.\n",
      "\n"
     ]
    }
   ],
   "source": [
    "!conda install -c conda-forge folium=0.5.0 --yes\n",
    "import folium "
   ]
  },
  {
   "cell_type": "markdown",
   "metadata": {},
   "source": [
    "### Representation on the map"
   ]
  },
  {
   "cell_type": "code",
   "execution_count": 16,
   "metadata": {
    "scrolled": true
   },
   "outputs": [
    {
     "data": {
      "text/html": [
       "<div style=\"width:100%;\"><div style=\"position:relative;width:100%;height:0;padding-bottom:60%;\"><span style=\"color:#565656\">Make this Notebook Trusted to load map: File -> Trust Notebook</span><iframe src=\"about:blank\" style=\"position:absolute;width:100%;height:100%;left:0;top:0;border:none !important;\" data-html=PCFET0NUWVBFIGh0bWw+CjxoZWFkPiAgICAKICAgIDxtZXRhIGh0dHAtZXF1aXY9ImNvbnRlbnQtdHlwZSIgY29udGVudD0idGV4dC9odG1sOyBjaGFyc2V0PVVURi04IiAvPgogICAgPHNjcmlwdD5MX1BSRUZFUl9DQU5WQVMgPSBmYWxzZTsgTF9OT19UT1VDSCA9IGZhbHNlOyBMX0RJU0FCTEVfM0QgPSBmYWxzZTs8L3NjcmlwdD4KICAgIDxzY3JpcHQgc3JjPSJodHRwczovL2Nkbi5qc2RlbGl2ci5uZXQvbnBtL2xlYWZsZXRAMS4yLjAvZGlzdC9sZWFmbGV0LmpzIj48L3NjcmlwdD4KICAgIDxzY3JpcHQgc3JjPSJodHRwczovL2FqYXguZ29vZ2xlYXBpcy5jb20vYWpheC9saWJzL2pxdWVyeS8xLjExLjEvanF1ZXJ5Lm1pbi5qcyI+PC9zY3JpcHQ+CiAgICA8c2NyaXB0IHNyYz0iaHR0cHM6Ly9tYXhjZG4uYm9vdHN0cmFwY2RuLmNvbS9ib290c3RyYXAvMy4yLjAvanMvYm9vdHN0cmFwLm1pbi5qcyI+PC9zY3JpcHQ+CiAgICA8c2NyaXB0IHNyYz0iaHR0cHM6Ly9jZG5qcy5jbG91ZGZsYXJlLmNvbS9hamF4L2xpYnMvTGVhZmxldC5hd2Vzb21lLW1hcmtlcnMvMi4wLjIvbGVhZmxldC5hd2Vzb21lLW1hcmtlcnMuanMiPjwvc2NyaXB0PgogICAgPGxpbmsgcmVsPSJzdHlsZXNoZWV0IiBocmVmPSJodHRwczovL2Nkbi5qc2RlbGl2ci5uZXQvbnBtL2xlYWZsZXRAMS4yLjAvZGlzdC9sZWFmbGV0LmNzcyIvPgogICAgPGxpbmsgcmVsPSJzdHlsZXNoZWV0IiBocmVmPSJodHRwczovL21heGNkbi5ib290c3RyYXBjZG4uY29tL2Jvb3RzdHJhcC8zLjIuMC9jc3MvYm9vdHN0cmFwLm1pbi5jc3MiLz4KICAgIDxsaW5rIHJlbD0ic3R5bGVzaGVldCIgaHJlZj0iaHR0cHM6Ly9tYXhjZG4uYm9vdHN0cmFwY2RuLmNvbS9ib290c3RyYXAvMy4yLjAvY3NzL2Jvb3RzdHJhcC10aGVtZS5taW4uY3NzIi8+CiAgICA8bGluayByZWw9InN0eWxlc2hlZXQiIGhyZWY9Imh0dHBzOi8vbWF4Y2RuLmJvb3RzdHJhcGNkbi5jb20vZm9udC1hd2Vzb21lLzQuNi4zL2Nzcy9mb250LWF3ZXNvbWUubWluLmNzcyIvPgogICAgPGxpbmsgcmVsPSJzdHlsZXNoZWV0IiBocmVmPSJodHRwczovL2NkbmpzLmNsb3VkZmxhcmUuY29tL2FqYXgvbGlicy9MZWFmbGV0LmF3ZXNvbWUtbWFya2Vycy8yLjAuMi9sZWFmbGV0LmF3ZXNvbWUtbWFya2Vycy5jc3MiLz4KICAgIDxsaW5rIHJlbD0ic3R5bGVzaGVldCIgaHJlZj0iaHR0cHM6Ly9yYXdnaXQuY29tL3B5dGhvbi12aXN1YWxpemF0aW9uL2ZvbGl1bS9tYXN0ZXIvZm9saXVtL3RlbXBsYXRlcy9sZWFmbGV0LmF3ZXNvbWUucm90YXRlLmNzcyIvPgogICAgPHN0eWxlPmh0bWwsIGJvZHkge3dpZHRoOiAxMDAlO2hlaWdodDogMTAwJTttYXJnaW46IDA7cGFkZGluZzogMDt9PC9zdHlsZT4KICAgIDxzdHlsZT4jbWFwIHtwb3NpdGlvbjphYnNvbHV0ZTt0b3A6MDtib3R0b206MDtyaWdodDowO2xlZnQ6MDt9PC9zdHlsZT4KICAgIAogICAgICAgICAgICA8c3R5bGU+ICNtYXBfMWUxZTdlNzU3ZTY0NDI0NDlmMWQyNTI4OGU0YWE0OTQgewogICAgICAgICAgICAgICAgcG9zaXRpb24gOiByZWxhdGl2ZTsKICAgICAgICAgICAgICAgIHdpZHRoIDogMTAwLjAlOwogICAgICAgICAgICAgICAgaGVpZ2h0OiAxMDAuMCU7CiAgICAgICAgICAgICAgICBsZWZ0OiAwLjAlOwogICAgICAgICAgICAgICAgdG9wOiAwLjAlOwogICAgICAgICAgICAgICAgfQogICAgICAgICAgICA8L3N0eWxlPgogICAgICAgIAo8L2hlYWQ+Cjxib2R5PiAgICAKICAgIAogICAgICAgICAgICA8ZGl2IGNsYXNzPSJmb2xpdW0tbWFwIiBpZD0ibWFwXzFlMWU3ZTc1N2U2NDQyNDQ5ZjFkMjUyODhlNGFhNDk0IiA+PC9kaXY+CiAgICAgICAgCjwvYm9keT4KPHNjcmlwdD4gICAgCiAgICAKCiAgICAgICAgICAgIAogICAgICAgICAgICAgICAgdmFyIGJvdW5kcyA9IG51bGw7CiAgICAgICAgICAgIAoKICAgICAgICAgICAgdmFyIG1hcF8xZTFlN2U3NTdlNjQ0MjQ0OWYxZDI1Mjg4ZTRhYTQ5NCA9IEwubWFwKAogICAgICAgICAgICAgICAgICAgICAgICAgICAgICAgICAgJ21hcF8xZTFlN2U3NTdlNjQ0MjQ0OWYxZDI1Mjg4ZTRhYTQ5NCcsCiAgICAgICAgICAgICAgICAgICAgICAgICAgICAgICAgICB7Y2VudGVyOiBbNDMuNzA5NTc3LC03OS40NDUwNzI1OTk5OTk5OV0sCiAgICAgICAgICAgICAgICAgICAgICAgICAgICAgICAgICB6b29tOiAxMSwKICAgICAgICAgICAgICAgICAgICAgICAgICAgICAgICAgIG1heEJvdW5kczogYm91bmRzLAogICAgICAgICAgICAgICAgICAgICAgICAgICAgICAgICAgbGF5ZXJzOiBbXSwKICAgICAgICAgICAgICAgICAgICAgICAgICAgICAgICAgIHdvcmxkQ29weUp1bXA6IGZhbHNlLAogICAgICAgICAgICAgICAgICAgICAgICAgICAgICAgICAgY3JzOiBMLkNSUy5FUFNHMzg1NwogICAgICAgICAgICAgICAgICAgICAgICAgICAgICAgICB9KTsKICAgICAgICAgICAgCiAgICAgICAgCiAgICAKICAgICAgICAgICAgdmFyIHRpbGVfbGF5ZXJfYzJlYjQ4YzQ3ODZlNDlmZGIzNGZjYzZjNWRkMjkwNTggPSBMLnRpbGVMYXllcigKICAgICAgICAgICAgICAgICdodHRwczovL3tzfS50aWxlLm9wZW5zdHJlZXRtYXAub3JnL3t6fS97eH0ve3l9LnBuZycsCiAgICAgICAgICAgICAgICB7CiAgImF0dHJpYnV0aW9uIjogbnVsbCwKICAiZGV0ZWN0UmV0aW5hIjogZmFsc2UsCiAgIm1heFpvb20iOiAxOCwKICAibWluWm9vbSI6IDEsCiAgIm5vV3JhcCI6IGZhbHNlLAogICJzdWJkb21haW5zIjogImFiYyIKfQogICAgICAgICAgICAgICAgKS5hZGRUbyhtYXBfMWUxZTdlNzU3ZTY0NDI0NDlmMWQyNTI4OGU0YWE0OTQpOwogICAgICAgIAogICAgCiAgICAgICAgICAgIHZhciBjaXJjbGVfbWFya2VyXzhlMjRmNDc0ZjRlZjRkMzBiODBlNDIxY2ZiZTVkNGY1ID0gTC5jaXJjbGVNYXJrZXIoCiAgICAgICAgICAgICAgICBbNDMuNzA5NTc3LC03OS40NDUwNzI1OTk5OTk5OV0sCiAgICAgICAgICAgICAgICB7CiAgImJ1YmJsaW5nTW91c2VFdmVudHMiOiB0cnVlLAogICJjb2xvciI6ICJyZWQiLAogICJkYXNoQXJyYXkiOiBudWxsLAogICJkYXNoT2Zmc2V0IjogbnVsbCwKICAiZmlsbCI6IHRydWUsCiAgImZpbGxDb2xvciI6ICJyZWQiLAogICJmaWxsT3BhY2l0eSI6IDAuNywKICAiZmlsbFJ1bGUiOiAiZXZlbm9kZCIsCiAgImxpbmVDYXAiOiAicm91bmQiLAogICJsaW5lSm9pbiI6ICJyb3VuZCIsCiAgIm9wYWNpdHkiOiAxLjAsCiAgInJhZGl1cyI6IDE1LAogICJzdHJva2UiOiB0cnVlLAogICJ3ZWlnaHQiOiAzCn0KICAgICAgICAgICAgICAgICkuYWRkVG8obWFwXzFlMWU3ZTc1N2U2NDQyNDQ5ZjFkMjUyODhlNGFhNDk0KTsKICAgICAgICAgICAgCiAgICAKICAgICAgICAgICAgdmFyIHBvcHVwXzM5ZWEwYzFlNjhmNzQ2NTI4Zjc0ZTAzZThlY2E5ZmVhID0gTC5wb3B1cCh7bWF4V2lkdGg6ICczMDAnfSk7CgogICAgICAgICAgICAKICAgICAgICAgICAgICAgIHZhciBodG1sX2I3NWFhMTFkZjVlZTRiNTg4YjlmZjJlOWIxODAzMTI3ID0gJCgnPGRpdiBpZD0iaHRtbF9iNzVhYTExZGY1ZWU0YjU4OGI5ZmYyZTliMTgwMzEyNyIgc3R5bGU9IndpZHRoOiAxMDAuMCU7IGhlaWdodDogMTAwLjAlOyI+Q29ucmFkIEhvdGVsPC9kaXY+JylbMF07CiAgICAgICAgICAgICAgICBwb3B1cF8zOWVhMGMxZTY4Zjc0NjUyOGY3NGUwM2U4ZWNhOWZlYS5zZXRDb250ZW50KGh0bWxfYjc1YWExMWRmNWVlNGI1ODhiOWZmMmU5YjE4MDMxMjcpOwogICAgICAgICAgICAKCiAgICAgICAgICAgIGNpcmNsZV9tYXJrZXJfOGUyNGY0NzRmNGVmNGQzMGI4MGU0MjFjZmJlNWQ0ZjUuYmluZFBvcHVwKHBvcHVwXzM5ZWEwYzFlNjhmNzQ2NTI4Zjc0ZTAzZThlY2E5ZmVhKTsKCiAgICAgICAgICAgIAogICAgICAgIAogICAgCiAgICAgICAgICAgIHZhciBjaXJjbGVfbWFya2VyXzliZGVlZTJkN2ZmODRkZjY5ODFmMGZkMjcwZTM3ZGU5ID0gTC5jaXJjbGVNYXJrZXIoCiAgICAgICAgICAgICAgICBbNDMuNzUzMjU4NiwtNzkuMzI5NjU2NV0sCiAgICAgICAgICAgICAgICB7CiAgImJ1YmJsaW5nTW91c2VFdmVudHMiOiB0cnVlLAogICJjb2xvciI6ICJibHVlIiwKICAiZGFzaEFycmF5IjogbnVsbCwKICAiZGFzaE9mZnNldCI6IG51bGwsCiAgImZpbGwiOiB0cnVlLAogICJmaWxsQ29sb3IiOiAiYmx1ZSIsCiAgImZpbGxPcGFjaXR5IjogMC42LAogICJmaWxsUnVsZSI6ICJldmVub2RkIiwKICAibGluZUNhcCI6ICJyb3VuZCIsCiAgImxpbmVKb2luIjogInJvdW5kIiwKICAib3BhY2l0eSI6IDEuMCwKICAicmFkaXVzIjogNSwKICAic3Ryb2tlIjogdHJ1ZSwKICAid2VpZ2h0IjogMwp9CiAgICAgICAgICAgICAgICApLmFkZFRvKG1hcF8xZTFlN2U3NTdlNjQ0MjQ0OWYxZDI1Mjg4ZTRhYTQ5NCk7CiAgICAgICAgICAgIAogICAgCiAgICAgICAgICAgIHZhciBwb3B1cF81ZDM1NWZhYzhkNWE0MTIxOTNiZDVjMjlkZjMzYzZhMiA9IEwucG9wdXAoe21heFdpZHRoOiAnMzAwJ30pOwoKICAgICAgICAgICAgCiAgICAgICAgICAgICAgICB2YXIgaHRtbF8wZWNiZjQ5NGE4MzY0ZTkyYjJiMDRjYzM5MmNiYWU3NCA9ICQoJzxkaXYgaWQ9Imh0bWxfMGVjYmY0OTRhODM2NGU5MmIyYjA0Y2MzOTJjYmFlNzQiIHN0eWxlPSJ3aWR0aDogMTAwLjAlOyBoZWlnaHQ6IDEwMC4wJTsiPk0zQTwvZGl2PicpWzBdOwogICAgICAgICAgICAgICAgcG9wdXBfNWQzNTVmYWM4ZDVhNDEyMTkzYmQ1YzI5ZGYzM2M2YTIuc2V0Q29udGVudChodG1sXzBlY2JmNDk0YTgzNjRlOTJiMmIwNGNjMzkyY2JhZTc0KTsKICAgICAgICAgICAgCgogICAgICAgICAgICBjaXJjbGVfbWFya2VyXzliZGVlZTJkN2ZmODRkZjY5ODFmMGZkMjcwZTM3ZGU5LmJpbmRQb3B1cChwb3B1cF81ZDM1NWZhYzhkNWE0MTIxOTNiZDVjMjlkZjMzYzZhMik7CgogICAgICAgICAgICAKICAgICAgICAKICAgIAogICAgICAgICAgICB2YXIgY2lyY2xlX21hcmtlcl9lYTE4Y2RkNTQ1MzI0N2Q2YWEzODUxNDBkMzJiOTgyMCA9IEwuY2lyY2xlTWFya2VyKAogICAgICAgICAgICAgICAgWzQzLjcyNTg4MjI5OTk5OTk5NSwtNzkuMzE1NTcxNTk5OTk5OThdLAogICAgICAgICAgICAgICAgewogICJidWJibGluZ01vdXNlRXZlbnRzIjogdHJ1ZSwKICAiY29sb3IiOiAiYmx1ZSIsCiAgImRhc2hBcnJheSI6IG51bGwsCiAgImRhc2hPZmZzZXQiOiBudWxsLAogICJmaWxsIjogdHJ1ZSwKICAiZmlsbENvbG9yIjogImJsdWUiLAogICJmaWxsT3BhY2l0eSI6IDAuNiwKICAiZmlsbFJ1bGUiOiAiZXZlbm9kZCIsCiAgImxpbmVDYXAiOiAicm91bmQiLAogICJsaW5lSm9pbiI6ICJyb3VuZCIsCiAgIm9wYWNpdHkiOiAxLjAsCiAgInJhZGl1cyI6IDUsCiAgInN0cm9rZSI6IHRydWUsCiAgIndlaWdodCI6IDMKfQogICAgICAgICAgICAgICAgKS5hZGRUbyhtYXBfMWUxZTdlNzU3ZTY0NDI0NDlmMWQyNTI4OGU0YWE0OTQpOwogICAgICAgICAgICAKICAgIAogICAgICAgICAgICB2YXIgcG9wdXBfMWRmNWVhYjUyNTA1NGE5Nzg3OTcwZDRhZTQ1M2Y0N2UgPSBMLnBvcHVwKHttYXhXaWR0aDogJzMwMCd9KTsKCiAgICAgICAgICAgIAogICAgICAgICAgICAgICAgdmFyIGh0bWxfMzdmYWFkMGU5YTMyNGU3N2FkZmQxMDUzZTk4ZjBhNDkgPSAkKCc8ZGl2IGlkPSJodG1sXzM3ZmFhZDBlOWEzMjRlNzdhZGZkMTA1M2U5OGYwYTQ5IiBzdHlsZT0id2lkdGg6IDEwMC4wJTsgaGVpZ2h0OiAxMDAuMCU7Ij5NNEE8L2Rpdj4nKVswXTsKICAgICAgICAgICAgICAgIHBvcHVwXzFkZjVlYWI1MjUwNTRhOTc4Nzk3MGQ0YWU0NTNmNDdlLnNldENvbnRlbnQoaHRtbF8zN2ZhYWQwZTlhMzI0ZTc3YWRmZDEwNTNlOThmMGE0OSk7CiAgICAgICAgICAgIAoKICAgICAgICAgICAgY2lyY2xlX21hcmtlcl9lYTE4Y2RkNTQ1MzI0N2Q2YWEzODUxNDBkMzJiOTgyMC5iaW5kUG9wdXAocG9wdXBfMWRmNWVhYjUyNTA1NGE5Nzg3OTcwZDRhZTQ1M2Y0N2UpOwoKICAgICAgICAgICAgCiAgICAgICAgCiAgICAKICAgICAgICAgICAgdmFyIGNpcmNsZV9tYXJrZXJfMThkNWU3NGVlNGFiNGIxODk2OGQyMzA4YWJjNDc3OTEgPSBMLmNpcmNsZU1hcmtlcigKICAgICAgICAgICAgICAgIFs0My42NTQyNTk5LC03OS4zNjA2MzU5XSwKICAgICAgICAgICAgICAgIHsKICAiYnViYmxpbmdNb3VzZUV2ZW50cyI6IHRydWUsCiAgImNvbG9yIjogImJsdWUiLAogICJkYXNoQXJyYXkiOiBudWxsLAogICJkYXNoT2Zmc2V0IjogbnVsbCwKICAiZmlsbCI6IHRydWUsCiAgImZpbGxDb2xvciI6ICJibHVlIiwKICAiZmlsbE9wYWNpdHkiOiAwLjYsCiAgImZpbGxSdWxlIjogImV2ZW5vZGQiLAogICJsaW5lQ2FwIjogInJvdW5kIiwKICAibGluZUpvaW4iOiAicm91bmQiLAogICJvcGFjaXR5IjogMS4wLAogICJyYWRpdXMiOiA1LAogICJzdHJva2UiOiB0cnVlLAogICJ3ZWlnaHQiOiAzCn0KICAgICAgICAgICAgICAgICkuYWRkVG8obWFwXzFlMWU3ZTc1N2U2NDQyNDQ5ZjFkMjUyODhlNGFhNDk0KTsKICAgICAgICAgICAgCiAgICAKICAgICAgICAgICAgdmFyIHBvcHVwXzI2MTUxMTA5ODMyMzQ5MWZhNmUwYTIzMzVkYjc0Njc2ID0gTC5wb3B1cCh7bWF4V2lkdGg6ICczMDAnfSk7CgogICAgICAgICAgICAKICAgICAgICAgICAgICAgIHZhciBodG1sX2ZhOGVjZDg4NzVlNzQxYWFhMjVjOTUxYjMwMDQzNjRlID0gJCgnPGRpdiBpZD0iaHRtbF9mYThlY2Q4ODc1ZTc0MWFhYTI1Yzk1MWIzMDA0MzY0ZSIgc3R5bGU9IndpZHRoOiAxMDAuMCU7IGhlaWdodDogMTAwLjAlOyI+TTVBPC9kaXY+JylbMF07CiAgICAgICAgICAgICAgICBwb3B1cF8yNjE1MTEwOTgzMjM0OTFmYTZlMGEyMzM1ZGI3NDY3Ni5zZXRDb250ZW50KGh0bWxfZmE4ZWNkODg3NWU3NDFhYWEyNWM5NTFiMzAwNDM2NGUpOwogICAgICAgICAgICAKCiAgICAgICAgICAgIGNpcmNsZV9tYXJrZXJfMThkNWU3NGVlNGFiNGIxODk2OGQyMzA4YWJjNDc3OTEuYmluZFBvcHVwKHBvcHVwXzI2MTUxMTA5ODMyMzQ5MWZhNmUwYTIzMzVkYjc0Njc2KTsKCiAgICAgICAgICAgIAogICAgICAgIAogICAgCiAgICAgICAgICAgIHZhciBjaXJjbGVfbWFya2VyXzNjZjM2YmFmNTU2ZTRjZmViZTRlZDgzNzJiYWY2MjA1ID0gTC5jaXJjbGVNYXJrZXIoCiAgICAgICAgICAgICAgICBbNDMuNzE4NTE3OTk5OTk5OTk2LC03OS40NjQ3NjMyOTk5OTk5OV0sCiAgICAgICAgICAgICAgICB7CiAgImJ1YmJsaW5nTW91c2VFdmVudHMiOiB0cnVlLAogICJjb2xvciI6ICJibHVlIiwKICAiZGFzaEFycmF5IjogbnVsbCwKICAiZGFzaE9mZnNldCI6IG51bGwsCiAgImZpbGwiOiB0cnVlLAogICJmaWxsQ29sb3IiOiAiYmx1ZSIsCiAgImZpbGxPcGFjaXR5IjogMC42LAogICJmaWxsUnVsZSI6ICJldmVub2RkIiwKICAibGluZUNhcCI6ICJyb3VuZCIsCiAgImxpbmVKb2luIjogInJvdW5kIiwKICAib3BhY2l0eSI6IDEuMCwKICAicmFkaXVzIjogNSwKICAic3Ryb2tlIjogdHJ1ZSwKICAid2VpZ2h0IjogMwp9CiAgICAgICAgICAgICAgICApLmFkZFRvKG1hcF8xZTFlN2U3NTdlNjQ0MjQ0OWYxZDI1Mjg4ZTRhYTQ5NCk7CiAgICAgICAgICAgIAogICAgCiAgICAgICAgICAgIHZhciBwb3B1cF85YzFlM2RlMDk0NmY0N2E0OWM0MDQzYWU0OWUyNzk4MSA9IEwucG9wdXAoe21heFdpZHRoOiAnMzAwJ30pOwoKICAgICAgICAgICAgCiAgICAgICAgICAgICAgICB2YXIgaHRtbF8yMjlmMzAzOTk3OGQ0NzUxOWQ5ZTFlZjU5OWEwYWMxOSA9ICQoJzxkaXYgaWQ9Imh0bWxfMjI5ZjMwMzk5NzhkNDc1MTlkOWUxZWY1OTlhMGFjMTkiIHN0eWxlPSJ3aWR0aDogMTAwLjAlOyBoZWlnaHQ6IDEwMC4wJTsiPk02QTwvZGl2PicpWzBdOwogICAgICAgICAgICAgICAgcG9wdXBfOWMxZTNkZTA5NDZmNDdhNDljNDA0M2FlNDllMjc5ODEuc2V0Q29udGVudChodG1sXzIyOWYzMDM5OTc4ZDQ3NTE5ZDllMWVmNTk5YTBhYzE5KTsKICAgICAgICAgICAgCgogICAgICAgICAgICBjaXJjbGVfbWFya2VyXzNjZjM2YmFmNTU2ZTRjZmViZTRlZDgzNzJiYWY2MjA1LmJpbmRQb3B1cChwb3B1cF85YzFlM2RlMDk0NmY0N2E0OWM0MDQzYWU0OWUyNzk4MSk7CgogICAgICAgICAgICAKICAgICAgICAKICAgIAogICAgICAgICAgICB2YXIgY2lyY2xlX21hcmtlcl85ODA4YmIxM2YzMGM0NmZlOTlhNmJhZTMxNTcyNDdlYSA9IEwuY2lyY2xlTWFya2VyKAogICAgICAgICAgICAgICAgWzQzLjY2MjMwMTUsLTc5LjM4OTQ5MzhdLAogICAgICAgICAgICAgICAgewogICJidWJibGluZ01vdXNlRXZlbnRzIjogdHJ1ZSwKICAiY29sb3IiOiAiYmx1ZSIsCiAgImRhc2hBcnJheSI6IG51bGwsCiAgImRhc2hPZmZzZXQiOiBudWxsLAogICJmaWxsIjogdHJ1ZSwKICAiZmlsbENvbG9yIjogImJsdWUiLAogICJmaWxsT3BhY2l0eSI6IDAuNiwKICAiZmlsbFJ1bGUiOiAiZXZlbm9kZCIsCiAgImxpbmVDYXAiOiAicm91bmQiLAogICJsaW5lSm9pbiI6ICJyb3VuZCIsCiAgIm9wYWNpdHkiOiAxLjAsCiAgInJhZGl1cyI6IDUsCiAgInN0cm9rZSI6IHRydWUsCiAgIndlaWdodCI6IDMKfQogICAgICAgICAgICAgICAgKS5hZGRUbyhtYXBfMWUxZTdlNzU3ZTY0NDI0NDlmMWQyNTI4OGU0YWE0OTQpOwogICAgICAgICAgICAKICAgIAogICAgICAgICAgICB2YXIgcG9wdXBfZDg4OTUwMjEwYjQ2NDNmNWE3NzZlMDc4NzA1MTAxOGEgPSBMLnBvcHVwKHttYXhXaWR0aDogJzMwMCd9KTsKCiAgICAgICAgICAgIAogICAgICAgICAgICAgICAgdmFyIGh0bWxfZDBjNGFhYzQ3NzY5NGNlYjgzMTc5MDExOTA2Y2FjNjUgPSAkKCc8ZGl2IGlkPSJodG1sX2QwYzRhYWM0Nzc2OTRjZWI4MzE3OTAxMTkwNmNhYzY1IiBzdHlsZT0id2lkdGg6IDEwMC4wJTsgaGVpZ2h0OiAxMDAuMCU7Ij5NN0E8L2Rpdj4nKVswXTsKICAgICAgICAgICAgICAgIHBvcHVwX2Q4ODk1MDIxMGI0NjQzZjVhNzc2ZTA3ODcwNTEwMThhLnNldENvbnRlbnQoaHRtbF9kMGM0YWFjNDc3Njk0Y2ViODMxNzkwMTE5MDZjYWM2NSk7CiAgICAgICAgICAgIAoKICAgICAgICAgICAgY2lyY2xlX21hcmtlcl85ODA4YmIxM2YzMGM0NmZlOTlhNmJhZTMxNTcyNDdlYS5iaW5kUG9wdXAocG9wdXBfZDg4OTUwMjEwYjQ2NDNmNWE3NzZlMDc4NzA1MTAxOGEpOwoKICAgICAgICAgICAgCiAgICAgICAgCiAgICAKICAgICAgICAgICAgdmFyIGNpcmNsZV9tYXJrZXJfNDViMTBjMTA5NGEzNGJmOWI0OWNhYTJhNjQyMGNjNDIgPSBMLmNpcmNsZU1hcmtlcigKICAgICAgICAgICAgICAgIFs0My42Njc4NTU2LC03OS41MzIyNDI0MDAwMDAwMl0sCiAgICAgICAgICAgICAgICB7CiAgImJ1YmJsaW5nTW91c2VFdmVudHMiOiB0cnVlLAogICJjb2xvciI6ICJibHVlIiwKICAiZGFzaEFycmF5IjogbnVsbCwKICAiZGFzaE9mZnNldCI6IG51bGwsCiAgImZpbGwiOiB0cnVlLAogICJmaWxsQ29sb3IiOiAiYmx1ZSIsCiAgImZpbGxPcGFjaXR5IjogMC42LAogICJmaWxsUnVsZSI6ICJldmVub2RkIiwKICAibGluZUNhcCI6ICJyb3VuZCIsCiAgImxpbmVKb2luIjogInJvdW5kIiwKICAib3BhY2l0eSI6IDEuMCwKICAicmFkaXVzIjogNSwKICAic3Ryb2tlIjogdHJ1ZSwKICAid2VpZ2h0IjogMwp9CiAgICAgICAgICAgICAgICApLmFkZFRvKG1hcF8xZTFlN2U3NTdlNjQ0MjQ0OWYxZDI1Mjg4ZTRhYTQ5NCk7CiAgICAgICAgICAgIAogICAgCiAgICAgICAgICAgIHZhciBwb3B1cF81NjcxODFmZmZiZWE0MDgzOGE2ZDFmM2ZiZTVjMzU3ZCA9IEwucG9wdXAoe21heFdpZHRoOiAnMzAwJ30pOwoKICAgICAgICAgICAgCiAgICAgICAgICAgICAgICB2YXIgaHRtbF81ZGEzZjVhNWU4Mjc0ZDFmOGM2MWFmNzVkNDQ4Yzg1OSA9ICQoJzxkaXYgaWQ9Imh0bWxfNWRhM2Y1YTVlODI3NGQxZjhjNjFhZjc1ZDQ0OGM4NTkiIHN0eWxlPSJ3aWR0aDogMTAwLjAlOyBoZWlnaHQ6IDEwMC4wJTsiPk05QTwvZGl2PicpWzBdOwogICAgICAgICAgICAgICAgcG9wdXBfNTY3MTgxZmZmYmVhNDA4MzhhNmQxZjNmYmU1YzM1N2Quc2V0Q29udGVudChodG1sXzVkYTNmNWE1ZTgyNzRkMWY4YzYxYWY3NWQ0NDhjODU5KTsKICAgICAgICAgICAgCgogICAgICAgICAgICBjaXJjbGVfbWFya2VyXzQ1YjEwYzEwOTRhMzRiZjliNDljYWEyYTY0MjBjYzQyLmJpbmRQb3B1cChwb3B1cF81NjcxODFmZmZiZWE0MDgzOGE2ZDFmM2ZiZTVjMzU3ZCk7CgogICAgICAgICAgICAKICAgICAgICAKICAgIAogICAgICAgICAgICB2YXIgY2lyY2xlX21hcmtlcl8xZTUyN2Y3YmEwMzA0YmI5OWYxZTJmNGFjZjNlN2U3YSA9IEwuY2lyY2xlTWFya2VyKAogICAgICAgICAgICAgICAgWzQzLjgwNjY4NjI5OTk5OTk5NiwtNzkuMTk0MzUzNDAwMDAwMDFdLAogICAgICAgICAgICAgICAgewogICJidWJibGluZ01vdXNlRXZlbnRzIjogdHJ1ZSwKICAiY29sb3IiOiAiYmx1ZSIsCiAgImRhc2hBcnJheSI6IG51bGwsCiAgImRhc2hPZmZzZXQiOiBudWxsLAogICJmaWxsIjogdHJ1ZSwKICAiZmlsbENvbG9yIjogImJsdWUiLAogICJmaWxsT3BhY2l0eSI6IDAuNiwKICAiZmlsbFJ1bGUiOiAiZXZlbm9kZCIsCiAgImxpbmVDYXAiOiAicm91bmQiLAogICJsaW5lSm9pbiI6ICJyb3VuZCIsCiAgIm9wYWNpdHkiOiAxLjAsCiAgInJhZGl1cyI6IDUsCiAgInN0cm9rZSI6IHRydWUsCiAgIndlaWdodCI6IDMKfQogICAgICAgICAgICAgICAgKS5hZGRUbyhtYXBfMWUxZTdlNzU3ZTY0NDI0NDlmMWQyNTI4OGU0YWE0OTQpOwogICAgICAgICAgICAKICAgIAogICAgICAgICAgICB2YXIgcG9wdXBfMGYzOTA1OGE4ZWE1NGY4ZGExZjRmMTA1ZWE4MDY5MzkgPSBMLnBvcHVwKHttYXhXaWR0aDogJzMwMCd9KTsKCiAgICAgICAgICAgIAogICAgICAgICAgICAgICAgdmFyIGh0bWxfNzhkNmY0ZWUxYWMzNGU2OWI2ZDdjY2U3MDdiM2JjZTcgPSAkKCc8ZGl2IGlkPSJodG1sXzc4ZDZmNGVlMWFjMzRlNjliNmQ3Y2NlNzA3YjNiY2U3IiBzdHlsZT0id2lkdGg6IDEwMC4wJTsgaGVpZ2h0OiAxMDAuMCU7Ij5NMUI8L2Rpdj4nKVswXTsKICAgICAgICAgICAgICAgIHBvcHVwXzBmMzkwNThhOGVhNTRmOGRhMWY0ZjEwNWVhODA2OTM5LnNldENvbnRlbnQoaHRtbF83OGQ2ZjRlZTFhYzM0ZTY5YjZkN2NjZTcwN2IzYmNlNyk7CiAgICAgICAgICAgIAoKICAgICAgICAgICAgY2lyY2xlX21hcmtlcl8xZTUyN2Y3YmEwMzA0YmI5OWYxZTJmNGFjZjNlN2U3YS5iaW5kUG9wdXAocG9wdXBfMGYzOTA1OGE4ZWE1NGY4ZGExZjRmMTA1ZWE4MDY5MzkpOwoKICAgICAgICAgICAgCiAgICAgICAgCiAgICAKICAgICAgICAgICAgdmFyIGNpcmNsZV9tYXJrZXJfMTlhNTE5YWZhOWQxNGQ4YmIwYWVkYzFlNzIwYmZkMjEgPSBMLmNpcmNsZU1hcmtlcigKICAgICAgICAgICAgICAgIFs0My43NDU5MDU3OTk5OTk5OTYsLTc5LjM1MjE4OF0sCiAgICAgICAgICAgICAgICB7CiAgImJ1YmJsaW5nTW91c2VFdmVudHMiOiB0cnVlLAogICJjb2xvciI6ICJibHVlIiwKICAiZGFzaEFycmF5IjogbnVsbCwKICAiZGFzaE9mZnNldCI6IG51bGwsCiAgImZpbGwiOiB0cnVlLAogICJmaWxsQ29sb3IiOiAiYmx1ZSIsCiAgImZpbGxPcGFjaXR5IjogMC42LAogICJmaWxsUnVsZSI6ICJldmVub2RkIiwKICAibGluZUNhcCI6ICJyb3VuZCIsCiAgImxpbmVKb2luIjogInJvdW5kIiwKICAib3BhY2l0eSI6IDEuMCwKICAicmFkaXVzIjogNSwKICAic3Ryb2tlIjogdHJ1ZSwKICAid2VpZ2h0IjogMwp9CiAgICAgICAgICAgICAgICApLmFkZFRvKG1hcF8xZTFlN2U3NTdlNjQ0MjQ0OWYxZDI1Mjg4ZTRhYTQ5NCk7CiAgICAgICAgICAgIAogICAgCiAgICAgICAgICAgIHZhciBwb3B1cF83Y2QzZTBkMDhjYTE0NWQ2ODEzMDM4NTc0MWViNDY5YSA9IEwucG9wdXAoe21heFdpZHRoOiAnMzAwJ30pOwoKICAgICAgICAgICAgCiAgICAgICAgICAgICAgICB2YXIgaHRtbF8yODliYTUxNzQ3MjE0MzA2ODA4ZmEyNmI0OTk0N2E4MyA9ICQoJzxkaXYgaWQ9Imh0bWxfMjg5YmE1MTc0NzIxNDMwNjgwOGZhMjZiNDk5NDdhODMiIHN0eWxlPSJ3aWR0aDogMTAwLjAlOyBoZWlnaHQ6IDEwMC4wJTsiPk0zQjwvZGl2PicpWzBdOwogICAgICAgICAgICAgICAgcG9wdXBfN2NkM2UwZDA4Y2ExNDVkNjgxMzAzODU3NDFlYjQ2OWEuc2V0Q29udGVudChodG1sXzI4OWJhNTE3NDcyMTQzMDY4MDhmYTI2YjQ5OTQ3YTgzKTsKICAgICAgICAgICAgCgogICAgICAgICAgICBjaXJjbGVfbWFya2VyXzE5YTUxOWFmYTlkMTRkOGJiMGFlZGMxZTcyMGJmZDIxLmJpbmRQb3B1cChwb3B1cF83Y2QzZTBkMDhjYTE0NWQ2ODEzMDM4NTc0MWViNDY5YSk7CgogICAgICAgICAgICAKICAgICAgICAKICAgIAogICAgICAgICAgICB2YXIgY2lyY2xlX21hcmtlcl9kZGRmYmEzOWYyNzI0MjBjODMyZTUzNmFhNmQ3YTJmZSA9IEwuY2lyY2xlTWFya2VyKAogICAgICAgICAgICAgICAgWzQzLjcwNjM5NzIsLTc5LjMwOTkzN10sCiAgICAgICAgICAgICAgICB7CiAgImJ1YmJsaW5nTW91c2VFdmVudHMiOiB0cnVlLAogICJjb2xvciI6ICJibHVlIiwKICAiZGFzaEFycmF5IjogbnVsbCwKICAiZGFzaE9mZnNldCI6IG51bGwsCiAgImZpbGwiOiB0cnVlLAogICJmaWxsQ29sb3IiOiAiYmx1ZSIsCiAgImZpbGxPcGFjaXR5IjogMC42LAogICJmaWxsUnVsZSI6ICJldmVub2RkIiwKICAibGluZUNhcCI6ICJyb3VuZCIsCiAgImxpbmVKb2luIjogInJvdW5kIiwKICAib3BhY2l0eSI6IDEuMCwKICAicmFkaXVzIjogNSwKICAic3Ryb2tlIjogdHJ1ZSwKICAid2VpZ2h0IjogMwp9CiAgICAgICAgICAgICAgICApLmFkZFRvKG1hcF8xZTFlN2U3NTdlNjQ0MjQ0OWYxZDI1Mjg4ZTRhYTQ5NCk7CiAgICAgICAgICAgIAogICAgCiAgICAgICAgICAgIHZhciBwb3B1cF9jZjVjMzdhMjcyNGY0NTZlODE5NWMwNmMyNzYwZGMyZiA9IEwucG9wdXAoe21heFdpZHRoOiAnMzAwJ30pOwoKICAgICAgICAgICAgCiAgICAgICAgICAgICAgICB2YXIgaHRtbF9lN2EyZGI1ODY1Zjg0OWQ0ODljYWY5YzA1OWVkOTYxZCA9ICQoJzxkaXYgaWQ9Imh0bWxfZTdhMmRiNTg2NWY4NDlkNDg5Y2FmOWMwNTllZDk2MWQiIHN0eWxlPSJ3aWR0aDogMTAwLjAlOyBoZWlnaHQ6IDEwMC4wJTsiPk00QjwvZGl2PicpWzBdOwogICAgICAgICAgICAgICAgcG9wdXBfY2Y1YzM3YTI3MjRmNDU2ZTgxOTVjMDZjMjc2MGRjMmYuc2V0Q29udGVudChodG1sX2U3YTJkYjU4NjVmODQ5ZDQ4OWNhZjljMDU5ZWQ5NjFkKTsKICAgICAgICAgICAgCgogICAgICAgICAgICBjaXJjbGVfbWFya2VyX2RkZGZiYTM5ZjI3MjQyMGM4MzJlNTM2YWE2ZDdhMmZlLmJpbmRQb3B1cChwb3B1cF9jZjVjMzdhMjcyNGY0NTZlODE5NWMwNmMyNzYwZGMyZik7CgogICAgICAgICAgICAKICAgICAgICAKICAgIAogICAgICAgICAgICB2YXIgY2lyY2xlX21hcmtlcl8yNGMxZjc4NjY5ZGE0YTdlYmQ2NjQxNmU0OGIyYTYzYiA9IEwuY2lyY2xlTWFya2VyKAogICAgICAgICAgICAgICAgWzQzLjY1NzE2MTgsLTc5LjM3ODkzNzA5OTk5OTk5XSwKICAgICAgICAgICAgICAgIHsKICAiYnViYmxpbmdNb3VzZUV2ZW50cyI6IHRydWUsCiAgImNvbG9yIjogImJsdWUiLAogICJkYXNoQXJyYXkiOiBudWxsLAogICJkYXNoT2Zmc2V0IjogbnVsbCwKICAiZmlsbCI6IHRydWUsCiAgImZpbGxDb2xvciI6ICJibHVlIiwKICAiZmlsbE9wYWNpdHkiOiAwLjYsCiAgImZpbGxSdWxlIjogImV2ZW5vZGQiLAogICJsaW5lQ2FwIjogInJvdW5kIiwKICAibGluZUpvaW4iOiAicm91bmQiLAogICJvcGFjaXR5IjogMS4wLAogICJyYWRpdXMiOiA1LAogICJzdHJva2UiOiB0cnVlLAogICJ3ZWlnaHQiOiAzCn0KICAgICAgICAgICAgICAgICkuYWRkVG8obWFwXzFlMWU3ZTc1N2U2NDQyNDQ5ZjFkMjUyODhlNGFhNDk0KTsKICAgICAgICAgICAgCiAgICAKICAgICAgICAgICAgdmFyIHBvcHVwXzcxOWE0YmZhODFmYzQ5NWI4Y2RjZDU1OTMwYTZlYTgwID0gTC5wb3B1cCh7bWF4V2lkdGg6ICczMDAnfSk7CgogICAgICAgICAgICAKICAgICAgICAgICAgICAgIHZhciBodG1sXzA3NWZkMjhiYTRlNjQyNTQ4ODNkZmI4OTczZWJhOGNlID0gJCgnPGRpdiBpZD0iaHRtbF8wNzVmZDI4YmE0ZTY0MjU0ODgzZGZiODk3M2ViYThjZSIgc3R5bGU9IndpZHRoOiAxMDAuMCU7IGhlaWdodDogMTAwLjAlOyI+TTVCPC9kaXY+JylbMF07CiAgICAgICAgICAgICAgICBwb3B1cF83MTlhNGJmYTgxZmM0OTViOGNkY2Q1NTkzMGE2ZWE4MC5zZXRDb250ZW50KGh0bWxfMDc1ZmQyOGJhNGU2NDI1NDg4M2RmYjg5NzNlYmE4Y2UpOwogICAgICAgICAgICAKCiAgICAgICAgICAgIGNpcmNsZV9tYXJrZXJfMjRjMWY3ODY2OWRhNGE3ZWJkNjY0MTZlNDhiMmE2M2IuYmluZFBvcHVwKHBvcHVwXzcxOWE0YmZhODFmYzQ5NWI4Y2RjZDU1OTMwYTZlYTgwKTsKCiAgICAgICAgICAgIAogICAgICAgIAogICAgCiAgICAgICAgICAgIHZhciBjaXJjbGVfbWFya2VyXzNlYTRmMTRkNzUxNTRkMjVhOWEzOGQ0NTcyYzZmOWZhID0gTC5jaXJjbGVNYXJrZXIoCiAgICAgICAgICAgICAgICBbNDMuNzA5NTc3LC03OS40NDUwNzI1OTk5OTk5OV0sCiAgICAgICAgICAgICAgICB7CiAgImJ1YmJsaW5nTW91c2VFdmVudHMiOiB0cnVlLAogICJjb2xvciI6ICJibHVlIiwKICAiZGFzaEFycmF5IjogbnVsbCwKICAiZGFzaE9mZnNldCI6IG51bGwsCiAgImZpbGwiOiB0cnVlLAogICJmaWxsQ29sb3IiOiAiYmx1ZSIsCiAgImZpbGxPcGFjaXR5IjogMC42LAogICJmaWxsUnVsZSI6ICJldmVub2RkIiwKICAibGluZUNhcCI6ICJyb3VuZCIsCiAgImxpbmVKb2luIjogInJvdW5kIiwKICAib3BhY2l0eSI6IDEuMCwKICAicmFkaXVzIjogNSwKICAic3Ryb2tlIjogdHJ1ZSwKICAid2VpZ2h0IjogMwp9CiAgICAgICAgICAgICAgICApLmFkZFRvKG1hcF8xZTFlN2U3NTdlNjQ0MjQ0OWYxZDI1Mjg4ZTRhYTQ5NCk7CiAgICAgICAgICAgIAogICAgCiAgICAgICAgICAgIHZhciBwb3B1cF8zYTViMzE0MGZiNWY0NzA0YmJkZDEyMTYyYWM5NTM2MSA9IEwucG9wdXAoe21heFdpZHRoOiAnMzAwJ30pOwoKICAgICAgICAgICAgCiAgICAgICAgICAgICAgICB2YXIgaHRtbF8yMjM1MDhkZjgzZjg0NzJlYmY3MThkNDBmZDI2ODAyZCA9ICQoJzxkaXYgaWQ9Imh0bWxfMjIzNTA4ZGY4M2Y4NDcyZWJmNzE4ZDQwZmQyNjgwMmQiIHN0eWxlPSJ3aWR0aDogMTAwLjAlOyBoZWlnaHQ6IDEwMC4wJTsiPk02QjwvZGl2PicpWzBdOwogICAgICAgICAgICAgICAgcG9wdXBfM2E1YjMxNDBmYjVmNDcwNGJiZGQxMjE2MmFjOTUzNjEuc2V0Q29udGVudChodG1sXzIyMzUwOGRmODNmODQ3MmViZjcxOGQ0MGZkMjY4MDJkKTsKICAgICAgICAgICAgCgogICAgICAgICAgICBjaXJjbGVfbWFya2VyXzNlYTRmMTRkNzUxNTRkMjVhOWEzOGQ0NTcyYzZmOWZhLmJpbmRQb3B1cChwb3B1cF8zYTViMzE0MGZiNWY0NzA0YmJkZDEyMTYyYWM5NTM2MSk7CgogICAgICAgICAgICAKICAgICAgICAKICAgIAogICAgICAgICAgICB2YXIgY2lyY2xlX21hcmtlcl81M2UwZGM2NjQ5NjM0Y2ZkYjhmMjI2ZGMyMTg3Zjc5ZSA9IEwuY2lyY2xlTWFya2VyKAogICAgICAgICAgICAgICAgWzQzLjY1MDk0MzIsLTc5LjU1NDcyNDQwMDAwMDAxXSwKICAgICAgICAgICAgICAgIHsKICAiYnViYmxpbmdNb3VzZUV2ZW50cyI6IHRydWUsCiAgImNvbG9yIjogImJsdWUiLAogICJkYXNoQXJyYXkiOiBudWxsLAogICJkYXNoT2Zmc2V0IjogbnVsbCwKICAiZmlsbCI6IHRydWUsCiAgImZpbGxDb2xvciI6ICJibHVlIiwKICAiZmlsbE9wYWNpdHkiOiAwLjYsCiAgImZpbGxSdWxlIjogImV2ZW5vZGQiLAogICJsaW5lQ2FwIjogInJvdW5kIiwKICAibGluZUpvaW4iOiAicm91bmQiLAogICJvcGFjaXR5IjogMS4wLAogICJyYWRpdXMiOiA1LAogICJzdHJva2UiOiB0cnVlLAogICJ3ZWlnaHQiOiAzCn0KICAgICAgICAgICAgICAgICkuYWRkVG8obWFwXzFlMWU3ZTc1N2U2NDQyNDQ5ZjFkMjUyODhlNGFhNDk0KTsKICAgICAgICAgICAgCiAgICAKICAgICAgICAgICAgdmFyIHBvcHVwXzJmNjQ1OWYzOGNlZjQ2ZTU5NDgwYjM5NjNiZTNkN2Q0ID0gTC5wb3B1cCh7bWF4V2lkdGg6ICczMDAnfSk7CgogICAgICAgICAgICAKICAgICAgICAgICAgICAgIHZhciBodG1sXzRiNmIxMDgwMTgzZTRmNzA5NzQ3ZDRjNTFlZDQxYWZkID0gJCgnPGRpdiBpZD0iaHRtbF80YjZiMTA4MDE4M2U0ZjcwOTc0N2Q0YzUxZWQ0MWFmZCIgc3R5bGU9IndpZHRoOiAxMDAuMCU7IGhlaWdodDogMTAwLjAlOyI+TTlCPC9kaXY+JylbMF07CiAgICAgICAgICAgICAgICBwb3B1cF8yZjY0NTlmMzhjZWY0NmU1OTQ4MGIzOTYzYmUzZDdkNC5zZXRDb250ZW50KGh0bWxfNGI2YjEwODAxODNlNGY3MDk3NDdkNGM1MWVkNDFhZmQpOwogICAgICAgICAgICAKCiAgICAgICAgICAgIGNpcmNsZV9tYXJrZXJfNTNlMGRjNjY0OTYzNGNmZGI4ZjIyNmRjMjE4N2Y3OWUuYmluZFBvcHVwKHBvcHVwXzJmNjQ1OWYzOGNlZjQ2ZTU5NDgwYjM5NjNiZTNkN2Q0KTsKCiAgICAgICAgICAgIAogICAgICAgIAogICAgCiAgICAgICAgICAgIHZhciBjaXJjbGVfbWFya2VyX2Q0ZmZhNDBmOTQxYTQ2M2U4MGZmNWQ2NGZmN2E4NGUzID0gTC5jaXJjbGVNYXJrZXIoCiAgICAgICAgICAgICAgICBbNDMuNzg0NTM1MSwtNzkuMTYwNDk3MDk5OTk5OTldLAogICAgICAgICAgICAgICAgewogICJidWJibGluZ01vdXNlRXZlbnRzIjogdHJ1ZSwKICAiY29sb3IiOiAiYmx1ZSIsCiAgImRhc2hBcnJheSI6IG51bGwsCiAgImRhc2hPZmZzZXQiOiBudWxsLAogICJmaWxsIjogdHJ1ZSwKICAiZmlsbENvbG9yIjogImJsdWUiLAogICJmaWxsT3BhY2l0eSI6IDAuNiwKICAiZmlsbFJ1bGUiOiAiZXZlbm9kZCIsCiAgImxpbmVDYXAiOiAicm91bmQiLAogICJsaW5lSm9pbiI6ICJyb3VuZCIsCiAgIm9wYWNpdHkiOiAxLjAsCiAgInJhZGl1cyI6IDUsCiAgInN0cm9rZSI6IHRydWUsCiAgIndlaWdodCI6IDMKfQogICAgICAgICAgICAgICAgKS5hZGRUbyhtYXBfMWUxZTdlNzU3ZTY0NDI0NDlmMWQyNTI4OGU0YWE0OTQpOwogICAgICAgICAgICAKICAgIAogICAgICAgICAgICB2YXIgcG9wdXBfMzNiM2RiOTYyNTA2NGM3ZmIwMjAzZjUxMDExYTY4YTYgPSBMLnBvcHVwKHttYXhXaWR0aDogJzMwMCd9KTsKCiAgICAgICAgICAgIAogICAgICAgICAgICAgICAgdmFyIGh0bWxfOWI4ZmE0MWUxZjNlNDc4OGFhYzg1ZWZiZTMzNTZlOGYgPSAkKCc8ZGl2IGlkPSJodG1sXzliOGZhNDFlMWYzZTQ3ODhhYWM4NWVmYmUzMzU2ZThmIiBzdHlsZT0id2lkdGg6IDEwMC4wJTsgaGVpZ2h0OiAxMDAuMCU7Ij5NMUM8L2Rpdj4nKVswXTsKICAgICAgICAgICAgICAgIHBvcHVwXzMzYjNkYjk2MjUwNjRjN2ZiMDIwM2Y1MTAxMWE2OGE2LnNldENvbnRlbnQoaHRtbF85YjhmYTQxZTFmM2U0Nzg4YWFjODVlZmJlMzM1NmU4Zik7CiAgICAgICAgICAgIAoKICAgICAgICAgICAgY2lyY2xlX21hcmtlcl9kNGZmYTQwZjk0MWE0NjNlODBmZjVkNjRmZjdhODRlMy5iaW5kUG9wdXAocG9wdXBfMzNiM2RiOTYyNTA2NGM3ZmIwMjAzZjUxMDExYTY4YTYpOwoKICAgICAgICAgICAgCiAgICAgICAgCiAgICAKICAgICAgICAgICAgdmFyIGNpcmNsZV9tYXJrZXJfYTMxMzE0NjY0OWYzNDY3ZWJiMDM3Y2Q4NDllYjVlMTMgPSBMLmNpcmNsZU1hcmtlcigKICAgICAgICAgICAgICAgIFs0My43MjU4OTk3MDAwMDAwMSwtNzkuMzQwOTIzXSwKICAgICAgICAgICAgICAgIHsKICAiYnViYmxpbmdNb3VzZUV2ZW50cyI6IHRydWUsCiAgImNvbG9yIjogImJsdWUiLAogICJkYXNoQXJyYXkiOiBudWxsLAogICJkYXNoT2Zmc2V0IjogbnVsbCwKICAiZmlsbCI6IHRydWUsCiAgImZpbGxDb2xvciI6ICJibHVlIiwKICAiZmlsbE9wYWNpdHkiOiAwLjYsCiAgImZpbGxSdWxlIjogImV2ZW5vZGQiLAogICJsaW5lQ2FwIjogInJvdW5kIiwKICAibGluZUpvaW4iOiAicm91bmQiLAogICJvcGFjaXR5IjogMS4wLAogICJyYWRpdXMiOiA1LAogICJzdHJva2UiOiB0cnVlLAogICJ3ZWlnaHQiOiAzCn0KICAgICAgICAgICAgICAgICkuYWRkVG8obWFwXzFlMWU3ZTc1N2U2NDQyNDQ5ZjFkMjUyODhlNGFhNDk0KTsKICAgICAgICAgICAgCiAgICAKICAgICAgICAgICAgdmFyIHBvcHVwX2JmYjUzOTg4MzlhNTQ1MTNiYzIzNmUxMjYzZDY2NjkwID0gTC5wb3B1cCh7bWF4V2lkdGg6ICczMDAnfSk7CgogICAgICAgICAgICAKICAgICAgICAgICAgICAgIHZhciBodG1sXzZlNzA3ODM5YjZiMjQzNGM4YmFjYzExMzA1MmVkMTM2ID0gJCgnPGRpdiBpZD0iaHRtbF82ZTcwNzgzOWI2YjI0MzRjOGJhY2MxMTMwNTJlZDEzNiIgc3R5bGU9IndpZHRoOiAxMDAuMCU7IGhlaWdodDogMTAwLjAlOyI+TTNDPC9kaXY+JylbMF07CiAgICAgICAgICAgICAgICBwb3B1cF9iZmI1Mzk4ODM5YTU0NTEzYmMyMzZlMTI2M2Q2NjY5MC5zZXRDb250ZW50KGh0bWxfNmU3MDc4MzliNmIyNDM0YzhiYWNjMTEzMDUyZWQxMzYpOwogICAgICAgICAgICAKCiAgICAgICAgICAgIGNpcmNsZV9tYXJrZXJfYTMxMzE0NjY0OWYzNDY3ZWJiMDM3Y2Q4NDllYjVlMTMuYmluZFBvcHVwKHBvcHVwX2JmYjUzOTg4MzlhNTQ1MTNiYzIzNmUxMjYzZDY2NjkwKTsKCiAgICAgICAgICAgIAogICAgICAgIAogICAgCiAgICAgICAgICAgIHZhciBjaXJjbGVfbWFya2VyX2ExNjg2Zjg0ZWQ1YjQ4N2NhOTBmZDMxMDJiNGI0NWQ0ID0gTC5jaXJjbGVNYXJrZXIoCiAgICAgICAgICAgICAgICBbNDMuNjk1MzQzOTAwMDAwMDA1LC03OS4zMTgzODg3XSwKICAgICAgICAgICAgICAgIHsKICAiYnViYmxpbmdNb3VzZUV2ZW50cyI6IHRydWUsCiAgImNvbG9yIjogImJsdWUiLAogICJkYXNoQXJyYXkiOiBudWxsLAogICJkYXNoT2Zmc2V0IjogbnVsbCwKICAiZmlsbCI6IHRydWUsCiAgImZpbGxDb2xvciI6ICJibHVlIiwKICAiZmlsbE9wYWNpdHkiOiAwLjYsCiAgImZpbGxSdWxlIjogImV2ZW5vZGQiLAogICJsaW5lQ2FwIjogInJvdW5kIiwKICAibGluZUpvaW4iOiAicm91bmQiLAogICJvcGFjaXR5IjogMS4wLAogICJyYWRpdXMiOiA1LAogICJzdHJva2UiOiB0cnVlLAogICJ3ZWlnaHQiOiAzCn0KICAgICAgICAgICAgICAgICkuYWRkVG8obWFwXzFlMWU3ZTc1N2U2NDQyNDQ5ZjFkMjUyODhlNGFhNDk0KTsKICAgICAgICAgICAgCiAgICAKICAgICAgICAgICAgdmFyIHBvcHVwXzEyMDFhZWFiODUxZjQ2MTI4YTkzNWRiYWQwMjgwMTI3ID0gTC5wb3B1cCh7bWF4V2lkdGg6ICczMDAnfSk7CgogICAgICAgICAgICAKICAgICAgICAgICAgICAgIHZhciBodG1sX2I1ZDg5ODc4Y2Y4MjQyMWVhYTlhZGYzODNkNTVhYTRiID0gJCgnPGRpdiBpZD0iaHRtbF9iNWQ4OTg3OGNmODI0MjFlYWE5YWRmMzgzZDU1YWE0YiIgc3R5bGU9IndpZHRoOiAxMDAuMCU7IGhlaWdodDogMTAwLjAlOyI+TTRDPC9kaXY+JylbMF07CiAgICAgICAgICAgICAgICBwb3B1cF8xMjAxYWVhYjg1MWY0NjEyOGE5MzVkYmFkMDI4MDEyNy5zZXRDb250ZW50KGh0bWxfYjVkODk4NzhjZjgyNDIxZWFhOWFkZjM4M2Q1NWFhNGIpOwogICAgICAgICAgICAKCiAgICAgICAgICAgIGNpcmNsZV9tYXJrZXJfYTE2ODZmODRlZDViNDg3Y2E5MGZkMzEwMmI0YjQ1ZDQuYmluZFBvcHVwKHBvcHVwXzEyMDFhZWFiODUxZjQ2MTI4YTkzNWRiYWQwMjgwMTI3KTsKCiAgICAgICAgICAgIAogICAgICAgIAogICAgCiAgICAgICAgICAgIHZhciBjaXJjbGVfbWFya2VyXzU4ZGRiOTBiMDYxZTRiMjhhODA4NDczNTE0M2M5ZTZlID0gTC5jaXJjbGVNYXJrZXIoCiAgICAgICAgICAgICAgICBbNDMuNjUxNDkzOSwtNzkuMzc1NDE3OV0sCiAgICAgICAgICAgICAgICB7CiAgImJ1YmJsaW5nTW91c2VFdmVudHMiOiB0cnVlLAogICJjb2xvciI6ICJibHVlIiwKICAiZGFzaEFycmF5IjogbnVsbCwKICAiZGFzaE9mZnNldCI6IG51bGwsCiAgImZpbGwiOiB0cnVlLAogICJmaWxsQ29sb3IiOiAiYmx1ZSIsCiAgImZpbGxPcGFjaXR5IjogMC42LAogICJmaWxsUnVsZSI6ICJldmVub2RkIiwKICAibGluZUNhcCI6ICJyb3VuZCIsCiAgImxpbmVKb2luIjogInJvdW5kIiwKICAib3BhY2l0eSI6IDEuMCwKICAicmFkaXVzIjogNSwKICAic3Ryb2tlIjogdHJ1ZSwKICAid2VpZ2h0IjogMwp9CiAgICAgICAgICAgICAgICApLmFkZFRvKG1hcF8xZTFlN2U3NTdlNjQ0MjQ0OWYxZDI1Mjg4ZTRhYTQ5NCk7CiAgICAgICAgICAgIAogICAgCiAgICAgICAgICAgIHZhciBwb3B1cF9hZGJlYzZhNzFhYzM0Y2QxYjM0YmJjZDU0MmE2OGE3OSA9IEwucG9wdXAoe21heFdpZHRoOiAnMzAwJ30pOwoKICAgICAgICAgICAgCiAgICAgICAgICAgICAgICB2YXIgaHRtbF9hZGUyNTA1NzEwYzA0ZWVlYTU5YWZiMjg4Yzc1YzdiNiA9ICQoJzxkaXYgaWQ9Imh0bWxfYWRlMjUwNTcxMGMwNGVlZWE1OWFmYjI4OGM3NWM3YjYiIHN0eWxlPSJ3aWR0aDogMTAwLjAlOyBoZWlnaHQ6IDEwMC4wJTsiPk01QzwvZGl2PicpWzBdOwogICAgICAgICAgICAgICAgcG9wdXBfYWRiZWM2YTcxYWMzNGNkMWIzNGJiY2Q1NDJhNjhhNzkuc2V0Q29udGVudChodG1sX2FkZTI1MDU3MTBjMDRlZWVhNTlhZmIyODhjNzVjN2I2KTsKICAgICAgICAgICAgCgogICAgICAgICAgICBjaXJjbGVfbWFya2VyXzU4ZGRiOTBiMDYxZTRiMjhhODA4NDczNTE0M2M5ZTZlLmJpbmRQb3B1cChwb3B1cF9hZGJlYzZhNzFhYzM0Y2QxYjM0YmJjZDU0MmE2OGE3OSk7CgogICAgICAgICAgICAKICAgICAgICAKICAgIAogICAgICAgICAgICB2YXIgY2lyY2xlX21hcmtlcl80ZDIxNmRkYTdjNGU0OGZlYmMwNGJiZjY3NGQ1MDc1ZiA9IEwuY2lyY2xlTWFya2VyKAogICAgICAgICAgICAgICAgWzQzLjY5Mzc4MTMsLTc5LjQyODE5MTQwMDAwMDAyXSwKICAgICAgICAgICAgICAgIHsKICAiYnViYmxpbmdNb3VzZUV2ZW50cyI6IHRydWUsCiAgImNvbG9yIjogImJsdWUiLAogICJkYXNoQXJyYXkiOiBudWxsLAogICJkYXNoT2Zmc2V0IjogbnVsbCwKICAiZmlsbCI6IHRydWUsCiAgImZpbGxDb2xvciI6ICJibHVlIiwKICAiZmlsbE9wYWNpdHkiOiAwLjYsCiAgImZpbGxSdWxlIjogImV2ZW5vZGQiLAogICJsaW5lQ2FwIjogInJvdW5kIiwKICAibGluZUpvaW4iOiAicm91bmQiLAogICJvcGFjaXR5IjogMS4wLAogICJyYWRpdXMiOiA1LAogICJzdHJva2UiOiB0cnVlLAogICJ3ZWlnaHQiOiAzCn0KICAgICAgICAgICAgICAgICkuYWRkVG8obWFwXzFlMWU3ZTc1N2U2NDQyNDQ5ZjFkMjUyODhlNGFhNDk0KTsKICAgICAgICAgICAgCiAgICAKICAgICAgICAgICAgdmFyIHBvcHVwX2Y2ZDFmMzI1YWFiNTQ5ODI5ZjI5MjA0YTMwYTJiYjkzID0gTC5wb3B1cCh7bWF4V2lkdGg6ICczMDAnfSk7CgogICAgICAgICAgICAKICAgICAgICAgICAgICAgIHZhciBodG1sXzViNTliZDRkZGQxOTQ3ZGJiYzBhNThkZjMxNjVjYjIzID0gJCgnPGRpdiBpZD0iaHRtbF81YjU5YmQ0ZGRkMTk0N2RiYmMwYTU4ZGYzMTY1Y2IyMyIgc3R5bGU9IndpZHRoOiAxMDAuMCU7IGhlaWdodDogMTAwLjAlOyI+TTZDPC9kaXY+JylbMF07CiAgICAgICAgICAgICAgICBwb3B1cF9mNmQxZjMyNWFhYjU0OTgyOWYyOTIwNGEzMGEyYmI5My5zZXRDb250ZW50KGh0bWxfNWI1OWJkNGRkZDE5NDdkYmJjMGE1OGRmMzE2NWNiMjMpOwogICAgICAgICAgICAKCiAgICAgICAgICAgIGNpcmNsZV9tYXJrZXJfNGQyMTZkZGE3YzRlNDhmZWJjMDRiYmY2NzRkNTA3NWYuYmluZFBvcHVwKHBvcHVwX2Y2ZDFmMzI1YWFiNTQ5ODI5ZjI5MjA0YTMwYTJiYjkzKTsKCiAgICAgICAgICAgIAogICAgICAgIAogICAgCiAgICAgICAgICAgIHZhciBjaXJjbGVfbWFya2VyXzZjYzQ1Zjk2YjE1NzQ1MjBiYTdhYmJjZDEwYTVjOGEyID0gTC5jaXJjbGVNYXJrZXIoCiAgICAgICAgICAgICAgICBbNDMuNjQzNTE1MiwtNzkuNTc3MjAwNzk5OTk5OTldLAogICAgICAgICAgICAgICAgewogICJidWJibGluZ01vdXNlRXZlbnRzIjogdHJ1ZSwKICAiY29sb3IiOiAiYmx1ZSIsCiAgImRhc2hBcnJheSI6IG51bGwsCiAgImRhc2hPZmZzZXQiOiBudWxsLAogICJmaWxsIjogdHJ1ZSwKICAiZmlsbENvbG9yIjogImJsdWUiLAogICJmaWxsT3BhY2l0eSI6IDAuNiwKICAiZmlsbFJ1bGUiOiAiZXZlbm9kZCIsCiAgImxpbmVDYXAiOiAicm91bmQiLAogICJsaW5lSm9pbiI6ICJyb3VuZCIsCiAgIm9wYWNpdHkiOiAxLjAsCiAgInJhZGl1cyI6IDUsCiAgInN0cm9rZSI6IHRydWUsCiAgIndlaWdodCI6IDMKfQogICAgICAgICAgICAgICAgKS5hZGRUbyhtYXBfMWUxZTdlNzU3ZTY0NDI0NDlmMWQyNTI4OGU0YWE0OTQpOwogICAgICAgICAgICAKICAgIAogICAgICAgICAgICB2YXIgcG9wdXBfYjIwOGEzYjk0MjBlNGQ4M2E1YzIwZjMwMWZmMzk5MjAgPSBMLnBvcHVwKHttYXhXaWR0aDogJzMwMCd9KTsKCiAgICAgICAgICAgIAogICAgICAgICAgICAgICAgdmFyIGh0bWxfYjQ3MzVhMDFjMGE0NDM0NGJmNzNiNjcxZDJiY2U1MDEgPSAkKCc8ZGl2IGlkPSJodG1sX2I0NzM1YTAxYzBhNDQzNDRiZjczYjY3MWQyYmNlNTAxIiBzdHlsZT0id2lkdGg6IDEwMC4wJTsgaGVpZ2h0OiAxMDAuMCU7Ij5NOUM8L2Rpdj4nKVswXTsKICAgICAgICAgICAgICAgIHBvcHVwX2IyMDhhM2I5NDIwZTRkODNhNWMyMGYzMDFmZjM5OTIwLnNldENvbnRlbnQoaHRtbF9iNDczNWEwMWMwYTQ0MzQ0YmY3M2I2NzFkMmJjZTUwMSk7CiAgICAgICAgICAgIAoKICAgICAgICAgICAgY2lyY2xlX21hcmtlcl82Y2M0NWY5NmIxNTc0NTIwYmE3YWJiY2QxMGE1YzhhMi5iaW5kUG9wdXAocG9wdXBfYjIwOGEzYjk0MjBlNGQ4M2E1YzIwZjMwMWZmMzk5MjApOwoKICAgICAgICAgICAgCiAgICAgICAgCiAgICAKICAgICAgICAgICAgdmFyIGNpcmNsZV9tYXJrZXJfMDU1OTRjY2QwZjM0NDdiZWFmMWVhZWY1NDA3MmU5ODggPSBMLmNpcmNsZU1hcmtlcigKICAgICAgICAgICAgICAgIFs0My43NjM1NzI2LC03OS4xODg3MTE1XSwKICAgICAgICAgICAgICAgIHsKICAiYnViYmxpbmdNb3VzZUV2ZW50cyI6IHRydWUsCiAgImNvbG9yIjogImJsdWUiLAogICJkYXNoQXJyYXkiOiBudWxsLAogICJkYXNoT2Zmc2V0IjogbnVsbCwKICAiZmlsbCI6IHRydWUsCiAgImZpbGxDb2xvciI6ICJibHVlIiwKICAiZmlsbE9wYWNpdHkiOiAwLjYsCiAgImZpbGxSdWxlIjogImV2ZW5vZGQiLAogICJsaW5lQ2FwIjogInJvdW5kIiwKICAibGluZUpvaW4iOiAicm91bmQiLAogICJvcGFjaXR5IjogMS4wLAogICJyYWRpdXMiOiA1LAogICJzdHJva2UiOiB0cnVlLAogICJ3ZWlnaHQiOiAzCn0KICAgICAgICAgICAgICAgICkuYWRkVG8obWFwXzFlMWU3ZTc1N2U2NDQyNDQ5ZjFkMjUyODhlNGFhNDk0KTsKICAgICAgICAgICAgCiAgICAKICAgICAgICAgICAgdmFyIHBvcHVwXzRlMGE5YjUxYzJjNzRhYzFhYjUwN2U0OWZiMmNjZWE2ID0gTC5wb3B1cCh7bWF4V2lkdGg6ICczMDAnfSk7CgogICAgICAgICAgICAKICAgICAgICAgICAgICAgIHZhciBodG1sXzBhNGI1NjQ4OTFjNzQxNDBiYjk5OWQxMjI5M2EzOWU4ID0gJCgnPGRpdiBpZD0iaHRtbF8wYTRiNTY0ODkxYzc0MTQwYmI5OTlkMTIyOTNhMzllOCIgc3R5bGU9IndpZHRoOiAxMDAuMCU7IGhlaWdodDogMTAwLjAlOyI+TTFFPC9kaXY+JylbMF07CiAgICAgICAgICAgICAgICBwb3B1cF80ZTBhOWI1MWMyYzc0YWMxYWI1MDdlNDlmYjJjY2VhNi5zZXRDb250ZW50KGh0bWxfMGE0YjU2NDg5MWM3NDE0MGJiOTk5ZDEyMjkzYTM5ZTgpOwogICAgICAgICAgICAKCiAgICAgICAgICAgIGNpcmNsZV9tYXJrZXJfMDU1OTRjY2QwZjM0NDdiZWFmMWVhZWY1NDA3MmU5ODguYmluZFBvcHVwKHBvcHVwXzRlMGE5YjUxYzJjNzRhYzFhYjUwN2U0OWZiMmNjZWE2KTsKCiAgICAgICAgICAgIAogICAgICAgIAogICAgCiAgICAgICAgICAgIHZhciBjaXJjbGVfbWFya2VyXzBkNGVhMjdhMWZjNTQ1NWI4OTM3NDg3YjE3ZGVhMTQxID0gTC5jaXJjbGVNYXJrZXIoCiAgICAgICAgICAgICAgICBbNDMuNjc2MzU3Mzk5OTk5OTksLTc5LjI5MzAzMTJdLAogICAgICAgICAgICAgICAgewogICJidWJibGluZ01vdXNlRXZlbnRzIjogdHJ1ZSwKICAiY29sb3IiOiAiYmx1ZSIsCiAgImRhc2hBcnJheSI6IG51bGwsCiAgImRhc2hPZmZzZXQiOiBudWxsLAogICJmaWxsIjogdHJ1ZSwKICAiZmlsbENvbG9yIjogImJsdWUiLAogICJmaWxsT3BhY2l0eSI6IDAuNiwKICAiZmlsbFJ1bGUiOiAiZXZlbm9kZCIsCiAgImxpbmVDYXAiOiAicm91bmQiLAogICJsaW5lSm9pbiI6ICJyb3VuZCIsCiAgIm9wYWNpdHkiOiAxLjAsCiAgInJhZGl1cyI6IDUsCiAgInN0cm9rZSI6IHRydWUsCiAgIndlaWdodCI6IDMKfQogICAgICAgICAgICAgICAgKS5hZGRUbyhtYXBfMWUxZTdlNzU3ZTY0NDI0NDlmMWQyNTI4OGU0YWE0OTQpOwogICAgICAgICAgICAKICAgIAogICAgICAgICAgICB2YXIgcG9wdXBfZmEwNDgyNzkwOGJmNDdkZmJjZDkyNGNmNDIxNGFlODAgPSBMLnBvcHVwKHttYXhXaWR0aDogJzMwMCd9KTsKCiAgICAgICAgICAgIAogICAgICAgICAgICAgICAgdmFyIGh0bWxfZDJiOTQ1MWI5OWM2NGIxMjgxZTFjMWRlNDQ4MDcwZTIgPSAkKCc8ZGl2IGlkPSJodG1sX2QyYjk0NTFiOTljNjRiMTI4MWUxYzFkZTQ0ODA3MGUyIiBzdHlsZT0id2lkdGg6IDEwMC4wJTsgaGVpZ2h0OiAxMDAuMCU7Ij5NNEU8L2Rpdj4nKVswXTsKICAgICAgICAgICAgICAgIHBvcHVwX2ZhMDQ4Mjc5MDhiZjQ3ZGZiY2Q5MjRjZjQyMTRhZTgwLnNldENvbnRlbnQoaHRtbF9kMmI5NDUxYjk5YzY0YjEyODFlMWMxZGU0NDgwNzBlMik7CiAgICAgICAgICAgIAoKICAgICAgICAgICAgY2lyY2xlX21hcmtlcl8wZDRlYTI3YTFmYzU0NTViODkzNzQ4N2IxN2RlYTE0MS5iaW5kUG9wdXAocG9wdXBfZmEwNDgyNzkwOGJmNDdkZmJjZDkyNGNmNDIxNGFlODApOwoKICAgICAgICAgICAgCiAgICAgICAgCiAgICAKICAgICAgICAgICAgdmFyIGNpcmNsZV9tYXJrZXJfMjQ3YjY1YTg5NWNlNDI4MWEwN2NlODgxZWM4OWI0ZmUgPSBMLmNpcmNsZU1hcmtlcigKICAgICAgICAgICAgICAgIFs0My42NDQ3NzA3OTk5OTk5OTYsLTc5LjM3MzMwNjRdLAogICAgICAgICAgICAgICAgewogICJidWJibGluZ01vdXNlRXZlbnRzIjogdHJ1ZSwKICAiY29sb3IiOiAiYmx1ZSIsCiAgImRhc2hBcnJheSI6IG51bGwsCiAgImRhc2hPZmZzZXQiOiBudWxsLAogICJmaWxsIjogdHJ1ZSwKICAiZmlsbENvbG9yIjogImJsdWUiLAogICJmaWxsT3BhY2l0eSI6IDAuNiwKICAiZmlsbFJ1bGUiOiAiZXZlbm9kZCIsCiAgImxpbmVDYXAiOiAicm91bmQiLAogICJsaW5lSm9pbiI6ICJyb3VuZCIsCiAgIm9wYWNpdHkiOiAxLjAsCiAgInJhZGl1cyI6IDUsCiAgInN0cm9rZSI6IHRydWUsCiAgIndlaWdodCI6IDMKfQogICAgICAgICAgICAgICAgKS5hZGRUbyhtYXBfMWUxZTdlNzU3ZTY0NDI0NDlmMWQyNTI4OGU0YWE0OTQpOwogICAgICAgICAgICAKICAgIAogICAgICAgICAgICB2YXIgcG9wdXBfNDkwODEwOTJhYTliNDU3NjhhYmIwYjg2MDM5NDM1MGYgPSBMLnBvcHVwKHttYXhXaWR0aDogJzMwMCd9KTsKCiAgICAgICAgICAgIAogICAgICAgICAgICAgICAgdmFyIGh0bWxfNGU1OGQ1OWRjYTQwNDVkZmIwMDRhNTYyNWU3NTEzZGYgPSAkKCc8ZGl2IGlkPSJodG1sXzRlNThkNTlkY2E0MDQ1ZGZiMDA0YTU2MjVlNzUxM2RmIiBzdHlsZT0id2lkdGg6IDEwMC4wJTsgaGVpZ2h0OiAxMDAuMCU7Ij5NNUU8L2Rpdj4nKVswXTsKICAgICAgICAgICAgICAgIHBvcHVwXzQ5MDgxMDkyYWE5YjQ1NzY4YWJiMGI4NjAzOTQzNTBmLnNldENvbnRlbnQoaHRtbF80ZTU4ZDU5ZGNhNDA0NWRmYjAwNGE1NjI1ZTc1MTNkZik7CiAgICAgICAgICAgIAoKICAgICAgICAgICAgY2lyY2xlX21hcmtlcl8yNDdiNjVhODk1Y2U0MjgxYTA3Y2U4ODFlYzg5YjRmZS5iaW5kUG9wdXAocG9wdXBfNDkwODEwOTJhYTliNDU3NjhhYmIwYjg2MDM5NDM1MGYpOwoKICAgICAgICAgICAgCiAgICAgICAgCiAgICAKICAgICAgICAgICAgdmFyIGNpcmNsZV9tYXJrZXJfZjIyM2VmYmQ4YzNlNDU0ZGIzMWZlYWNlMmExZWE3NDMgPSBMLmNpcmNsZU1hcmtlcigKICAgICAgICAgICAgICAgIFs0My42ODkwMjU2LC03OS40NTM1MTJdLAogICAgICAgICAgICAgICAgewogICJidWJibGluZ01vdXNlRXZlbnRzIjogdHJ1ZSwKICAiY29sb3IiOiAiYmx1ZSIsCiAgImRhc2hBcnJheSI6IG51bGwsCiAgImRhc2hPZmZzZXQiOiBudWxsLAogICJmaWxsIjogdHJ1ZSwKICAiZmlsbENvbG9yIjogImJsdWUiLAogICJmaWxsT3BhY2l0eSI6IDAuNiwKICAiZmlsbFJ1bGUiOiAiZXZlbm9kZCIsCiAgImxpbmVDYXAiOiAicm91bmQiLAogICJsaW5lSm9pbiI6ICJyb3VuZCIsCiAgIm9wYWNpdHkiOiAxLjAsCiAgInJhZGl1cyI6IDUsCiAgInN0cm9rZSI6IHRydWUsCiAgIndlaWdodCI6IDMKfQogICAgICAgICAgICAgICAgKS5hZGRUbyhtYXBfMWUxZTdlNzU3ZTY0NDI0NDlmMWQyNTI4OGU0YWE0OTQpOwogICAgICAgICAgICAKICAgIAogICAgICAgICAgICB2YXIgcG9wdXBfNGI5ZDIzODZiODA1NDc4NGIxY2U5YTg2ZDM4ODk2OTEgPSBMLnBvcHVwKHttYXhXaWR0aDogJzMwMCd9KTsKCiAgICAgICAgICAgIAogICAgICAgICAgICAgICAgdmFyIGh0bWxfNzJmNjI5MjBmZTBmNDdjOTkxMDQyNDY3MDE3MzIzZDAgPSAkKCc8ZGl2IGlkPSJodG1sXzcyZjYyOTIwZmUwZjQ3Yzk5MTA0MjQ2NzAxNzMyM2QwIiBzdHlsZT0id2lkdGg6IDEwMC4wJTsgaGVpZ2h0OiAxMDAuMCU7Ij5NNkU8L2Rpdj4nKVswXTsKICAgICAgICAgICAgICAgIHBvcHVwXzRiOWQyMzg2YjgwNTQ3ODRiMWNlOWE4NmQzODg5NjkxLnNldENvbnRlbnQoaHRtbF83MmY2MjkyMGZlMGY0N2M5OTEwNDI0NjcwMTczMjNkMCk7CiAgICAgICAgICAgIAoKICAgICAgICAgICAgY2lyY2xlX21hcmtlcl9mMjIzZWZiZDhjM2U0NTRkYjMxZmVhY2UyYTFlYTc0My5iaW5kUG9wdXAocG9wdXBfNGI5ZDIzODZiODA1NDc4NGIxY2U5YTg2ZDM4ODk2OTEpOwoKICAgICAgICAgICAgCiAgICAgICAgCiAgICAKICAgICAgICAgICAgdmFyIGNpcmNsZV9tYXJrZXJfY2NhOGI4YmQ2Yjc4NDcyZGJmYTFjZWRlZWE2MTUzMTQgPSBMLmNpcmNsZU1hcmtlcigKICAgICAgICAgICAgICAgIFs0My43NzA5OTIxLC03OS4yMTY5MTc0MDAwMDAwMV0sCiAgICAgICAgICAgICAgICB7CiAgImJ1YmJsaW5nTW91c2VFdmVudHMiOiB0cnVlLAogICJjb2xvciI6ICJibHVlIiwKICAiZGFzaEFycmF5IjogbnVsbCwKICAiZGFzaE9mZnNldCI6IG51bGwsCiAgImZpbGwiOiB0cnVlLAogICJmaWxsQ29sb3IiOiAiYmx1ZSIsCiAgImZpbGxPcGFjaXR5IjogMC42LAogICJmaWxsUnVsZSI6ICJldmVub2RkIiwKICAibGluZUNhcCI6ICJyb3VuZCIsCiAgImxpbmVKb2luIjogInJvdW5kIiwKICAib3BhY2l0eSI6IDEuMCwKICAicmFkaXVzIjogNSwKICAic3Ryb2tlIjogdHJ1ZSwKICAid2VpZ2h0IjogMwp9CiAgICAgICAgICAgICAgICApLmFkZFRvKG1hcF8xZTFlN2U3NTdlNjQ0MjQ0OWYxZDI1Mjg4ZTRhYTQ5NCk7CiAgICAgICAgICAgIAogICAgCiAgICAgICAgICAgIHZhciBwb3B1cF9jN2U3ZTFkYjU1Y2I0MmM0OTQ2NzI3NzNlYzI5ZmE5OSA9IEwucG9wdXAoe21heFdpZHRoOiAnMzAwJ30pOwoKICAgICAgICAgICAgCiAgICAgICAgICAgICAgICB2YXIgaHRtbF85Yjk3M2RiZmU2YmM0MzIyYTgzZDQwNmYyYjJiNDRlYSA9ICQoJzxkaXYgaWQ9Imh0bWxfOWI5NzNkYmZlNmJjNDMyMmE4M2Q0MDZmMmIyYjQ0ZWEiIHN0eWxlPSJ3aWR0aDogMTAwLjAlOyBoZWlnaHQ6IDEwMC4wJTsiPk0xRzwvZGl2PicpWzBdOwogICAgICAgICAgICAgICAgcG9wdXBfYzdlN2UxZGI1NWNiNDJjNDk0NjcyNzczZWMyOWZhOTkuc2V0Q29udGVudChodG1sXzliOTczZGJmZTZiYzQzMjJhODNkNDA2ZjJiMmI0NGVhKTsKICAgICAgICAgICAgCgogICAgICAgICAgICBjaXJjbGVfbWFya2VyX2NjYThiOGJkNmI3ODQ3MmRiZmExY2VkZWVhNjE1MzE0LmJpbmRQb3B1cChwb3B1cF9jN2U3ZTFkYjU1Y2I0MmM0OTQ2NzI3NzNlYzI5ZmE5OSk7CgogICAgICAgICAgICAKICAgICAgICAKICAgIAogICAgICAgICAgICB2YXIgY2lyY2xlX21hcmtlcl9iNDc2OTRlZDk0ZTI0ZTE0YTU5NDIyOTU5NGM0YWE3NSA9IEwuY2lyY2xlTWFya2VyKAogICAgICAgICAgICAgICAgWzQzLjcwOTA2MDQsLTc5LjM2MzQ1MTddLAogICAgICAgICAgICAgICAgewogICJidWJibGluZ01vdXNlRXZlbnRzIjogdHJ1ZSwKICAiY29sb3IiOiAiYmx1ZSIsCiAgImRhc2hBcnJheSI6IG51bGwsCiAgImRhc2hPZmZzZXQiOiBudWxsLAogICJmaWxsIjogdHJ1ZSwKICAiZmlsbENvbG9yIjogImJsdWUiLAogICJmaWxsT3BhY2l0eSI6IDAuNiwKICAiZmlsbFJ1bGUiOiAiZXZlbm9kZCIsCiAgImxpbmVDYXAiOiAicm91bmQiLAogICJsaW5lSm9pbiI6ICJyb3VuZCIsCiAgIm9wYWNpdHkiOiAxLjAsCiAgInJhZGl1cyI6IDUsCiAgInN0cm9rZSI6IHRydWUsCiAgIndlaWdodCI6IDMKfQogICAgICAgICAgICAgICAgKS5hZGRUbyhtYXBfMWUxZTdlNzU3ZTY0NDI0NDlmMWQyNTI4OGU0YWE0OTQpOwogICAgICAgICAgICAKICAgIAogICAgICAgICAgICB2YXIgcG9wdXBfYjdmMmU5NDgyOWMyNGU3NGE1NzI2YjVhM2E4MzMwNzIgPSBMLnBvcHVwKHttYXhXaWR0aDogJzMwMCd9KTsKCiAgICAgICAgICAgIAogICAgICAgICAgICAgICAgdmFyIGh0bWxfZDMwMTIxOGY0NDI3NDNlZWI1MWJlOWNmYjA5ZTA4NzIgPSAkKCc8ZGl2IGlkPSJodG1sX2QzMDEyMThmNDQyNzQzZWViNTFiZTljZmIwOWUwODcyIiBzdHlsZT0id2lkdGg6IDEwMC4wJTsgaGVpZ2h0OiAxMDAuMCU7Ij5NNEc8L2Rpdj4nKVswXTsKICAgICAgICAgICAgICAgIHBvcHVwX2I3ZjJlOTQ4MjljMjRlNzRhNTcyNmI1YTNhODMzMDcyLnNldENvbnRlbnQoaHRtbF9kMzAxMjE4ZjQ0Mjc0M2VlYjUxYmU5Y2ZiMDllMDg3Mik7CiAgICAgICAgICAgIAoKICAgICAgICAgICAgY2lyY2xlX21hcmtlcl9iNDc2OTRlZDk0ZTI0ZTE0YTU5NDIyOTU5NGM0YWE3NS5iaW5kUG9wdXAocG9wdXBfYjdmMmU5NDgyOWMyNGU3NGE1NzI2YjVhM2E4MzMwNzIpOwoKICAgICAgICAgICAgCiAgICAgICAgCiAgICAKICAgICAgICAgICAgdmFyIGNpcmNsZV9tYXJrZXJfYjM3YWMzNmNjM2NiNGFmNzk2MDJjNDgzZTkxZjg2YWMgPSBMLmNpcmNsZU1hcmtlcigKICAgICAgICAgICAgICAgIFs0My42NTc5NTI0LC03OS4zODczODI2XSwKICAgICAgICAgICAgICAgIHsKICAiYnViYmxpbmdNb3VzZUV2ZW50cyI6IHRydWUsCiAgImNvbG9yIjogImJsdWUiLAogICJkYXNoQXJyYXkiOiBudWxsLAogICJkYXNoT2Zmc2V0IjogbnVsbCwKICAiZmlsbCI6IHRydWUsCiAgImZpbGxDb2xvciI6ICJibHVlIiwKICAiZmlsbE9wYWNpdHkiOiAwLjYsCiAgImZpbGxSdWxlIjogImV2ZW5vZGQiLAogICJsaW5lQ2FwIjogInJvdW5kIiwKICAibGluZUpvaW4iOiAicm91bmQiLAogICJvcGFjaXR5IjogMS4wLAogICJyYWRpdXMiOiA1LAogICJzdHJva2UiOiB0cnVlLAogICJ3ZWlnaHQiOiAzCn0KICAgICAgICAgICAgICAgICkuYWRkVG8obWFwXzFlMWU3ZTc1N2U2NDQyNDQ5ZjFkMjUyODhlNGFhNDk0KTsKICAgICAgICAgICAgCiAgICAKICAgICAgICAgICAgdmFyIHBvcHVwX2YwZWYwMzdjMTEyNzRmN2FiMTQ5ZWZkMTljNjA2YjFjID0gTC5wb3B1cCh7bWF4V2lkdGg6ICczMDAnfSk7CgogICAgICAgICAgICAKICAgICAgICAgICAgICAgIHZhciBodG1sX2I3NjkwMDdmMzM3MDQ1NDZhYjIxZTgxZGEwNDZhMjIzID0gJCgnPGRpdiBpZD0iaHRtbF9iNzY5MDA3ZjMzNzA0NTQ2YWIyMWU4MWRhMDQ2YTIyMyIgc3R5bGU9IndpZHRoOiAxMDAuMCU7IGhlaWdodDogMTAwLjAlOyI+TTVHPC9kaXY+JylbMF07CiAgICAgICAgICAgICAgICBwb3B1cF9mMGVmMDM3YzExMjc0ZjdhYjE0OWVmZDE5YzYwNmIxYy5zZXRDb250ZW50KGh0bWxfYjc2OTAwN2YzMzcwNDU0NmFiMjFlODFkYTA0NmEyMjMpOwogICAgICAgICAgICAKCiAgICAgICAgICAgIGNpcmNsZV9tYXJrZXJfYjM3YWMzNmNjM2NiNGFmNzk2MDJjNDgzZTkxZjg2YWMuYmluZFBvcHVwKHBvcHVwX2YwZWYwMzdjMTEyNzRmN2FiMTQ5ZWZkMTljNjA2YjFjKTsKCiAgICAgICAgICAgIAogICAgICAgIAogICAgCiAgICAgICAgICAgIHZhciBjaXJjbGVfbWFya2VyXzhjZGRmMTZmZDEwYzQzZTk4NzJlN2ExYmRlNjc2ZGI2ID0gTC5jaXJjbGVNYXJrZXIoCiAgICAgICAgICAgICAgICBbNDMuNjY5NTQyLC03OS40MjI1NjM3XSwKICAgICAgICAgICAgICAgIHsKICAiYnViYmxpbmdNb3VzZUV2ZW50cyI6IHRydWUsCiAgImNvbG9yIjogImJsdWUiLAogICJkYXNoQXJyYXkiOiBudWxsLAogICJkYXNoT2Zmc2V0IjogbnVsbCwKICAiZmlsbCI6IHRydWUsCiAgImZpbGxDb2xvciI6ICJibHVlIiwKICAiZmlsbE9wYWNpdHkiOiAwLjYsCiAgImZpbGxSdWxlIjogImV2ZW5vZGQiLAogICJsaW5lQ2FwIjogInJvdW5kIiwKICAibGluZUpvaW4iOiAicm91bmQiLAogICJvcGFjaXR5IjogMS4wLAogICJyYWRpdXMiOiA1LAogICJzdHJva2UiOiB0cnVlLAogICJ3ZWlnaHQiOiAzCn0KICAgICAgICAgICAgICAgICkuYWRkVG8obWFwXzFlMWU3ZTc1N2U2NDQyNDQ5ZjFkMjUyODhlNGFhNDk0KTsKICAgICAgICAgICAgCiAgICAKICAgICAgICAgICAgdmFyIHBvcHVwX2UwY2VhMDY2YjEyZjRlNWY5NGRkMGZiZDk2YWI5YWU3ID0gTC5wb3B1cCh7bWF4V2lkdGg6ICczMDAnfSk7CgogICAgICAgICAgICAKICAgICAgICAgICAgICAgIHZhciBodG1sXzk1YzRkYTU1YjE1MzQ3ODU5ODg4NTQxMDVmMDk0OWFjID0gJCgnPGRpdiBpZD0iaHRtbF85NWM0ZGE1NWIxNTM0Nzg1OTg4ODU0MTA1ZjA5NDlhYyIgc3R5bGU9IndpZHRoOiAxMDAuMCU7IGhlaWdodDogMTAwLjAlOyI+TTZHPC9kaXY+JylbMF07CiAgICAgICAgICAgICAgICBwb3B1cF9lMGNlYTA2NmIxMmY0ZTVmOTRkZDBmYmQ5NmFiOWFlNy5zZXRDb250ZW50KGh0bWxfOTVjNGRhNTViMTUzNDc4NTk4ODg1NDEwNWYwOTQ5YWMpOwogICAgICAgICAgICAKCiAgICAgICAgICAgIGNpcmNsZV9tYXJrZXJfOGNkZGYxNmZkMTBjNDNlOTg3MmU3YTFiZGU2NzZkYjYuYmluZFBvcHVwKHBvcHVwX2UwY2VhMDY2YjEyZjRlNWY5NGRkMGZiZDk2YWI5YWU3KTsKCiAgICAgICAgICAgIAogICAgICAgIAogICAgCiAgICAgICAgICAgIHZhciBjaXJjbGVfbWFya2VyX2U4YTMyN2U3ZjJkOTQ5M2FiOTdkZDY4MGVlM2QwMzZmID0gTC5jaXJjbGVNYXJrZXIoCiAgICAgICAgICAgICAgICBbNDMuNzczMTM2LC03OS4yMzk0NzYwOTk5OTk5OV0sCiAgICAgICAgICAgICAgICB7CiAgImJ1YmJsaW5nTW91c2VFdmVudHMiOiB0cnVlLAogICJjb2xvciI6ICJibHVlIiwKICAiZGFzaEFycmF5IjogbnVsbCwKICAiZGFzaE9mZnNldCI6IG51bGwsCiAgImZpbGwiOiB0cnVlLAogICJmaWxsQ29sb3IiOiAiYmx1ZSIsCiAgImZpbGxPcGFjaXR5IjogMC42LAogICJmaWxsUnVsZSI6ICJldmVub2RkIiwKICAibGluZUNhcCI6ICJyb3VuZCIsCiAgImxpbmVKb2luIjogInJvdW5kIiwKICAib3BhY2l0eSI6IDEuMCwKICAicmFkaXVzIjogNSwKICAic3Ryb2tlIjogdHJ1ZSwKICAid2VpZ2h0IjogMwp9CiAgICAgICAgICAgICAgICApLmFkZFRvKG1hcF8xZTFlN2U3NTdlNjQ0MjQ0OWYxZDI1Mjg4ZTRhYTQ5NCk7CiAgICAgICAgICAgIAogICAgCiAgICAgICAgICAgIHZhciBwb3B1cF82ODI4N2E1OGE1NzI0NGI5OGNlNjI2NDc5YTRhNzQ1NyA9IEwucG9wdXAoe21heFdpZHRoOiAnMzAwJ30pOwoKICAgICAgICAgICAgCiAgICAgICAgICAgICAgICB2YXIgaHRtbF8wMDRmZGIyN2Q2MjU0YzQ0YTBkZjNlNDFlMDY3OWI3MCA9ICQoJzxkaXYgaWQ9Imh0bWxfMDA0ZmRiMjdkNjI1NGM0NGEwZGYzZTQxZTA2NzliNzAiIHN0eWxlPSJ3aWR0aDogMTAwLjAlOyBoZWlnaHQ6IDEwMC4wJTsiPk0xSDwvZGl2PicpWzBdOwogICAgICAgICAgICAgICAgcG9wdXBfNjgyODdhNThhNTcyNDRiOThjZTYyNjQ3OWE0YTc0NTcuc2V0Q29udGVudChodG1sXzAwNGZkYjI3ZDYyNTRjNDRhMGRmM2U0MWUwNjc5YjcwKTsKICAgICAgICAgICAgCgogICAgICAgICAgICBjaXJjbGVfbWFya2VyX2U4YTMyN2U3ZjJkOTQ5M2FiOTdkZDY4MGVlM2QwMzZmLmJpbmRQb3B1cChwb3B1cF82ODI4N2E1OGE1NzI0NGI5OGNlNjI2NDc5YTRhNzQ1Nyk7CgogICAgICAgICAgICAKICAgICAgICAKICAgIAogICAgICAgICAgICB2YXIgY2lyY2xlX21hcmtlcl8xZmY3MTVmYTVlOWM0Y2M3YTc3NmJjNGVmMWI0OTBmMSA9IEwuY2lyY2xlTWFya2VyKAogICAgICAgICAgICAgICAgWzQzLjgwMzc2MjIsLTc5LjM2MzQ1MTddLAogICAgICAgICAgICAgICAgewogICJidWJibGluZ01vdXNlRXZlbnRzIjogdHJ1ZSwKICAiY29sb3IiOiAiYmx1ZSIsCiAgImRhc2hBcnJheSI6IG51bGwsCiAgImRhc2hPZmZzZXQiOiBudWxsLAogICJmaWxsIjogdHJ1ZSwKICAiZmlsbENvbG9yIjogImJsdWUiLAogICJmaWxsT3BhY2l0eSI6IDAuNiwKICAiZmlsbFJ1bGUiOiAiZXZlbm9kZCIsCiAgImxpbmVDYXAiOiAicm91bmQiLAogICJsaW5lSm9pbiI6ICJyb3VuZCIsCiAgIm9wYWNpdHkiOiAxLjAsCiAgInJhZGl1cyI6IDUsCiAgInN0cm9rZSI6IHRydWUsCiAgIndlaWdodCI6IDMKfQogICAgICAgICAgICAgICAgKS5hZGRUbyhtYXBfMWUxZTdlNzU3ZTY0NDI0NDlmMWQyNTI4OGU0YWE0OTQpOwogICAgICAgICAgICAKICAgIAogICAgICAgICAgICB2YXIgcG9wdXBfMmE1YjVmZTI1NGMxNGUwNWJlNzdlZmYyOWY3M2ZiYzIgPSBMLnBvcHVwKHttYXhXaWR0aDogJzMwMCd9KTsKCiAgICAgICAgICAgIAogICAgICAgICAgICAgICAgdmFyIGh0bWxfNzg4ZTkwMTE4NDgzNGI0OWIwYTNiMmE4OTJlNjRiYzUgPSAkKCc8ZGl2IGlkPSJodG1sXzc4OGU5MDExODQ4MzRiNDliMGEzYjJhODkyZTY0YmM1IiBzdHlsZT0id2lkdGg6IDEwMC4wJTsgaGVpZ2h0OiAxMDAuMCU7Ij5NMkg8L2Rpdj4nKVswXTsKICAgICAgICAgICAgICAgIHBvcHVwXzJhNWI1ZmUyNTRjMTRlMDViZTc3ZWZmMjlmNzNmYmMyLnNldENvbnRlbnQoaHRtbF83ODhlOTAxMTg0ODM0YjQ5YjBhM2IyYTg5MmU2NGJjNSk7CiAgICAgICAgICAgIAoKICAgICAgICAgICAgY2lyY2xlX21hcmtlcl8xZmY3MTVmYTVlOWM0Y2M3YTc3NmJjNGVmMWI0OTBmMS5iaW5kUG9wdXAocG9wdXBfMmE1YjVmZTI1NGMxNGUwNWJlNzdlZmYyOWY3M2ZiYzIpOwoKICAgICAgICAgICAgCiAgICAgICAgCiAgICAKICAgICAgICAgICAgdmFyIGNpcmNsZV9tYXJrZXJfYmE2YTJhYjIwNTM5NDg5YmJkOGQxOTQzZDU1MmE1MTggPSBMLmNpcmNsZU1hcmtlcigKICAgICAgICAgICAgICAgIFs0My43NTQzMjgzLC03OS40NDIyNTkzXSwKICAgICAgICAgICAgICAgIHsKICAiYnViYmxpbmdNb3VzZUV2ZW50cyI6IHRydWUsCiAgImNvbG9yIjogImJsdWUiLAogICJkYXNoQXJyYXkiOiBudWxsLAogICJkYXNoT2Zmc2V0IjogbnVsbCwKICAiZmlsbCI6IHRydWUsCiAgImZpbGxDb2xvciI6ICJibHVlIiwKICAiZmlsbE9wYWNpdHkiOiAwLjYsCiAgImZpbGxSdWxlIjogImV2ZW5vZGQiLAogICJsaW5lQ2FwIjogInJvdW5kIiwKICAibGluZUpvaW4iOiAicm91bmQiLAogICJvcGFjaXR5IjogMS4wLAogICJyYWRpdXMiOiA1LAogICJzdHJva2UiOiB0cnVlLAogICJ3ZWlnaHQiOiAzCn0KICAgICAgICAgICAgICAgICkuYWRkVG8obWFwXzFlMWU3ZTc1N2U2NDQyNDQ5ZjFkMjUyODhlNGFhNDk0KTsKICAgICAgICAgICAgCiAgICAKICAgICAgICAgICAgdmFyIHBvcHVwXzIzZGI0MTFkMDVhZjQxZjY5NzkyOTAzNDBlODg4NmZlID0gTC5wb3B1cCh7bWF4V2lkdGg6ICczMDAnfSk7CgogICAgICAgICAgICAKICAgICAgICAgICAgICAgIHZhciBodG1sX2Y5NWQwMTE3NGNlOTQ0M2NhNjJhNDdhZDY1OWFkNjUzID0gJCgnPGRpdiBpZD0iaHRtbF9mOTVkMDExNzRjZTk0NDNjYTYyYTQ3YWQ2NTlhZDY1MyIgc3R5bGU9IndpZHRoOiAxMDAuMCU7IGhlaWdodDogMTAwLjAlOyI+TTNIPC9kaXY+JylbMF07CiAgICAgICAgICAgICAgICBwb3B1cF8yM2RiNDExZDA1YWY0MWY2OTc5MjkwMzQwZTg4ODZmZS5zZXRDb250ZW50KGh0bWxfZjk1ZDAxMTc0Y2U5NDQzY2E2MmE0N2FkNjU5YWQ2NTMpOwogICAgICAgICAgICAKCiAgICAgICAgICAgIGNpcmNsZV9tYXJrZXJfYmE2YTJhYjIwNTM5NDg5YmJkOGQxOTQzZDU1MmE1MTguYmluZFBvcHVwKHBvcHVwXzIzZGI0MTFkMDVhZjQxZjY5NzkyOTAzNDBlODg4NmZlKTsKCiAgICAgICAgICAgIAogICAgICAgIAogICAgCiAgICAgICAgICAgIHZhciBjaXJjbGVfbWFya2VyX2U2MWI4NDVlYjcwNjQ5MjU5OGU4MGViNmUzZWEwM2VmID0gTC5jaXJjbGVNYXJrZXIoCiAgICAgICAgICAgICAgICBbNDMuNzA1MzY4OSwtNzkuMzQ5MzcxOTAwMDAwMDFdLAogICAgICAgICAgICAgICAgewogICJidWJibGluZ01vdXNlRXZlbnRzIjogdHJ1ZSwKICAiY29sb3IiOiAiYmx1ZSIsCiAgImRhc2hBcnJheSI6IG51bGwsCiAgImRhc2hPZmZzZXQiOiBudWxsLAogICJmaWxsIjogdHJ1ZSwKICAiZmlsbENvbG9yIjogImJsdWUiLAogICJmaWxsT3BhY2l0eSI6IDAuNiwKICAiZmlsbFJ1bGUiOiAiZXZlbm9kZCIsCiAgImxpbmVDYXAiOiAicm91bmQiLAogICJsaW5lSm9pbiI6ICJyb3VuZCIsCiAgIm9wYWNpdHkiOiAxLjAsCiAgInJhZGl1cyI6IDUsCiAgInN0cm9rZSI6IHRydWUsCiAgIndlaWdodCI6IDMKfQogICAgICAgICAgICAgICAgKS5hZGRUbyhtYXBfMWUxZTdlNzU3ZTY0NDI0NDlmMWQyNTI4OGU0YWE0OTQpOwogICAgICAgICAgICAKICAgIAogICAgICAgICAgICB2YXIgcG9wdXBfM2I5ZGM0NzhiNDM2NGZjMGJmOTM1MmFiYTU0NDBkYWIgPSBMLnBvcHVwKHttYXhXaWR0aDogJzMwMCd9KTsKCiAgICAgICAgICAgIAogICAgICAgICAgICAgICAgdmFyIGh0bWxfMDdkMDgzYzM2NTRmNGViZjhiNGNjZjZlN2JkNDdlMDUgPSAkKCc8ZGl2IGlkPSJodG1sXzA3ZDA4M2MzNjU0ZjRlYmY4YjRjY2Y2ZTdiZDQ3ZTA1IiBzdHlsZT0id2lkdGg6IDEwMC4wJTsgaGVpZ2h0OiAxMDAuMCU7Ij5NNEg8L2Rpdj4nKVswXTsKICAgICAgICAgICAgICAgIHBvcHVwXzNiOWRjNDc4YjQzNjRmYzBiZjkzNTJhYmE1NDQwZGFiLnNldENvbnRlbnQoaHRtbF8wN2QwODNjMzY1NGY0ZWJmOGI0Y2NmNmU3YmQ0N2UwNSk7CiAgICAgICAgICAgIAoKICAgICAgICAgICAgY2lyY2xlX21hcmtlcl9lNjFiODQ1ZWI3MDY0OTI1OThlODBlYjZlM2VhMDNlZi5iaW5kUG9wdXAocG9wdXBfM2I5ZGM0NzhiNDM2NGZjMGJmOTM1MmFiYTU0NDBkYWIpOwoKICAgICAgICAgICAgCiAgICAgICAgCiAgICAKICAgICAgICAgICAgdmFyIGNpcmNsZV9tYXJrZXJfOWNmMmQwZDk2ZDI3NGY0NWJmNWZlYWUyZWEwYzRhN2UgPSBMLmNpcmNsZU1hcmtlcigKICAgICAgICAgICAgICAgIFs0My42NTA1NzEyMDAwMDAwMSwtNzkuMzg0NTY3NV0sCiAgICAgICAgICAgICAgICB7CiAgImJ1YmJsaW5nTW91c2VFdmVudHMiOiB0cnVlLAogICJjb2xvciI6ICJibHVlIiwKICAiZGFzaEFycmF5IjogbnVsbCwKICAiZGFzaE9mZnNldCI6IG51bGwsCiAgImZpbGwiOiB0cnVlLAogICJmaWxsQ29sb3IiOiAiYmx1ZSIsCiAgImZpbGxPcGFjaXR5IjogMC42LAogICJmaWxsUnVsZSI6ICJldmVub2RkIiwKICAibGluZUNhcCI6ICJyb3VuZCIsCiAgImxpbmVKb2luIjogInJvdW5kIiwKICAib3BhY2l0eSI6IDEuMCwKICAicmFkaXVzIjogNSwKICAic3Ryb2tlIjogdHJ1ZSwKICAid2VpZ2h0IjogMwp9CiAgICAgICAgICAgICAgICApLmFkZFRvKG1hcF8xZTFlN2U3NTdlNjQ0MjQ0OWYxZDI1Mjg4ZTRhYTQ5NCk7CiAgICAgICAgICAgIAogICAgCiAgICAgICAgICAgIHZhciBwb3B1cF9hYWNmZGRhNmZkZWY0Zjg5YmNmMTZlY2JlNzEzMzcyZiA9IEwucG9wdXAoe21heFdpZHRoOiAnMzAwJ30pOwoKICAgICAgICAgICAgCiAgICAgICAgICAgICAgICB2YXIgaHRtbF9mNmY1NDQ1NjNlMTE0NWUwODFlZTYzZTAxNjIzYzc3OCA9ICQoJzxkaXYgaWQ9Imh0bWxfZjZmNTQ0NTYzZTExNDVlMDgxZWU2M2UwMTYyM2M3NzgiIHN0eWxlPSJ3aWR0aDogMTAwLjAlOyBoZWlnaHQ6IDEwMC4wJTsiPk01SDwvZGl2PicpWzBdOwogICAgICAgICAgICAgICAgcG9wdXBfYWFjZmRkYTZmZGVmNGY4OWJjZjE2ZWNiZTcxMzM3MmYuc2V0Q29udGVudChodG1sX2Y2ZjU0NDU2M2UxMTQ1ZTA4MWVlNjNlMDE2MjNjNzc4KTsKICAgICAgICAgICAgCgogICAgICAgICAgICBjaXJjbGVfbWFya2VyXzljZjJkMGQ5NmQyNzRmNDViZjVmZWFlMmVhMGM0YTdlLmJpbmRQb3B1cChwb3B1cF9hYWNmZGRhNmZkZWY0Zjg5YmNmMTZlY2JlNzEzMzcyZik7CgogICAgICAgICAgICAKICAgICAgICAKICAgIAogICAgICAgICAgICB2YXIgY2lyY2xlX21hcmtlcl81Y2JlMTA1ZmQ3MzE0NDFmYWUxYWYwODEwNmYyNzM5YyA9IEwuY2lyY2xlTWFya2VyKAogICAgICAgICAgICAgICAgWzQzLjY2OTAwNTEwMDAwMDAxLC03OS40NDIyNTkzXSwKICAgICAgICAgICAgICAgIHsKICAiYnViYmxpbmdNb3VzZUV2ZW50cyI6IHRydWUsCiAgImNvbG9yIjogImJsdWUiLAogICJkYXNoQXJyYXkiOiBudWxsLAogICJkYXNoT2Zmc2V0IjogbnVsbCwKICAiZmlsbCI6IHRydWUsCiAgImZpbGxDb2xvciI6ICJibHVlIiwKICAiZmlsbE9wYWNpdHkiOiAwLjYsCiAgImZpbGxSdWxlIjogImV2ZW5vZGQiLAogICJsaW5lQ2FwIjogInJvdW5kIiwKICAibGluZUpvaW4iOiAicm91bmQiLAogICJvcGFjaXR5IjogMS4wLAogICJyYWRpdXMiOiA1LAogICJzdHJva2UiOiB0cnVlLAogICJ3ZWlnaHQiOiAzCn0KICAgICAgICAgICAgICAgICkuYWRkVG8obWFwXzFlMWU3ZTc1N2U2NDQyNDQ5ZjFkMjUyODhlNGFhNDk0KTsKICAgICAgICAgICAgCiAgICAKICAgICAgICAgICAgdmFyIHBvcHVwXzliYzFlYjQwODYyMDRlNTU4MDc4NWU4MDk4NTE4Zjg5ID0gTC5wb3B1cCh7bWF4V2lkdGg6ICczMDAnfSk7CgogICAgICAgICAgICAKICAgICAgICAgICAgICAgIHZhciBodG1sX2JmMjgxMjI4NDQ1MDQ2YzJiZGM0NzNiYjM3MTdhMDVlID0gJCgnPGRpdiBpZD0iaHRtbF9iZjI4MTIyODQ0NTA0NmMyYmRjNDczYmIzNzE3YTA1ZSIgc3R5bGU9IndpZHRoOiAxMDAuMCU7IGhlaWdodDogMTAwLjAlOyI+TTZIPC9kaXY+JylbMF07CiAgICAgICAgICAgICAgICBwb3B1cF85YmMxZWI0MDg2MjA0ZTU1ODA3ODVlODA5ODUxOGY4OS5zZXRDb250ZW50KGh0bWxfYmYyODEyMjg0NDUwNDZjMmJkYzQ3M2JiMzcxN2EwNWUpOwogICAgICAgICAgICAKCiAgICAgICAgICAgIGNpcmNsZV9tYXJrZXJfNWNiZTEwNWZkNzMxNDQxZmFlMWFmMDgxMDZmMjczOWMuYmluZFBvcHVwKHBvcHVwXzliYzFlYjQwODYyMDRlNTU4MDc4NWU4MDk4NTE4Zjg5KTsKCiAgICAgICAgICAgIAogICAgICAgIAogICAgCiAgICAgICAgICAgIHZhciBjaXJjbGVfbWFya2VyX2YxYWEyN2M1OGUxYzQxZTFiN2M2ZTZjYTlkNmRiYTNhID0gTC5jaXJjbGVNYXJrZXIoCiAgICAgICAgICAgICAgICBbNDMuNzQ0NzM0MiwtNzkuMjM5NDc2MDk5OTk5OTldLAogICAgICAgICAgICAgICAgewogICJidWJibGluZ01vdXNlRXZlbnRzIjogdHJ1ZSwKICAiY29sb3IiOiAiYmx1ZSIsCiAgImRhc2hBcnJheSI6IG51bGwsCiAgImRhc2hPZmZzZXQiOiBudWxsLAogICJmaWxsIjogdHJ1ZSwKICAiZmlsbENvbG9yIjogImJsdWUiLAogICJmaWxsT3BhY2l0eSI6IDAuNiwKICAiZmlsbFJ1bGUiOiAiZXZlbm9kZCIsCiAgImxpbmVDYXAiOiAicm91bmQiLAogICJsaW5lSm9pbiI6ICJyb3VuZCIsCiAgIm9wYWNpdHkiOiAxLjAsCiAgInJhZGl1cyI6IDUsCiAgInN0cm9rZSI6IHRydWUsCiAgIndlaWdodCI6IDMKfQogICAgICAgICAgICAgICAgKS5hZGRUbyhtYXBfMWUxZTdlNzU3ZTY0NDI0NDlmMWQyNTI4OGU0YWE0OTQpOwogICAgICAgICAgICAKICAgIAogICAgICAgICAgICB2YXIgcG9wdXBfMzIzZDU4MzFjNjg5NDRkNThiZmViNTkzNTU0MmEzM2MgPSBMLnBvcHVwKHttYXhXaWR0aDogJzMwMCd9KTsKCiAgICAgICAgICAgIAogICAgICAgICAgICAgICAgdmFyIGh0bWxfMzc0NDJiYWFhMzBkNDRiZjhiMjkyMGUwZTdhY2IwNmMgPSAkKCc8ZGl2IGlkPSJodG1sXzM3NDQyYmFhYTMwZDQ0YmY4YjI5MjBlMGU3YWNiMDZjIiBzdHlsZT0id2lkdGg6IDEwMC4wJTsgaGVpZ2h0OiAxMDAuMCU7Ij5NMUo8L2Rpdj4nKVswXTsKICAgICAgICAgICAgICAgIHBvcHVwXzMyM2Q1ODMxYzY4OTQ0ZDU4YmZlYjU5MzU1NDJhMzNjLnNldENvbnRlbnQoaHRtbF8zNzQ0MmJhYWEzMGQ0NGJmOGIyOTIwZTBlN2FjYjA2Yyk7CiAgICAgICAgICAgIAoKICAgICAgICAgICAgY2lyY2xlX21hcmtlcl9mMWFhMjdjNThlMWM0MWUxYjdjNmU2Y2E5ZDZkYmEzYS5iaW5kUG9wdXAocG9wdXBfMzIzZDU4MzFjNjg5NDRkNThiZmViNTkzNTU0MmEzM2MpOwoKICAgICAgICAgICAgCiAgICAgICAgCiAgICAKICAgICAgICAgICAgdmFyIGNpcmNsZV9tYXJrZXJfN2E1Mjc0N2RiMDQ1NDcwOGI0MmFkMDBmZDBiY2NhZmUgPSBMLmNpcmNsZU1hcmtlcigKICAgICAgICAgICAgICAgIFs0My43Nzg1MTc1LC03OS4zNDY1NTU3XSwKICAgICAgICAgICAgICAgIHsKICAiYnViYmxpbmdNb3VzZUV2ZW50cyI6IHRydWUsCiAgImNvbG9yIjogImJsdWUiLAogICJkYXNoQXJyYXkiOiBudWxsLAogICJkYXNoT2Zmc2V0IjogbnVsbCwKICAiZmlsbCI6IHRydWUsCiAgImZpbGxDb2xvciI6ICJibHVlIiwKICAiZmlsbE9wYWNpdHkiOiAwLjYsCiAgImZpbGxSdWxlIjogImV2ZW5vZGQiLAogICJsaW5lQ2FwIjogInJvdW5kIiwKICAibGluZUpvaW4iOiAicm91bmQiLAogICJvcGFjaXR5IjogMS4wLAogICJyYWRpdXMiOiA1LAogICJzdHJva2UiOiB0cnVlLAogICJ3ZWlnaHQiOiAzCn0KICAgICAgICAgICAgICAgICkuYWRkVG8obWFwXzFlMWU3ZTc1N2U2NDQyNDQ5ZjFkMjUyODhlNGFhNDk0KTsKICAgICAgICAgICAgCiAgICAKICAgICAgICAgICAgdmFyIHBvcHVwXzIxYzJlZGE0ZjEzZTRjYWFiZDRjOTI0ZGY0ZGQxOTBjID0gTC5wb3B1cCh7bWF4V2lkdGg6ICczMDAnfSk7CgogICAgICAgICAgICAKICAgICAgICAgICAgICAgIHZhciBodG1sX2E0NGQ0ZjIyNGRjMDRkMTA4OTNiYWZiMzcxZDBkODUwID0gJCgnPGRpdiBpZD0iaHRtbF9hNDRkNGYyMjRkYzA0ZDEwODkzYmFmYjM3MWQwZDg1MCIgc3R5bGU9IndpZHRoOiAxMDAuMCU7IGhlaWdodDogMTAwLjAlOyI+TTJKPC9kaXY+JylbMF07CiAgICAgICAgICAgICAgICBwb3B1cF8yMWMyZWRhNGYxM2U0Y2FhYmQ0YzkyNGRmNGRkMTkwYy5zZXRDb250ZW50KGh0bWxfYTQ0ZDRmMjI0ZGMwNGQxMDg5M2JhZmIzNzFkMGQ4NTApOwogICAgICAgICAgICAKCiAgICAgICAgICAgIGNpcmNsZV9tYXJrZXJfN2E1Mjc0N2RiMDQ1NDcwOGI0MmFkMDBmZDBiY2NhZmUuYmluZFBvcHVwKHBvcHVwXzIxYzJlZGE0ZjEzZTRjYWFiZDRjOTI0ZGY0ZGQxOTBjKTsKCiAgICAgICAgICAgIAogICAgICAgIAogICAgCiAgICAgICAgICAgIHZhciBjaXJjbGVfbWFya2VyX2E0MzdmMWQ2MDA1OTQwMDg5YWQxY2QxNjgwMzVlNjc2ID0gTC5jaXJjbGVNYXJrZXIoCiAgICAgICAgICAgICAgICBbNDMuNzY3OTgwMywtNzkuNDg3MjYxOTAwMDAwMDFdLAogICAgICAgICAgICAgICAgewogICJidWJibGluZ01vdXNlRXZlbnRzIjogdHJ1ZSwKICAiY29sb3IiOiAiYmx1ZSIsCiAgImRhc2hBcnJheSI6IG51bGwsCiAgImRhc2hPZmZzZXQiOiBudWxsLAogICJmaWxsIjogdHJ1ZSwKICAiZmlsbENvbG9yIjogImJsdWUiLAogICJmaWxsT3BhY2l0eSI6IDAuNiwKICAiZmlsbFJ1bGUiOiAiZXZlbm9kZCIsCiAgImxpbmVDYXAiOiAicm91bmQiLAogICJsaW5lSm9pbiI6ICJyb3VuZCIsCiAgIm9wYWNpdHkiOiAxLjAsCiAgInJhZGl1cyI6IDUsCiAgInN0cm9rZSI6IHRydWUsCiAgIndlaWdodCI6IDMKfQogICAgICAgICAgICAgICAgKS5hZGRUbyhtYXBfMWUxZTdlNzU3ZTY0NDI0NDlmMWQyNTI4OGU0YWE0OTQpOwogICAgICAgICAgICAKICAgIAogICAgICAgICAgICB2YXIgcG9wdXBfODhmZTBkZDAxNjliNDc0MDgyMzgxMWVkNTgyNjIyYzQgPSBMLnBvcHVwKHttYXhXaWR0aDogJzMwMCd9KTsKCiAgICAgICAgICAgIAogICAgICAgICAgICAgICAgdmFyIGh0bWxfNTdjZDBhZDQ0MGQ3NDBmY2JkMzY1NDY1ZTM0ZjRhOGYgPSAkKCc8ZGl2IGlkPSJodG1sXzU3Y2QwYWQ0NDBkNzQwZmNiZDM2NTQ2NWUzNGY0YThmIiBzdHlsZT0id2lkdGg6IDEwMC4wJTsgaGVpZ2h0OiAxMDAuMCU7Ij5NM0o8L2Rpdj4nKVswXTsKICAgICAgICAgICAgICAgIHBvcHVwXzg4ZmUwZGQwMTY5YjQ3NDA4MjM4MTFlZDU4MjYyMmM0LnNldENvbnRlbnQoaHRtbF81N2NkMGFkNDQwZDc0MGZjYmQzNjU0NjVlMzRmNGE4Zik7CiAgICAgICAgICAgIAoKICAgICAgICAgICAgY2lyY2xlX21hcmtlcl9hNDM3ZjFkNjAwNTk0MDA4OWFkMWNkMTY4MDM1ZTY3Ni5iaW5kUG9wdXAocG9wdXBfODhmZTBkZDAxNjliNDc0MDgyMzgxMWVkNTgyNjIyYzQpOwoKICAgICAgICAgICAgCiAgICAgICAgCiAgICAKICAgICAgICAgICAgdmFyIGNpcmNsZV9tYXJrZXJfNmUzY2U3OWY5NWI5NDUyNjliZTc0MjZjOWNjNjM0OGMgPSBMLmNpcmNsZU1hcmtlcigKICAgICAgICAgICAgICAgIFs0My42ODUzNDcsLTc5LjMzODEwNjVdLAogICAgICAgICAgICAgICAgewogICJidWJibGluZ01vdXNlRXZlbnRzIjogdHJ1ZSwKICAiY29sb3IiOiAiYmx1ZSIsCiAgImRhc2hBcnJheSI6IG51bGwsCiAgImRhc2hPZmZzZXQiOiBudWxsLAogICJmaWxsIjogdHJ1ZSwKICAiZmlsbENvbG9yIjogImJsdWUiLAogICJmaWxsT3BhY2l0eSI6IDAuNiwKICAiZmlsbFJ1bGUiOiAiZXZlbm9kZCIsCiAgImxpbmVDYXAiOiAicm91bmQiLAogICJsaW5lSm9pbiI6ICJyb3VuZCIsCiAgIm9wYWNpdHkiOiAxLjAsCiAgInJhZGl1cyI6IDUsCiAgInN0cm9rZSI6IHRydWUsCiAgIndlaWdodCI6IDMKfQogICAgICAgICAgICAgICAgKS5hZGRUbyhtYXBfMWUxZTdlNzU3ZTY0NDI0NDlmMWQyNTI4OGU0YWE0OTQpOwogICAgICAgICAgICAKICAgIAogICAgICAgICAgICB2YXIgcG9wdXBfYmRhODI2NzRhYWE0NGRhYWFjZGQyZWY5NmFjN2FiZGIgPSBMLnBvcHVwKHttYXhXaWR0aDogJzMwMCd9KTsKCiAgICAgICAgICAgIAogICAgICAgICAgICAgICAgdmFyIGh0bWxfNjFiNWUzYWFmMzBiNGMyZmE5ODk4YjQwMTg0NTBmOTMgPSAkKCc8ZGl2IGlkPSJodG1sXzYxYjVlM2FhZjMwYjRjMmZhOTg5OGI0MDE4NDUwZjkzIiBzdHlsZT0id2lkdGg6IDEwMC4wJTsgaGVpZ2h0OiAxMDAuMCU7Ij5NNEo8L2Rpdj4nKVswXTsKICAgICAgICAgICAgICAgIHBvcHVwX2JkYTgyNjc0YWFhNDRkYWFhY2RkMmVmOTZhYzdhYmRiLnNldENvbnRlbnQoaHRtbF82MWI1ZTNhYWYzMGI0YzJmYTk4OThiNDAxODQ1MGY5Myk7CiAgICAgICAgICAgIAoKICAgICAgICAgICAgY2lyY2xlX21hcmtlcl82ZTNjZTc5Zjk1Yjk0NTI2OWJlNzQyNmM5Y2M2MzQ4Yy5iaW5kUG9wdXAocG9wdXBfYmRhODI2NzRhYWE0NGRhYWFjZGQyZWY5NmFjN2FiZGIpOwoKICAgICAgICAgICAgCiAgICAgICAgCiAgICAKICAgICAgICAgICAgdmFyIGNpcmNsZV9tYXJrZXJfYmQzNGI3Yjg5OGUzNDAwNWE3NTc1ODk0NmE5ZDI0MDcgPSBMLmNpcmNsZU1hcmtlcigKICAgICAgICAgICAgICAgIFs0My42NDA4MTU3LC03OS4zODE3NTIyOTk5OTk5OV0sCiAgICAgICAgICAgICAgICB7CiAgImJ1YmJsaW5nTW91c2VFdmVudHMiOiB0cnVlLAogICJjb2xvciI6ICJibHVlIiwKICAiZGFzaEFycmF5IjogbnVsbCwKICAiZGFzaE9mZnNldCI6IG51bGwsCiAgImZpbGwiOiB0cnVlLAogICJmaWxsQ29sb3IiOiAiYmx1ZSIsCiAgImZpbGxPcGFjaXR5IjogMC42LAogICJmaWxsUnVsZSI6ICJldmVub2RkIiwKICAibGluZUNhcCI6ICJyb3VuZCIsCiAgImxpbmVKb2luIjogInJvdW5kIiwKICAib3BhY2l0eSI6IDEuMCwKICAicmFkaXVzIjogNSwKICAic3Ryb2tlIjogdHJ1ZSwKICAid2VpZ2h0IjogMwp9CiAgICAgICAgICAgICAgICApLmFkZFRvKG1hcF8xZTFlN2U3NTdlNjQ0MjQ0OWYxZDI1Mjg4ZTRhYTQ5NCk7CiAgICAgICAgICAgIAogICAgCiAgICAgICAgICAgIHZhciBwb3B1cF82ZDUzMDVlN2UwMWM0NzJjOWZmZjc5ZWQzNWI3NTJmMyA9IEwucG9wdXAoe21heFdpZHRoOiAnMzAwJ30pOwoKICAgICAgICAgICAgCiAgICAgICAgICAgICAgICB2YXIgaHRtbF9iMzQwZTk0YzAwMDE0MDM3ODQyNzE4MGQyMzRjNjRmNyA9ICQoJzxkaXYgaWQ9Imh0bWxfYjM0MGU5NGMwMDAxNDAzNzg0MjcxODBkMjM0YzY0ZjciIHN0eWxlPSJ3aWR0aDogMTAwLjAlOyBoZWlnaHQ6IDEwMC4wJTsiPk01SjwvZGl2PicpWzBdOwogICAgICAgICAgICAgICAgcG9wdXBfNmQ1MzA1ZTdlMDFjNDcyYzlmZmY3OWVkMzViNzUyZjMuc2V0Q29udGVudChodG1sX2IzNDBlOTRjMDAwMTQwMzc4NDI3MTgwZDIzNGM2NGY3KTsKICAgICAgICAgICAgCgogICAgICAgICAgICBjaXJjbGVfbWFya2VyX2JkMzRiN2I4OThlMzQwMDVhNzU3NTg5NDZhOWQyNDA3LmJpbmRQb3B1cChwb3B1cF82ZDUzMDVlN2UwMWM0NzJjOWZmZjc5ZWQzNWI3NTJmMyk7CgogICAgICAgICAgICAKICAgICAgICAKICAgIAogICAgICAgICAgICB2YXIgY2lyY2xlX21hcmtlcl8zNzM1YzM2YjQzNmM0NDUwODZjMDRiZTdiYzBkNGRlYSA9IEwuY2lyY2xlTWFya2VyKAogICAgICAgICAgICAgICAgWzQzLjY0NzkyNjcwMDAwMDAwNiwtNzkuNDE5NzQ5N10sCiAgICAgICAgICAgICAgICB7CiAgImJ1YmJsaW5nTW91c2VFdmVudHMiOiB0cnVlLAogICJjb2xvciI6ICJibHVlIiwKICAiZGFzaEFycmF5IjogbnVsbCwKICAiZGFzaE9mZnNldCI6IG51bGwsCiAgImZpbGwiOiB0cnVlLAogICJmaWxsQ29sb3IiOiAiYmx1ZSIsCiAgImZpbGxPcGFjaXR5IjogMC42LAogICJmaWxsUnVsZSI6ICJldmVub2RkIiwKICAibGluZUNhcCI6ICJyb3VuZCIsCiAgImxpbmVKb2luIjogInJvdW5kIiwKICAib3BhY2l0eSI6IDEuMCwKICAicmFkaXVzIjogNSwKICAic3Ryb2tlIjogdHJ1ZSwKICAid2VpZ2h0IjogMwp9CiAgICAgICAgICAgICAgICApLmFkZFRvKG1hcF8xZTFlN2U3NTdlNjQ0MjQ0OWYxZDI1Mjg4ZTRhYTQ5NCk7CiAgICAgICAgICAgIAogICAgCiAgICAgICAgICAgIHZhciBwb3B1cF9iYjVmNWYxOGFlZmM0ZmUyODUxMmU5YmRmNWMxMGJkNSA9IEwucG9wdXAoe21heFdpZHRoOiAnMzAwJ30pOwoKICAgICAgICAgICAgCiAgICAgICAgICAgICAgICB2YXIgaHRtbF9lOWRjMTYxMDRkYzg0OWU1OWNhZjVlNWU4NGZjZjk0MiA9ICQoJzxkaXYgaWQ9Imh0bWxfZTlkYzE2MTA0ZGM4NDllNTljYWY1ZTVlODRmY2Y5NDIiIHN0eWxlPSJ3aWR0aDogMTAwLjAlOyBoZWlnaHQ6IDEwMC4wJTsiPk02SjwvZGl2PicpWzBdOwogICAgICAgICAgICAgICAgcG9wdXBfYmI1ZjVmMThhZWZjNGZlMjg1MTJlOWJkZjVjMTBiZDUuc2V0Q29udGVudChodG1sX2U5ZGMxNjEwNGRjODQ5ZTU5Y2FmNWU1ZTg0ZmNmOTQyKTsKICAgICAgICAgICAgCgogICAgICAgICAgICBjaXJjbGVfbWFya2VyXzM3MzVjMzZiNDM2YzQ0NTA4NmMwNGJlN2JjMGQ0ZGVhLmJpbmRQb3B1cChwb3B1cF9iYjVmNWYxOGFlZmM0ZmUyODUxMmU5YmRmNWMxMGJkNSk7CgogICAgICAgICAgICAKICAgICAgICAKICAgIAogICAgICAgICAgICB2YXIgY2lyY2xlX21hcmtlcl80MWM2NmU2NTNmNjE0NzMxYWI0N2EyNjQ3N2IzNjdhYyA9IEwuY2lyY2xlTWFya2VyKAogICAgICAgICAgICAgICAgWzQzLjcyNzkyOTIsLTc5LjI2MjAyOTQwMDAwMDAyXSwKICAgICAgICAgICAgICAgIHsKICAiYnViYmxpbmdNb3VzZUV2ZW50cyI6IHRydWUsCiAgImNvbG9yIjogImJsdWUiLAogICJkYXNoQXJyYXkiOiBudWxsLAogICJkYXNoT2Zmc2V0IjogbnVsbCwKICAiZmlsbCI6IHRydWUsCiAgImZpbGxDb2xvciI6ICJibHVlIiwKICAiZmlsbE9wYWNpdHkiOiAwLjYsCiAgImZpbGxSdWxlIjogImV2ZW5vZGQiLAogICJsaW5lQ2FwIjogInJvdW5kIiwKICAibGluZUpvaW4iOiAicm91bmQiLAogICJvcGFjaXR5IjogMS4wLAogICJyYWRpdXMiOiA1LAogICJzdHJva2UiOiB0cnVlLAogICJ3ZWlnaHQiOiAzCn0KICAgICAgICAgICAgICAgICkuYWRkVG8obWFwXzFlMWU3ZTc1N2U2NDQyNDQ5ZjFkMjUyODhlNGFhNDk0KTsKICAgICAgICAgICAgCiAgICAKICAgICAgICAgICAgdmFyIHBvcHVwXzk0YzgzYzMzZWQyMzQ0MmRiNDU3ODE3ZDllYTNmNTI1ID0gTC5wb3B1cCh7bWF4V2lkdGg6ICczMDAnfSk7CgogICAgICAgICAgICAKICAgICAgICAgICAgICAgIHZhciBodG1sX2I3YjJiYjE4YzAxYTQ4Yjg4YWExYzExZjU5YzBlNDdhID0gJCgnPGRpdiBpZD0iaHRtbF9iN2IyYmIxOGMwMWE0OGI4OGFhMWMxMWY1OWMwZTQ3YSIgc3R5bGU9IndpZHRoOiAxMDAuMCU7IGhlaWdodDogMTAwLjAlOyI+TTFLPC9kaXY+JylbMF07CiAgICAgICAgICAgICAgICBwb3B1cF85NGM4M2MzM2VkMjM0NDJkYjQ1NzgxN2Q5ZWEzZjUyNS5zZXRDb250ZW50KGh0bWxfYjdiMmJiMThjMDFhNDhiODhhYTFjMTFmNTljMGU0N2EpOwogICAgICAgICAgICAKCiAgICAgICAgICAgIGNpcmNsZV9tYXJrZXJfNDFjNjZlNjUzZjYxNDczMWFiNDdhMjY0NzdiMzY3YWMuYmluZFBvcHVwKHBvcHVwXzk0YzgzYzMzZWQyMzQ0MmRiNDU3ODE3ZDllYTNmNTI1KTsKCiAgICAgICAgICAgIAogICAgICAgIAogICAgCiAgICAgICAgICAgIHZhciBjaXJjbGVfbWFya2VyX2VjODYyZDlkZTMxOTRkODY4NjUxNjU0NjcxYTAxOGQ3ID0gTC5jaXJjbGVNYXJrZXIoCiAgICAgICAgICAgICAgICBbNDMuNzg2OTQ3MywtNzkuMzg1OTc1XSwKICAgICAgICAgICAgICAgIHsKICAiYnViYmxpbmdNb3VzZUV2ZW50cyI6IHRydWUsCiAgImNvbG9yIjogImJsdWUiLAogICJkYXNoQXJyYXkiOiBudWxsLAogICJkYXNoT2Zmc2V0IjogbnVsbCwKICAiZmlsbCI6IHRydWUsCiAgImZpbGxDb2xvciI6ICJibHVlIiwKICAiZmlsbE9wYWNpdHkiOiAwLjYsCiAgImZpbGxSdWxlIjogImV2ZW5vZGQiLAogICJsaW5lQ2FwIjogInJvdW5kIiwKICAibGluZUpvaW4iOiAicm91bmQiLAogICJvcGFjaXR5IjogMS4wLAogICJyYWRpdXMiOiA1LAogICJzdHJva2UiOiB0cnVlLAogICJ3ZWlnaHQiOiAzCn0KICAgICAgICAgICAgICAgICkuYWRkVG8obWFwXzFlMWU3ZTc1N2U2NDQyNDQ5ZjFkMjUyODhlNGFhNDk0KTsKICAgICAgICAgICAgCiAgICAKICAgICAgICAgICAgdmFyIHBvcHVwXzdkYWM1ZDMzNDkwNTQ1OGU4ZWVlMmVlOGQ0ODY0YTIwID0gTC5wb3B1cCh7bWF4V2lkdGg6ICczMDAnfSk7CgogICAgICAgICAgICAKICAgICAgICAgICAgICAgIHZhciBodG1sX2Y1ODU5MzA2NzhmODQ4MDI5YmU0MGNhYmQ1ZTk1MTFiID0gJCgnPGRpdiBpZD0iaHRtbF9mNTg1OTMwNjc4Zjg0ODAyOWJlNDBjYWJkNWU5NTExYiIgc3R5bGU9IndpZHRoOiAxMDAuMCU7IGhlaWdodDogMTAwLjAlOyI+TTJLPC9kaXY+JylbMF07CiAgICAgICAgICAgICAgICBwb3B1cF83ZGFjNWQzMzQ5MDU0NThlOGVlZTJlZThkNDg2NGEyMC5zZXRDb250ZW50KGh0bWxfZjU4NTkzMDY3OGY4NDgwMjliZTQwY2FiZDVlOTUxMWIpOwogICAgICAgICAgICAKCiAgICAgICAgICAgIGNpcmNsZV9tYXJrZXJfZWM4NjJkOWRlMzE5NGQ4Njg2NTE2NTQ2NzFhMDE4ZDcuYmluZFBvcHVwKHBvcHVwXzdkYWM1ZDMzNDkwNTQ1OGU4ZWVlMmVlOGQ0ODY0YTIwKTsKCiAgICAgICAgICAgIAogICAgICAgIAogICAgCiAgICAgICAgICAgIHZhciBjaXJjbGVfbWFya2VyXzU4MmVkNmU4OWU5ZDRhMDg4MmFlOGVhMWE3YzViMmM1ID0gTC5jaXJjbGVNYXJrZXIoCiAgICAgICAgICAgICAgICBbNDMuNzM3NDczMjAwMDAwMDA0LC03OS40NjQ3NjMyOTk5OTk5OV0sCiAgICAgICAgICAgICAgICB7CiAgImJ1YmJsaW5nTW91c2VFdmVudHMiOiB0cnVlLAogICJjb2xvciI6ICJibHVlIiwKICAiZGFzaEFycmF5IjogbnVsbCwKICAiZGFzaE9mZnNldCI6IG51bGwsCiAgImZpbGwiOiB0cnVlLAogICJmaWxsQ29sb3IiOiAiYmx1ZSIsCiAgImZpbGxPcGFjaXR5IjogMC42LAogICJmaWxsUnVsZSI6ICJldmVub2RkIiwKICAibGluZUNhcCI6ICJyb3VuZCIsCiAgImxpbmVKb2luIjogInJvdW5kIiwKICAib3BhY2l0eSI6IDEuMCwKICAicmFkaXVzIjogNSwKICAic3Ryb2tlIjogdHJ1ZSwKICAid2VpZ2h0IjogMwp9CiAgICAgICAgICAgICAgICApLmFkZFRvKG1hcF8xZTFlN2U3NTdlNjQ0MjQ0OWYxZDI1Mjg4ZTRhYTQ5NCk7CiAgICAgICAgICAgIAogICAgCiAgICAgICAgICAgIHZhciBwb3B1cF80MmQxNWJlZTUwYjc0ZWM2YTRhOWZmYzIwYWJjOGNmMiA9IEwucG9wdXAoe21heFdpZHRoOiAnMzAwJ30pOwoKICAgICAgICAgICAgCiAgICAgICAgICAgICAgICB2YXIgaHRtbF9hMWMzYTJmMjJjNDI0NDliODYwMjUyODBmNDg2OTVmMSA9ICQoJzxkaXYgaWQ9Imh0bWxfYTFjM2EyZjIyYzQyNDQ5Yjg2MDI1MjgwZjQ4Njk1ZjEiIHN0eWxlPSJ3aWR0aDogMTAwLjAlOyBoZWlnaHQ6IDEwMC4wJTsiPk0zSzwvZGl2PicpWzBdOwogICAgICAgICAgICAgICAgcG9wdXBfNDJkMTViZWU1MGI3NGVjNmE0YTlmZmMyMGFiYzhjZjIuc2V0Q29udGVudChodG1sX2ExYzNhMmYyMmM0MjQ0OWI4NjAyNTI4MGY0ODY5NWYxKTsKICAgICAgICAgICAgCgogICAgICAgICAgICBjaXJjbGVfbWFya2VyXzU4MmVkNmU4OWU5ZDRhMDg4MmFlOGVhMWE3YzViMmM1LmJpbmRQb3B1cChwb3B1cF80MmQxNWJlZTUwYjc0ZWM2YTRhOWZmYzIwYWJjOGNmMik7CgogICAgICAgICAgICAKICAgICAgICAKICAgIAogICAgICAgICAgICB2YXIgY2lyY2xlX21hcmtlcl9mZTZlOWMzMGQ1YWI0MjkxODQzYmJlYTY0NWQzMjBmNiA9IEwuY2lyY2xlTWFya2VyKAogICAgICAgICAgICAgICAgWzQzLjY3OTU1NzEsLTc5LjM1MjE4OF0sCiAgICAgICAgICAgICAgICB7CiAgImJ1YmJsaW5nTW91c2VFdmVudHMiOiB0cnVlLAogICJjb2xvciI6ICJibHVlIiwKICAiZGFzaEFycmF5IjogbnVsbCwKICAiZGFzaE9mZnNldCI6IG51bGwsCiAgImZpbGwiOiB0cnVlLAogICJmaWxsQ29sb3IiOiAiYmx1ZSIsCiAgImZpbGxPcGFjaXR5IjogMC42LAogICJmaWxsUnVsZSI6ICJldmVub2RkIiwKICAibGluZUNhcCI6ICJyb3VuZCIsCiAgImxpbmVKb2luIjogInJvdW5kIiwKICAib3BhY2l0eSI6IDEuMCwKICAicmFkaXVzIjogNSwKICAic3Ryb2tlIjogdHJ1ZSwKICAid2VpZ2h0IjogMwp9CiAgICAgICAgICAgICAgICApLmFkZFRvKG1hcF8xZTFlN2U3NTdlNjQ0MjQ0OWYxZDI1Mjg4ZTRhYTQ5NCk7CiAgICAgICAgICAgIAogICAgCiAgICAgICAgICAgIHZhciBwb3B1cF82YmVhMWRlMTA2ZTI0YThlOGQ3NWFhMGRjNmQ5MWY0NCA9IEwucG9wdXAoe21heFdpZHRoOiAnMzAwJ30pOwoKICAgICAgICAgICAgCiAgICAgICAgICAgICAgICB2YXIgaHRtbF8yYTgwNjNhMjlkZGE0NjIxYmU4ZWYyZmY1NTc2ZTI5OCA9ICQoJzxkaXYgaWQ9Imh0bWxfMmE4MDYzYTI5ZGRhNDYyMWJlOGVmMmZmNTU3NmUyOTgiIHN0eWxlPSJ3aWR0aDogMTAwLjAlOyBoZWlnaHQ6IDEwMC4wJTsiPk00SzwvZGl2PicpWzBdOwogICAgICAgICAgICAgICAgcG9wdXBfNmJlYTFkZTEwNmUyNGE4ZThkNzVhYTBkYzZkOTFmNDQuc2V0Q29udGVudChodG1sXzJhODA2M2EyOWRkYTQ2MjFiZThlZjJmZjU1NzZlMjk4KTsKICAgICAgICAgICAgCgogICAgICAgICAgICBjaXJjbGVfbWFya2VyX2ZlNmU5YzMwZDVhYjQyOTE4NDNiYmVhNjQ1ZDMyMGY2LmJpbmRQb3B1cChwb3B1cF82YmVhMWRlMTA2ZTI0YThlOGQ3NWFhMGRjNmQ5MWY0NCk7CgogICAgICAgICAgICAKICAgICAgICAKICAgIAogICAgICAgICAgICB2YXIgY2lyY2xlX21hcmtlcl9iOTMyYTRmM2E4NWI0ZjAwYmM0ZThhMjRlMjk3YmNjNiA9IEwuY2lyY2xlTWFya2VyKAogICAgICAgICAgICAgICAgWzQzLjY0NzE3NjgsLTc5LjM4MTU3NjQwMDAwMDAxXSwKICAgICAgICAgICAgICAgIHsKICAiYnViYmxpbmdNb3VzZUV2ZW50cyI6IHRydWUsCiAgImNvbG9yIjogImJsdWUiLAogICJkYXNoQXJyYXkiOiBudWxsLAogICJkYXNoT2Zmc2V0IjogbnVsbCwKICAiZmlsbCI6IHRydWUsCiAgImZpbGxDb2xvciI6ICJibHVlIiwKICAiZmlsbE9wYWNpdHkiOiAwLjYsCiAgImZpbGxSdWxlIjogImV2ZW5vZGQiLAogICJsaW5lQ2FwIjogInJvdW5kIiwKICAibGluZUpvaW4iOiAicm91bmQiLAogICJvcGFjaXR5IjogMS4wLAogICJyYWRpdXMiOiA1LAogICJzdHJva2UiOiB0cnVlLAogICJ3ZWlnaHQiOiAzCn0KICAgICAgICAgICAgICAgICkuYWRkVG8obWFwXzFlMWU3ZTc1N2U2NDQyNDQ5ZjFkMjUyODhlNGFhNDk0KTsKICAgICAgICAgICAgCiAgICAKICAgICAgICAgICAgdmFyIHBvcHVwXzJiZTM4Nzk1ODgwNTQ2YjQ4NTQwYTczNDE5MjVkYzRiID0gTC5wb3B1cCh7bWF4V2lkdGg6ICczMDAnfSk7CgogICAgICAgICAgICAKICAgICAgICAgICAgICAgIHZhciBodG1sXzYxZDlhMGY2ZDk1ODRkZDZhZjdkYjY1ZTE5ODFkYjVlID0gJCgnPGRpdiBpZD0iaHRtbF82MWQ5YTBmNmQ5NTg0ZGQ2YWY3ZGI2NWUxOTgxZGI1ZSIgc3R5bGU9IndpZHRoOiAxMDAuMCU7IGhlaWdodDogMTAwLjAlOyI+TTVLPC9kaXY+JylbMF07CiAgICAgICAgICAgICAgICBwb3B1cF8yYmUzODc5NTg4MDU0NmI0ODU0MGE3MzQxOTI1ZGM0Yi5zZXRDb250ZW50KGh0bWxfNjFkOWEwZjZkOTU4NGRkNmFmN2RiNjVlMTk4MWRiNWUpOwogICAgICAgICAgICAKCiAgICAgICAgICAgIGNpcmNsZV9tYXJrZXJfYjkzMmE0ZjNhODViNGYwMGJjNGU4YTI0ZTI5N2JjYzYuYmluZFBvcHVwKHBvcHVwXzJiZTM4Nzk1ODgwNTQ2YjQ4NTQwYTczNDE5MjVkYzRiKTsKCiAgICAgICAgICAgIAogICAgICAgIAogICAgCiAgICAgICAgICAgIHZhciBjaXJjbGVfbWFya2VyXzY4ODNlZjk5YmQ1MjRkOTc5YWRlNTEzNjUwZjQ0NjBkID0gTC5jaXJjbGVNYXJrZXIoCiAgICAgICAgICAgICAgICBbNDMuNjM2ODQ3MiwtNzkuNDI4MTkxNDAwMDAwMDJdLAogICAgICAgICAgICAgICAgewogICJidWJibGluZ01vdXNlRXZlbnRzIjogdHJ1ZSwKICAiY29sb3IiOiAiYmx1ZSIsCiAgImRhc2hBcnJheSI6IG51bGwsCiAgImRhc2hPZmZzZXQiOiBudWxsLAogICJmaWxsIjogdHJ1ZSwKICAiZmlsbENvbG9yIjogImJsdWUiLAogICJmaWxsT3BhY2l0eSI6IDAuNiwKICAiZmlsbFJ1bGUiOiAiZXZlbm9kZCIsCiAgImxpbmVDYXAiOiAicm91bmQiLAogICJsaW5lSm9pbiI6ICJyb3VuZCIsCiAgIm9wYWNpdHkiOiAxLjAsCiAgInJhZGl1cyI6IDUsCiAgInN0cm9rZSI6IHRydWUsCiAgIndlaWdodCI6IDMKfQogICAgICAgICAgICAgICAgKS5hZGRUbyhtYXBfMWUxZTdlNzU3ZTY0NDI0NDlmMWQyNTI4OGU0YWE0OTQpOwogICAgICAgICAgICAKICAgIAogICAgICAgICAgICB2YXIgcG9wdXBfMjUzMjg0MDNkYWQzNGY3YmE1NDQ1ZGVjZTdlY2VkNDkgPSBMLnBvcHVwKHttYXhXaWR0aDogJzMwMCd9KTsKCiAgICAgICAgICAgIAogICAgICAgICAgICAgICAgdmFyIGh0bWxfMmJiNmM0MTI0ZDI0NDc0NmI0NTQyN2QzMDRhYWVhZmIgPSAkKCc8ZGl2IGlkPSJodG1sXzJiYjZjNDEyNGQyNDQ3NDZiNDU0MjdkMzA0YWFlYWZiIiBzdHlsZT0id2lkdGg6IDEwMC4wJTsgaGVpZ2h0OiAxMDAuMCU7Ij5NNks8L2Rpdj4nKVswXTsKICAgICAgICAgICAgICAgIHBvcHVwXzI1MzI4NDAzZGFkMzRmN2JhNTQ0NWRlY2U3ZWNlZDQ5LnNldENvbnRlbnQoaHRtbF8yYmI2YzQxMjRkMjQ0NzQ2YjQ1NDI3ZDMwNGFhZWFmYik7CiAgICAgICAgICAgIAoKICAgICAgICAgICAgY2lyY2xlX21hcmtlcl82ODgzZWY5OWJkNTI0ZDk3OWFkZTUxMzY1MGY0NDYwZC5iaW5kUG9wdXAocG9wdXBfMjUzMjg0MDNkYWQzNGY3YmE1NDQ1ZGVjZTdlY2VkNDkpOwoKICAgICAgICAgICAgCiAgICAgICAgCiAgICAKICAgICAgICAgICAgdmFyIGNpcmNsZV9tYXJrZXJfOTNlZDIzYmM3NWQ2NGVkM2IzMDAwZmYzN2Y3ZjllNjcgPSBMLmNpcmNsZU1hcmtlcigKICAgICAgICAgICAgICAgIFs0My43MTExMTE3MDAwMDAwMDQsLTc5LjI4NDU3NzJdLAogICAgICAgICAgICAgICAgewogICJidWJibGluZ01vdXNlRXZlbnRzIjogdHJ1ZSwKICAiY29sb3IiOiAiYmx1ZSIsCiAgImRhc2hBcnJheSI6IG51bGwsCiAgImRhc2hPZmZzZXQiOiBudWxsLAogICJmaWxsIjogdHJ1ZSwKICAiZmlsbENvbG9yIjogImJsdWUiLAogICJmaWxsT3BhY2l0eSI6IDAuNiwKICAiZmlsbFJ1bGUiOiAiZXZlbm9kZCIsCiAgImxpbmVDYXAiOiAicm91bmQiLAogICJsaW5lSm9pbiI6ICJyb3VuZCIsCiAgIm9wYWNpdHkiOiAxLjAsCiAgInJhZGl1cyI6IDUsCiAgInN0cm9rZSI6IHRydWUsCiAgIndlaWdodCI6IDMKfQogICAgICAgICAgICAgICAgKS5hZGRUbyhtYXBfMWUxZTdlNzU3ZTY0NDI0NDlmMWQyNTI4OGU0YWE0OTQpOwogICAgICAgICAgICAKICAgIAogICAgICAgICAgICB2YXIgcG9wdXBfMzNiMTBjOGM2MDc0NDg3Y2JmNzc4ZGM1OTAyNTAyN2EgPSBMLnBvcHVwKHttYXhXaWR0aDogJzMwMCd9KTsKCiAgICAgICAgICAgIAogICAgICAgICAgICAgICAgdmFyIGh0bWxfNmM3NDJjYTdhYzk2NDAyM2IyOTFjODFiMGMwY2QyNjcgPSAkKCc8ZGl2IGlkPSJodG1sXzZjNzQyY2E3YWM5NjQwMjNiMjkxYzgxYjBjMGNkMjY3IiBzdHlsZT0id2lkdGg6IDEwMC4wJTsgaGVpZ2h0OiAxMDAuMCU7Ij5NMUw8L2Rpdj4nKVswXTsKICAgICAgICAgICAgICAgIHBvcHVwXzMzYjEwYzhjNjA3NDQ4N2NiZjc3OGRjNTkwMjUwMjdhLnNldENvbnRlbnQoaHRtbF82Yzc0MmNhN2FjOTY0MDIzYjI5MWM4MWIwYzBjZDI2Nyk7CiAgICAgICAgICAgIAoKICAgICAgICAgICAgY2lyY2xlX21hcmtlcl85M2VkMjNiYzc1ZDY0ZWQzYjMwMDBmZjM3ZjdmOWU2Ny5iaW5kUG9wdXAocG9wdXBfMzNiMTBjOGM2MDc0NDg3Y2JmNzc4ZGM1OTAyNTAyN2EpOwoKICAgICAgICAgICAgCiAgICAgICAgCiAgICAKICAgICAgICAgICAgdmFyIGNpcmNsZV9tYXJrZXJfNzVhYWZmYjQzZWFkNGE2ODg4ODhmNDkyMWEwMTMzZDYgPSBMLmNpcmNsZU1hcmtlcigKICAgICAgICAgICAgICAgIFs0My43NTc0OTAyLC03OS4zNzQ3MTQwOTk5OTk5OV0sCiAgICAgICAgICAgICAgICB7CiAgImJ1YmJsaW5nTW91c2VFdmVudHMiOiB0cnVlLAogICJjb2xvciI6ICJibHVlIiwKICAiZGFzaEFycmF5IjogbnVsbCwKICAiZGFzaE9mZnNldCI6IG51bGwsCiAgImZpbGwiOiB0cnVlLAogICJmaWxsQ29sb3IiOiAiYmx1ZSIsCiAgImZpbGxPcGFjaXR5IjogMC42LAogICJmaWxsUnVsZSI6ICJldmVub2RkIiwKICAibGluZUNhcCI6ICJyb3VuZCIsCiAgImxpbmVKb2luIjogInJvdW5kIiwKICAib3BhY2l0eSI6IDEuMCwKICAicmFkaXVzIjogNSwKICAic3Ryb2tlIjogdHJ1ZSwKICAid2VpZ2h0IjogMwp9CiAgICAgICAgICAgICAgICApLmFkZFRvKG1hcF8xZTFlN2U3NTdlNjQ0MjQ0OWYxZDI1Mjg4ZTRhYTQ5NCk7CiAgICAgICAgICAgIAogICAgCiAgICAgICAgICAgIHZhciBwb3B1cF9kZTI3NDczOTFmODY0NTE3OTY5YzEzMmM5NTI0OTQ4ZSA9IEwucG9wdXAoe21heFdpZHRoOiAnMzAwJ30pOwoKICAgICAgICAgICAgCiAgICAgICAgICAgICAgICB2YXIgaHRtbF81ZDgzODljZDc2NTc0NjgxYTE3ZDA5ZTRmNWQ2ZjVhOSA9ICQoJzxkaXYgaWQ9Imh0bWxfNWQ4Mzg5Y2Q3NjU3NDY4MWExN2QwOWU0ZjVkNmY1YTkiIHN0eWxlPSJ3aWR0aDogMTAwLjAlOyBoZWlnaHQ6IDEwMC4wJTsiPk0yTDwvZGl2PicpWzBdOwogICAgICAgICAgICAgICAgcG9wdXBfZGUyNzQ3MzkxZjg2NDUxNzk2OWMxMzJjOTUyNDk0OGUuc2V0Q29udGVudChodG1sXzVkODM4OWNkNzY1NzQ2ODFhMTdkMDllNGY1ZDZmNWE5KTsKICAgICAgICAgICAgCgogICAgICAgICAgICBjaXJjbGVfbWFya2VyXzc1YWFmZmI0M2VhZDRhNjg4ODg4ZjQ5MjFhMDEzM2Q2LmJpbmRQb3B1cChwb3B1cF9kZTI3NDczOTFmODY0NTE3OTY5YzEzMmM5NTI0OTQ4ZSk7CgogICAgICAgICAgICAKICAgICAgICAKICAgIAogICAgICAgICAgICB2YXIgY2lyY2xlX21hcmtlcl9lMjVmYTIzMzk4Nzk0OTQxYTdlY2VjMjQ5OTgyMjAyZCA9IEwuY2lyY2xlTWFya2VyKAogICAgICAgICAgICAgICAgWzQzLjczOTAxNDYsLTc5LjUwNjk0MzZdLAogICAgICAgICAgICAgICAgewogICJidWJibGluZ01vdXNlRXZlbnRzIjogdHJ1ZSwKICAiY29sb3IiOiAiYmx1ZSIsCiAgImRhc2hBcnJheSI6IG51bGwsCiAgImRhc2hPZmZzZXQiOiBudWxsLAogICJmaWxsIjogdHJ1ZSwKICAiZmlsbENvbG9yIjogImJsdWUiLAogICJmaWxsT3BhY2l0eSI6IDAuNiwKICAiZmlsbFJ1bGUiOiAiZXZlbm9kZCIsCiAgImxpbmVDYXAiOiAicm91bmQiLAogICJsaW5lSm9pbiI6ICJyb3VuZCIsCiAgIm9wYWNpdHkiOiAxLjAsCiAgInJhZGl1cyI6IDUsCiAgInN0cm9rZSI6IHRydWUsCiAgIndlaWdodCI6IDMKfQogICAgICAgICAgICAgICAgKS5hZGRUbyhtYXBfMWUxZTdlNzU3ZTY0NDI0NDlmMWQyNTI4OGU0YWE0OTQpOwogICAgICAgICAgICAKICAgIAogICAgICAgICAgICB2YXIgcG9wdXBfZDVlYTIwMjQ2YjVjNDZmMWEyN2Y2MTlkOGY0ZTNiNGIgPSBMLnBvcHVwKHttYXhXaWR0aDogJzMwMCd9KTsKCiAgICAgICAgICAgIAogICAgICAgICAgICAgICAgdmFyIGh0bWxfM2YxYzgzNjM1OTc5NDc0YWI3YjJjZTYxNDFkNTE1MGIgPSAkKCc8ZGl2IGlkPSJodG1sXzNmMWM4MzYzNTk3OTQ3NGFiN2IyY2U2MTQxZDUxNTBiIiBzdHlsZT0id2lkdGg6IDEwMC4wJTsgaGVpZ2h0OiAxMDAuMCU7Ij5NM0w8L2Rpdj4nKVswXTsKICAgICAgICAgICAgICAgIHBvcHVwX2Q1ZWEyMDI0NmI1YzQ2ZjFhMjdmNjE5ZDhmNGUzYjRiLnNldENvbnRlbnQoaHRtbF8zZjFjODM2MzU5Nzk0NzRhYjdiMmNlNjE0MWQ1MTUwYik7CiAgICAgICAgICAgIAoKICAgICAgICAgICAgY2lyY2xlX21hcmtlcl9lMjVmYTIzMzk4Nzk0OTQxYTdlY2VjMjQ5OTgyMjAyZC5iaW5kUG9wdXAocG9wdXBfZDVlYTIwMjQ2YjVjNDZmMWEyN2Y2MTlkOGY0ZTNiNGIpOwoKICAgICAgICAgICAgCiAgICAgICAgCiAgICAKICAgICAgICAgICAgdmFyIGNpcmNsZV9tYXJrZXJfMzI3ZTg1M2Q2MjNkNDRlY2IwMmI4MzYxZDA1ZTRlYjQgPSBMLmNpcmNsZU1hcmtlcigKICAgICAgICAgICAgICAgIFs0My42Njg5OTg1LC03OS4zMTU1NzE1OTk5OTk5OF0sCiAgICAgICAgICAgICAgICB7CiAgImJ1YmJsaW5nTW91c2VFdmVudHMiOiB0cnVlLAogICJjb2xvciI6ICJibHVlIiwKICAiZGFzaEFycmF5IjogbnVsbCwKICAiZGFzaE9mZnNldCI6IG51bGwsCiAgImZpbGwiOiB0cnVlLAogICJmaWxsQ29sb3IiOiAiYmx1ZSIsCiAgImZpbGxPcGFjaXR5IjogMC42LAogICJmaWxsUnVsZSI6ICJldmVub2RkIiwKICAibGluZUNhcCI6ICJyb3VuZCIsCiAgImxpbmVKb2luIjogInJvdW5kIiwKICAib3BhY2l0eSI6IDEuMCwKICAicmFkaXVzIjogNSwKICAic3Ryb2tlIjogdHJ1ZSwKICAid2VpZ2h0IjogMwp9CiAgICAgICAgICAgICAgICApLmFkZFRvKG1hcF8xZTFlN2U3NTdlNjQ0MjQ0OWYxZDI1Mjg4ZTRhYTQ5NCk7CiAgICAgICAgICAgIAogICAgCiAgICAgICAgICAgIHZhciBwb3B1cF83ODRjMDM3OTU5ZDI0OTZhYmE4ODkyYjczMmE0YjIwNyA9IEwucG9wdXAoe21heFdpZHRoOiAnMzAwJ30pOwoKICAgICAgICAgICAgCiAgICAgICAgICAgICAgICB2YXIgaHRtbF9iMjg5MWJmZjNkZTk0ODhiYmE1MmRmZDAxM2M1ZWExZSA9ICQoJzxkaXYgaWQ9Imh0bWxfYjI4OTFiZmYzZGU5NDg4YmJhNTJkZmQwMTNjNWVhMWUiIHN0eWxlPSJ3aWR0aDogMTAwLjAlOyBoZWlnaHQ6IDEwMC4wJTsiPk00TDwvZGl2PicpWzBdOwogICAgICAgICAgICAgICAgcG9wdXBfNzg0YzAzNzk1OWQyNDk2YWJhODg5MmI3MzJhNGIyMDcuc2V0Q29udGVudChodG1sX2IyODkxYmZmM2RlOTQ4OGJiYTUyZGZkMDEzYzVlYTFlKTsKICAgICAgICAgICAgCgogICAgICAgICAgICBjaXJjbGVfbWFya2VyXzMyN2U4NTNkNjIzZDQ0ZWNiMDJiODM2MWQwNWU0ZWI0LmJpbmRQb3B1cChwb3B1cF83ODRjMDM3OTU5ZDI0OTZhYmE4ODkyYjczMmE0YjIwNyk7CgogICAgICAgICAgICAKICAgICAgICAKICAgIAogICAgICAgICAgICB2YXIgY2lyY2xlX21hcmtlcl82YjYzOWVkODFiYWE0NTM2OGVlOGZmZGVjNmJkZTU1YSA9IEwuY2lyY2xlTWFya2VyKAogICAgICAgICAgICAgICAgWzQzLjY0ODE5ODUsLTc5LjM3OTgxNjkwMDAwMDAxXSwKICAgICAgICAgICAgICAgIHsKICAiYnViYmxpbmdNb3VzZUV2ZW50cyI6IHRydWUsCiAgImNvbG9yIjogImJsdWUiLAogICJkYXNoQXJyYXkiOiBudWxsLAogICJkYXNoT2Zmc2V0IjogbnVsbCwKICAiZmlsbCI6IHRydWUsCiAgImZpbGxDb2xvciI6ICJibHVlIiwKICAiZmlsbE9wYWNpdHkiOiAwLjYsCiAgImZpbGxSdWxlIjogImV2ZW5vZGQiLAogICJsaW5lQ2FwIjogInJvdW5kIiwKICAibGluZUpvaW4iOiAicm91bmQiLAogICJvcGFjaXR5IjogMS4wLAogICJyYWRpdXMiOiA1LAogICJzdHJva2UiOiB0cnVlLAogICJ3ZWlnaHQiOiAzCn0KICAgICAgICAgICAgICAgICkuYWRkVG8obWFwXzFlMWU3ZTc1N2U2NDQyNDQ5ZjFkMjUyODhlNGFhNDk0KTsKICAgICAgICAgICAgCiAgICAKICAgICAgICAgICAgdmFyIHBvcHVwXzg5ZGI5MTE1N2NkZTQzMDI5OGJiZWI5Yjg4NzY2MzZjID0gTC5wb3B1cCh7bWF4V2lkdGg6ICczMDAnfSk7CgogICAgICAgICAgICAKICAgICAgICAgICAgICAgIHZhciBodG1sX2RmYzU5NTVlNjMyZDQ1YmE5Nzk5ZWI4YzVkNjEzMDU0ID0gJCgnPGRpdiBpZD0iaHRtbF9kZmM1OTU1ZTYzMmQ0NWJhOTc5OWViOGM1ZDYxMzA1NCIgc3R5bGU9IndpZHRoOiAxMDAuMCU7IGhlaWdodDogMTAwLjAlOyI+TTVMPC9kaXY+JylbMF07CiAgICAgICAgICAgICAgICBwb3B1cF84OWRiOTExNTdjZGU0MzAyOThiYmViOWI4ODc2NjM2Yy5zZXRDb250ZW50KGh0bWxfZGZjNTk1NWU2MzJkNDViYTk3OTllYjhjNWQ2MTMwNTQpOwogICAgICAgICAgICAKCiAgICAgICAgICAgIGNpcmNsZV9tYXJrZXJfNmI2MzllZDgxYmFhNDUzNjhlZThmZmRlYzZiZGU1NWEuYmluZFBvcHVwKHBvcHVwXzg5ZGI5MTE1N2NkZTQzMDI5OGJiZWI5Yjg4NzY2MzZjKTsKCiAgICAgICAgICAgIAogICAgICAgIAogICAgCiAgICAgICAgICAgIHZhciBjaXJjbGVfbWFya2VyXzE0MTI0MjFjMzU0NDQ4MWM4MzM3Nzc3YjNiOTA4NGM5ID0gTC5jaXJjbGVNYXJrZXIoCiAgICAgICAgICAgICAgICBbNDMuNzEzNzU2MjAwMDAwMDA2LC03OS40OTAwNzM4XSwKICAgICAgICAgICAgICAgIHsKICAiYnViYmxpbmdNb3VzZUV2ZW50cyI6IHRydWUsCiAgImNvbG9yIjogImJsdWUiLAogICJkYXNoQXJyYXkiOiBudWxsLAogICJkYXNoT2Zmc2V0IjogbnVsbCwKICAiZmlsbCI6IHRydWUsCiAgImZpbGxDb2xvciI6ICJibHVlIiwKICAiZmlsbE9wYWNpdHkiOiAwLjYsCiAgImZpbGxSdWxlIjogImV2ZW5vZGQiLAogICJsaW5lQ2FwIjogInJvdW5kIiwKICAibGluZUpvaW4iOiAicm91bmQiLAogICJvcGFjaXR5IjogMS4wLAogICJyYWRpdXMiOiA1LAogICJzdHJva2UiOiB0cnVlLAogICJ3ZWlnaHQiOiAzCn0KICAgICAgICAgICAgICAgICkuYWRkVG8obWFwXzFlMWU3ZTc1N2U2NDQyNDQ5ZjFkMjUyODhlNGFhNDk0KTsKICAgICAgICAgICAgCiAgICAKICAgICAgICAgICAgdmFyIHBvcHVwX2Q5MDcyY2Y0MTM1NDQ0NDliNzc3ZmJhN2FiYTkwY2Y0ID0gTC5wb3B1cCh7bWF4V2lkdGg6ICczMDAnfSk7CgogICAgICAgICAgICAKICAgICAgICAgICAgICAgIHZhciBodG1sXzRlODI4MjBjMjFhMDQ3MGE5Mzg4ZmU2Yzk1YjgxMDc5ID0gJCgnPGRpdiBpZD0iaHRtbF80ZTgyODIwYzIxYTA0NzBhOTM4OGZlNmM5NWI4MTA3OSIgc3R5bGU9IndpZHRoOiAxMDAuMCU7IGhlaWdodDogMTAwLjAlOyI+TTZMPC9kaXY+JylbMF07CiAgICAgICAgICAgICAgICBwb3B1cF9kOTA3MmNmNDEzNTQ0NDQ5Yjc3N2ZiYTdhYmE5MGNmNC5zZXRDb250ZW50KGh0bWxfNGU4MjgyMGMyMWEwNDcwYTkzODhmZTZjOTViODEwNzkpOwogICAgICAgICAgICAKCiAgICAgICAgICAgIGNpcmNsZV9tYXJrZXJfMTQxMjQyMWMzNTQ0NDgxYzgzMzc3NzdiM2I5MDg0YzkuYmluZFBvcHVwKHBvcHVwX2Q5MDcyY2Y0MTM1NDQ0NDliNzc3ZmJhN2FiYTkwY2Y0KTsKCiAgICAgICAgICAgIAogICAgICAgIAogICAgCiAgICAgICAgICAgIHZhciBjaXJjbGVfbWFya2VyX2I3OTliZTgzY2Q2MTQ5MTBiOTM5MGNkYTIxMGJjZTRkID0gTC5jaXJjbGVNYXJrZXIoCiAgICAgICAgICAgICAgICBbNDMuNzU2MzAzMywtNzkuNTY1OTYzMjk5OTk5OTldLAogICAgICAgICAgICAgICAgewogICJidWJibGluZ01vdXNlRXZlbnRzIjogdHJ1ZSwKICAiY29sb3IiOiAiYmx1ZSIsCiAgImRhc2hBcnJheSI6IG51bGwsCiAgImRhc2hPZmZzZXQiOiBudWxsLAogICJmaWxsIjogdHJ1ZSwKICAiZmlsbENvbG9yIjogImJsdWUiLAogICJmaWxsT3BhY2l0eSI6IDAuNiwKICAiZmlsbFJ1bGUiOiAiZXZlbm9kZCIsCiAgImxpbmVDYXAiOiAicm91bmQiLAogICJsaW5lSm9pbiI6ICJyb3VuZCIsCiAgIm9wYWNpdHkiOiAxLjAsCiAgInJhZGl1cyI6IDUsCiAgInN0cm9rZSI6IHRydWUsCiAgIndlaWdodCI6IDMKfQogICAgICAgICAgICAgICAgKS5hZGRUbyhtYXBfMWUxZTdlNzU3ZTY0NDI0NDlmMWQyNTI4OGU0YWE0OTQpOwogICAgICAgICAgICAKICAgIAogICAgICAgICAgICB2YXIgcG9wdXBfYjAxMzI4MzBkNWQ4NDNmMjhhYjEzMTAxOWVmOTk5MTEgPSBMLnBvcHVwKHttYXhXaWR0aDogJzMwMCd9KTsKCiAgICAgICAgICAgIAogICAgICAgICAgICAgICAgdmFyIGh0bWxfZjYzNzFmZGRmOTEwNDRmYTk1NDQxZDQ0NzQzYjZiYWMgPSAkKCc8ZGl2IGlkPSJodG1sX2Y2MzcxZmRkZjkxMDQ0ZmE5NTQ0MWQ0NDc0M2I2YmFjIiBzdHlsZT0id2lkdGg6IDEwMC4wJTsgaGVpZ2h0OiAxMDAuMCU7Ij5NOUw8L2Rpdj4nKVswXTsKICAgICAgICAgICAgICAgIHBvcHVwX2IwMTMyODMwZDVkODQzZjI4YWIxMzEwMTllZjk5OTExLnNldENvbnRlbnQoaHRtbF9mNjM3MWZkZGY5MTA0NGZhOTU0NDFkNDQ3NDNiNmJhYyk7CiAgICAgICAgICAgIAoKICAgICAgICAgICAgY2lyY2xlX21hcmtlcl9iNzk5YmU4M2NkNjE0OTEwYjkzOTBjZGEyMTBiY2U0ZC5iaW5kUG9wdXAocG9wdXBfYjAxMzI4MzBkNWQ4NDNmMjhhYjEzMTAxOWVmOTk5MTEpOwoKICAgICAgICAgICAgCiAgICAgICAgCiAgICAKICAgICAgICAgICAgdmFyIGNpcmNsZV9tYXJrZXJfMmJhNjRjMDhjNGI4NGZiMTkxMGRhNDUwMzljMzUxZWQgPSBMLmNpcmNsZU1hcmtlcigKICAgICAgICAgICAgICAgIFs0My43MTYzMTYsLTc5LjIzOTQ3NjA5OTk5OTk5XSwKICAgICAgICAgICAgICAgIHsKICAiYnViYmxpbmdNb3VzZUV2ZW50cyI6IHRydWUsCiAgImNvbG9yIjogImJsdWUiLAogICJkYXNoQXJyYXkiOiBudWxsLAogICJkYXNoT2Zmc2V0IjogbnVsbCwKICAiZmlsbCI6IHRydWUsCiAgImZpbGxDb2xvciI6ICJibHVlIiwKICAiZmlsbE9wYWNpdHkiOiAwLjYsCiAgImZpbGxSdWxlIjogImV2ZW5vZGQiLAogICJsaW5lQ2FwIjogInJvdW5kIiwKICAibGluZUpvaW4iOiAicm91bmQiLAogICJvcGFjaXR5IjogMS4wLAogICJyYWRpdXMiOiA1LAogICJzdHJva2UiOiB0cnVlLAogICJ3ZWlnaHQiOiAzCn0KICAgICAgICAgICAgICAgICkuYWRkVG8obWFwXzFlMWU3ZTc1N2U2NDQyNDQ5ZjFkMjUyODhlNGFhNDk0KTsKICAgICAgICAgICAgCiAgICAKICAgICAgICAgICAgdmFyIHBvcHVwX2U5ODY5MWVhMDRmNjRlNzNiOGMxYTM1MGY1ZDFlMjkxID0gTC5wb3B1cCh7bWF4V2lkdGg6ICczMDAnfSk7CgogICAgICAgICAgICAKICAgICAgICAgICAgICAgIHZhciBodG1sX2Q5MTc0OTRhODcxOTQwNDQ5MDNjNjYyZjUxOGYxYjEwID0gJCgnPGRpdiBpZD0iaHRtbF9kOTE3NDk0YTg3MTk0MDQ0OTAzYzY2MmY1MThmMWIxMCIgc3R5bGU9IndpZHRoOiAxMDAuMCU7IGhlaWdodDogMTAwLjAlOyI+TTFNPC9kaXY+JylbMF07CiAgICAgICAgICAgICAgICBwb3B1cF9lOTg2OTFlYTA0ZjY0ZTczYjhjMWEzNTBmNWQxZTI5MS5zZXRDb250ZW50KGh0bWxfZDkxNzQ5NGE4NzE5NDA0NDkwM2M2NjJmNTE4ZjFiMTApOwogICAgICAgICAgICAKCiAgICAgICAgICAgIGNpcmNsZV9tYXJrZXJfMmJhNjRjMDhjNGI4NGZiMTkxMGRhNDUwMzljMzUxZWQuYmluZFBvcHVwKHBvcHVwX2U5ODY5MWVhMDRmNjRlNzNiOGMxYTM1MGY1ZDFlMjkxKTsKCiAgICAgICAgICAgIAogICAgICAgIAogICAgCiAgICAgICAgICAgIHZhciBjaXJjbGVfbWFya2VyXzRhNzk0MGI0ZGFjYTQzMzg4MzNhMzcyNWNkMTBkZDIxID0gTC5jaXJjbGVNYXJrZXIoCiAgICAgICAgICAgICAgICBbNDMuNzg5MDUzLC03OS40MDg0OTI3OTk5OTk5OV0sCiAgICAgICAgICAgICAgICB7CiAgImJ1YmJsaW5nTW91c2VFdmVudHMiOiB0cnVlLAogICJjb2xvciI6ICJibHVlIiwKICAiZGFzaEFycmF5IjogbnVsbCwKICAiZGFzaE9mZnNldCI6IG51bGwsCiAgImZpbGwiOiB0cnVlLAogICJmaWxsQ29sb3IiOiAiYmx1ZSIsCiAgImZpbGxPcGFjaXR5IjogMC42LAogICJmaWxsUnVsZSI6ICJldmVub2RkIiwKICAibGluZUNhcCI6ICJyb3VuZCIsCiAgImxpbmVKb2luIjogInJvdW5kIiwKICAib3BhY2l0eSI6IDEuMCwKICAicmFkaXVzIjogNSwKICAic3Ryb2tlIjogdHJ1ZSwKICAid2VpZ2h0IjogMwp9CiAgICAgICAgICAgICAgICApLmFkZFRvKG1hcF8xZTFlN2U3NTdlNjQ0MjQ0OWYxZDI1Mjg4ZTRhYTQ5NCk7CiAgICAgICAgICAgIAogICAgCiAgICAgICAgICAgIHZhciBwb3B1cF80ZmFmMDExNmNlYjc0ZjAzOWUxYzllNWNlOTcyM2NmYyA9IEwucG9wdXAoe21heFdpZHRoOiAnMzAwJ30pOwoKICAgICAgICAgICAgCiAgICAgICAgICAgICAgICB2YXIgaHRtbF84OWM3OGJhZDZjZDM0OTQ4OTgwYTNiMzRjY2QzY2RmYiA9ICQoJzxkaXYgaWQ9Imh0bWxfODljNzhiYWQ2Y2QzNDk0ODk4MGEzYjM0Y2NkM2NkZmIiIHN0eWxlPSJ3aWR0aDogMTAwLjAlOyBoZWlnaHQ6IDEwMC4wJTsiPk0yTTwvZGl2PicpWzBdOwogICAgICAgICAgICAgICAgcG9wdXBfNGZhZjAxMTZjZWI3NGYwMzllMWM5ZTVjZTk3MjNjZmMuc2V0Q29udGVudChodG1sXzg5Yzc4YmFkNmNkMzQ5NDg5ODBhM2IzNGNjZDNjZGZiKTsKICAgICAgICAgICAgCgogICAgICAgICAgICBjaXJjbGVfbWFya2VyXzRhNzk0MGI0ZGFjYTQzMzg4MzNhMzcyNWNkMTBkZDIxLmJpbmRQb3B1cChwb3B1cF80ZmFmMDExNmNlYjc0ZjAzOWUxYzllNWNlOTcyM2NmYyk7CgogICAgICAgICAgICAKICAgICAgICAKICAgIAogICAgICAgICAgICB2YXIgY2lyY2xlX21hcmtlcl9hN2ZiZmRjZmU4Yjg0MWNjOTExZjM2N2Y3ZmEwNjA3NiA9IEwuY2lyY2xlTWFya2VyKAogICAgICAgICAgICAgICAgWzQzLjcyODQ5NjQsLTc5LjQ5NTY5NzQwMDAwMDAxXSwKICAgICAgICAgICAgICAgIHsKICAiYnViYmxpbmdNb3VzZUV2ZW50cyI6IHRydWUsCiAgImNvbG9yIjogImJsdWUiLAogICJkYXNoQXJyYXkiOiBudWxsLAogICJkYXNoT2Zmc2V0IjogbnVsbCwKICAiZmlsbCI6IHRydWUsCiAgImZpbGxDb2xvciI6ICJibHVlIiwKICAiZmlsbE9wYWNpdHkiOiAwLjYsCiAgImZpbGxSdWxlIjogImV2ZW5vZGQiLAogICJsaW5lQ2FwIjogInJvdW5kIiwKICAibGluZUpvaW4iOiAicm91bmQiLAogICJvcGFjaXR5IjogMS4wLAogICJyYWRpdXMiOiA1LAogICJzdHJva2UiOiB0cnVlLAogICJ3ZWlnaHQiOiAzCn0KICAgICAgICAgICAgICAgICkuYWRkVG8obWFwXzFlMWU3ZTc1N2U2NDQyNDQ5ZjFkMjUyODhlNGFhNDk0KTsKICAgICAgICAgICAgCiAgICAKICAgICAgICAgICAgdmFyIHBvcHVwXzhmMDhiYzc5N2M1MjRlZGZhZDIzNjYyMTc3MzUyMzNhID0gTC5wb3B1cCh7bWF4V2lkdGg6ICczMDAnfSk7CgogICAgICAgICAgICAKICAgICAgICAgICAgICAgIHZhciBodG1sXzNhYzE2NTFmMDQwODQ0NDM4ODdkOTZiNDJkZjNiMTY3ID0gJCgnPGRpdiBpZD0iaHRtbF8zYWMxNjUxZjA0MDg0NDQzODg3ZDk2YjQyZGYzYjE2NyIgc3R5bGU9IndpZHRoOiAxMDAuMCU7IGhlaWdodDogMTAwLjAlOyI+TTNNPC9kaXY+JylbMF07CiAgICAgICAgICAgICAgICBwb3B1cF84ZjA4YmM3OTdjNTI0ZWRmYWQyMzY2MjE3NzM1MjMzYS5zZXRDb250ZW50KGh0bWxfM2FjMTY1MWYwNDA4NDQ0Mzg4N2Q5NmI0MmRmM2IxNjcpOwogICAgICAgICAgICAKCiAgICAgICAgICAgIGNpcmNsZV9tYXJrZXJfYTdmYmZkY2ZlOGI4NDFjYzkxMWYzNjdmN2ZhMDYwNzYuYmluZFBvcHVwKHBvcHVwXzhmMDhiYzc5N2M1MjRlZGZhZDIzNjYyMTc3MzUyMzNhKTsKCiAgICAgICAgICAgIAogICAgICAgIAogICAgCiAgICAgICAgICAgIHZhciBjaXJjbGVfbWFya2VyXzUzODQ1NzJhMmRkZjQzMjZhMGZhNTExY2VhZGU0MGMzID0gTC5jaXJjbGVNYXJrZXIoCiAgICAgICAgICAgICAgICBbNDMuNjU5NTI1NSwtNzkuMzQwOTIzXSwKICAgICAgICAgICAgICAgIHsKICAiYnViYmxpbmdNb3VzZUV2ZW50cyI6IHRydWUsCiAgImNvbG9yIjogImJsdWUiLAogICJkYXNoQXJyYXkiOiBudWxsLAogICJkYXNoT2Zmc2V0IjogbnVsbCwKICAiZmlsbCI6IHRydWUsCiAgImZpbGxDb2xvciI6ICJibHVlIiwKICAiZmlsbE9wYWNpdHkiOiAwLjYsCiAgImZpbGxSdWxlIjogImV2ZW5vZGQiLAogICJsaW5lQ2FwIjogInJvdW5kIiwKICAibGluZUpvaW4iOiAicm91bmQiLAogICJvcGFjaXR5IjogMS4wLAogICJyYWRpdXMiOiA1LAogICJzdHJva2UiOiB0cnVlLAogICJ3ZWlnaHQiOiAzCn0KICAgICAgICAgICAgICAgICkuYWRkVG8obWFwXzFlMWU3ZTc1N2U2NDQyNDQ5ZjFkMjUyODhlNGFhNDk0KTsKICAgICAgICAgICAgCiAgICAKICAgICAgICAgICAgdmFyIHBvcHVwXzQ5YzM5OTJiNWM4ZjQ5M2U5N2JjZWVhOTJjNGRkMTg0ID0gTC5wb3B1cCh7bWF4V2lkdGg6ICczMDAnfSk7CgogICAgICAgICAgICAKICAgICAgICAgICAgICAgIHZhciBodG1sXzg0ZDBiYmE1MzZhYTRhMjBhZDNmMzk0NTdmYWY4ZDkzID0gJCgnPGRpdiBpZD0iaHRtbF84NGQwYmJhNTM2YWE0YTIwYWQzZjM5NDU3ZmFmOGQ5MyIgc3R5bGU9IndpZHRoOiAxMDAuMCU7IGhlaWdodDogMTAwLjAlOyI+TTRNPC9kaXY+JylbMF07CiAgICAgICAgICAgICAgICBwb3B1cF80OWMzOTkyYjVjOGY0OTNlOTdiY2VlYTkyYzRkZDE4NC5zZXRDb250ZW50KGh0bWxfODRkMGJiYTUzNmFhNGEyMGFkM2YzOTQ1N2ZhZjhkOTMpOwogICAgICAgICAgICAKCiAgICAgICAgICAgIGNpcmNsZV9tYXJrZXJfNTM4NDU3MmEyZGRmNDMyNmEwZmE1MTFjZWFkZTQwYzMuYmluZFBvcHVwKHBvcHVwXzQ5YzM5OTJiNWM4ZjQ5M2U5N2JjZWVhOTJjNGRkMTg0KTsKCiAgICAgICAgICAgIAogICAgICAgIAogICAgCiAgICAgICAgICAgIHZhciBjaXJjbGVfbWFya2VyX2IwODFjOWU1YTkzMjRiMTk4OTc1NmU5ODM0NDgyMDEyID0gTC5jaXJjbGVNYXJrZXIoCiAgICAgICAgICAgICAgICBbNDMuNzMzMjgyNSwtNzkuNDE5NzQ5N10sCiAgICAgICAgICAgICAgICB7CiAgImJ1YmJsaW5nTW91c2VFdmVudHMiOiB0cnVlLAogICJjb2xvciI6ICJibHVlIiwKICAiZGFzaEFycmF5IjogbnVsbCwKICAiZGFzaE9mZnNldCI6IG51bGwsCiAgImZpbGwiOiB0cnVlLAogICJmaWxsQ29sb3IiOiAiYmx1ZSIsCiAgImZpbGxPcGFjaXR5IjogMC42LAogICJmaWxsUnVsZSI6ICJldmVub2RkIiwKICAibGluZUNhcCI6ICJyb3VuZCIsCiAgImxpbmVKb2luIjogInJvdW5kIiwKICAib3BhY2l0eSI6IDEuMCwKICAicmFkaXVzIjogNSwKICAic3Ryb2tlIjogdHJ1ZSwKICAid2VpZ2h0IjogMwp9CiAgICAgICAgICAgICAgICApLmFkZFRvKG1hcF8xZTFlN2U3NTdlNjQ0MjQ0OWYxZDI1Mjg4ZTRhYTQ5NCk7CiAgICAgICAgICAgIAogICAgCiAgICAgICAgICAgIHZhciBwb3B1cF81ODc0OGUwNWYyZmM0ZGQwOWJiNmU2MGQzYmRkNDZlZCA9IEwucG9wdXAoe21heFdpZHRoOiAnMzAwJ30pOwoKICAgICAgICAgICAgCiAgICAgICAgICAgICAgICB2YXIgaHRtbF9mNGZjY2FiNGExM2U0OWJhYTkzYTY5YzBhMTQzOTBmZSA9ICQoJzxkaXYgaWQ9Imh0bWxfZjRmY2NhYjRhMTNlNDliYWE5M2E2OWMwYTE0MzkwZmUiIHN0eWxlPSJ3aWR0aDogMTAwLjAlOyBoZWlnaHQ6IDEwMC4wJTsiPk01TTwvZGl2PicpWzBdOwogICAgICAgICAgICAgICAgcG9wdXBfNTg3NDhlMDVmMmZjNGRkMDliYjZlNjBkM2JkZDQ2ZWQuc2V0Q29udGVudChodG1sX2Y0ZmNjYWI0YTEzZTQ5YmFhOTNhNjljMGExNDM5MGZlKTsKICAgICAgICAgICAgCgogICAgICAgICAgICBjaXJjbGVfbWFya2VyX2IwODFjOWU1YTkzMjRiMTk4OTc1NmU5ODM0NDgyMDEyLmJpbmRQb3B1cChwb3B1cF81ODc0OGUwNWYyZmM0ZGQwOWJiNmU2MGQzYmRkNDZlZCk7CgogICAgICAgICAgICAKICAgICAgICAKICAgIAogICAgICAgICAgICB2YXIgY2lyY2xlX21hcmtlcl9mOTE5ZmJiOGFjMTc0ZWE5YjM1MDRjNzc0ODU5MDkwYyA9IEwuY2lyY2xlTWFya2VyKAogICAgICAgICAgICAgICAgWzQzLjY5MTExNTgsLTc5LjQ3NjAxMzI5OTk5OTk5XSwKICAgICAgICAgICAgICAgIHsKICAiYnViYmxpbmdNb3VzZUV2ZW50cyI6IHRydWUsCiAgImNvbG9yIjogImJsdWUiLAogICJkYXNoQXJyYXkiOiBudWxsLAogICJkYXNoT2Zmc2V0IjogbnVsbCwKICAiZmlsbCI6IHRydWUsCiAgImZpbGxDb2xvciI6ICJibHVlIiwKICAiZmlsbE9wYWNpdHkiOiAwLjYsCiAgImZpbGxSdWxlIjogImV2ZW5vZGQiLAogICJsaW5lQ2FwIjogInJvdW5kIiwKICAibGluZUpvaW4iOiAicm91bmQiLAogICJvcGFjaXR5IjogMS4wLAogICJyYWRpdXMiOiA1LAogICJzdHJva2UiOiB0cnVlLAogICJ3ZWlnaHQiOiAzCn0KICAgICAgICAgICAgICAgICkuYWRkVG8obWFwXzFlMWU3ZTc1N2U2NDQyNDQ5ZjFkMjUyODhlNGFhNDk0KTsKICAgICAgICAgICAgCiAgICAKICAgICAgICAgICAgdmFyIHBvcHVwXzBlYzgyMmZhZjEzYjRlODI5OGI0MGVjYzNhOTBjNWFlID0gTC5wb3B1cCh7bWF4V2lkdGg6ICczMDAnfSk7CgogICAgICAgICAgICAKICAgICAgICAgICAgICAgIHZhciBodG1sXzc0ODBhZTgwMTU0YjRiMjg5NjBjZjZmOWQxZmY3NmMzID0gJCgnPGRpdiBpZD0iaHRtbF83NDgwYWU4MDE1NGI0YjI4OTYwY2Y2ZjlkMWZmNzZjMyIgc3R5bGU9IndpZHRoOiAxMDAuMCU7IGhlaWdodDogMTAwLjAlOyI+TTZNPC9kaXY+JylbMF07CiAgICAgICAgICAgICAgICBwb3B1cF8wZWM4MjJmYWYxM2I0ZTgyOThiNDBlY2MzYTkwYzVhZS5zZXRDb250ZW50KGh0bWxfNzQ4MGFlODAxNTRiNGIyODk2MGNmNmY5ZDFmZjc2YzMpOwogICAgICAgICAgICAKCiAgICAgICAgICAgIGNpcmNsZV9tYXJrZXJfZjkxOWZiYjhhYzE3NGVhOWIzNTA0Yzc3NDg1OTA5MGMuYmluZFBvcHVwKHBvcHVwXzBlYzgyMmZhZjEzYjRlODI5OGI0MGVjYzNhOTBjNWFlKTsKCiAgICAgICAgICAgIAogICAgICAgIAogICAgCiAgICAgICAgICAgIHZhciBjaXJjbGVfbWFya2VyX2IxN2NlNmNhZjc5MTQ0YTc5MmE0MDc1ZjU2OWU0OGZkID0gTC5jaXJjbGVNYXJrZXIoCiAgICAgICAgICAgICAgICBbNDMuNzI0NzY1OSwtNzkuNTMyMjQyNDAwMDAwMDJdLAogICAgICAgICAgICAgICAgewogICJidWJibGluZ01vdXNlRXZlbnRzIjogdHJ1ZSwKICAiY29sb3IiOiAiYmx1ZSIsCiAgImRhc2hBcnJheSI6IG51bGwsCiAgImRhc2hPZmZzZXQiOiBudWxsLAogICJmaWxsIjogdHJ1ZSwKICAiZmlsbENvbG9yIjogImJsdWUiLAogICJmaWxsT3BhY2l0eSI6IDAuNiwKICAiZmlsbFJ1bGUiOiAiZXZlbm9kZCIsCiAgImxpbmVDYXAiOiAicm91bmQiLAogICJsaW5lSm9pbiI6ICJyb3VuZCIsCiAgIm9wYWNpdHkiOiAxLjAsCiAgInJhZGl1cyI6IDUsCiAgInN0cm9rZSI6IHRydWUsCiAgIndlaWdodCI6IDMKfQogICAgICAgICAgICAgICAgKS5hZGRUbyhtYXBfMWUxZTdlNzU3ZTY0NDI0NDlmMWQyNTI4OGU0YWE0OTQpOwogICAgICAgICAgICAKICAgIAogICAgICAgICAgICB2YXIgcG9wdXBfMzRhY2FlZmIzMzY5NGY0ZTgxNWZiZWZmOTE0NjM1YWUgPSBMLnBvcHVwKHttYXhXaWR0aDogJzMwMCd9KTsKCiAgICAgICAgICAgIAogICAgICAgICAgICAgICAgdmFyIGh0bWxfMmVlMGMzY2ExYmU5NDY0YzkyNzk4OTg5MjExM2VkYWYgPSAkKCc8ZGl2IGlkPSJodG1sXzJlZTBjM2NhMWJlOTQ2NGM5Mjc5ODk4OTIxMTNlZGFmIiBzdHlsZT0id2lkdGg6IDEwMC4wJTsgaGVpZ2h0OiAxMDAuMCU7Ij5NOU08L2Rpdj4nKVswXTsKICAgICAgICAgICAgICAgIHBvcHVwXzM0YWNhZWZiMzM2OTRmNGU4MTVmYmVmZjkxNDYzNWFlLnNldENvbnRlbnQoaHRtbF8yZWUwYzNjYTFiZTk0NjRjOTI3OTg5ODkyMTEzZWRhZik7CiAgICAgICAgICAgIAoKICAgICAgICAgICAgY2lyY2xlX21hcmtlcl9iMTdjZTZjYWY3OTE0NGE3OTJhNDA3NWY1NjllNDhmZC5iaW5kUG9wdXAocG9wdXBfMzRhY2FlZmIzMzY5NGY0ZTgxNWZiZWZmOTE0NjM1YWUpOwoKICAgICAgICAgICAgCiAgICAgICAgCiAgICAKICAgICAgICAgICAgdmFyIGNpcmNsZV9tYXJrZXJfMGQ3NDdhYTRhZTg5NDJiYmFiMzMyZWI1MDMzN2FkY2QgPSBMLmNpcmNsZU1hcmtlcigKICAgICAgICAgICAgICAgIFs0My42OTI2NTcwMDAwMDAwMDQsLTc5LjI2NDg0ODFdLAogICAgICAgICAgICAgICAgewogICJidWJibGluZ01vdXNlRXZlbnRzIjogdHJ1ZSwKICAiY29sb3IiOiAiYmx1ZSIsCiAgImRhc2hBcnJheSI6IG51bGwsCiAgImRhc2hPZmZzZXQiOiBudWxsLAogICJmaWxsIjogdHJ1ZSwKICAiZmlsbENvbG9yIjogImJsdWUiLAogICJmaWxsT3BhY2l0eSI6IDAuNiwKICAiZmlsbFJ1bGUiOiAiZXZlbm9kZCIsCiAgImxpbmVDYXAiOiAicm91bmQiLAogICJsaW5lSm9pbiI6ICJyb3VuZCIsCiAgIm9wYWNpdHkiOiAxLjAsCiAgInJhZGl1cyI6IDUsCiAgInN0cm9rZSI6IHRydWUsCiAgIndlaWdodCI6IDMKfQogICAgICAgICAgICAgICAgKS5hZGRUbyhtYXBfMWUxZTdlNzU3ZTY0NDI0NDlmMWQyNTI4OGU0YWE0OTQpOwogICAgICAgICAgICAKICAgIAogICAgICAgICAgICB2YXIgcG9wdXBfNDA5ODViNWZiZmU3NGU2Nzg2OTk5MzFjNWQ3ODIxMzcgPSBMLnBvcHVwKHttYXhXaWR0aDogJzMwMCd9KTsKCiAgICAgICAgICAgIAogICAgICAgICAgICAgICAgdmFyIGh0bWxfZTNhMjU3YzkyYjdiNGQwMzk4YjQ2MGNiZTJlZmEzOGMgPSAkKCc8ZGl2IGlkPSJodG1sX2UzYTI1N2M5MmI3YjRkMDM5OGI0NjBjYmUyZWZhMzhjIiBzdHlsZT0id2lkdGg6IDEwMC4wJTsgaGVpZ2h0OiAxMDAuMCU7Ij5NMU48L2Rpdj4nKVswXTsKICAgICAgICAgICAgICAgIHBvcHVwXzQwOTg1YjVmYmZlNzRlNjc4Njk5OTMxYzVkNzgyMTM3LnNldENvbnRlbnQoaHRtbF9lM2EyNTdjOTJiN2I0ZDAzOThiNDYwY2JlMmVmYTM4Yyk7CiAgICAgICAgICAgIAoKICAgICAgICAgICAgY2lyY2xlX21hcmtlcl8wZDc0N2FhNGFlODk0MmJiYWIzMzJlYjUwMzM3YWRjZC5iaW5kUG9wdXAocG9wdXBfNDA5ODViNWZiZmU3NGU2Nzg2OTk5MzFjNWQ3ODIxMzcpOwoKICAgICAgICAgICAgCiAgICAgICAgCiAgICAKICAgICAgICAgICAgdmFyIGNpcmNsZV9tYXJrZXJfMDVmOWFlOTU4OTk4NDkxMzg4MzJiNWE4YjcyNGJlYjUgPSBMLmNpcmNsZU1hcmtlcigKICAgICAgICAgICAgICAgIFs0My43NzAxMTk5LC03OS40MDg0OTI3OTk5OTk5OV0sCiAgICAgICAgICAgICAgICB7CiAgImJ1YmJsaW5nTW91c2VFdmVudHMiOiB0cnVlLAogICJjb2xvciI6ICJibHVlIiwKICAiZGFzaEFycmF5IjogbnVsbCwKICAiZGFzaE9mZnNldCI6IG51bGwsCiAgImZpbGwiOiB0cnVlLAogICJmaWxsQ29sb3IiOiAiYmx1ZSIsCiAgImZpbGxPcGFjaXR5IjogMC42LAogICJmaWxsUnVsZSI6ICJldmVub2RkIiwKICAibGluZUNhcCI6ICJyb3VuZCIsCiAgImxpbmVKb2luIjogInJvdW5kIiwKICAib3BhY2l0eSI6IDEuMCwKICAicmFkaXVzIjogNSwKICAic3Ryb2tlIjogdHJ1ZSwKICAid2VpZ2h0IjogMwp9CiAgICAgICAgICAgICAgICApLmFkZFRvKG1hcF8xZTFlN2U3NTdlNjQ0MjQ0OWYxZDI1Mjg4ZTRhYTQ5NCk7CiAgICAgICAgICAgIAogICAgCiAgICAgICAgICAgIHZhciBwb3B1cF83ZGY1MjlkM2UxZDM0ZGQ0OTY5MmI4ZDUyNjgxOGQ5YyA9IEwucG9wdXAoe21heFdpZHRoOiAnMzAwJ30pOwoKICAgICAgICAgICAgCiAgICAgICAgICAgICAgICB2YXIgaHRtbF8yYjg4N2I4MmE0MDU0MWQ5OTlmNTdkMTdlYThlMTllNCA9ICQoJzxkaXYgaWQ9Imh0bWxfMmI4ODdiODJhNDA1NDFkOTk5ZjU3ZDE3ZWE4ZTE5ZTQiIHN0eWxlPSJ3aWR0aDogMTAwLjAlOyBoZWlnaHQ6IDEwMC4wJTsiPk0yTjwvZGl2PicpWzBdOwogICAgICAgICAgICAgICAgcG9wdXBfN2RmNTI5ZDNlMWQzNGRkNDk2OTJiOGQ1MjY4MThkOWMuc2V0Q29udGVudChodG1sXzJiODg3YjgyYTQwNTQxZDk5OWY1N2QxN2VhOGUxOWU0KTsKICAgICAgICAgICAgCgogICAgICAgICAgICBjaXJjbGVfbWFya2VyXzA1ZjlhZTk1ODk5ODQ5MTM4ODMyYjVhOGI3MjRiZWI1LmJpbmRQb3B1cChwb3B1cF83ZGY1MjlkM2UxZDM0ZGQ0OTY5MmI4ZDUyNjgxOGQ5Yyk7CgogICAgICAgICAgICAKICAgICAgICAKICAgIAogICAgICAgICAgICB2YXIgY2lyY2xlX21hcmtlcl9jMDI2NzcyYjA2ODM0YTMyODZlMDU4YzdmZThkMTMzNCA9IEwuY2lyY2xlTWFya2VyKAogICAgICAgICAgICAgICAgWzQzLjc2MTYzMTMsLTc5LjUyMDk5OTQwMDAwMDAxXSwKICAgICAgICAgICAgICAgIHsKICAiYnViYmxpbmdNb3VzZUV2ZW50cyI6IHRydWUsCiAgImNvbG9yIjogImJsdWUiLAogICJkYXNoQXJyYXkiOiBudWxsLAogICJkYXNoT2Zmc2V0IjogbnVsbCwKICAiZmlsbCI6IHRydWUsCiAgImZpbGxDb2xvciI6ICJibHVlIiwKICAiZmlsbE9wYWNpdHkiOiAwLjYsCiAgImZpbGxSdWxlIjogImV2ZW5vZGQiLAogICJsaW5lQ2FwIjogInJvdW5kIiwKICAibGluZUpvaW4iOiAicm91bmQiLAogICJvcGFjaXR5IjogMS4wLAogICJyYWRpdXMiOiA1LAogICJzdHJva2UiOiB0cnVlLAogICJ3ZWlnaHQiOiAzCn0KICAgICAgICAgICAgICAgICkuYWRkVG8obWFwXzFlMWU3ZTc1N2U2NDQyNDQ5ZjFkMjUyODhlNGFhNDk0KTsKICAgICAgICAgICAgCiAgICAKICAgICAgICAgICAgdmFyIHBvcHVwXzc0YzRlMmQ5Y2ZjMTQ5MTg4ZWRkYjgxNjAyMzViYjY2ID0gTC5wb3B1cCh7bWF4V2lkdGg6ICczMDAnfSk7CgogICAgICAgICAgICAKICAgICAgICAgICAgICAgIHZhciBodG1sX2JjNTQzNTBlYjkzNDQ4MDk5MTg1NzRlN2UzNTE2ZTczID0gJCgnPGRpdiBpZD0iaHRtbF9iYzU0MzUwZWI5MzQ0ODA5OTE4NTc0ZTdlMzUxNmU3MyIgc3R5bGU9IndpZHRoOiAxMDAuMCU7IGhlaWdodDogMTAwLjAlOyI+TTNOPC9kaXY+JylbMF07CiAgICAgICAgICAgICAgICBwb3B1cF83NGM0ZTJkOWNmYzE0OTE4OGVkZGI4MTYwMjM1YmI2Ni5zZXRDb250ZW50KGh0bWxfYmM1NDM1MGViOTM0NDgwOTkxODU3NGU3ZTM1MTZlNzMpOwogICAgICAgICAgICAKCiAgICAgICAgICAgIGNpcmNsZV9tYXJrZXJfYzAyNjc3MmIwNjgzNGEzMjg2ZTA1OGM3ZmU4ZDEzMzQuYmluZFBvcHVwKHBvcHVwXzc0YzRlMmQ5Y2ZjMTQ5MTg4ZWRkYjgxNjAyMzViYjY2KTsKCiAgICAgICAgICAgIAogICAgICAgIAogICAgCiAgICAgICAgICAgIHZhciBjaXJjbGVfbWFya2VyX2U3OTdmZWE3MDE3YjQyOTY5MGIyNDJhMjAzZGM0MjFlID0gTC5jaXJjbGVNYXJrZXIoCiAgICAgICAgICAgICAgICBbNDMuNzI4MDIwNSwtNzkuMzg4NzkwMV0sCiAgICAgICAgICAgICAgICB7CiAgImJ1YmJsaW5nTW91c2VFdmVudHMiOiB0cnVlLAogICJjb2xvciI6ICJibHVlIiwKICAiZGFzaEFycmF5IjogbnVsbCwKICAiZGFzaE9mZnNldCI6IG51bGwsCiAgImZpbGwiOiB0cnVlLAogICJmaWxsQ29sb3IiOiAiYmx1ZSIsCiAgImZpbGxPcGFjaXR5IjogMC42LAogICJmaWxsUnVsZSI6ICJldmVub2RkIiwKICAibGluZUNhcCI6ICJyb3VuZCIsCiAgImxpbmVKb2luIjogInJvdW5kIiwKICAib3BhY2l0eSI6IDEuMCwKICAicmFkaXVzIjogNSwKICAic3Ryb2tlIjogdHJ1ZSwKICAid2VpZ2h0IjogMwp9CiAgICAgICAgICAgICAgICApLmFkZFRvKG1hcF8xZTFlN2U3NTdlNjQ0MjQ0OWYxZDI1Mjg4ZTRhYTQ5NCk7CiAgICAgICAgICAgIAogICAgCiAgICAgICAgICAgIHZhciBwb3B1cF9mYzZmY2E1Y2ZkNzU0MzE2YjBmNjljYzM0M2Y2ZmU1ZCA9IEwucG9wdXAoe21heFdpZHRoOiAnMzAwJ30pOwoKICAgICAgICAgICAgCiAgICAgICAgICAgICAgICB2YXIgaHRtbF82MmVjNGI1YmI2ZmI0MDgwOTMwODk1ODJjODNiYmMzYSA9ICQoJzxkaXYgaWQ9Imh0bWxfNjJlYzRiNWJiNmZiNDA4MDkzMDg5NTgyYzgzYmJjM2EiIHN0eWxlPSJ3aWR0aDogMTAwLjAlOyBoZWlnaHQ6IDEwMC4wJTsiPk00TjwvZGl2PicpWzBdOwogICAgICAgICAgICAgICAgcG9wdXBfZmM2ZmNhNWNmZDc1NDMxNmIwZjY5Y2MzNDNmNmZlNWQuc2V0Q29udGVudChodG1sXzYyZWM0YjViYjZmYjQwODA5MzA4OTU4MmM4M2JiYzNhKTsKICAgICAgICAgICAgCgogICAgICAgICAgICBjaXJjbGVfbWFya2VyX2U3OTdmZWE3MDE3YjQyOTY5MGIyNDJhMjAzZGM0MjFlLmJpbmRQb3B1cChwb3B1cF9mYzZmY2E1Y2ZkNzU0MzE2YjBmNjljYzM0M2Y2ZmU1ZCk7CgogICAgICAgICAgICAKICAgICAgICAKICAgIAogICAgICAgICAgICB2YXIgY2lyY2xlX21hcmtlcl9kNWJjNDdiNGE1MWQ0NjZjYmQ3OTRjOWYwMjgzMWM1ZSA9IEwuY2lyY2xlTWFya2VyKAogICAgICAgICAgICAgICAgWzQzLjcxMTY5NDgsLTc5LjQxNjkzNTU5OTk5OTk5XSwKICAgICAgICAgICAgICAgIHsKICAiYnViYmxpbmdNb3VzZUV2ZW50cyI6IHRydWUsCiAgImNvbG9yIjogImJsdWUiLAogICJkYXNoQXJyYXkiOiBudWxsLAogICJkYXNoT2Zmc2V0IjogbnVsbCwKICAiZmlsbCI6IHRydWUsCiAgImZpbGxDb2xvciI6ICJibHVlIiwKICAiZmlsbE9wYWNpdHkiOiAwLjYsCiAgImZpbGxSdWxlIjogImV2ZW5vZGQiLAogICJsaW5lQ2FwIjogInJvdW5kIiwKICAibGluZUpvaW4iOiAicm91bmQiLAogICJvcGFjaXR5IjogMS4wLAogICJyYWRpdXMiOiA1LAogICJzdHJva2UiOiB0cnVlLAogICJ3ZWlnaHQiOiAzCn0KICAgICAgICAgICAgICAgICkuYWRkVG8obWFwXzFlMWU3ZTc1N2U2NDQyNDQ5ZjFkMjUyODhlNGFhNDk0KTsKICAgICAgICAgICAgCiAgICAKICAgICAgICAgICAgdmFyIHBvcHVwX2UzZDRkZDVlNzEwMjQ2ZmNiMDRlMjU0M2RkNjg2OGIzID0gTC5wb3B1cCh7bWF4V2lkdGg6ICczMDAnfSk7CgogICAgICAgICAgICAKICAgICAgICAgICAgICAgIHZhciBodG1sXzNjZGNjZmM2ZmViNzQ1Zjg5OTU4YzZhOWUxN2I1ZmY0ID0gJCgnPGRpdiBpZD0iaHRtbF8zY2RjY2ZjNmZlYjc0NWY4OTk1OGM2YTllMTdiNWZmNCIgc3R5bGU9IndpZHRoOiAxMDAuMCU7IGhlaWdodDogMTAwLjAlOyI+TTVOPC9kaXY+JylbMF07CiAgICAgICAgICAgICAgICBwb3B1cF9lM2Q0ZGQ1ZTcxMDI0NmZjYjA0ZTI1NDNkZDY4NjhiMy5zZXRDb250ZW50KGh0bWxfM2NkY2NmYzZmZWI3NDVmODk5NThjNmE5ZTE3YjVmZjQpOwogICAgICAgICAgICAKCiAgICAgICAgICAgIGNpcmNsZV9tYXJrZXJfZDViYzQ3YjRhNTFkNDY2Y2JkNzk0YzlmMDI4MzFjNWUuYmluZFBvcHVwKHBvcHVwX2UzZDRkZDVlNzEwMjQ2ZmNiMDRlMjU0M2RkNjg2OGIzKTsKCiAgICAgICAgICAgIAogICAgICAgIAogICAgCiAgICAgICAgICAgIHZhciBjaXJjbGVfbWFya2VyXzNjNWQzNDI3ZTM0MTQ5MjI4NjFjMGRmMTM3NGUyYWQwID0gTC5jaXJjbGVNYXJrZXIoCiAgICAgICAgICAgICAgICBbNDMuNjczMTg1Mjk5OTk5OTksLTc5LjQ4NzI2MTkwMDAwMDAxXSwKICAgICAgICAgICAgICAgIHsKICAiYnViYmxpbmdNb3VzZUV2ZW50cyI6IHRydWUsCiAgImNvbG9yIjogImJsdWUiLAogICJkYXNoQXJyYXkiOiBudWxsLAogICJkYXNoT2Zmc2V0IjogbnVsbCwKICAiZmlsbCI6IHRydWUsCiAgImZpbGxDb2xvciI6ICJibHVlIiwKICAiZmlsbE9wYWNpdHkiOiAwLjYsCiAgImZpbGxSdWxlIjogImV2ZW5vZGQiLAogICJsaW5lQ2FwIjogInJvdW5kIiwKICAibGluZUpvaW4iOiAicm91bmQiLAogICJvcGFjaXR5IjogMS4wLAogICJyYWRpdXMiOiA1LAogICJzdHJva2UiOiB0cnVlLAogICJ3ZWlnaHQiOiAzCn0KICAgICAgICAgICAgICAgICkuYWRkVG8obWFwXzFlMWU3ZTc1N2U2NDQyNDQ5ZjFkMjUyODhlNGFhNDk0KTsKICAgICAgICAgICAgCiAgICAKICAgICAgICAgICAgdmFyIHBvcHVwX2RkYjQyMTU5NGI4NzQxOGI5ZDM1Nzc0ZDYxZGY2NjEzID0gTC5wb3B1cCh7bWF4V2lkdGg6ICczMDAnfSk7CgogICAgICAgICAgICAKICAgICAgICAgICAgICAgIHZhciBodG1sXzZmZmJjOTNhZWI4MTQ0OWRhOTg3MWI2NzA4Yzk4NmZjID0gJCgnPGRpdiBpZD0iaHRtbF82ZmZiYzkzYWViODE0NDlkYTk4NzFiNjcwOGM5ODZmYyIgc3R5bGU9IndpZHRoOiAxMDAuMCU7IGhlaWdodDogMTAwLjAlOyI+TTZOPC9kaXY+JylbMF07CiAgICAgICAgICAgICAgICBwb3B1cF9kZGI0MjE1OTRiODc0MThiOWQzNTc3NGQ2MWRmNjYxMy5zZXRDb250ZW50KGh0bWxfNmZmYmM5M2FlYjgxNDQ5ZGE5ODcxYjY3MDhjOTg2ZmMpOwogICAgICAgICAgICAKCiAgICAgICAgICAgIGNpcmNsZV9tYXJrZXJfM2M1ZDM0MjdlMzQxNDkyMjg2MWMwZGYxMzc0ZTJhZDAuYmluZFBvcHVwKHBvcHVwX2RkYjQyMTU5NGI4NzQxOGI5ZDM1Nzc0ZDYxZGY2NjEzKTsKCiAgICAgICAgICAgIAogICAgICAgIAogICAgCiAgICAgICAgICAgIHZhciBjaXJjbGVfbWFya2VyX2ZhYTY2Y2IxYjM2MjQ1ZDY5NjdiNzY2NTBlNmE4ZGNjID0gTC5jaXJjbGVNYXJrZXIoCiAgICAgICAgICAgICAgICBbNDMuNzA2ODc2LC03OS41MTgxODg0MDAwMDAwMV0sCiAgICAgICAgICAgICAgICB7CiAgImJ1YmJsaW5nTW91c2VFdmVudHMiOiB0cnVlLAogICJjb2xvciI6ICJibHVlIiwKICAiZGFzaEFycmF5IjogbnVsbCwKICAiZGFzaE9mZnNldCI6IG51bGwsCiAgImZpbGwiOiB0cnVlLAogICJmaWxsQ29sb3IiOiAiYmx1ZSIsCiAgImZpbGxPcGFjaXR5IjogMC42LAogICJmaWxsUnVsZSI6ICJldmVub2RkIiwKICAibGluZUNhcCI6ICJyb3VuZCIsCiAgImxpbmVKb2luIjogInJvdW5kIiwKICAib3BhY2l0eSI6IDEuMCwKICAicmFkaXVzIjogNSwKICAic3Ryb2tlIjogdHJ1ZSwKICAid2VpZ2h0IjogMwp9CiAgICAgICAgICAgICAgICApLmFkZFRvKG1hcF8xZTFlN2U3NTdlNjQ0MjQ0OWYxZDI1Mjg4ZTRhYTQ5NCk7CiAgICAgICAgICAgIAogICAgCiAgICAgICAgICAgIHZhciBwb3B1cF8yNDgwZjQ1MjUwZWQ0MzQyYWFkMDYwOTAzNDUzZTJiYiA9IEwucG9wdXAoe21heFdpZHRoOiAnMzAwJ30pOwoKICAgICAgICAgICAgCiAgICAgICAgICAgICAgICB2YXIgaHRtbF8wODZkYzQ3NDBiZGQ0NTRkYTA4NGFlODIzZmYzZTdkOCA9ICQoJzxkaXYgaWQ9Imh0bWxfMDg2ZGM0NzQwYmRkNDU0ZGEwODRhZTgyM2ZmM2U3ZDgiIHN0eWxlPSJ3aWR0aDogMTAwLjAlOyBoZWlnaHQ6IDEwMC4wJTsiPk05TjwvZGl2PicpWzBdOwogICAgICAgICAgICAgICAgcG9wdXBfMjQ4MGY0NTI1MGVkNDM0MmFhZDA2MDkwMzQ1M2UyYmIuc2V0Q29udGVudChodG1sXzA4NmRjNDc0MGJkZDQ1NGRhMDg0YWU4MjNmZjNlN2Q4KTsKICAgICAgICAgICAgCgogICAgICAgICAgICBjaXJjbGVfbWFya2VyX2ZhYTY2Y2IxYjM2MjQ1ZDY5NjdiNzY2NTBlNmE4ZGNjLmJpbmRQb3B1cChwb3B1cF8yNDgwZjQ1MjUwZWQ0MzQyYWFkMDYwOTAzNDUzZTJiYik7CgogICAgICAgICAgICAKICAgICAgICAKICAgIAogICAgICAgICAgICB2YXIgY2lyY2xlX21hcmtlcl9jYjFhOWRkYjU2MDI0Y2ZiYWU0ZjAwMTE1NGQ1MjI2MCA9IEwuY2lyY2xlTWFya2VyKAogICAgICAgICAgICAgICAgWzQzLjc1NzQwOTYsLTc5LjI3MzMwNDAwMDAwMDAxXSwKICAgICAgICAgICAgICAgIHsKICAiYnViYmxpbmdNb3VzZUV2ZW50cyI6IHRydWUsCiAgImNvbG9yIjogImJsdWUiLAogICJkYXNoQXJyYXkiOiBudWxsLAogICJkYXNoT2Zmc2V0IjogbnVsbCwKICAiZmlsbCI6IHRydWUsCiAgImZpbGxDb2xvciI6ICJibHVlIiwKICAiZmlsbE9wYWNpdHkiOiAwLjYsCiAgImZpbGxSdWxlIjogImV2ZW5vZGQiLAogICJsaW5lQ2FwIjogInJvdW5kIiwKICAibGluZUpvaW4iOiAicm91bmQiLAogICJvcGFjaXR5IjogMS4wLAogICJyYWRpdXMiOiA1LAogICJzdHJva2UiOiB0cnVlLAogICJ3ZWlnaHQiOiAzCn0KICAgICAgICAgICAgICAgICkuYWRkVG8obWFwXzFlMWU3ZTc1N2U2NDQyNDQ5ZjFkMjUyODhlNGFhNDk0KTsKICAgICAgICAgICAgCiAgICAKICAgICAgICAgICAgdmFyIHBvcHVwXzc2MTAyMTc5OWViMDRlODA4MTAxZjg1OWNjNTU3NWE3ID0gTC5wb3B1cCh7bWF4V2lkdGg6ICczMDAnfSk7CgogICAgICAgICAgICAKICAgICAgICAgICAgICAgIHZhciBodG1sXzViNmQ1ZjdkYTBmNDQyMzM5MzkwZTJmMmI4ZDE3ZjRiID0gJCgnPGRpdiBpZD0iaHRtbF81YjZkNWY3ZGEwZjQ0MjMzOTM5MGUyZjJiOGQxN2Y0YiIgc3R5bGU9IndpZHRoOiAxMDAuMCU7IGhlaWdodDogMTAwLjAlOyI+TTFQPC9kaXY+JylbMF07CiAgICAgICAgICAgICAgICBwb3B1cF83NjEwMjE3OTllYjA0ZTgwODEwMWY4NTljYzU1NzVhNy5zZXRDb250ZW50KGh0bWxfNWI2ZDVmN2RhMGY0NDIzMzkzOTBlMmYyYjhkMTdmNGIpOwogICAgICAgICAgICAKCiAgICAgICAgICAgIGNpcmNsZV9tYXJrZXJfY2IxYTlkZGI1NjAyNGNmYmFlNGYwMDExNTRkNTIyNjAuYmluZFBvcHVwKHBvcHVwXzc2MTAyMTc5OWViMDRlODA4MTAxZjg1OWNjNTU3NWE3KTsKCiAgICAgICAgICAgIAogICAgICAgIAogICAgCiAgICAgICAgICAgIHZhciBjaXJjbGVfbWFya2VyX2U0ZTU2ODBiOGRkZTQ0MDFhMzEwMWEzNTI1ZDUwMTZkID0gTC5jaXJjbGVNYXJrZXIoCiAgICAgICAgICAgICAgICBbNDMuNzUyNzU4Mjk5OTk5OTk2LC03OS40MDAwNDkzXSwKICAgICAgICAgICAgICAgIHsKICAiYnViYmxpbmdNb3VzZUV2ZW50cyI6IHRydWUsCiAgImNvbG9yIjogImJsdWUiLAogICJkYXNoQXJyYXkiOiBudWxsLAogICJkYXNoT2Zmc2V0IjogbnVsbCwKICAiZmlsbCI6IHRydWUsCiAgImZpbGxDb2xvciI6ICJibHVlIiwKICAiZmlsbE9wYWNpdHkiOiAwLjYsCiAgImZpbGxSdWxlIjogImV2ZW5vZGQiLAogICJsaW5lQ2FwIjogInJvdW5kIiwKICAibGluZUpvaW4iOiAicm91bmQiLAogICJvcGFjaXR5IjogMS4wLAogICJyYWRpdXMiOiA1LAogICJzdHJva2UiOiB0cnVlLAogICJ3ZWlnaHQiOiAzCn0KICAgICAgICAgICAgICAgICkuYWRkVG8obWFwXzFlMWU3ZTc1N2U2NDQyNDQ5ZjFkMjUyODhlNGFhNDk0KTsKICAgICAgICAgICAgCiAgICAKICAgICAgICAgICAgdmFyIHBvcHVwXzlkODBjN2FiZWY2MzRkMjNiOTRiZDk5ODM0YjEzOWZmID0gTC5wb3B1cCh7bWF4V2lkdGg6ICczMDAnfSk7CgogICAgICAgICAgICAKICAgICAgICAgICAgICAgIHZhciBodG1sXzg4MmRiYzNhODliNjRhZmI4ZGQyZTk3MWVhZWNhMDA3ID0gJCgnPGRpdiBpZD0iaHRtbF84ODJkYmMzYTg5YjY0YWZiOGRkMmU5NzFlYWVjYTAwNyIgc3R5bGU9IndpZHRoOiAxMDAuMCU7IGhlaWdodDogMTAwLjAlOyI+TTJQPC9kaXY+JylbMF07CiAgICAgICAgICAgICAgICBwb3B1cF85ZDgwYzdhYmVmNjM0ZDIzYjk0YmQ5OTgzNGIxMzlmZi5zZXRDb250ZW50KGh0bWxfODgyZGJjM2E4OWI2NGFmYjhkZDJlOTcxZWFlY2EwMDcpOwogICAgICAgICAgICAKCiAgICAgICAgICAgIGNpcmNsZV9tYXJrZXJfZTRlNTY4MGI4ZGRlNDQwMWEzMTAxYTM1MjVkNTAxNmQuYmluZFBvcHVwKHBvcHVwXzlkODBjN2FiZWY2MzRkMjNiOTRiZDk5ODM0YjEzOWZmKTsKCiAgICAgICAgICAgIAogICAgICAgIAogICAgCiAgICAgICAgICAgIHZhciBjaXJjbGVfbWFya2VyX2Q0ZjZjNjMyMTk0MDRmNzg5MjNlYTVhYThmM2E5Y2YwID0gTC5jaXJjbGVNYXJrZXIoCiAgICAgICAgICAgICAgICBbNDMuNzEyNzUxMSwtNzkuMzkwMTk3NV0sCiAgICAgICAgICAgICAgICB7CiAgImJ1YmJsaW5nTW91c2VFdmVudHMiOiB0cnVlLAogICJjb2xvciI6ICJibHVlIiwKICAiZGFzaEFycmF5IjogbnVsbCwKICAiZGFzaE9mZnNldCI6IG51bGwsCiAgImZpbGwiOiB0cnVlLAogICJmaWxsQ29sb3IiOiAiYmx1ZSIsCiAgImZpbGxPcGFjaXR5IjogMC42LAogICJmaWxsUnVsZSI6ICJldmVub2RkIiwKICAibGluZUNhcCI6ICJyb3VuZCIsCiAgImxpbmVKb2luIjogInJvdW5kIiwKICAib3BhY2l0eSI6IDEuMCwKICAicmFkaXVzIjogNSwKICAic3Ryb2tlIjogdHJ1ZSwKICAid2VpZ2h0IjogMwp9CiAgICAgICAgICAgICAgICApLmFkZFRvKG1hcF8xZTFlN2U3NTdlNjQ0MjQ0OWYxZDI1Mjg4ZTRhYTQ5NCk7CiAgICAgICAgICAgIAogICAgCiAgICAgICAgICAgIHZhciBwb3B1cF81OTYyZThkMDVlODk0NjYwYTgxNzk1N2Y3MWJmZWMwNiA9IEwucG9wdXAoe21heFdpZHRoOiAnMzAwJ30pOwoKICAgICAgICAgICAgCiAgICAgICAgICAgICAgICB2YXIgaHRtbF81OGIzMzNkNTQ0YmM0NzM4OThkZDQ1ZTZjMjg5OTc0NSA9ICQoJzxkaXYgaWQ9Imh0bWxfNThiMzMzZDU0NGJjNDczODk4ZGQ0NWU2YzI4OTk3NDUiIHN0eWxlPSJ3aWR0aDogMTAwLjAlOyBoZWlnaHQ6IDEwMC4wJTsiPk00UDwvZGl2PicpWzBdOwogICAgICAgICAgICAgICAgcG9wdXBfNTk2MmU4ZDA1ZTg5NDY2MGE4MTc5NTdmNzFiZmVjMDYuc2V0Q29udGVudChodG1sXzU4YjMzM2Q1NDRiYzQ3Mzg5OGRkNDVlNmMyODk5NzQ1KTsKICAgICAgICAgICAgCgogICAgICAgICAgICBjaXJjbGVfbWFya2VyX2Q0ZjZjNjMyMTk0MDRmNzg5MjNlYTVhYThmM2E5Y2YwLmJpbmRQb3B1cChwb3B1cF81OTYyZThkMDVlODk0NjYwYTgxNzk1N2Y3MWJmZWMwNik7CgogICAgICAgICAgICAKICAgICAgICAKICAgIAogICAgICAgICAgICB2YXIgY2lyY2xlX21hcmtlcl80NjYwNmZkZmY4NGU0NjI1YWFiYWIzYTdlMjFmYjkwMiA9IEwuY2lyY2xlTWFya2VyKAogICAgICAgICAgICAgICAgWzQzLjY5Njk0NzYsLTc5LjQxMTMwNzIwMDAwMDAxXSwKICAgICAgICAgICAgICAgIHsKICAiYnViYmxpbmdNb3VzZUV2ZW50cyI6IHRydWUsCiAgImNvbG9yIjogImJsdWUiLAogICJkYXNoQXJyYXkiOiBudWxsLAogICJkYXNoT2Zmc2V0IjogbnVsbCwKICAiZmlsbCI6IHRydWUsCiAgImZpbGxDb2xvciI6ICJibHVlIiwKICAiZmlsbE9wYWNpdHkiOiAwLjYsCiAgImZpbGxSdWxlIjogImV2ZW5vZGQiLAogICJsaW5lQ2FwIjogInJvdW5kIiwKICAibGluZUpvaW4iOiAicm91bmQiLAogICJvcGFjaXR5IjogMS4wLAogICJyYWRpdXMiOiA1LAogICJzdHJva2UiOiB0cnVlLAogICJ3ZWlnaHQiOiAzCn0KICAgICAgICAgICAgICAgICkuYWRkVG8obWFwXzFlMWU3ZTc1N2U2NDQyNDQ5ZjFkMjUyODhlNGFhNDk0KTsKICAgICAgICAgICAgCiAgICAKICAgICAgICAgICAgdmFyIHBvcHVwXzQ1ZTI4ODI0YTQxMzQxNmE4YjNhYmJlNGNjYzFkM2VkID0gTC5wb3B1cCh7bWF4V2lkdGg6ICczMDAnfSk7CgogICAgICAgICAgICAKICAgICAgICAgICAgICAgIHZhciBodG1sX2E2M2EyNDliMTFhOTRmNzU5YjM4MWY2ZDIwOWRlN2IyID0gJCgnPGRpdiBpZD0iaHRtbF9hNjNhMjQ5YjExYTk0Zjc1OWIzODFmNmQyMDlkZTdiMiIgc3R5bGU9IndpZHRoOiAxMDAuMCU7IGhlaWdodDogMTAwLjAlOyI+TTVQPC9kaXY+JylbMF07CiAgICAgICAgICAgICAgICBwb3B1cF80NWUyODgyNGE0MTM0MTZhOGIzYWJiZTRjY2MxZDNlZC5zZXRDb250ZW50KGh0bWxfYTYzYTI0OWIxMWE5NGY3NTliMzgxZjZkMjA5ZGU3YjIpOwogICAgICAgICAgICAKCiAgICAgICAgICAgIGNpcmNsZV9tYXJrZXJfNDY2MDZmZGZmODRlNDYyNWFhYmFiM2E3ZTIxZmI5MDIuYmluZFBvcHVwKHBvcHVwXzQ1ZTI4ODI0YTQxMzQxNmE4YjNhYmJlNGNjYzFkM2VkKTsKCiAgICAgICAgICAgIAogICAgICAgIAogICAgCiAgICAgICAgICAgIHZhciBjaXJjbGVfbWFya2VyXzk0YTAzMWFiODJkMjQxYjI4NDI3ZjJmOTZlZmFmYjI5ID0gTC5jaXJjbGVNYXJrZXIoCiAgICAgICAgICAgICAgICBbNDMuNjYxNjA4MywtNzkuNDY0NzYzMjk5OTk5OTldLAogICAgICAgICAgICAgICAgewogICJidWJibGluZ01vdXNlRXZlbnRzIjogdHJ1ZSwKICAiY29sb3IiOiAiYmx1ZSIsCiAgImRhc2hBcnJheSI6IG51bGwsCiAgImRhc2hPZmZzZXQiOiBudWxsLAogICJmaWxsIjogdHJ1ZSwKICAiZmlsbENvbG9yIjogImJsdWUiLAogICJmaWxsT3BhY2l0eSI6IDAuNiwKICAiZmlsbFJ1bGUiOiAiZXZlbm9kZCIsCiAgImxpbmVDYXAiOiAicm91bmQiLAogICJsaW5lSm9pbiI6ICJyb3VuZCIsCiAgIm9wYWNpdHkiOiAxLjAsCiAgInJhZGl1cyI6IDUsCiAgInN0cm9rZSI6IHRydWUsCiAgIndlaWdodCI6IDMKfQogICAgICAgICAgICAgICAgKS5hZGRUbyhtYXBfMWUxZTdlNzU3ZTY0NDI0NDlmMWQyNTI4OGU0YWE0OTQpOwogICAgICAgICAgICAKICAgIAogICAgICAgICAgICB2YXIgcG9wdXBfYmMzZDc1OTVhNTgyNGQyNjgyYTA5MDdjYjBlNTg0NDYgPSBMLnBvcHVwKHttYXhXaWR0aDogJzMwMCd9KTsKCiAgICAgICAgICAgIAogICAgICAgICAgICAgICAgdmFyIGh0bWxfYmY5MTRiMDZmZGQ2NGU4OTlmMjhlMjE2ODBhZTZkYmYgPSAkKCc8ZGl2IGlkPSJodG1sX2JmOTE0YjA2ZmRkNjRlODk5ZjI4ZTIxNjgwYWU2ZGJmIiBzdHlsZT0id2lkdGg6IDEwMC4wJTsgaGVpZ2h0OiAxMDAuMCU7Ij5NNlA8L2Rpdj4nKVswXTsKICAgICAgICAgICAgICAgIHBvcHVwX2JjM2Q3NTk1YTU4MjRkMjY4MmEwOTA3Y2IwZTU4NDQ2LnNldENvbnRlbnQoaHRtbF9iZjkxNGIwNmZkZDY0ZTg5OWYyOGUyMTY4MGFlNmRiZik7CiAgICAgICAgICAgIAoKICAgICAgICAgICAgY2lyY2xlX21hcmtlcl85NGEwMzFhYjgyZDI0MWIyODQyN2YyZjk2ZWZhZmIyOS5iaW5kUG9wdXAocG9wdXBfYmMzZDc1OTVhNTgyNGQyNjgyYTA5MDdjYjBlNTg0NDYpOwoKICAgICAgICAgICAgCiAgICAgICAgCiAgICAKICAgICAgICAgICAgdmFyIGNpcmNsZV9tYXJrZXJfZjYwODNhMDdlMTcwNDczNWE5NTNkNTQ5ZjFiOTExYTggPSBMLmNpcmNsZU1hcmtlcigKICAgICAgICAgICAgICAgIFs0My42OTYzMTksLTc5LjUzMjI0MjQwMDAwMDAyXSwKICAgICAgICAgICAgICAgIHsKICAiYnViYmxpbmdNb3VzZUV2ZW50cyI6IHRydWUsCiAgImNvbG9yIjogImJsdWUiLAogICJkYXNoQXJyYXkiOiBudWxsLAogICJkYXNoT2Zmc2V0IjogbnVsbCwKICAiZmlsbCI6IHRydWUsCiAgImZpbGxDb2xvciI6ICJibHVlIiwKICAiZmlsbE9wYWNpdHkiOiAwLjYsCiAgImZpbGxSdWxlIjogImV2ZW5vZGQiLAogICJsaW5lQ2FwIjogInJvdW5kIiwKICAibGluZUpvaW4iOiAicm91bmQiLAogICJvcGFjaXR5IjogMS4wLAogICJyYWRpdXMiOiA1LAogICJzdHJva2UiOiB0cnVlLAogICJ3ZWlnaHQiOiAzCn0KICAgICAgICAgICAgICAgICkuYWRkVG8obWFwXzFlMWU3ZTc1N2U2NDQyNDQ5ZjFkMjUyODhlNGFhNDk0KTsKICAgICAgICAgICAgCiAgICAKICAgICAgICAgICAgdmFyIHBvcHVwXzQ3MjBjYTNiYzUyMjQwMmY4ZTEwMzhmNmUxZmUxMmNlID0gTC5wb3B1cCh7bWF4V2lkdGg6ICczMDAnfSk7CgogICAgICAgICAgICAKICAgICAgICAgICAgICAgIHZhciBodG1sXzk0MDRkYmZmZTkzNTRlM2FiNjI4MjIwODJkOWFiZjQyID0gJCgnPGRpdiBpZD0iaHRtbF85NDA0ZGJmZmU5MzU0ZTNhYjYyODIyMDgyZDlhYmY0MiIgc3R5bGU9IndpZHRoOiAxMDAuMCU7IGhlaWdodDogMTAwLjAlOyI+TTlQPC9kaXY+JylbMF07CiAgICAgICAgICAgICAgICBwb3B1cF80NzIwY2EzYmM1MjI0MDJmOGUxMDM4ZjZlMWZlMTJjZS5zZXRDb250ZW50KGh0bWxfOTQwNGRiZmZlOTM1NGUzYWI2MjgyMjA4MmQ5YWJmNDIpOwogICAgICAgICAgICAKCiAgICAgICAgICAgIGNpcmNsZV9tYXJrZXJfZjYwODNhMDdlMTcwNDczNWE5NTNkNTQ5ZjFiOTExYTguYmluZFBvcHVwKHBvcHVwXzQ3MjBjYTNiYzUyMjQwMmY4ZTEwMzhmNmUxZmUxMmNlKTsKCiAgICAgICAgICAgIAogICAgICAgIAogICAgCiAgICAgICAgICAgIHZhciBjaXJjbGVfbWFya2VyXzU5OGE0NzExOWFkMjRiMTI4OGUzMzYyNTBiNTE3ZDBhID0gTC5jaXJjbGVNYXJrZXIoCiAgICAgICAgICAgICAgICBbNDMuNzUwMDcxNTAwMDAwMDA0LC03OS4yOTU4NDkxXSwKICAgICAgICAgICAgICAgIHsKICAiYnViYmxpbmdNb3VzZUV2ZW50cyI6IHRydWUsCiAgImNvbG9yIjogImJsdWUiLAogICJkYXNoQXJyYXkiOiBudWxsLAogICJkYXNoT2Zmc2V0IjogbnVsbCwKICAiZmlsbCI6IHRydWUsCiAgImZpbGxDb2xvciI6ICJibHVlIiwKICAiZmlsbE9wYWNpdHkiOiAwLjYsCiAgImZpbGxSdWxlIjogImV2ZW5vZGQiLAogICJsaW5lQ2FwIjogInJvdW5kIiwKICAibGluZUpvaW4iOiAicm91bmQiLAogICJvcGFjaXR5IjogMS4wLAogICJyYWRpdXMiOiA1LAogICJzdHJva2UiOiB0cnVlLAogICJ3ZWlnaHQiOiAzCn0KICAgICAgICAgICAgICAgICkuYWRkVG8obWFwXzFlMWU3ZTc1N2U2NDQyNDQ5ZjFkMjUyODhlNGFhNDk0KTsKICAgICAgICAgICAgCiAgICAKICAgICAgICAgICAgdmFyIHBvcHVwX2QzMTQ1YmM4MDdkYTQ1ZTI4M2Q0Y2ZkZDI3Yjc4OWU0ID0gTC5wb3B1cCh7bWF4V2lkdGg6ICczMDAnfSk7CgogICAgICAgICAgICAKICAgICAgICAgICAgICAgIHZhciBodG1sXzBiZTdmMzljZGUzMTQ1ZmQ5ZmE2Mjg0YmYzOGU5OGE2ID0gJCgnPGRpdiBpZD0iaHRtbF8wYmU3ZjM5Y2RlMzE0NWZkOWZhNjI4NGJmMzhlOThhNiIgc3R5bGU9IndpZHRoOiAxMDAuMCU7IGhlaWdodDogMTAwLjAlOyI+TTFSPC9kaXY+JylbMF07CiAgICAgICAgICAgICAgICBwb3B1cF9kMzE0NWJjODA3ZGE0NWUyODNkNGNmZGQyN2I3ODllNC5zZXRDb250ZW50KGh0bWxfMGJlN2YzOWNkZTMxNDVmZDlmYTYyODRiZjM4ZTk4YTYpOwogICAgICAgICAgICAKCiAgICAgICAgICAgIGNpcmNsZV9tYXJrZXJfNTk4YTQ3MTE5YWQyNGIxMjg4ZTMzNjI1MGI1MTdkMGEuYmluZFBvcHVwKHBvcHVwX2QzMTQ1YmM4MDdkYTQ1ZTI4M2Q0Y2ZkZDI3Yjc4OWU0KTsKCiAgICAgICAgICAgIAogICAgICAgIAogICAgCiAgICAgICAgICAgIHZhciBjaXJjbGVfbWFya2VyXzc1MDJhZjAzMWVhOTQzNmRiYmE5ODU4MTJjNDMzMTRlID0gTC5jaXJjbGVNYXJrZXIoCiAgICAgICAgICAgICAgICBbNDMuNzgyNzM2NCwtNzkuNDQyMjU5M10sCiAgICAgICAgICAgICAgICB7CiAgImJ1YmJsaW5nTW91c2VFdmVudHMiOiB0cnVlLAogICJjb2xvciI6ICJibHVlIiwKICAiZGFzaEFycmF5IjogbnVsbCwKICAiZGFzaE9mZnNldCI6IG51bGwsCiAgImZpbGwiOiB0cnVlLAogICJmaWxsQ29sb3IiOiAiYmx1ZSIsCiAgImZpbGxPcGFjaXR5IjogMC42LAogICJmaWxsUnVsZSI6ICJldmVub2RkIiwKICAibGluZUNhcCI6ICJyb3VuZCIsCiAgImxpbmVKb2luIjogInJvdW5kIiwKICAib3BhY2l0eSI6IDEuMCwKICAicmFkaXVzIjogNSwKICAic3Ryb2tlIjogdHJ1ZSwKICAid2VpZ2h0IjogMwp9CiAgICAgICAgICAgICAgICApLmFkZFRvKG1hcF8xZTFlN2U3NTdlNjQ0MjQ0OWYxZDI1Mjg4ZTRhYTQ5NCk7CiAgICAgICAgICAgIAogICAgCiAgICAgICAgICAgIHZhciBwb3B1cF9hNDM2OWFhZGJiMmY0ZTY5YTc3NWU4MzdlYWEwZmYwYiA9IEwucG9wdXAoe21heFdpZHRoOiAnMzAwJ30pOwoKICAgICAgICAgICAgCiAgICAgICAgICAgICAgICB2YXIgaHRtbF85MTEwOGJkODg5ZjI0YzNiODUxMDg0ODk3NmFhMmZhMyA9ICQoJzxkaXYgaWQ9Imh0bWxfOTExMDhiZDg4OWYyNGMzYjg1MTA4NDg5NzZhYTJmYTMiIHN0eWxlPSJ3aWR0aDogMTAwLjAlOyBoZWlnaHQ6IDEwMC4wJTsiPk0yUjwvZGl2PicpWzBdOwogICAgICAgICAgICAgICAgcG9wdXBfYTQzNjlhYWRiYjJmNGU2OWE3NzVlODM3ZWFhMGZmMGIuc2V0Q29udGVudChodG1sXzkxMTA4YmQ4ODlmMjRjM2I4NTEwODQ4OTc2YWEyZmEzKTsKICAgICAgICAgICAgCgogICAgICAgICAgICBjaXJjbGVfbWFya2VyXzc1MDJhZjAzMWVhOTQzNmRiYmE5ODU4MTJjNDMzMTRlLmJpbmRQb3B1cChwb3B1cF9hNDM2OWFhZGJiMmY0ZTY5YTc3NWU4MzdlYWEwZmYwYik7CgogICAgICAgICAgICAKICAgICAgICAKICAgIAogICAgICAgICAgICB2YXIgY2lyY2xlX21hcmtlcl8wMjE2NzcxMDExNDQ0Mjc3OTA0NGIzNGRjMzdmODE3ZSA9IEwuY2lyY2xlTWFya2VyKAogICAgICAgICAgICAgICAgWzQzLjcxNTM4MzQsLTc5LjQwNTY3ODQwMDAwMDAxXSwKICAgICAgICAgICAgICAgIHsKICAiYnViYmxpbmdNb3VzZUV2ZW50cyI6IHRydWUsCiAgImNvbG9yIjogImJsdWUiLAogICJkYXNoQXJyYXkiOiBudWxsLAogICJkYXNoT2Zmc2V0IjogbnVsbCwKICAiZmlsbCI6IHRydWUsCiAgImZpbGxDb2xvciI6ICJibHVlIiwKICAiZmlsbE9wYWNpdHkiOiAwLjYsCiAgImZpbGxSdWxlIjogImV2ZW5vZGQiLAogICJsaW5lQ2FwIjogInJvdW5kIiwKICAibGluZUpvaW4iOiAicm91bmQiLAogICJvcGFjaXR5IjogMS4wLAogICJyYWRpdXMiOiA1LAogICJzdHJva2UiOiB0cnVlLAogICJ3ZWlnaHQiOiAzCn0KICAgICAgICAgICAgICAgICkuYWRkVG8obWFwXzFlMWU3ZTc1N2U2NDQyNDQ5ZjFkMjUyODhlNGFhNDk0KTsKICAgICAgICAgICAgCiAgICAKICAgICAgICAgICAgdmFyIHBvcHVwX2NiYWEyNjZhZmFmMDQ4NTQ4YThjZThlYWZjMTcxYjcwID0gTC5wb3B1cCh7bWF4V2lkdGg6ICczMDAnfSk7CgogICAgICAgICAgICAKICAgICAgICAgICAgICAgIHZhciBodG1sX2JmZGRhNThiNWYzOTQ0M2Q4YjUyOTA1ZTVhNTJiMmJhID0gJCgnPGRpdiBpZD0iaHRtbF9iZmRkYTU4YjVmMzk0NDNkOGI1MjkwNWU1YTUyYjJiYSIgc3R5bGU9IndpZHRoOiAxMDAuMCU7IGhlaWdodDogMTAwLjAlOyI+TTRSPC9kaXY+JylbMF07CiAgICAgICAgICAgICAgICBwb3B1cF9jYmFhMjY2YWZhZjA0ODU0OGE4Y2U4ZWFmYzE3MWI3MC5zZXRDb250ZW50KGh0bWxfYmZkZGE1OGI1ZjM5NDQzZDhiNTI5MDVlNWE1MmIyYmEpOwogICAgICAgICAgICAKCiAgICAgICAgICAgIGNpcmNsZV9tYXJrZXJfMDIxNjc3MTAxMTQ0NDI3NzkwNDRiMzRkYzM3ZjgxN2UuYmluZFBvcHVwKHBvcHVwX2NiYWEyNjZhZmFmMDQ4NTQ4YThjZThlYWZjMTcxYjcwKTsKCiAgICAgICAgICAgIAogICAgICAgIAogICAgCiAgICAgICAgICAgIHZhciBjaXJjbGVfbWFya2VyXzJmMjQzNjNmMDgxOTQxNTdhZmExZGI1ZjJiMzNiZDA4ID0gTC5jaXJjbGVNYXJrZXIoCiAgICAgICAgICAgICAgICBbNDMuNjcyNzA5NywtNzkuNDA1Njc4NDAwMDAwMDFdLAogICAgICAgICAgICAgICAgewogICJidWJibGluZ01vdXNlRXZlbnRzIjogdHJ1ZSwKICAiY29sb3IiOiAiYmx1ZSIsCiAgImRhc2hBcnJheSI6IG51bGwsCiAgImRhc2hPZmZzZXQiOiBudWxsLAogICJmaWxsIjogdHJ1ZSwKICAiZmlsbENvbG9yIjogImJsdWUiLAogICJmaWxsT3BhY2l0eSI6IDAuNiwKICAiZmlsbFJ1bGUiOiAiZXZlbm9kZCIsCiAgImxpbmVDYXAiOiAicm91bmQiLAogICJsaW5lSm9pbiI6ICJyb3VuZCIsCiAgIm9wYWNpdHkiOiAxLjAsCiAgInJhZGl1cyI6IDUsCiAgInN0cm9rZSI6IHRydWUsCiAgIndlaWdodCI6IDMKfQogICAgICAgICAgICAgICAgKS5hZGRUbyhtYXBfMWUxZTdlNzU3ZTY0NDI0NDlmMWQyNTI4OGU0YWE0OTQpOwogICAgICAgICAgICAKICAgIAogICAgICAgICAgICB2YXIgcG9wdXBfNDM2YzFiNTBlM2RjNDg5Nzg2N2I1Mjc0YTc2MDRiOTQgPSBMLnBvcHVwKHttYXhXaWR0aDogJzMwMCd9KTsKCiAgICAgICAgICAgIAogICAgICAgICAgICAgICAgdmFyIGh0bWxfMDVmODdhYTBkZTdkNGM2NjliMWZhY2RmNTVjMzczYzcgPSAkKCc8ZGl2IGlkPSJodG1sXzA1Zjg3YWEwZGU3ZDRjNjY5YjFmYWNkZjU1YzM3M2M3IiBzdHlsZT0id2lkdGg6IDEwMC4wJTsgaGVpZ2h0OiAxMDAuMCU7Ij5NNVI8L2Rpdj4nKVswXTsKICAgICAgICAgICAgICAgIHBvcHVwXzQzNmMxYjUwZTNkYzQ4OTc4NjdiNTI3NGE3NjA0Yjk0LnNldENvbnRlbnQoaHRtbF8wNWY4N2FhMGRlN2Q0YzY2OWIxZmFjZGY1NWMzNzNjNyk7CiAgICAgICAgICAgIAoKICAgICAgICAgICAgY2lyY2xlX21hcmtlcl8yZjI0MzYzZjA4MTk0MTU3YWZhMWRiNWYyYjMzYmQwOC5iaW5kUG9wdXAocG9wdXBfNDM2YzFiNTBlM2RjNDg5Nzg2N2I1Mjc0YTc2MDRiOTQpOwoKICAgICAgICAgICAgCiAgICAgICAgCiAgICAKICAgICAgICAgICAgdmFyIGNpcmNsZV9tYXJrZXJfOTkwMmFhMjgyMzAxNGE0YjlkYmE5MzY5ODljOGZjZTAgPSBMLmNpcmNsZU1hcmtlcigKICAgICAgICAgICAgICAgIFs0My42NDg5NTk3LC03OS40NTYzMjVdLAogICAgICAgICAgICAgICAgewogICJidWJibGluZ01vdXNlRXZlbnRzIjogdHJ1ZSwKICAiY29sb3IiOiAiYmx1ZSIsCiAgImRhc2hBcnJheSI6IG51bGwsCiAgImRhc2hPZmZzZXQiOiBudWxsLAogICJmaWxsIjogdHJ1ZSwKICAiZmlsbENvbG9yIjogImJsdWUiLAogICJmaWxsT3BhY2l0eSI6IDAuNiwKICAiZmlsbFJ1bGUiOiAiZXZlbm9kZCIsCiAgImxpbmVDYXAiOiAicm91bmQiLAogICJsaW5lSm9pbiI6ICJyb3VuZCIsCiAgIm9wYWNpdHkiOiAxLjAsCiAgInJhZGl1cyI6IDUsCiAgInN0cm9rZSI6IHRydWUsCiAgIndlaWdodCI6IDMKfQogICAgICAgICAgICAgICAgKS5hZGRUbyhtYXBfMWUxZTdlNzU3ZTY0NDI0NDlmMWQyNTI4OGU0YWE0OTQpOwogICAgICAgICAgICAKICAgIAogICAgICAgICAgICB2YXIgcG9wdXBfMjA1Yzk1Mjc0NGMwNGE1ZTgwYWU3NmI5NmMzNDAzM2IgPSBMLnBvcHVwKHttYXhXaWR0aDogJzMwMCd9KTsKCiAgICAgICAgICAgIAogICAgICAgICAgICAgICAgdmFyIGh0bWxfOThkMmI4MmUyNjZkNDYxOGE4NzkyZWYyOTY2ZjlhMGUgPSAkKCc8ZGl2IGlkPSJodG1sXzk4ZDJiODJlMjY2ZDQ2MThhODc5MmVmMjk2NmY5YTBlIiBzdHlsZT0id2lkdGg6IDEwMC4wJTsgaGVpZ2h0OiAxMDAuMCU7Ij5NNlI8L2Rpdj4nKVswXTsKICAgICAgICAgICAgICAgIHBvcHVwXzIwNWM5NTI3NDRjMDRhNWU4MGFlNzZiOTZjMzQwMzNiLnNldENvbnRlbnQoaHRtbF85OGQyYjgyZTI2NmQ0NjE4YTg3OTJlZjI5NjZmOWEwZSk7CiAgICAgICAgICAgIAoKICAgICAgICAgICAgY2lyY2xlX21hcmtlcl85OTAyYWEyODIzMDE0YTRiOWRiYTkzNjk4OWM4ZmNlMC5iaW5kUG9wdXAocG9wdXBfMjA1Yzk1Mjc0NGMwNGE1ZTgwYWU3NmI5NmMzNDAzM2IpOwoKICAgICAgICAgICAgCiAgICAgICAgCiAgICAKICAgICAgICAgICAgdmFyIGNpcmNsZV9tYXJrZXJfNTk4ZmFiNmNmYTE1NDBjNWIxNTM2OTlkZDNlYjRiNTAgPSBMLmNpcmNsZU1hcmtlcigKICAgICAgICAgICAgICAgIFs0My42MzY5NjU2LC03OS42MTU4MTg5OTk5OTk5OV0sCiAgICAgICAgICAgICAgICB7CiAgImJ1YmJsaW5nTW91c2VFdmVudHMiOiB0cnVlLAogICJjb2xvciI6ICJibHVlIiwKICAiZGFzaEFycmF5IjogbnVsbCwKICAiZGFzaE9mZnNldCI6IG51bGwsCiAgImZpbGwiOiB0cnVlLAogICJmaWxsQ29sb3IiOiAiYmx1ZSIsCiAgImZpbGxPcGFjaXR5IjogMC42LAogICJmaWxsUnVsZSI6ICJldmVub2RkIiwKICAibGluZUNhcCI6ICJyb3VuZCIsCiAgImxpbmVKb2luIjogInJvdW5kIiwKICAib3BhY2l0eSI6IDEuMCwKICAicmFkaXVzIjogNSwKICAic3Ryb2tlIjogdHJ1ZSwKICAid2VpZ2h0IjogMwp9CiAgICAgICAgICAgICAgICApLmFkZFRvKG1hcF8xZTFlN2U3NTdlNjQ0MjQ0OWYxZDI1Mjg4ZTRhYTQ5NCk7CiAgICAgICAgICAgIAogICAgCiAgICAgICAgICAgIHZhciBwb3B1cF82YmJmZjIzNWNhMjc0ZGMxOGI4NmIwMzVmNThjNWRmYSA9IEwucG9wdXAoe21heFdpZHRoOiAnMzAwJ30pOwoKICAgICAgICAgICAgCiAgICAgICAgICAgICAgICB2YXIgaHRtbF80MWE5OTVkZGE4NzM0M2ZmODBkMDJjMzgyMzhmNTNlNSA9ICQoJzxkaXYgaWQ9Imh0bWxfNDFhOTk1ZGRhODczNDNmZjgwZDAyYzM4MjM4ZjUzZTUiIHN0eWxlPSJ3aWR0aDogMTAwLjAlOyBoZWlnaHQ6IDEwMC4wJTsiPk03UjwvZGl2PicpWzBdOwogICAgICAgICAgICAgICAgcG9wdXBfNmJiZmYyMzVjYTI3NGRjMThiODZiMDM1ZjU4YzVkZmEuc2V0Q29udGVudChodG1sXzQxYTk5NWRkYTg3MzQzZmY4MGQwMmMzODIzOGY1M2U1KTsKICAgICAgICAgICAgCgogICAgICAgICAgICBjaXJjbGVfbWFya2VyXzU5OGZhYjZjZmExNTQwYzViMTUzNjk5ZGQzZWI0YjUwLmJpbmRQb3B1cChwb3B1cF82YmJmZjIzNWNhMjc0ZGMxOGI4NmIwMzVmNThjNWRmYSk7CgogICAgICAgICAgICAKICAgICAgICAKICAgIAogICAgICAgICAgICB2YXIgY2lyY2xlX21hcmtlcl85OGQ1NzQxOTNhMzA0NzNjYjk5ZTdlMmIxNGQyYTYxNiA9IEwuY2lyY2xlTWFya2VyKAogICAgICAgICAgICAgICAgWzQzLjY4ODkwNTQsLTc5LjU1NDcyNDQwMDAwMDAxXSwKICAgICAgICAgICAgICAgIHsKICAiYnViYmxpbmdNb3VzZUV2ZW50cyI6IHRydWUsCiAgImNvbG9yIjogImJsdWUiLAogICJkYXNoQXJyYXkiOiBudWxsLAogICJkYXNoT2Zmc2V0IjogbnVsbCwKICAiZmlsbCI6IHRydWUsCiAgImZpbGxDb2xvciI6ICJibHVlIiwKICAiZmlsbE9wYWNpdHkiOiAwLjYsCiAgImZpbGxSdWxlIjogImV2ZW5vZGQiLAogICJsaW5lQ2FwIjogInJvdW5kIiwKICAibGluZUpvaW4iOiAicm91bmQiLAogICJvcGFjaXR5IjogMS4wLAogICJyYWRpdXMiOiA1LAogICJzdHJva2UiOiB0cnVlLAogICJ3ZWlnaHQiOiAzCn0KICAgICAgICAgICAgICAgICkuYWRkVG8obWFwXzFlMWU3ZTc1N2U2NDQyNDQ5ZjFkMjUyODhlNGFhNDk0KTsKICAgICAgICAgICAgCiAgICAKICAgICAgICAgICAgdmFyIHBvcHVwXzJlMWU2YmYxNmZkZTQ5ZDZhZDE1MTllN2RmNzUwZTRjID0gTC5wb3B1cCh7bWF4V2lkdGg6ICczMDAnfSk7CgogICAgICAgICAgICAKICAgICAgICAgICAgICAgIHZhciBodG1sXzUzOWFiNjQ2ODMwODQ5ODFhYWJhODY1ZGRkZjE0ZDljID0gJCgnPGRpdiBpZD0iaHRtbF81MzlhYjY0NjgzMDg0OTgxYWFiYTg2NWRkZGYxNGQ5YyIgc3R5bGU9IndpZHRoOiAxMDAuMCU7IGhlaWdodDogMTAwLjAlOyI+TTlSPC9kaXY+JylbMF07CiAgICAgICAgICAgICAgICBwb3B1cF8yZTFlNmJmMTZmZGU0OWQ2YWQxNTE5ZTdkZjc1MGU0Yy5zZXRDb250ZW50KGh0bWxfNTM5YWI2NDY4MzA4NDk4MWFhYmE4NjVkZGRmMTRkOWMpOwogICAgICAgICAgICAKCiAgICAgICAgICAgIGNpcmNsZV9tYXJrZXJfOThkNTc0MTkzYTMwNDczY2I5OWU3ZTJiMTRkMmE2MTYuYmluZFBvcHVwKHBvcHVwXzJlMWU2YmYxNmZkZTQ5ZDZhZDE1MTllN2RmNzUwZTRjKTsKCiAgICAgICAgICAgIAogICAgICAgIAogICAgCiAgICAgICAgICAgIHZhciBjaXJjbGVfbWFya2VyXzliNzNjMTM1ZjYxNzQ1NGE5ODZmNGNjM2I2ODcxZWIyID0gTC5jaXJjbGVNYXJrZXIoCiAgICAgICAgICAgICAgICBbNDMuNzk0MjAwMywtNzkuMjYyMDI5NDAwMDAwMDJdLAogICAgICAgICAgICAgICAgewogICJidWJibGluZ01vdXNlRXZlbnRzIjogdHJ1ZSwKICAiY29sb3IiOiAiYmx1ZSIsCiAgImRhc2hBcnJheSI6IG51bGwsCiAgImRhc2hPZmZzZXQiOiBudWxsLAogICJmaWxsIjogdHJ1ZSwKICAiZmlsbENvbG9yIjogImJsdWUiLAogICJmaWxsT3BhY2l0eSI6IDAuNiwKICAiZmlsbFJ1bGUiOiAiZXZlbm9kZCIsCiAgImxpbmVDYXAiOiAicm91bmQiLAogICJsaW5lSm9pbiI6ICJyb3VuZCIsCiAgIm9wYWNpdHkiOiAxLjAsCiAgInJhZGl1cyI6IDUsCiAgInN0cm9rZSI6IHRydWUsCiAgIndlaWdodCI6IDMKfQogICAgICAgICAgICAgICAgKS5hZGRUbyhtYXBfMWUxZTdlNzU3ZTY0NDI0NDlmMWQyNTI4OGU0YWE0OTQpOwogICAgICAgICAgICAKICAgIAogICAgICAgICAgICB2YXIgcG9wdXBfYWQ5NWVlZDZjOTMzNGFkMmExN2I3MjAyNmYwYjc4NDUgPSBMLnBvcHVwKHttYXhXaWR0aDogJzMwMCd9KTsKCiAgICAgICAgICAgIAogICAgICAgICAgICAgICAgdmFyIGh0bWxfODkzMTExZWE1OWZjNDE4ZGIxNWUwODI4OGRhZmM3ZTQgPSAkKCc8ZGl2IGlkPSJodG1sXzg5MzExMWVhNTlmYzQxOGRiMTVlMDgyODhkYWZjN2U0IiBzdHlsZT0id2lkdGg6IDEwMC4wJTsgaGVpZ2h0OiAxMDAuMCU7Ij5NMVM8L2Rpdj4nKVswXTsKICAgICAgICAgICAgICAgIHBvcHVwX2FkOTVlZWQ2YzkzMzRhZDJhMTdiNzIwMjZmMGI3ODQ1LnNldENvbnRlbnQoaHRtbF84OTMxMTFlYTU5ZmM0MThkYjE1ZTA4Mjg4ZGFmYzdlNCk7CiAgICAgICAgICAgIAoKICAgICAgICAgICAgY2lyY2xlX21hcmtlcl85YjczYzEzNWY2MTc0NTRhOTg2ZjRjYzNiNjg3MWViMi5iaW5kUG9wdXAocG9wdXBfYWQ5NWVlZDZjOTMzNGFkMmExN2I3MjAyNmYwYjc4NDUpOwoKICAgICAgICAgICAgCiAgICAgICAgCiAgICAKICAgICAgICAgICAgdmFyIGNpcmNsZV9tYXJrZXJfYTlkZTMyMjRmYzBiNDY1YTk0YTJhMjI1M2U1ZDFlMTQgPSBMLmNpcmNsZU1hcmtlcigKICAgICAgICAgICAgICAgIFs0My43MDQzMjQ0LC03OS4zODg3OTAxXSwKICAgICAgICAgICAgICAgIHsKICAiYnViYmxpbmdNb3VzZUV2ZW50cyI6IHRydWUsCiAgImNvbG9yIjogImJsdWUiLAogICJkYXNoQXJyYXkiOiBudWxsLAogICJkYXNoT2Zmc2V0IjogbnVsbCwKICAiZmlsbCI6IHRydWUsCiAgImZpbGxDb2xvciI6ICJibHVlIiwKICAiZmlsbE9wYWNpdHkiOiAwLjYsCiAgImZpbGxSdWxlIjogImV2ZW5vZGQiLAogICJsaW5lQ2FwIjogInJvdW5kIiwKICAibGluZUpvaW4iOiAicm91bmQiLAogICJvcGFjaXR5IjogMS4wLAogICJyYWRpdXMiOiA1LAogICJzdHJva2UiOiB0cnVlLAogICJ3ZWlnaHQiOiAzCn0KICAgICAgICAgICAgICAgICkuYWRkVG8obWFwXzFlMWU3ZTc1N2U2NDQyNDQ5ZjFkMjUyODhlNGFhNDk0KTsKICAgICAgICAgICAgCiAgICAKICAgICAgICAgICAgdmFyIHBvcHVwX2EwYTY5MWMyMjAyZjQ4MWQ4NGM3MjEzNmFmYTQ0ODk2ID0gTC5wb3B1cCh7bWF4V2lkdGg6ICczMDAnfSk7CgogICAgICAgICAgICAKICAgICAgICAgICAgICAgIHZhciBodG1sXzkwZjQ1YTlkYmM0ZjQ0ZTJiYjJiNWI4NWQzNTFmZjg5ID0gJCgnPGRpdiBpZD0iaHRtbF85MGY0NWE5ZGJjNGY0NGUyYmIyYjViODVkMzUxZmY4OSIgc3R5bGU9IndpZHRoOiAxMDAuMCU7IGhlaWdodDogMTAwLjAlOyI+TTRTPC9kaXY+JylbMF07CiAgICAgICAgICAgICAgICBwb3B1cF9hMGE2OTFjMjIwMmY0ODFkODRjNzIxMzZhZmE0NDg5Ni5zZXRDb250ZW50KGh0bWxfOTBmNDVhOWRiYzRmNDRlMmJiMmI1Yjg1ZDM1MWZmODkpOwogICAgICAgICAgICAKCiAgICAgICAgICAgIGNpcmNsZV9tYXJrZXJfYTlkZTMyMjRmYzBiNDY1YTk0YTJhMjI1M2U1ZDFlMTQuYmluZFBvcHVwKHBvcHVwX2EwYTY5MWMyMjAyZjQ4MWQ4NGM3MjEzNmFmYTQ0ODk2KTsKCiAgICAgICAgICAgIAogICAgICAgIAogICAgCiAgICAgICAgICAgIHZhciBjaXJjbGVfbWFya2VyXzM4NWNjZTgwZDM5ODRjNGY4Njc0NGJhOWMxZDA4OWRlID0gTC5jaXJjbGVNYXJrZXIoCiAgICAgICAgICAgICAgICBbNDMuNjYyNjk1NiwtNzkuNDAwMDQ5M10sCiAgICAgICAgICAgICAgICB7CiAgImJ1YmJsaW5nTW91c2VFdmVudHMiOiB0cnVlLAogICJjb2xvciI6ICJibHVlIiwKICAiZGFzaEFycmF5IjogbnVsbCwKICAiZGFzaE9mZnNldCI6IG51bGwsCiAgImZpbGwiOiB0cnVlLAogICJmaWxsQ29sb3IiOiAiYmx1ZSIsCiAgImZpbGxPcGFjaXR5IjogMC42LAogICJmaWxsUnVsZSI6ICJldmVub2RkIiwKICAibGluZUNhcCI6ICJyb3VuZCIsCiAgImxpbmVKb2luIjogInJvdW5kIiwKICAib3BhY2l0eSI6IDEuMCwKICAicmFkaXVzIjogNSwKICAic3Ryb2tlIjogdHJ1ZSwKICAid2VpZ2h0IjogMwp9CiAgICAgICAgICAgICAgICApLmFkZFRvKG1hcF8xZTFlN2U3NTdlNjQ0MjQ0OWYxZDI1Mjg4ZTRhYTQ5NCk7CiAgICAgICAgICAgIAogICAgCiAgICAgICAgICAgIHZhciBwb3B1cF80NjcwOWJlNTIxMGE0NjAzYWM0ZjEwNmVjN2NkNjFiZCA9IEwucG9wdXAoe21heFdpZHRoOiAnMzAwJ30pOwoKICAgICAgICAgICAgCiAgICAgICAgICAgICAgICB2YXIgaHRtbF9kZTk0NmNkZTdjM2U0MDQ2YjhlYzk4YWZjNzZiMTE0NCA9ICQoJzxkaXYgaWQ9Imh0bWxfZGU5NDZjZGU3YzNlNDA0NmI4ZWM5OGFmYzc2YjExNDQiIHN0eWxlPSJ3aWR0aDogMTAwLjAlOyBoZWlnaHQ6IDEwMC4wJTsiPk01UzwvZGl2PicpWzBdOwogICAgICAgICAgICAgICAgcG9wdXBfNDY3MDliZTUyMTBhNDYwM2FjNGYxMDZlYzdjZDYxYmQuc2V0Q29udGVudChodG1sX2RlOTQ2Y2RlN2MzZTQwNDZiOGVjOThhZmM3NmIxMTQ0KTsKICAgICAgICAgICAgCgogICAgICAgICAgICBjaXJjbGVfbWFya2VyXzM4NWNjZTgwZDM5ODRjNGY4Njc0NGJhOWMxZDA4OWRlLmJpbmRQb3B1cChwb3B1cF80NjcwOWJlNTIxMGE0NjAzYWM0ZjEwNmVjN2NkNjFiZCk7CgogICAgICAgICAgICAKICAgICAgICAKICAgIAogICAgICAgICAgICB2YXIgY2lyY2xlX21hcmtlcl9lYTVhZDAyMzE2OTk0OGE5YmRkZDk5ZmRkYmRiZTU3MSA9IEwuY2lyY2xlTWFya2VyKAogICAgICAgICAgICAgICAgWzQzLjY1MTU3MDYsLTc5LjQ4NDQ0OTldLAogICAgICAgICAgICAgICAgewogICJidWJibGluZ01vdXNlRXZlbnRzIjogdHJ1ZSwKICAiY29sb3IiOiAiYmx1ZSIsCiAgImRhc2hBcnJheSI6IG51bGwsCiAgImRhc2hPZmZzZXQiOiBudWxsLAogICJmaWxsIjogdHJ1ZSwKICAiZmlsbENvbG9yIjogImJsdWUiLAogICJmaWxsT3BhY2l0eSI6IDAuNiwKICAiZmlsbFJ1bGUiOiAiZXZlbm9kZCIsCiAgImxpbmVDYXAiOiAicm91bmQiLAogICJsaW5lSm9pbiI6ICJyb3VuZCIsCiAgIm9wYWNpdHkiOiAxLjAsCiAgInJhZGl1cyI6IDUsCiAgInN0cm9rZSI6IHRydWUsCiAgIndlaWdodCI6IDMKfQogICAgICAgICAgICAgICAgKS5hZGRUbyhtYXBfMWUxZTdlNzU3ZTY0NDI0NDlmMWQyNTI4OGU0YWE0OTQpOwogICAgICAgICAgICAKICAgIAogICAgICAgICAgICB2YXIgcG9wdXBfODgzOWYyNzkwYTY0NDM3MTgxMjNhZDk4YmIyODY0MTAgPSBMLnBvcHVwKHttYXhXaWR0aDogJzMwMCd9KTsKCiAgICAgICAgICAgIAogICAgICAgICAgICAgICAgdmFyIGh0bWxfMzY4NmJiYWRkMzc3NGZmZGE2Mjk3OWI0NjM3Y2FmNjAgPSAkKCc8ZGl2IGlkPSJodG1sXzM2ODZiYmFkZDM3NzRmZmRhNjI5NzliNDYzN2NhZjYwIiBzdHlsZT0id2lkdGg6IDEwMC4wJTsgaGVpZ2h0OiAxMDAuMCU7Ij5NNlM8L2Rpdj4nKVswXTsKICAgICAgICAgICAgICAgIHBvcHVwXzg4MzlmMjc5MGE2NDQzNzE4MTIzYWQ5OGJiMjg2NDEwLnNldENvbnRlbnQoaHRtbF8zNjg2YmJhZGQzNzc0ZmZkYTYyOTc5YjQ2MzdjYWY2MCk7CiAgICAgICAgICAgIAoKICAgICAgICAgICAgY2lyY2xlX21hcmtlcl9lYTVhZDAyMzE2OTk0OGE5YmRkZDk5ZmRkYmRiZTU3MS5iaW5kUG9wdXAocG9wdXBfODgzOWYyNzkwYTY0NDM3MTgxMjNhZDk4YmIyODY0MTApOwoKICAgICAgICAgICAgCiAgICAgICAgCiAgICAKICAgICAgICAgICAgdmFyIGNpcmNsZV9tYXJrZXJfNmFiMTczYmNmYmQ4NGU0NWE3YmI0ZjkxZWFiZWM1YTYgPSBMLmNpcmNsZU1hcmtlcigKICAgICAgICAgICAgICAgIFs0My43ODE2Mzc1LC03OS4zMDQzMDIxXSwKICAgICAgICAgICAgICAgIHsKICAiYnViYmxpbmdNb3VzZUV2ZW50cyI6IHRydWUsCiAgImNvbG9yIjogImJsdWUiLAogICJkYXNoQXJyYXkiOiBudWxsLAogICJkYXNoT2Zmc2V0IjogbnVsbCwKICAiZmlsbCI6IHRydWUsCiAgImZpbGxDb2xvciI6ICJibHVlIiwKICAiZmlsbE9wYWNpdHkiOiAwLjYsCiAgImZpbGxSdWxlIjogImV2ZW5vZGQiLAogICJsaW5lQ2FwIjogInJvdW5kIiwKICAibGluZUpvaW4iOiAicm91bmQiLAogICJvcGFjaXR5IjogMS4wLAogICJyYWRpdXMiOiA1LAogICJzdHJva2UiOiB0cnVlLAogICJ3ZWlnaHQiOiAzCn0KICAgICAgICAgICAgICAgICkuYWRkVG8obWFwXzFlMWU3ZTc1N2U2NDQyNDQ5ZjFkMjUyODhlNGFhNDk0KTsKICAgICAgICAgICAgCiAgICAKICAgICAgICAgICAgdmFyIHBvcHVwXzk4NDNkOTY3NzAxZTQ3YThhY2NkNzFjNTVlMjhjOTE2ID0gTC5wb3B1cCh7bWF4V2lkdGg6ICczMDAnfSk7CgogICAgICAgICAgICAKICAgICAgICAgICAgICAgIHZhciBodG1sXzI3Y2Q5ZmZkMTQ4YjQ5Yzg4MWRjZDZhZjEzNGY5ZDViID0gJCgnPGRpdiBpZD0iaHRtbF8yN2NkOWZmZDE0OGI0OWM4ODFkY2Q2YWYxMzRmOWQ1YiIgc3R5bGU9IndpZHRoOiAxMDAuMCU7IGhlaWdodDogMTAwLjAlOyI+TTFUPC9kaXY+JylbMF07CiAgICAgICAgICAgICAgICBwb3B1cF85ODQzZDk2NzcwMWU0N2E4YWNjZDcxYzU1ZTI4YzkxNi5zZXRDb250ZW50KGh0bWxfMjdjZDlmZmQxNDhiNDljODgxZGNkNmFmMTM0ZjlkNWIpOwogICAgICAgICAgICAKCiAgICAgICAgICAgIGNpcmNsZV9tYXJrZXJfNmFiMTczYmNmYmQ4NGU0NWE3YmI0ZjkxZWFiZWM1YTYuYmluZFBvcHVwKHBvcHVwXzk4NDNkOTY3NzAxZTQ3YThhY2NkNzFjNTVlMjhjOTE2KTsKCiAgICAgICAgICAgIAogICAgICAgIAogICAgCiAgICAgICAgICAgIHZhciBjaXJjbGVfbWFya2VyX2UzZjZhNTFmNmM4NzRhN2ZiNzAwMjg2ZDgxMjg5MjUxID0gTC5jaXJjbGVNYXJrZXIoCiAgICAgICAgICAgICAgICBbNDMuNjg5NTc0MywtNzkuMzgzMTU5OTAwMDAwMDFdLAogICAgICAgICAgICAgICAgewogICJidWJibGluZ01vdXNlRXZlbnRzIjogdHJ1ZSwKICAiY29sb3IiOiAiYmx1ZSIsCiAgImRhc2hBcnJheSI6IG51bGwsCiAgImRhc2hPZmZzZXQiOiBudWxsLAogICJmaWxsIjogdHJ1ZSwKICAiZmlsbENvbG9yIjogImJsdWUiLAogICJmaWxsT3BhY2l0eSI6IDAuNiwKICAiZmlsbFJ1bGUiOiAiZXZlbm9kZCIsCiAgImxpbmVDYXAiOiAicm91bmQiLAogICJsaW5lSm9pbiI6ICJyb3VuZCIsCiAgIm9wYWNpdHkiOiAxLjAsCiAgInJhZGl1cyI6IDUsCiAgInN0cm9rZSI6IHRydWUsCiAgIndlaWdodCI6IDMKfQogICAgICAgICAgICAgICAgKS5hZGRUbyhtYXBfMWUxZTdlNzU3ZTY0NDI0NDlmMWQyNTI4OGU0YWE0OTQpOwogICAgICAgICAgICAKICAgIAogICAgICAgICAgICB2YXIgcG9wdXBfZGM2YTE3OTU3ODYxNDdlMDg2ZWUzZWQyM2ZhYmUzMTAgPSBMLnBvcHVwKHttYXhXaWR0aDogJzMwMCd9KTsKCiAgICAgICAgICAgIAogICAgICAgICAgICAgICAgdmFyIGh0bWxfMDkxZmM4YmM4ZDliNGNkYWEzM2VkNDQ1MTM4ZmU4MzUgPSAkKCc8ZGl2IGlkPSJodG1sXzA5MWZjOGJjOGQ5YjRjZGFhMzNlZDQ0NTEzOGZlODM1IiBzdHlsZT0id2lkdGg6IDEwMC4wJTsgaGVpZ2h0OiAxMDAuMCU7Ij5NNFQ8L2Rpdj4nKVswXTsKICAgICAgICAgICAgICAgIHBvcHVwX2RjNmExNzk1Nzg2MTQ3ZTA4NmVlM2VkMjNmYWJlMzEwLnNldENvbnRlbnQoaHRtbF8wOTFmYzhiYzhkOWI0Y2RhYTMzZWQ0NDUxMzhmZTgzNSk7CiAgICAgICAgICAgIAoKICAgICAgICAgICAgY2lyY2xlX21hcmtlcl9lM2Y2YTUxZjZjODc0YTdmYjcwMDI4NmQ4MTI4OTI1MS5iaW5kUG9wdXAocG9wdXBfZGM2YTE3OTU3ODYxNDdlMDg2ZWUzZWQyM2ZhYmUzMTApOwoKICAgICAgICAgICAgCiAgICAgICAgCiAgICAKICAgICAgICAgICAgdmFyIGNpcmNsZV9tYXJrZXJfOTljNjE0M2RhMGJiNDBiNzkxMmQxNzViN2YxNjgxYmMgPSBMLmNpcmNsZU1hcmtlcigKICAgICAgICAgICAgICAgIFs0My42NTMyMDU3LC03OS40MDAwNDkzXSwKICAgICAgICAgICAgICAgIHsKICAiYnViYmxpbmdNb3VzZUV2ZW50cyI6IHRydWUsCiAgImNvbG9yIjogImJsdWUiLAogICJkYXNoQXJyYXkiOiBudWxsLAogICJkYXNoT2Zmc2V0IjogbnVsbCwKICAiZmlsbCI6IHRydWUsCiAgImZpbGxDb2xvciI6ICJibHVlIiwKICAiZmlsbE9wYWNpdHkiOiAwLjYsCiAgImZpbGxSdWxlIjogImV2ZW5vZGQiLAogICJsaW5lQ2FwIjogInJvdW5kIiwKICAibGluZUpvaW4iOiAicm91bmQiLAogICJvcGFjaXR5IjogMS4wLAogICJyYWRpdXMiOiA1LAogICJzdHJva2UiOiB0cnVlLAogICJ3ZWlnaHQiOiAzCn0KICAgICAgICAgICAgICAgICkuYWRkVG8obWFwXzFlMWU3ZTc1N2U2NDQyNDQ5ZjFkMjUyODhlNGFhNDk0KTsKICAgICAgICAgICAgCiAgICAKICAgICAgICAgICAgdmFyIHBvcHVwXzk1NTFhMDAzMWU4YjQxNTBiN2U2Y2FlNzZiMjdkZDgyID0gTC5wb3B1cCh7bWF4V2lkdGg6ICczMDAnfSk7CgogICAgICAgICAgICAKICAgICAgICAgICAgICAgIHZhciBodG1sX2QxMjFjYzE3MGMyNzQ2ZjY5NmUxMzhlZTAyOTljY2E1ID0gJCgnPGRpdiBpZD0iaHRtbF9kMTIxY2MxNzBjMjc0NmY2OTZlMTM4ZWUwMjk5Y2NhNSIgc3R5bGU9IndpZHRoOiAxMDAuMCU7IGhlaWdodDogMTAwLjAlOyI+TTVUPC9kaXY+JylbMF07CiAgICAgICAgICAgICAgICBwb3B1cF85NTUxYTAwMzFlOGI0MTUwYjdlNmNhZTc2YjI3ZGQ4Mi5zZXRDb250ZW50KGh0bWxfZDEyMWNjMTcwYzI3NDZmNjk2ZTEzOGVlMDI5OWNjYTUpOwogICAgICAgICAgICAKCiAgICAgICAgICAgIGNpcmNsZV9tYXJrZXJfOTljNjE0M2RhMGJiNDBiNzkxMmQxNzViN2YxNjgxYmMuYmluZFBvcHVwKHBvcHVwXzk1NTFhMDAzMWU4YjQxNTBiN2U2Y2FlNzZiMjdkZDgyKTsKCiAgICAgICAgICAgIAogICAgICAgIAogICAgCiAgICAgICAgICAgIHZhciBjaXJjbGVfbWFya2VyXzc2NWYzZDQ4M2E5NzQ5YjVhZTg4MTM0MmQxYThmNDlhID0gTC5jaXJjbGVNYXJrZXIoCiAgICAgICAgICAgICAgICBbNDMuODE1MjUyMiwtNzkuMjg0NTc3Ml0sCiAgICAgICAgICAgICAgICB7CiAgImJ1YmJsaW5nTW91c2VFdmVudHMiOiB0cnVlLAogICJjb2xvciI6ICJibHVlIiwKICAiZGFzaEFycmF5IjogbnVsbCwKICAiZGFzaE9mZnNldCI6IG51bGwsCiAgImZpbGwiOiB0cnVlLAogICJmaWxsQ29sb3IiOiAiYmx1ZSIsCiAgImZpbGxPcGFjaXR5IjogMC42LAogICJmaWxsUnVsZSI6ICJldmVub2RkIiwKICAibGluZUNhcCI6ICJyb3VuZCIsCiAgImxpbmVKb2luIjogInJvdW5kIiwKICAib3BhY2l0eSI6IDEuMCwKICAicmFkaXVzIjogNSwKICAic3Ryb2tlIjogdHJ1ZSwKICAid2VpZ2h0IjogMwp9CiAgICAgICAgICAgICAgICApLmFkZFRvKG1hcF8xZTFlN2U3NTdlNjQ0MjQ0OWYxZDI1Mjg4ZTRhYTQ5NCk7CiAgICAgICAgICAgIAogICAgCiAgICAgICAgICAgIHZhciBwb3B1cF80MTZkM2NhMTVkODI0N2FmOTk3ZTVhZTNhOTcxN2ZhYyA9IEwucG9wdXAoe21heFdpZHRoOiAnMzAwJ30pOwoKICAgICAgICAgICAgCiAgICAgICAgICAgICAgICB2YXIgaHRtbF8yYmJjNjEzZjZjMTU0NWE3OWU2OWQwN2I5ZTZiNGI4MSA9ICQoJzxkaXYgaWQ9Imh0bWxfMmJiYzYxM2Y2YzE1NDVhNzllNjlkMDdiOWU2YjRiODEiIHN0eWxlPSJ3aWR0aDogMTAwLjAlOyBoZWlnaHQ6IDEwMC4wJTsiPk0xVjwvZGl2PicpWzBdOwogICAgICAgICAgICAgICAgcG9wdXBfNDE2ZDNjYTE1ZDgyNDdhZjk5N2U1YWUzYTk3MTdmYWMuc2V0Q29udGVudChodG1sXzJiYmM2MTNmNmMxNTQ1YTc5ZTY5ZDA3YjllNmI0YjgxKTsKICAgICAgICAgICAgCgogICAgICAgICAgICBjaXJjbGVfbWFya2VyXzc2NWYzZDQ4M2E5NzQ5YjVhZTg4MTM0MmQxYThmNDlhLmJpbmRQb3B1cChwb3B1cF80MTZkM2NhMTVkODI0N2FmOTk3ZTVhZTNhOTcxN2ZhYyk7CgogICAgICAgICAgICAKICAgICAgICAKICAgIAogICAgICAgICAgICB2YXIgY2lyY2xlX21hcmtlcl82ZjBhZjkzOTdjZTk0YzFhYmQzNWE0ZTZiOWVlNmIyYyA9IEwuY2lyY2xlTWFya2VyKAogICAgICAgICAgICAgICAgWzQzLjY4NjQxMjI5OTk5OTk5LC03OS40MDAwNDkzXSwKICAgICAgICAgICAgICAgIHsKICAiYnViYmxpbmdNb3VzZUV2ZW50cyI6IHRydWUsCiAgImNvbG9yIjogImJsdWUiLAogICJkYXNoQXJyYXkiOiBudWxsLAogICJkYXNoT2Zmc2V0IjogbnVsbCwKICAiZmlsbCI6IHRydWUsCiAgImZpbGxDb2xvciI6ICJibHVlIiwKICAiZmlsbE9wYWNpdHkiOiAwLjYsCiAgImZpbGxSdWxlIjogImV2ZW5vZGQiLAogICJsaW5lQ2FwIjogInJvdW5kIiwKICAibGluZUpvaW4iOiAicm91bmQiLAogICJvcGFjaXR5IjogMS4wLAogICJyYWRpdXMiOiA1LAogICJzdHJva2UiOiB0cnVlLAogICJ3ZWlnaHQiOiAzCn0KICAgICAgICAgICAgICAgICkuYWRkVG8obWFwXzFlMWU3ZTc1N2U2NDQyNDQ5ZjFkMjUyODhlNGFhNDk0KTsKICAgICAgICAgICAgCiAgICAKICAgICAgICAgICAgdmFyIHBvcHVwX2E0YTVlNDhmYjQ3MjQ0ODg4MzU2YjUyMTEyZjE4ZDE2ID0gTC5wb3B1cCh7bWF4V2lkdGg6ICczMDAnfSk7CgogICAgICAgICAgICAKICAgICAgICAgICAgICAgIHZhciBodG1sX2EyNjJmMWU5M2U2ZDRhMzk4MDlhM2FkMWExMTY1MjVmID0gJCgnPGRpdiBpZD0iaHRtbF9hMjYyZjFlOTNlNmQ0YTM5ODA5YTNhZDFhMTE2NTI1ZiIgc3R5bGU9IndpZHRoOiAxMDAuMCU7IGhlaWdodDogMTAwLjAlOyI+TTRWPC9kaXY+JylbMF07CiAgICAgICAgICAgICAgICBwb3B1cF9hNGE1ZTQ4ZmI0NzI0NDg4ODM1NmI1MjExMmYxOGQxNi5zZXRDb250ZW50KGh0bWxfYTI2MmYxZTkzZTZkNGEzOTgwOWEzYWQxYTExNjUyNWYpOwogICAgICAgICAgICAKCiAgICAgICAgICAgIGNpcmNsZV9tYXJrZXJfNmYwYWY5Mzk3Y2U5NGMxYWJkMzVhNGU2YjllZTZiMmMuYmluZFBvcHVwKHBvcHVwX2E0YTVlNDhmYjQ3MjQ0ODg4MzU2YjUyMTEyZjE4ZDE2KTsKCiAgICAgICAgICAgIAogICAgICAgIAogICAgCiAgICAgICAgICAgIHZhciBjaXJjbGVfbWFya2VyXzcyOWVlMzM2MDIzZjQyMjc4ZjM5ZjMyMTJjNDk1M2E0ID0gTC5jaXJjbGVNYXJrZXIoCiAgICAgICAgICAgICAgICBbNDMuNjI4OTQ2NywtNzkuMzk0NDE5OV0sCiAgICAgICAgICAgICAgICB7CiAgImJ1YmJsaW5nTW91c2VFdmVudHMiOiB0cnVlLAogICJjb2xvciI6ICJibHVlIiwKICAiZGFzaEFycmF5IjogbnVsbCwKICAiZGFzaE9mZnNldCI6IG51bGwsCiAgImZpbGwiOiB0cnVlLAogICJmaWxsQ29sb3IiOiAiYmx1ZSIsCiAgImZpbGxPcGFjaXR5IjogMC42LAogICJmaWxsUnVsZSI6ICJldmVub2RkIiwKICAibGluZUNhcCI6ICJyb3VuZCIsCiAgImxpbmVKb2luIjogInJvdW5kIiwKICAib3BhY2l0eSI6IDEuMCwKICAicmFkaXVzIjogNSwKICAic3Ryb2tlIjogdHJ1ZSwKICAid2VpZ2h0IjogMwp9CiAgICAgICAgICAgICAgICApLmFkZFRvKG1hcF8xZTFlN2U3NTdlNjQ0MjQ0OWYxZDI1Mjg4ZTRhYTQ5NCk7CiAgICAgICAgICAgIAogICAgCiAgICAgICAgICAgIHZhciBwb3B1cF8zNjJhZTJkNTVkNzg0ZTlkOWVmNmRiYjFlMmZiNjBhNCA9IEwucG9wdXAoe21heFdpZHRoOiAnMzAwJ30pOwoKICAgICAgICAgICAgCiAgICAgICAgICAgICAgICB2YXIgaHRtbF8zZWE0MTA3NzFiZjk0YTNhYjI3YzFmOWNjYmU0YTM3YSA9ICQoJzxkaXYgaWQ9Imh0bWxfM2VhNDEwNzcxYmY5NGEzYWIyN2MxZjljY2JlNGEzN2EiIHN0eWxlPSJ3aWR0aDogMTAwLjAlOyBoZWlnaHQ6IDEwMC4wJTsiPk01VjwvZGl2PicpWzBdOwogICAgICAgICAgICAgICAgcG9wdXBfMzYyYWUyZDU1ZDc4NGU5ZDllZjZkYmIxZTJmYjYwYTQuc2V0Q29udGVudChodG1sXzNlYTQxMDc3MWJmOTRhM2FiMjdjMWY5Y2NiZTRhMzdhKTsKICAgICAgICAgICAgCgogICAgICAgICAgICBjaXJjbGVfbWFya2VyXzcyOWVlMzM2MDIzZjQyMjc4ZjM5ZjMyMTJjNDk1M2E0LmJpbmRQb3B1cChwb3B1cF8zNjJhZTJkNTVkNzg0ZTlkOWVmNmRiYjFlMmZiNjBhNCk7CgogICAgICAgICAgICAKICAgICAgICAKICAgIAogICAgICAgICAgICB2YXIgY2lyY2xlX21hcmtlcl9lOGFjN2Y4YjMxM2I0MmIwYWI5YjQwNDVjZTNmMThjOSA9IEwuY2lyY2xlTWFya2VyKAogICAgICAgICAgICAgICAgWzQzLjYwNTY0NjYsLTc5LjUwMTMyMDcwMDAwMDAxXSwKICAgICAgICAgICAgICAgIHsKICAiYnViYmxpbmdNb3VzZUV2ZW50cyI6IHRydWUsCiAgImNvbG9yIjogImJsdWUiLAogICJkYXNoQXJyYXkiOiBudWxsLAogICJkYXNoT2Zmc2V0IjogbnVsbCwKICAiZmlsbCI6IHRydWUsCiAgImZpbGxDb2xvciI6ICJibHVlIiwKICAiZmlsbE9wYWNpdHkiOiAwLjYsCiAgImZpbGxSdWxlIjogImV2ZW5vZGQiLAogICJsaW5lQ2FwIjogInJvdW5kIiwKICAibGluZUpvaW4iOiAicm91bmQiLAogICJvcGFjaXR5IjogMS4wLAogICJyYWRpdXMiOiA1LAogICJzdHJva2UiOiB0cnVlLAogICJ3ZWlnaHQiOiAzCn0KICAgICAgICAgICAgICAgICkuYWRkVG8obWFwXzFlMWU3ZTc1N2U2NDQyNDQ5ZjFkMjUyODhlNGFhNDk0KTsKICAgICAgICAgICAgCiAgICAKICAgICAgICAgICAgdmFyIHBvcHVwXzkxMjFmNzRhM2I3ODQ4NjZhZTYwMTU4NGVkNzQ3ZDNjID0gTC5wb3B1cCh7bWF4V2lkdGg6ICczMDAnfSk7CgogICAgICAgICAgICAKICAgICAgICAgICAgICAgIHZhciBodG1sXzBiODAxNTdiOWI3ZjQ2Y2Y4ODU5MzYxOTJhM2M5ODgxID0gJCgnPGRpdiBpZD0iaHRtbF8wYjgwMTU3YjliN2Y0NmNmODg1OTM2MTkyYTNjOTg4MSIgc3R5bGU9IndpZHRoOiAxMDAuMCU7IGhlaWdodDogMTAwLjAlOyI+TThWPC9kaXY+JylbMF07CiAgICAgICAgICAgICAgICBwb3B1cF85MTIxZjc0YTNiNzg0ODY2YWU2MDE1ODRlZDc0N2QzYy5zZXRDb250ZW50KGh0bWxfMGI4MDE1N2I5YjdmNDZjZjg4NTkzNjE5MmEzYzk4ODEpOwogICAgICAgICAgICAKCiAgICAgICAgICAgIGNpcmNsZV9tYXJrZXJfZThhYzdmOGIzMTNiNDJiMGFiOWI0MDQ1Y2UzZjE4YzkuYmluZFBvcHVwKHBvcHVwXzkxMjFmNzRhM2I3ODQ4NjZhZTYwMTU4NGVkNzQ3ZDNjKTsKCiAgICAgICAgICAgIAogICAgICAgIAogICAgCiAgICAgICAgICAgIHZhciBjaXJjbGVfbWFya2VyXzZkY2I3NTRhMDZjMTQ4OWY5NjlmMmJhYWI5YzFjYjdjID0gTC5jaXJjbGVNYXJrZXIoCiAgICAgICAgICAgICAgICBbNDMuNzM5NDE2Mzk5OTk5OTk2LC03OS41ODg0MzY5XSwKICAgICAgICAgICAgICAgIHsKICAiYnViYmxpbmdNb3VzZUV2ZW50cyI6IHRydWUsCiAgImNvbG9yIjogImJsdWUiLAogICJkYXNoQXJyYXkiOiBudWxsLAogICJkYXNoT2Zmc2V0IjogbnVsbCwKICAiZmlsbCI6IHRydWUsCiAgImZpbGxDb2xvciI6ICJibHVlIiwKICAiZmlsbE9wYWNpdHkiOiAwLjYsCiAgImZpbGxSdWxlIjogImV2ZW5vZGQiLAogICJsaW5lQ2FwIjogInJvdW5kIiwKICAibGluZUpvaW4iOiAicm91bmQiLAogICJvcGFjaXR5IjogMS4wLAogICJyYWRpdXMiOiA1LAogICJzdHJva2UiOiB0cnVlLAogICJ3ZWlnaHQiOiAzCn0KICAgICAgICAgICAgICAgICkuYWRkVG8obWFwXzFlMWU3ZTc1N2U2NDQyNDQ5ZjFkMjUyODhlNGFhNDk0KTsKICAgICAgICAgICAgCiAgICAKICAgICAgICAgICAgdmFyIHBvcHVwXzViN2E4MzBkZDk1NTQ2NTJiMDg5OTFiZDJkMGM0NzA0ID0gTC5wb3B1cCh7bWF4V2lkdGg6ICczMDAnfSk7CgogICAgICAgICAgICAKICAgICAgICAgICAgICAgIHZhciBodG1sXzM4ZmYzNmYxYzI0YjQ1NTViMjllN2IzM2M1Zjg4ZTM0ID0gJCgnPGRpdiBpZD0iaHRtbF8zOGZmMzZmMWMyNGI0NTU1YjI5ZTdiMzNjNWY4OGUzNCIgc3R5bGU9IndpZHRoOiAxMDAuMCU7IGhlaWdodDogMTAwLjAlOyI+TTlWPC9kaXY+JylbMF07CiAgICAgICAgICAgICAgICBwb3B1cF81YjdhODMwZGQ5NTU0NjUyYjA4OTkxYmQyZDBjNDcwNC5zZXRDb250ZW50KGh0bWxfMzhmZjM2ZjFjMjRiNDU1NWIyOWU3YjMzYzVmODhlMzQpOwogICAgICAgICAgICAKCiAgICAgICAgICAgIGNpcmNsZV9tYXJrZXJfNmRjYjc1NGEwNmMxNDg5Zjk2OWYyYmFhYjljMWNiN2MuYmluZFBvcHVwKHBvcHVwXzViN2E4MzBkZDk1NTQ2NTJiMDg5OTFiZDJkMGM0NzA0KTsKCiAgICAgICAgICAgIAogICAgICAgIAogICAgCiAgICAgICAgICAgIHZhciBjaXJjbGVfbWFya2VyX2UxYjhkNzYxOGU2MzQwNmU5NjgzMzRlZjNkY2VlYjk1ID0gTC5jaXJjbGVNYXJrZXIoCiAgICAgICAgICAgICAgICBbNDMuNzk5NTI1MjAwMDAwMDA1LC03OS4zMTgzODg3XSwKICAgICAgICAgICAgICAgIHsKICAiYnViYmxpbmdNb3VzZUV2ZW50cyI6IHRydWUsCiAgImNvbG9yIjogImJsdWUiLAogICJkYXNoQXJyYXkiOiBudWxsLAogICJkYXNoT2Zmc2V0IjogbnVsbCwKICAiZmlsbCI6IHRydWUsCiAgImZpbGxDb2xvciI6ICJibHVlIiwKICAiZmlsbE9wYWNpdHkiOiAwLjYsCiAgImZpbGxSdWxlIjogImV2ZW5vZGQiLAogICJsaW5lQ2FwIjogInJvdW5kIiwKICAibGluZUpvaW4iOiAicm91bmQiLAogICJvcGFjaXR5IjogMS4wLAogICJyYWRpdXMiOiA1LAogICJzdHJva2UiOiB0cnVlLAogICJ3ZWlnaHQiOiAzCn0KICAgICAgICAgICAgICAgICkuYWRkVG8obWFwXzFlMWU3ZTc1N2U2NDQyNDQ5ZjFkMjUyODhlNGFhNDk0KTsKICAgICAgICAgICAgCiAgICAKICAgICAgICAgICAgdmFyIHBvcHVwXzNhY2UyNzgzN2FkMjQxZGRhYTIyMjQxMDhiOGZiZDA0ID0gTC5wb3B1cCh7bWF4V2lkdGg6ICczMDAnfSk7CgogICAgICAgICAgICAKICAgICAgICAgICAgICAgIHZhciBodG1sXzAzMWM0MDIwMjEyZjQ3ZjJiMzVlZTJlYTU0MTk1ZDYxID0gJCgnPGRpdiBpZD0iaHRtbF8wMzFjNDAyMDIxMmY0N2YyYjM1ZWUyZWE1NDE5NWQ2MSIgc3R5bGU9IndpZHRoOiAxMDAuMCU7IGhlaWdodDogMTAwLjAlOyI+TTFXPC9kaXY+JylbMF07CiAgICAgICAgICAgICAgICBwb3B1cF8zYWNlMjc4MzdhZDI0MWRkYWEyMjI0MTA4YjhmYmQwNC5zZXRDb250ZW50KGh0bWxfMDMxYzQwMjAyMTJmNDdmMmIzNWVlMmVhNTQxOTVkNjEpOwogICAgICAgICAgICAKCiAgICAgICAgICAgIGNpcmNsZV9tYXJrZXJfZTFiOGQ3NjE4ZTYzNDA2ZTk2ODMzNGVmM2RjZWViOTUuYmluZFBvcHVwKHBvcHVwXzNhY2UyNzgzN2FkMjQxZGRhYTIyMjQxMDhiOGZiZDA0KTsKCiAgICAgICAgICAgIAogICAgICAgIAogICAgCiAgICAgICAgICAgIHZhciBjaXJjbGVfbWFya2VyXzZjNTczNWNiY2RiMjQ5YzRiMzUxN2FhOGEyNzI0ZmQ4ID0gTC5jaXJjbGVNYXJrZXIoCiAgICAgICAgICAgICAgICBbNDMuNjc5NTYyNiwtNzkuMzc3NTI5NDAwMDAwMDFdLAogICAgICAgICAgICAgICAgewogICJidWJibGluZ01vdXNlRXZlbnRzIjogdHJ1ZSwKICAiY29sb3IiOiAiYmx1ZSIsCiAgImRhc2hBcnJheSI6IG51bGwsCiAgImRhc2hPZmZzZXQiOiBudWxsLAogICJmaWxsIjogdHJ1ZSwKICAiZmlsbENvbG9yIjogImJsdWUiLAogICJmaWxsT3BhY2l0eSI6IDAuNiwKICAiZmlsbFJ1bGUiOiAiZXZlbm9kZCIsCiAgImxpbmVDYXAiOiAicm91bmQiLAogICJsaW5lSm9pbiI6ICJyb3VuZCIsCiAgIm9wYWNpdHkiOiAxLjAsCiAgInJhZGl1cyI6IDUsCiAgInN0cm9rZSI6IHRydWUsCiAgIndlaWdodCI6IDMKfQogICAgICAgICAgICAgICAgKS5hZGRUbyhtYXBfMWUxZTdlNzU3ZTY0NDI0NDlmMWQyNTI4OGU0YWE0OTQpOwogICAgICAgICAgICAKICAgIAogICAgICAgICAgICB2YXIgcG9wdXBfNjQ2MzhhZWVhZGIyNDU0N2FhYzdlYjE1MGYyMTVjMTMgPSBMLnBvcHVwKHttYXhXaWR0aDogJzMwMCd9KTsKCiAgICAgICAgICAgIAogICAgICAgICAgICAgICAgdmFyIGh0bWxfNDZlNTI0N2QwZGZiNDk5NGI3NTFkNjk1N2ExYzAwNDkgPSAkKCc8ZGl2IGlkPSJodG1sXzQ2ZTUyNDdkMGRmYjQ5OTRiNzUxZDY5NTdhMWMwMDQ5IiBzdHlsZT0id2lkdGg6IDEwMC4wJTsgaGVpZ2h0OiAxMDAuMCU7Ij5NNFc8L2Rpdj4nKVswXTsKICAgICAgICAgICAgICAgIHBvcHVwXzY0NjM4YWVlYWRiMjQ1NDdhYWM3ZWIxNTBmMjE1YzEzLnNldENvbnRlbnQoaHRtbF80NmU1MjQ3ZDBkZmI0OTk0Yjc1MWQ2OTU3YTFjMDA0OSk7CiAgICAgICAgICAgIAoKICAgICAgICAgICAgY2lyY2xlX21hcmtlcl82YzU3MzVjYmNkYjI0OWM0YjM1MTdhYThhMjcyNGZkOC5iaW5kUG9wdXAocG9wdXBfNjQ2MzhhZWVhZGIyNDU0N2FhYzdlYjE1MGYyMTVjMTMpOwoKICAgICAgICAgICAgCiAgICAgICAgCiAgICAKICAgICAgICAgICAgdmFyIGNpcmNsZV9tYXJrZXJfN2M0NWZjYTczMDdjNGJmNjkyYTNhYzk0ZTY0MzgzNmUgPSBMLmNpcmNsZU1hcmtlcigKICAgICAgICAgICAgICAgIFs0My42NDY0MzUyLC03OS4zNzQ4NDU5OTk5OTk5OV0sCiAgICAgICAgICAgICAgICB7CiAgImJ1YmJsaW5nTW91c2VFdmVudHMiOiB0cnVlLAogICJjb2xvciI6ICJibHVlIiwKICAiZGFzaEFycmF5IjogbnVsbCwKICAiZGFzaE9mZnNldCI6IG51bGwsCiAgImZpbGwiOiB0cnVlLAogICJmaWxsQ29sb3IiOiAiYmx1ZSIsCiAgImZpbGxPcGFjaXR5IjogMC42LAogICJmaWxsUnVsZSI6ICJldmVub2RkIiwKICAibGluZUNhcCI6ICJyb3VuZCIsCiAgImxpbmVKb2luIjogInJvdW5kIiwKICAib3BhY2l0eSI6IDEuMCwKICAicmFkaXVzIjogNSwKICAic3Ryb2tlIjogdHJ1ZSwKICAid2VpZ2h0IjogMwp9CiAgICAgICAgICAgICAgICApLmFkZFRvKG1hcF8xZTFlN2U3NTdlNjQ0MjQ0OWYxZDI1Mjg4ZTRhYTQ5NCk7CiAgICAgICAgICAgIAogICAgCiAgICAgICAgICAgIHZhciBwb3B1cF83YjhjZDA1ZjgwZWM0ZDRhODk5ZGM5OTAxNzJhZmEyNSA9IEwucG9wdXAoe21heFdpZHRoOiAnMzAwJ30pOwoKICAgICAgICAgICAgCiAgICAgICAgICAgICAgICB2YXIgaHRtbF84MGIxMTg4MWJkODg0NWI4YWUyMmZlN2U0NWE0NGRiMCA9ICQoJzxkaXYgaWQ9Imh0bWxfODBiMTE4ODFiZDg4NDViOGFlMjJmZTdlNDVhNDRkYjAiIHN0eWxlPSJ3aWR0aDogMTAwLjAlOyBoZWlnaHQ6IDEwMC4wJTsiPk01VzwvZGl2PicpWzBdOwogICAgICAgICAgICAgICAgcG9wdXBfN2I4Y2QwNWY4MGVjNGQ0YTg5OWRjOTkwMTcyYWZhMjUuc2V0Q29udGVudChodG1sXzgwYjExODgxYmQ4ODQ1YjhhZTIyZmU3ZTQ1YTQ0ZGIwKTsKICAgICAgICAgICAgCgogICAgICAgICAgICBjaXJjbGVfbWFya2VyXzdjNDVmY2E3MzA3YzRiZjY5MmEzYWM5NGU2NDM4MzZlLmJpbmRQb3B1cChwb3B1cF83YjhjZDA1ZjgwZWM0ZDRhODk5ZGM5OTAxNzJhZmEyNSk7CgogICAgICAgICAgICAKICAgICAgICAKICAgIAogICAgICAgICAgICB2YXIgY2lyY2xlX21hcmtlcl82NTVlYzUwNmFhMzA0ZDk2YjljYzcxNjRkY2U3NjJiMCA9IEwuY2lyY2xlTWFya2VyKAogICAgICAgICAgICAgICAgWzQzLjYwMjQxMzcwMDAwMDAxLC03OS41NDM0ODQwOTk5OTk5OV0sCiAgICAgICAgICAgICAgICB7CiAgImJ1YmJsaW5nTW91c2VFdmVudHMiOiB0cnVlLAogICJjb2xvciI6ICJibHVlIiwKICAiZGFzaEFycmF5IjogbnVsbCwKICAiZGFzaE9mZnNldCI6IG51bGwsCiAgImZpbGwiOiB0cnVlLAogICJmaWxsQ29sb3IiOiAiYmx1ZSIsCiAgImZpbGxPcGFjaXR5IjogMC42LAogICJmaWxsUnVsZSI6ICJldmVub2RkIiwKICAibGluZUNhcCI6ICJyb3VuZCIsCiAgImxpbmVKb2luIjogInJvdW5kIiwKICAib3BhY2l0eSI6IDEuMCwKICAicmFkaXVzIjogNSwKICAic3Ryb2tlIjogdHJ1ZSwKICAid2VpZ2h0IjogMwp9CiAgICAgICAgICAgICAgICApLmFkZFRvKG1hcF8xZTFlN2U3NTdlNjQ0MjQ0OWYxZDI1Mjg4ZTRhYTQ5NCk7CiAgICAgICAgICAgIAogICAgCiAgICAgICAgICAgIHZhciBwb3B1cF8yMDY0OGE3MDgwYjA0NjM4OTliOTUwYzIwODliNTZiNSA9IEwucG9wdXAoe21heFdpZHRoOiAnMzAwJ30pOwoKICAgICAgICAgICAgCiAgICAgICAgICAgICAgICB2YXIgaHRtbF85NTc0Y2M2MDM0MjA0NGRhOTljODk3NGU1NmI4MzEzNyA9ICQoJzxkaXYgaWQ9Imh0bWxfOTU3NGNjNjAzNDIwNDRkYTk5Yzg5NzRlNTZiODMxMzciIHN0eWxlPSJ3aWR0aDogMTAwLjAlOyBoZWlnaHQ6IDEwMC4wJTsiPk04VzwvZGl2PicpWzBdOwogICAgICAgICAgICAgICAgcG9wdXBfMjA2NDhhNzA4MGIwNDYzODk5Yjk1MGMyMDg5YjU2YjUuc2V0Q29udGVudChodG1sXzk1NzRjYzYwMzQyMDQ0ZGE5OWM4OTc0ZTU2YjgzMTM3KTsKICAgICAgICAgICAgCgogICAgICAgICAgICBjaXJjbGVfbWFya2VyXzY1NWVjNTA2YWEzMDRkOTZiOWNjNzE2NGRjZTc2MmIwLmJpbmRQb3B1cChwb3B1cF8yMDY0OGE3MDgwYjA0NjM4OTliOTUwYzIwODliNTZiNSk7CgogICAgICAgICAgICAKICAgICAgICAKICAgIAogICAgICAgICAgICB2YXIgY2lyY2xlX21hcmtlcl8yNWM2OWU0MmI5OGE0Mzc2YWY0NDEyZjMxNmViZDIxNiA9IEwuY2lyY2xlTWFya2VyKAogICAgICAgICAgICAgICAgWzQzLjcwNjc0ODI5OTk5OTk5NCwtNzkuNTk0MDU0NF0sCiAgICAgICAgICAgICAgICB7CiAgImJ1YmJsaW5nTW91c2VFdmVudHMiOiB0cnVlLAogICJjb2xvciI6ICJibHVlIiwKICAiZGFzaEFycmF5IjogbnVsbCwKICAiZGFzaE9mZnNldCI6IG51bGwsCiAgImZpbGwiOiB0cnVlLAogICJmaWxsQ29sb3IiOiAiYmx1ZSIsCiAgImZpbGxPcGFjaXR5IjogMC42LAogICJmaWxsUnVsZSI6ICJldmVub2RkIiwKICAibGluZUNhcCI6ICJyb3VuZCIsCiAgImxpbmVKb2luIjogInJvdW5kIiwKICAib3BhY2l0eSI6IDEuMCwKICAicmFkaXVzIjogNSwKICAic3Ryb2tlIjogdHJ1ZSwKICAid2VpZ2h0IjogMwp9CiAgICAgICAgICAgICAgICApLmFkZFRvKG1hcF8xZTFlN2U3NTdlNjQ0MjQ0OWYxZDI1Mjg4ZTRhYTQ5NCk7CiAgICAgICAgICAgIAogICAgCiAgICAgICAgICAgIHZhciBwb3B1cF84MDEzNzE5ZjFhZjY0YWNlYjc3ZGRiMDdhMTlhZTU0NiA9IEwucG9wdXAoe21heFdpZHRoOiAnMzAwJ30pOwoKICAgICAgICAgICAgCiAgICAgICAgICAgICAgICB2YXIgaHRtbF8yZTZhZGIzODNkODg0ODU5Yjk5OGY3ZjhmYTM5NzAxNCA9ICQoJzxkaXYgaWQ9Imh0bWxfMmU2YWRiMzgzZDg4NDg1OWI5OThmN2Y4ZmEzOTcwMTQiIHN0eWxlPSJ3aWR0aDogMTAwLjAlOyBoZWlnaHQ6IDEwMC4wJTsiPk05VzwvZGl2PicpWzBdOwogICAgICAgICAgICAgICAgcG9wdXBfODAxMzcxOWYxYWY2NGFjZWI3N2RkYjA3YTE5YWU1NDYuc2V0Q29udGVudChodG1sXzJlNmFkYjM4M2Q4ODQ4NTliOTk4ZjdmOGZhMzk3MDE0KTsKICAgICAgICAgICAgCgogICAgICAgICAgICBjaXJjbGVfbWFya2VyXzI1YzY5ZTQyYjk4YTQzNzZhZjQ0MTJmMzE2ZWJkMjE2LmJpbmRQb3B1cChwb3B1cF84MDEzNzE5ZjFhZjY0YWNlYjc3ZGRiMDdhMTlhZTU0Nik7CgogICAgICAgICAgICAKICAgICAgICAKICAgIAogICAgICAgICAgICB2YXIgY2lyY2xlX21hcmtlcl9mMjY1YjVmYTkzMGQ0Mzg4YmNiMTE3ZjczYWZhNWU1NCA9IEwuY2lyY2xlTWFya2VyKAogICAgICAgICAgICAgICAgWzQzLjgzNjEyNDcwMDAwMDAwNiwtNzkuMjA1NjM2MDk5OTk5OTldLAogICAgICAgICAgICAgICAgewogICJidWJibGluZ01vdXNlRXZlbnRzIjogdHJ1ZSwKICAiY29sb3IiOiAiYmx1ZSIsCiAgImRhc2hBcnJheSI6IG51bGwsCiAgImRhc2hPZmZzZXQiOiBudWxsLAogICJmaWxsIjogdHJ1ZSwKICAiZmlsbENvbG9yIjogImJsdWUiLAogICJmaWxsT3BhY2l0eSI6IDAuNiwKICAiZmlsbFJ1bGUiOiAiZXZlbm9kZCIsCiAgImxpbmVDYXAiOiAicm91bmQiLAogICJsaW5lSm9pbiI6ICJyb3VuZCIsCiAgIm9wYWNpdHkiOiAxLjAsCiAgInJhZGl1cyI6IDUsCiAgInN0cm9rZSI6IHRydWUsCiAgIndlaWdodCI6IDMKfQogICAgICAgICAgICAgICAgKS5hZGRUbyhtYXBfMWUxZTdlNzU3ZTY0NDI0NDlmMWQyNTI4OGU0YWE0OTQpOwogICAgICAgICAgICAKICAgIAogICAgICAgICAgICB2YXIgcG9wdXBfZjVmM2JhZjMzZTYzNDE0ZWIyMWYzYTNiNjY2NDBmOTEgPSBMLnBvcHVwKHttYXhXaWR0aDogJzMwMCd9KTsKCiAgICAgICAgICAgIAogICAgICAgICAgICAgICAgdmFyIGh0bWxfN2M4MWNlZmE0OTFjNDgzOWE5NDFlOWRmMjJmN2UzMDUgPSAkKCc8ZGl2IGlkPSJodG1sXzdjODFjZWZhNDkxYzQ4MzlhOTQxZTlkZjIyZjdlMzA1IiBzdHlsZT0id2lkdGg6IDEwMC4wJTsgaGVpZ2h0OiAxMDAuMCU7Ij5NMVg8L2Rpdj4nKVswXTsKICAgICAgICAgICAgICAgIHBvcHVwX2Y1ZjNiYWYzM2U2MzQxNGViMjFmM2EzYjY2NjQwZjkxLnNldENvbnRlbnQoaHRtbF83YzgxY2VmYTQ5MWM0ODM5YTk0MWU5ZGYyMmY3ZTMwNSk7CiAgICAgICAgICAgIAoKICAgICAgICAgICAgY2lyY2xlX21hcmtlcl9mMjY1YjVmYTkzMGQ0Mzg4YmNiMTE3ZjczYWZhNWU1NC5iaW5kUG9wdXAocG9wdXBfZjVmM2JhZjMzZTYzNDE0ZWIyMWYzYTNiNjY2NDBmOTEpOwoKICAgICAgICAgICAgCiAgICAgICAgCiAgICAKICAgICAgICAgICAgdmFyIGNpcmNsZV9tYXJrZXJfMzI3YjU0MWVlYmFiNDI4MDlhMDYzYTZhNmM4ODE4OWQgPSBMLmNpcmNsZU1hcmtlcigKICAgICAgICAgICAgICAgIFs0My42Njc5NjcsLTc5LjM2NzY3NTNdLAogICAgICAgICAgICAgICAgewogICJidWJibGluZ01vdXNlRXZlbnRzIjogdHJ1ZSwKICAiY29sb3IiOiAiYmx1ZSIsCiAgImRhc2hBcnJheSI6IG51bGwsCiAgImRhc2hPZmZzZXQiOiBudWxsLAogICJmaWxsIjogdHJ1ZSwKICAiZmlsbENvbG9yIjogImJsdWUiLAogICJmaWxsT3BhY2l0eSI6IDAuNiwKICAiZmlsbFJ1bGUiOiAiZXZlbm9kZCIsCiAgImxpbmVDYXAiOiAicm91bmQiLAogICJsaW5lSm9pbiI6ICJyb3VuZCIsCiAgIm9wYWNpdHkiOiAxLjAsCiAgInJhZGl1cyI6IDUsCiAgInN0cm9rZSI6IHRydWUsCiAgIndlaWdodCI6IDMKfQogICAgICAgICAgICAgICAgKS5hZGRUbyhtYXBfMWUxZTdlNzU3ZTY0NDI0NDlmMWQyNTI4OGU0YWE0OTQpOwogICAgICAgICAgICAKICAgIAogICAgICAgICAgICB2YXIgcG9wdXBfMmEzMjFmNmEwYzQ0NDRkZGJjOTRmZWFlN2JjNmU5MDIgPSBMLnBvcHVwKHttYXhXaWR0aDogJzMwMCd9KTsKCiAgICAgICAgICAgIAogICAgICAgICAgICAgICAgdmFyIGh0bWxfMDI1NjVmODI0YzRmNDNiOTlkYTIyYzdkMmRkYjYwNjYgPSAkKCc8ZGl2IGlkPSJodG1sXzAyNTY1ZjgyNGM0ZjQzYjk5ZGEyMmM3ZDJkZGI2MDY2IiBzdHlsZT0id2lkdGg6IDEwMC4wJTsgaGVpZ2h0OiAxMDAuMCU7Ij5NNFg8L2Rpdj4nKVswXTsKICAgICAgICAgICAgICAgIHBvcHVwXzJhMzIxZjZhMGM0NDQ0ZGRiYzk0ZmVhZTdiYzZlOTAyLnNldENvbnRlbnQoaHRtbF8wMjU2NWY4MjRjNGY0M2I5OWRhMjJjN2QyZGRiNjA2Nik7CiAgICAgICAgICAgIAoKICAgICAgICAgICAgY2lyY2xlX21hcmtlcl8zMjdiNTQxZWViYWI0MjgwOWEwNjNhNmE2Yzg4MTg5ZC5iaW5kUG9wdXAocG9wdXBfMmEzMjFmNmEwYzQ0NDRkZGJjOTRmZWFlN2JjNmU5MDIpOwoKICAgICAgICAgICAgCiAgICAgICAgCiAgICAKICAgICAgICAgICAgdmFyIGNpcmNsZV9tYXJrZXJfNDFiNzRmNGEyNjE4NGQ1OWEwMTg3N2M4NTNlODQzZTYgPSBMLmNpcmNsZU1hcmtlcigKICAgICAgICAgICAgICAgIFs0My42NDg0MjkyLC03OS4zODIyODAyXSwKICAgICAgICAgICAgICAgIHsKICAiYnViYmxpbmdNb3VzZUV2ZW50cyI6IHRydWUsCiAgImNvbG9yIjogImJsdWUiLAogICJkYXNoQXJyYXkiOiBudWxsLAogICJkYXNoT2Zmc2V0IjogbnVsbCwKICAiZmlsbCI6IHRydWUsCiAgImZpbGxDb2xvciI6ICJibHVlIiwKICAiZmlsbE9wYWNpdHkiOiAwLjYsCiAgImZpbGxSdWxlIjogImV2ZW5vZGQiLAogICJsaW5lQ2FwIjogInJvdW5kIiwKICAibGluZUpvaW4iOiAicm91bmQiLAogICJvcGFjaXR5IjogMS4wLAogICJyYWRpdXMiOiA1LAogICJzdHJva2UiOiB0cnVlLAogICJ3ZWlnaHQiOiAzCn0KICAgICAgICAgICAgICAgICkuYWRkVG8obWFwXzFlMWU3ZTc1N2U2NDQyNDQ5ZjFkMjUyODhlNGFhNDk0KTsKICAgICAgICAgICAgCiAgICAKICAgICAgICAgICAgdmFyIHBvcHVwX2ZkZDY3ZjU4YTU2NzQ5MmQ4Mzc1Nzc5YTY0OWIyZjNjID0gTC5wb3B1cCh7bWF4V2lkdGg6ICczMDAnfSk7CgogICAgICAgICAgICAKICAgICAgICAgICAgICAgIHZhciBodG1sXzE0MWM2ZTU4NDYzYzQ0ODViNTA4MWZkMDgyYTNhODFiID0gJCgnPGRpdiBpZD0iaHRtbF8xNDFjNmU1ODQ2M2M0NDg1YjUwODFmZDA4MmEzYTgxYiIgc3R5bGU9IndpZHRoOiAxMDAuMCU7IGhlaWdodDogMTAwLjAlOyI+TTVYPC9kaXY+JylbMF07CiAgICAgICAgICAgICAgICBwb3B1cF9mZGQ2N2Y1OGE1Njc0OTJkODM3NTc3OWE2NDliMmYzYy5zZXRDb250ZW50KGh0bWxfMTQxYzZlNTg0NjNjNDQ4NWI1MDgxZmQwODJhM2E4MWIpOwogICAgICAgICAgICAKCiAgICAgICAgICAgIGNpcmNsZV9tYXJrZXJfNDFiNzRmNGEyNjE4NGQ1OWEwMTg3N2M4NTNlODQzZTYuYmluZFBvcHVwKHBvcHVwX2ZkZDY3ZjU4YTU2NzQ5MmQ4Mzc1Nzc5YTY0OWIyZjNjKTsKCiAgICAgICAgICAgIAogICAgICAgIAogICAgCiAgICAgICAgICAgIHZhciBjaXJjbGVfbWFya2VyXzI3MTJkNjQzYTdiMDQyMWNiNmExOWIwYmVlMDUzMzdlID0gTC5jaXJjbGVNYXJrZXIoCiAgICAgICAgICAgICAgICBbNDMuNjUzNjUzNjAwMDAwMDA1LC03OS41MDY5NDM2XSwKICAgICAgICAgICAgICAgIHsKICAiYnViYmxpbmdNb3VzZUV2ZW50cyI6IHRydWUsCiAgImNvbG9yIjogImJsdWUiLAogICJkYXNoQXJyYXkiOiBudWxsLAogICJkYXNoT2Zmc2V0IjogbnVsbCwKICAiZmlsbCI6IHRydWUsCiAgImZpbGxDb2xvciI6ICJibHVlIiwKICAiZmlsbE9wYWNpdHkiOiAwLjYsCiAgImZpbGxSdWxlIjogImV2ZW5vZGQiLAogICJsaW5lQ2FwIjogInJvdW5kIiwKICAibGluZUpvaW4iOiAicm91bmQiLAogICJvcGFjaXR5IjogMS4wLAogICJyYWRpdXMiOiA1LAogICJzdHJva2UiOiB0cnVlLAogICJ3ZWlnaHQiOiAzCn0KICAgICAgICAgICAgICAgICkuYWRkVG8obWFwXzFlMWU3ZTc1N2U2NDQyNDQ5ZjFkMjUyODhlNGFhNDk0KTsKICAgICAgICAgICAgCiAgICAKICAgICAgICAgICAgdmFyIHBvcHVwX2MzOThiZWU0NTkyMjQ0Y2ViOTFkNDA3ZWU4ZTQ5YWM4ID0gTC5wb3B1cCh7bWF4V2lkdGg6ICczMDAnfSk7CgogICAgICAgICAgICAKICAgICAgICAgICAgICAgIHZhciBodG1sX2U4OTdlMDhlOWU1MTQ4ZDE4M2NlNzk0Y2I3ZWUyNzM1ID0gJCgnPGRpdiBpZD0iaHRtbF9lODk3ZTA4ZTllNTE0OGQxODNjZTc5NGNiN2VlMjczNSIgc3R5bGU9IndpZHRoOiAxMDAuMCU7IGhlaWdodDogMTAwLjAlOyI+TThYPC9kaXY+JylbMF07CiAgICAgICAgICAgICAgICBwb3B1cF9jMzk4YmVlNDU5MjI0NGNlYjkxZDQwN2VlOGU0OWFjOC5zZXRDb250ZW50KGh0bWxfZTg5N2UwOGU5ZTUxNDhkMTgzY2U3OTRjYjdlZTI3MzUpOwogICAgICAgICAgICAKCiAgICAgICAgICAgIGNpcmNsZV9tYXJrZXJfMjcxMmQ2NDNhN2IwNDIxY2I2YTE5YjBiZWUwNTMzN2UuYmluZFBvcHVwKHBvcHVwX2MzOThiZWU0NTkyMjQ0Y2ViOTFkNDA3ZWU4ZTQ5YWM4KTsKCiAgICAgICAgICAgIAogICAgICAgIAogICAgCiAgICAgICAgICAgIHZhciBjaXJjbGVfbWFya2VyX2JjMDk4ZTI3NTcyYTQ2NTI5Yzk1YmMyMWFjN2Q3ZDUyID0gTC5jaXJjbGVNYXJrZXIoCiAgICAgICAgICAgICAgICBbNDMuNjY1ODU5OSwtNzkuMzgzMTU5OTAwMDAwMDFdLAogICAgICAgICAgICAgICAgewogICJidWJibGluZ01vdXNlRXZlbnRzIjogdHJ1ZSwKICAiY29sb3IiOiAiYmx1ZSIsCiAgImRhc2hBcnJheSI6IG51bGwsCiAgImRhc2hPZmZzZXQiOiBudWxsLAogICJmaWxsIjogdHJ1ZSwKICAiZmlsbENvbG9yIjogImJsdWUiLAogICJmaWxsT3BhY2l0eSI6IDAuNiwKICAiZmlsbFJ1bGUiOiAiZXZlbm9kZCIsCiAgImxpbmVDYXAiOiAicm91bmQiLAogICJsaW5lSm9pbiI6ICJyb3VuZCIsCiAgIm9wYWNpdHkiOiAxLjAsCiAgInJhZGl1cyI6IDUsCiAgInN0cm9rZSI6IHRydWUsCiAgIndlaWdodCI6IDMKfQogICAgICAgICAgICAgICAgKS5hZGRUbyhtYXBfMWUxZTdlNzU3ZTY0NDI0NDlmMWQyNTI4OGU0YWE0OTQpOwogICAgICAgICAgICAKICAgIAogICAgICAgICAgICB2YXIgcG9wdXBfYTgzYTkyM2FkYTU4NDdlM2EwN2E4NDRhY2U0OThjZjIgPSBMLnBvcHVwKHttYXhXaWR0aDogJzMwMCd9KTsKCiAgICAgICAgICAgIAogICAgICAgICAgICAgICAgdmFyIGh0bWxfNDVjMjE3MzdmYWEzNDk4ODk2YWI5Nzk3ZmNhYjU5NmYgPSAkKCc8ZGl2IGlkPSJodG1sXzQ1YzIxNzM3ZmFhMzQ5ODg5NmFiOTc5N2ZjYWI1OTZmIiBzdHlsZT0id2lkdGg6IDEwMC4wJTsgaGVpZ2h0OiAxMDAuMCU7Ij5NNFk8L2Rpdj4nKVswXTsKICAgICAgICAgICAgICAgIHBvcHVwX2E4M2E5MjNhZGE1ODQ3ZTNhMDdhODQ0YWNlNDk4Y2YyLnNldENvbnRlbnQoaHRtbF80NWMyMTczN2ZhYTM0OTg4OTZhYjk3OTdmY2FiNTk2Zik7CiAgICAgICAgICAgIAoKICAgICAgICAgICAgY2lyY2xlX21hcmtlcl9iYzA5OGUyNzU3MmE0NjUyOWM5NWJjMjFhYzdkN2Q1Mi5iaW5kUG9wdXAocG9wdXBfYTgzYTkyM2FkYTU4NDdlM2EwN2E4NDRhY2U0OThjZjIpOwoKICAgICAgICAgICAgCiAgICAgICAgCiAgICAKICAgICAgICAgICAgdmFyIGNpcmNsZV9tYXJrZXJfM2MwNDA0MWFmYTMwNGQzYTk0NGIyMDhiZTdiM2IzMTAgPSBMLmNpcmNsZU1hcmtlcigKICAgICAgICAgICAgICAgIFs0My42NjI3NDM5LC03OS4zMjE1NThdLAogICAgICAgICAgICAgICAgewogICJidWJibGluZ01vdXNlRXZlbnRzIjogdHJ1ZSwKICAiY29sb3IiOiAiYmx1ZSIsCiAgImRhc2hBcnJheSI6IG51bGwsCiAgImRhc2hPZmZzZXQiOiBudWxsLAogICJmaWxsIjogdHJ1ZSwKICAiZmlsbENvbG9yIjogImJsdWUiLAogICJmaWxsT3BhY2l0eSI6IDAuNiwKICAiZmlsbFJ1bGUiOiAiZXZlbm9kZCIsCiAgImxpbmVDYXAiOiAicm91bmQiLAogICJsaW5lSm9pbiI6ICJyb3VuZCIsCiAgIm9wYWNpdHkiOiAxLjAsCiAgInJhZGl1cyI6IDUsCiAgInN0cm9rZSI6IHRydWUsCiAgIndlaWdodCI6IDMKfQogICAgICAgICAgICAgICAgKS5hZGRUbyhtYXBfMWUxZTdlNzU3ZTY0NDI0NDlmMWQyNTI4OGU0YWE0OTQpOwogICAgICAgICAgICAKICAgIAogICAgICAgICAgICB2YXIgcG9wdXBfYWYzMDJlNjljNjJhNDg2NzllN2YzZDAxM2JjM2FlNTYgPSBMLnBvcHVwKHttYXhXaWR0aDogJzMwMCd9KTsKCiAgICAgICAgICAgIAogICAgICAgICAgICAgICAgdmFyIGh0bWxfOTVhMDM2MTk3MDhmNDYyN2JlZWJlZDNmY2NlMzBlMGQgPSAkKCc8ZGl2IGlkPSJodG1sXzk1YTAzNjE5NzA4ZjQ2MjdiZWViZWQzZmNjZTMwZTBkIiBzdHlsZT0id2lkdGg6IDEwMC4wJTsgaGVpZ2h0OiAxMDAuMCU7Ij5NN1k8L2Rpdj4nKVswXTsKICAgICAgICAgICAgICAgIHBvcHVwX2FmMzAyZTY5YzYyYTQ4Njc5ZTdmM2QwMTNiYzNhZTU2LnNldENvbnRlbnQoaHRtbF85NWEwMzYxOTcwOGY0NjI3YmVlYmVkM2ZjY2UzMGUwZCk7CiAgICAgICAgICAgIAoKICAgICAgICAgICAgY2lyY2xlX21hcmtlcl8zYzA0MDQxYWZhMzA0ZDNhOTQ0YjIwOGJlN2IzYjMxMC5iaW5kUG9wdXAocG9wdXBfYWYzMDJlNjljNjJhNDg2NzllN2YzZDAxM2JjM2FlNTYpOwoKICAgICAgICAgICAgCiAgICAgICAgCiAgICAKICAgICAgICAgICAgdmFyIGNpcmNsZV9tYXJrZXJfNmEzZTI0ZTRhZTQzNGYzNjg4ZjMzMjYyZDc5MDdiOGMgPSBMLmNpcmNsZU1hcmtlcigKICAgICAgICAgICAgICAgIFs0My42MzYyNTc5LC03OS40OTg1MDkwOTk5OTk5OV0sCiAgICAgICAgICAgICAgICB7CiAgImJ1YmJsaW5nTW91c2VFdmVudHMiOiB0cnVlLAogICJjb2xvciI6ICJibHVlIiwKICAiZGFzaEFycmF5IjogbnVsbCwKICAiZGFzaE9mZnNldCI6IG51bGwsCiAgImZpbGwiOiB0cnVlLAogICJmaWxsQ29sb3IiOiAiYmx1ZSIsCiAgImZpbGxPcGFjaXR5IjogMC42LAogICJmaWxsUnVsZSI6ICJldmVub2RkIiwKICAibGluZUNhcCI6ICJyb3VuZCIsCiAgImxpbmVKb2luIjogInJvdW5kIiwKICAib3BhY2l0eSI6IDEuMCwKICAicmFkaXVzIjogNSwKICAic3Ryb2tlIjogdHJ1ZSwKICAid2VpZ2h0IjogMwp9CiAgICAgICAgICAgICAgICApLmFkZFRvKG1hcF8xZTFlN2U3NTdlNjQ0MjQ0OWYxZDI1Mjg4ZTRhYTQ5NCk7CiAgICAgICAgICAgIAogICAgCiAgICAgICAgICAgIHZhciBwb3B1cF8zMTk5YTk1YTVhOWM0Zjc2YTZlZDM3NmI1Mzc2Yzc5OSA9IEwucG9wdXAoe21heFdpZHRoOiAnMzAwJ30pOwoKICAgICAgICAgICAgCiAgICAgICAgICAgICAgICB2YXIgaHRtbF8yNmUyNTIzZDA2ZmI0NjI4OWZlNTQ0YTZhOTc5ZGExMCA9ICQoJzxkaXYgaWQ9Imh0bWxfMjZlMjUyM2QwNmZiNDYyODlmZTU0NGE2YTk3OWRhMTAiIHN0eWxlPSJ3aWR0aDogMTAwLjAlOyBoZWlnaHQ6IDEwMC4wJTsiPk04WTwvZGl2PicpWzBdOwogICAgICAgICAgICAgICAgcG9wdXBfMzE5OWE5NWE1YTljNGY3NmE2ZWQzNzZiNTM3NmM3OTkuc2V0Q29udGVudChodG1sXzI2ZTI1MjNkMDZmYjQ2Mjg5ZmU1NDRhNmE5NzlkYTEwKTsKICAgICAgICAgICAgCgogICAgICAgICAgICBjaXJjbGVfbWFya2VyXzZhM2UyNGU0YWU0MzRmMzY4OGYzMzI2MmQ3OTA3YjhjLmJpbmRQb3B1cChwb3B1cF8zMTk5YTk1YTVhOWM0Zjc2YTZlZDM3NmI1Mzc2Yzc5OSk7CgogICAgICAgICAgICAKICAgICAgICAKICAgIAogICAgICAgICAgICB2YXIgY2lyY2xlX21hcmtlcl82MDIwY2ZjNWYyM2Y0YTVjYjk3MWM1Y2YyZDU5NGNlZSA9IEwuY2lyY2xlTWFya2VyKAogICAgICAgICAgICAgICAgWzQzLjYyODg0MDgsLTc5LjUyMDk5OTQwMDAwMDAxXSwKICAgICAgICAgICAgICAgIHsKICAiYnViYmxpbmdNb3VzZUV2ZW50cyI6IHRydWUsCiAgImNvbG9yIjogImJsdWUiLAogICJkYXNoQXJyYXkiOiBudWxsLAogICJkYXNoT2Zmc2V0IjogbnVsbCwKICAiZmlsbCI6IHRydWUsCiAgImZpbGxDb2xvciI6ICJibHVlIiwKICAiZmlsbE9wYWNpdHkiOiAwLjYsCiAgImZpbGxSdWxlIjogImV2ZW5vZGQiLAogICJsaW5lQ2FwIjogInJvdW5kIiwKICAibGluZUpvaW4iOiAicm91bmQiLAogICJvcGFjaXR5IjogMS4wLAogICJyYWRpdXMiOiA1LAogICJzdHJva2UiOiB0cnVlLAogICJ3ZWlnaHQiOiAzCn0KICAgICAgICAgICAgICAgICkuYWRkVG8obWFwXzFlMWU3ZTc1N2U2NDQyNDQ5ZjFkMjUyODhlNGFhNDk0KTsKICAgICAgICAgICAgCiAgICAKICAgICAgICAgICAgdmFyIHBvcHVwX2U1ZDEzYzY3MTNhYzQ2NDM4ZmM0Njk2ODBmNDY5ZDNmID0gTC5wb3B1cCh7bWF4V2lkdGg6ICczMDAnfSk7CgogICAgICAgICAgICAKICAgICAgICAgICAgICAgIHZhciBodG1sXzhmNDY2MGZjNjFkMDQ5M2U5MjQ5ZjkxNzVlNWUyYTdmID0gJCgnPGRpdiBpZD0iaHRtbF84ZjQ2NjBmYzYxZDA0OTNlOTI0OWY5MTc1ZTVlMmE3ZiIgc3R5bGU9IndpZHRoOiAxMDAuMCU7IGhlaWdodDogMTAwLjAlOyI+TThaPC9kaXY+JylbMF07CiAgICAgICAgICAgICAgICBwb3B1cF9lNWQxM2M2NzEzYWM0NjQzOGZjNDY5NjgwZjQ2OWQzZi5zZXRDb250ZW50KGh0bWxfOGY0NjYwZmM2MWQwNDkzZTkyNDlmOTE3NWU1ZTJhN2YpOwogICAgICAgICAgICAKCiAgICAgICAgICAgIGNpcmNsZV9tYXJrZXJfNjAyMGNmYzVmMjNmNGE1Y2I5NzFjNWNmMmQ1OTRjZWUuYmluZFBvcHVwKHBvcHVwX2U1ZDEzYzY3MTNhYzQ2NDM4ZmM0Njk2ODBmNDY5ZDNmKTsKCiAgICAgICAgICAgIAogICAgICAgIAo8L3NjcmlwdD4= onload=\"this.contentDocument.open();this.contentDocument.write(atob(this.getAttribute('data-html')));this.contentDocument.close();\" allowfullscreen webkitallowfullscreen mozallowfullscreen></iframe></div></div>"
      ],
      "text/plain": [
       "<folium.folium.Map at 0x7fa76da90a50>"
      ]
     },
     "execution_count": 16,
     "metadata": {},
     "output_type": "execute_result"
    }
   ],
   "source": [
    "# Generate map centred around M5A Downtown Toronto\n",
    "M6B_index = df_table_cord[df_table_cord['PostalCode']=='M6B'].index\n",
    "venues_map = folium.Map(location=[df_table_cord.Latitude[M6B_index[0]], df_table_cord.Longitude[M6B_index[0]]],\n",
    "                                  zoom_start=11)\n",
    "\n",
    "# Add a red circle marker to represent the Conrad Hotel\n",
    "folium.features.CircleMarker(\n",
    "                [df_table_cord.Latitude[M6B_index[0]], df_table_cord.Longitude[M6B_index[0]]],\n",
    "                radius=15,\n",
    "                color='red',\n",
    "                popup='Conrad Hotel',\n",
    "                fill = True,\n",
    "                fill_color = 'red',\n",
    "                fill_opacity = 0.7\n",
    "                ).add_to(venues_map)\n",
    "\n",
    "# Add the 103 addresses to the map as blue circle markers\n",
    "for lat, lng, label in zip(df_table_cord.Latitude, df_table_cord.Longitude, df_table_cord.PostalCode):\n",
    "    folium.features.CircleMarker(\n",
    "        [lat, lng],\n",
    "        radius=5,\n",
    "        popup=label,\n",
    "        fill=True,\n",
    "        color='blue',\n",
    "        fill_color='blue',\n",
    "        fill_opacity=0.6\n",
    "        ).add_to(venues_map)\n",
    "\n",
    "# display map\n",
    "venues_map"
   ]
  },
  {
   "cell_type": "code",
   "execution_count": null,
   "metadata": {},
   "outputs": [],
   "source": []
  }
 ],
 "metadata": {
  "kernelspec": {
   "display_name": "Python 3",
   "language": "python",
   "name": "python3"
  },
  "language_info": {
   "codemirror_mode": {
    "name": "ipython",
    "version": 3
   },
   "file_extension": ".py",
   "mimetype": "text/x-python",
   "name": "python",
   "nbconvert_exporter": "python",
   "pygments_lexer": "ipython3",
   "version": "3.7.7"
  }
 },
 "nbformat": 4,
 "nbformat_minor": 4
}
