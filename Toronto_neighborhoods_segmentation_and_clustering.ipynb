{
 "cells": [
  {
   "cell_type": "markdown",
   "metadata": {},
   "source": [
    "# Week3 peer-graded Assignment: <ins> Segmenting and Clustering Neighborhoods in Toronto</ins>"
   ]
  },
  {
   "cell_type": "markdown",
   "metadata": {},
   "source": [
    "## 1. Scraping of Wikipedia page"
   ]
  },
  {
   "cell_type": "code",
   "execution_count": 1,
   "metadata": {},
   "outputs": [],
   "source": [
    "import pandas as pd\n",
    "import requests\n",
    "from bs4 import BeautifulSoup"
   ]
  },
  {
   "cell_type": "code",
   "execution_count": 2,
   "metadata": {},
   "outputs": [],
   "source": [
    "cn_postalcode_response = requests.get('https://en.wikipedia.org/wiki/List_of_postal_codes_of_Canada:_M')\n",
    "cn_postalcode_soup     = BeautifulSoup(cn_postalcode_response.text)"
   ]
  },
  {
   "cell_type": "markdown",
   "metadata": {},
   "source": [
    "### Generate the DataFrame from the table scraped from the wikipedia page"
   ]
  },
  {
   "cell_type": "code",
   "execution_count": 3,
   "metadata": {},
   "outputs": [
    {
     "data": {
      "text/html": [
       "<div>\n",
       "<style scoped>\n",
       "    .dataframe tbody tr th:only-of-type {\n",
       "        vertical-align: middle;\n",
       "    }\n",
       "\n",
       "    .dataframe tbody tr th {\n",
       "        vertical-align: top;\n",
       "    }\n",
       "\n",
       "    .dataframe thead th {\n",
       "        text-align: right;\n",
       "    }\n",
       "</style>\n",
       "<table border=\"1\" class=\"dataframe\">\n",
       "  <thead>\n",
       "    <tr style=\"text-align: right;\">\n",
       "      <th></th>\n",
       "      <th>PostalCode</th>\n",
       "      <th>Borough</th>\n",
       "      <th>Neighborhood</th>\n",
       "    </tr>\n",
       "  </thead>\n",
       "  <tbody>\n",
       "    <tr>\n",
       "      <th>0</th>\n",
       "      <td>M1A</td>\n",
       "      <td>Not assigned</td>\n",
       "      <td>Not assigned</td>\n",
       "    </tr>\n",
       "    <tr>\n",
       "      <th>1</th>\n",
       "      <td>M2A</td>\n",
       "      <td>Not assigned</td>\n",
       "      <td>Not assigned</td>\n",
       "    </tr>\n",
       "    <tr>\n",
       "      <th>2</th>\n",
       "      <td>M3A</td>\n",
       "      <td>North York</td>\n",
       "      <td>Parkwoods</td>\n",
       "    </tr>\n",
       "    <tr>\n",
       "      <th>3</th>\n",
       "      <td>M4A</td>\n",
       "      <td>North York</td>\n",
       "      <td>Victoria Village</td>\n",
       "    </tr>\n",
       "    <tr>\n",
       "      <th>4</th>\n",
       "      <td>M5A</td>\n",
       "      <td>Downtown Toronto</td>\n",
       "      <td>Regent Park, Harbourfront</td>\n",
       "    </tr>\n",
       "  </tbody>\n",
       "</table>\n",
       "</div>"
      ],
      "text/plain": [
       "  PostalCode           Borough               Neighborhood\n",
       "0        M1A      Not assigned               Not assigned\n",
       "1        M2A      Not assigned               Not assigned\n",
       "2        M3A        North York                  Parkwoods\n",
       "3        M4A        North York           Victoria Village\n",
       "4        M5A  Downtown Toronto  Regent Park, Harbourfront"
      ]
     },
     "execution_count": 3,
     "metadata": {},
     "output_type": "execute_result"
    }
   ],
   "source": [
    "table_headers = cn_postalcode_soup.find('tbody').find('tr').text\n",
    "header_list = [head for head in table_headers.split('\\n') if head != '']\n",
    "\n",
    "table_body = cn_postalcode_soup.find('tbody').findAll('tr')\n",
    "\n",
    "dict_table = {header_list[0] : [],\n",
    "              header_list[1] : [],\n",
    "              header_list[2] : []\n",
    "             }\n",
    "for i in range(1,len(table_body)):\n",
    "    table_row = table_body[i].text\n",
    "    table_row = [elt for elt in table_row.split('\\n') if elt != '']\n",
    "    for j in range(3):\n",
    "        dict_table[header_list[j]].append(table_row[j])\n",
    "        \n",
    "df_table = pd.DataFrame(dict_table)\n",
    "df_table.rename(columns={\"Postal Code\": \"PostalCode\"}, inplace=True)\n",
    "df_table.head()"
   ]
  },
  {
   "cell_type": "code",
   "execution_count": 4,
   "metadata": {},
   "outputs": [
    {
     "data": {
      "text/html": [
       "<div>\n",
       "<style scoped>\n",
       "    .dataframe tbody tr th:only-of-type {\n",
       "        vertical-align: middle;\n",
       "    }\n",
       "\n",
       "    .dataframe tbody tr th {\n",
       "        vertical-align: top;\n",
       "    }\n",
       "\n",
       "    .dataframe thead th {\n",
       "        text-align: right;\n",
       "    }\n",
       "</style>\n",
       "<table border=\"1\" class=\"dataframe\">\n",
       "  <thead>\n",
       "    <tr style=\"text-align: right;\">\n",
       "      <th></th>\n",
       "      <th>PostalCode</th>\n",
       "      <th>Borough</th>\n",
       "      <th>Neighborhood</th>\n",
       "    </tr>\n",
       "  </thead>\n",
       "  <tbody>\n",
       "    <tr>\n",
       "      <th>count</th>\n",
       "      <td>180</td>\n",
       "      <td>180</td>\n",
       "      <td>180</td>\n",
       "    </tr>\n",
       "    <tr>\n",
       "      <th>unique</th>\n",
       "      <td>180</td>\n",
       "      <td>11</td>\n",
       "      <td>100</td>\n",
       "    </tr>\n",
       "    <tr>\n",
       "      <th>top</th>\n",
       "      <td>M3X</td>\n",
       "      <td>Not assigned</td>\n",
       "      <td>Not assigned</td>\n",
       "    </tr>\n",
       "    <tr>\n",
       "      <th>freq</th>\n",
       "      <td>1</td>\n",
       "      <td>77</td>\n",
       "      <td>77</td>\n",
       "    </tr>\n",
       "  </tbody>\n",
       "</table>\n",
       "</div>"
      ],
      "text/plain": [
       "       PostalCode       Borough  Neighborhood\n",
       "count         180           180           180\n",
       "unique        180            11           100\n",
       "top           M3X  Not assigned  Not assigned\n",
       "freq            1            77            77"
      ]
     },
     "execution_count": 4,
     "metadata": {},
     "output_type": "execute_result"
    }
   ],
   "source": [
    "df_table.describe()"
   ]
  },
  {
   "cell_type": "markdown",
   "metadata": {},
   "source": [
    "### Remove rows with not assigned Borough from the DataFrame"
   ]
  },
  {
   "cell_type": "code",
   "execution_count": 5,
   "metadata": {},
   "outputs": [],
   "source": [
    "df_table_clean = df_table[df_table['Borough'] != 'Not assigned'].reset_index(drop=True)"
   ]
  },
  {
   "cell_type": "markdown",
   "metadata": {},
   "source": [
    "### Replace Not assigned Neighborhood with corresponding Borough if assigned"
   ]
  },
  {
   "cell_type": "code",
   "execution_count": 6,
   "metadata": {},
   "outputs": [
    {
     "data": {
      "text/html": [
       "<div>\n",
       "<style scoped>\n",
       "    .dataframe tbody tr th:only-of-type {\n",
       "        vertical-align: middle;\n",
       "    }\n",
       "\n",
       "    .dataframe tbody tr th {\n",
       "        vertical-align: top;\n",
       "    }\n",
       "\n",
       "    .dataframe thead th {\n",
       "        text-align: right;\n",
       "    }\n",
       "</style>\n",
       "<table border=\"1\" class=\"dataframe\">\n",
       "  <thead>\n",
       "    <tr style=\"text-align: right;\">\n",
       "      <th></th>\n",
       "      <th>PostalCode</th>\n",
       "      <th>Borough</th>\n",
       "      <th>Neighborhood</th>\n",
       "    </tr>\n",
       "  </thead>\n",
       "  <tbody>\n",
       "    <tr>\n",
       "      <th>0</th>\n",
       "      <td>M3A</td>\n",
       "      <td>North York</td>\n",
       "      <td>Parkwoods</td>\n",
       "    </tr>\n",
       "    <tr>\n",
       "      <th>1</th>\n",
       "      <td>M4A</td>\n",
       "      <td>North York</td>\n",
       "      <td>Victoria Village</td>\n",
       "    </tr>\n",
       "    <tr>\n",
       "      <th>2</th>\n",
       "      <td>M5A</td>\n",
       "      <td>Downtown Toronto</td>\n",
       "      <td>Regent Park, Harbourfront</td>\n",
       "    </tr>\n",
       "    <tr>\n",
       "      <th>3</th>\n",
       "      <td>M6A</td>\n",
       "      <td>North York</td>\n",
       "      <td>Lawrence Manor, Lawrence Heights</td>\n",
       "    </tr>\n",
       "    <tr>\n",
       "      <th>4</th>\n",
       "      <td>M7A</td>\n",
       "      <td>Downtown Toronto</td>\n",
       "      <td>Queen's Park, Ontario Provincial Government</td>\n",
       "    </tr>\n",
       "  </tbody>\n",
       "</table>\n",
       "</div>"
      ],
      "text/plain": [
       "  PostalCode           Borough                                 Neighborhood\n",
       "0        M3A        North York                                    Parkwoods\n",
       "1        M4A        North York                             Victoria Village\n",
       "2        M5A  Downtown Toronto                    Regent Park, Harbourfront\n",
       "3        M6A        North York             Lawrence Manor, Lawrence Heights\n",
       "4        M7A  Downtown Toronto  Queen's Park, Ontario Provincial Government"
      ]
     },
     "execution_count": 6,
     "metadata": {},
     "output_type": "execute_result"
    }
   ],
   "source": [
    "def clean_table(row):\n",
    "    if row[1] == 'Not assigned' and row[1] != 'Not assigned':\n",
    "        row[2] = row[1]\n",
    "    return row\n",
    "\n",
    "df_table_clean.apply(clean_table, axis=1)\n",
    "df_table_clean.head()"
   ]
  },
  {
   "cell_type": "markdown",
   "metadata": {},
   "source": [
    "## 2. Obtain Latitude and longitude coordinates of neighborhoods unsing geocoders api"
   ]
  },
  {
   "cell_type": "code",
   "execution_count": 8,
   "metadata": {},
   "outputs": [
    {
     "name": "stdout",
     "output_type": "stream",
     "text": [
      "[43.75, None, None, None, 43.66, None, 54.28, None, None, None, None, 43.64, 54.28, 43.73, None, None, None, 43.67, None, None, None, None, 43.76, None, None, None, None, None, None, None, 43.65, None, None, 43.75, None, None, None, 43.65, None, None, 43.74, None, None, 43.72, None, None, None, 43.67, None, None, None, None, 43.79, None, None, None, None, None, None, 43.75, None, None, None, 43.69, None, None, None, None, None, 43.72, None, None, None, None, None, None, None, 43.67, None, None, None, 43.72, None, None, None, None, None, None, None, None, 43.77, None, None, None, None, None, None, None, None, None, None, None, None] [-79.45, None, None, None, -79.38, None, -0.4, None, None, None, None, -79.54, -0.4, -79.35, None, None, None, -79.55, None, None, None, None, -79.23, None, None, None, None, None, None, None, -79.38, None, None, -79.45, None, None, None, -79.41, None, None, -79.48, None, None, -79.42, None, None, None, -79.3, None, None, None, None, -79.42, None, None, None, None, None, None, -79.45, None, None, None, -79.48, None, None, None, None, None, -79.42, None, None, None, None, None, None, None, -79.55, None, None, None, -79.42, None, None, None, None, None, None, None, None, -79.26, None, None, None, None, None, None, None, None, None, None, None, None]\n"
     ]
    }
   ],
   "source": [
    "#!conda install -c conda-forge geopy --yes \n",
    "from geopy.geocoders import Nominatim\n",
    "import time\n",
    "\n",
    "def compute_lat_long(address):\n",
    "    geolocator = Nominatim(user_agent=\"capstone_project\")\n",
    "    location   = geolocator.geocode(address)\n",
    "    if location is None:\n",
    "        lat = None ; long = None\n",
    "    else :\n",
    "        lat = location.latitude; long = location.longitude\n",
    "    return lat, long\n",
    "\n",
    "latitude = []; longitude = []\n",
    "for i in range(len(df_table_clean)):\n",
    "    address = df_table_clean.PostalCode[i] + ' ' + \\\n",
    "                             df_table_clean.Borough[i]\n",
    "    lat, long = compute_lat_long(address)\n",
    "    if (lat is not None) and (long is not None):\n",
    "        latitude.append(round(lat, 2)); longitude.append(round(long, 2))\n",
    "    else :\n",
    "        latitude.append(lat); longitude.append(long)\n",
    "    \n",
    "print(latitude, longitude)"
   ]
  },
  {
   "cell_type": "markdown",
   "metadata": {},
   "source": [
    "One sees that the **geocoders** does not reconized more than half of the adresses "
   ]
  },
  {
   "cell_type": "code",
   "execution_count": 9,
   "metadata": {},
   "outputs": [
    {
     "data": {
      "text/html": [
       "<div>\n",
       "<style scoped>\n",
       "    .dataframe tbody tr th:only-of-type {\n",
       "        vertical-align: middle;\n",
       "    }\n",
       "\n",
       "    .dataframe tbody tr th {\n",
       "        vertical-align: top;\n",
       "    }\n",
       "\n",
       "    .dataframe thead th {\n",
       "        text-align: right;\n",
       "    }\n",
       "</style>\n",
       "<table border=\"1\" class=\"dataframe\">\n",
       "  <thead>\n",
       "    <tr style=\"text-align: right;\">\n",
       "      <th></th>\n",
       "      <th>PostalCode</th>\n",
       "      <th>Borough</th>\n",
       "      <th>Neighborhood</th>\n",
       "      <th>latitude</th>\n",
       "      <th>longitude</th>\n",
       "    </tr>\n",
       "  </thead>\n",
       "  <tbody>\n",
       "    <tr>\n",
       "      <th>0</th>\n",
       "      <td>M3A</td>\n",
       "      <td>North York</td>\n",
       "      <td>Parkwoods</td>\n",
       "      <td>43.75</td>\n",
       "      <td>-79.45</td>\n",
       "    </tr>\n",
       "    <tr>\n",
       "      <th>1</th>\n",
       "      <td>M4A</td>\n",
       "      <td>North York</td>\n",
       "      <td>Victoria Village</td>\n",
       "      <td>NaN</td>\n",
       "      <td>NaN</td>\n",
       "    </tr>\n",
       "    <tr>\n",
       "      <th>2</th>\n",
       "      <td>M5A</td>\n",
       "      <td>Downtown Toronto</td>\n",
       "      <td>Regent Park, Harbourfront</td>\n",
       "      <td>NaN</td>\n",
       "      <td>NaN</td>\n",
       "    </tr>\n",
       "    <tr>\n",
       "      <th>3</th>\n",
       "      <td>M6A</td>\n",
       "      <td>North York</td>\n",
       "      <td>Lawrence Manor, Lawrence Heights</td>\n",
       "      <td>NaN</td>\n",
       "      <td>NaN</td>\n",
       "    </tr>\n",
       "    <tr>\n",
       "      <th>4</th>\n",
       "      <td>M7A</td>\n",
       "      <td>Downtown Toronto</td>\n",
       "      <td>Queen's Park, Ontario Provincial Government</td>\n",
       "      <td>43.66</td>\n",
       "      <td>-79.38</td>\n",
       "    </tr>\n",
       "  </tbody>\n",
       "</table>\n",
       "</div>"
      ],
      "text/plain": [
       "  PostalCode           Borough                                 Neighborhood  \\\n",
       "0        M3A        North York                                    Parkwoods   \n",
       "1        M4A        North York                             Victoria Village   \n",
       "2        M5A  Downtown Toronto                    Regent Park, Harbourfront   \n",
       "3        M6A        North York             Lawrence Manor, Lawrence Heights   \n",
       "4        M7A  Downtown Toronto  Queen's Park, Ontario Provincial Government   \n",
       "\n",
       "   latitude  longitude  \n",
       "0     43.75     -79.45  \n",
       "1       NaN        NaN  \n",
       "2       NaN        NaN  \n",
       "3       NaN        NaN  \n",
       "4     43.66     -79.38  "
      ]
     },
     "execution_count": 9,
     "metadata": {},
     "output_type": "execute_result"
    }
   ],
   "source": [
    "# Let add the requested latitude and longitude to the DataFrame\n",
    "df_table_clean['latitude']  = latitude\n",
    "df_table_clean['longitude'] = longitude\n",
    "df_table_clean.head()"
   ]
  },
  {
   "cell_type": "markdown",
   "metadata": {},
   "source": [
    "#### Let find out the ratio of NaN values on the requested Latitude and Longitude"
   ]
  },
  {
   "cell_type": "code",
   "execution_count": 10,
   "metadata": {},
   "outputs": [
    {
     "data": {
      "text/plain": [
       "PostalCode       0.00000\n",
       "Borough          0.00000\n",
       "Neighborhood     0.00000\n",
       "latitude        79.61165\n",
       "longitude       79.61165\n",
       "dtype: float64"
      ]
     },
     "execution_count": 10,
     "metadata": {},
     "output_type": "execute_result"
    }
   ],
   "source": [
    "df_table_clean.isna().sum()/len(df_table_clean)*100"
   ]
  },
  {
   "cell_type": "markdown",
   "metadata": {},
   "source": [
    "More than **54%** addresses are not reconized by geocoders api. <br>\n",
    "I found that this <ins>**value changes**</ins> each time the cell is run. <br>\n",
    "Therefore, it is important to import latitudes and longitudes from the csv file provides"
   ]
  },
  {
   "cell_type": "code",
   "execution_count": 11,
   "metadata": {},
   "outputs": [
    {
     "data": {
      "text/html": [
       "<div>\n",
       "<style scoped>\n",
       "    .dataframe tbody tr th:only-of-type {\n",
       "        vertical-align: middle;\n",
       "    }\n",
       "\n",
       "    .dataframe tbody tr th {\n",
       "        vertical-align: top;\n",
       "    }\n",
       "\n",
       "    .dataframe thead th {\n",
       "        text-align: right;\n",
       "    }\n",
       "</style>\n",
       "<table border=\"1\" class=\"dataframe\">\n",
       "  <thead>\n",
       "    <tr style=\"text-align: right;\">\n",
       "      <th></th>\n",
       "      <th>PostalCode</th>\n",
       "      <th>Latitude</th>\n",
       "      <th>Longitude</th>\n",
       "    </tr>\n",
       "  </thead>\n",
       "  <tbody>\n",
       "    <tr>\n",
       "      <th>0</th>\n",
       "      <td>M1B</td>\n",
       "      <td>43.806686</td>\n",
       "      <td>-79.194353</td>\n",
       "    </tr>\n",
       "    <tr>\n",
       "      <th>1</th>\n",
       "      <td>M1C</td>\n",
       "      <td>43.784535</td>\n",
       "      <td>-79.160497</td>\n",
       "    </tr>\n",
       "    <tr>\n",
       "      <th>2</th>\n",
       "      <td>M1E</td>\n",
       "      <td>43.763573</td>\n",
       "      <td>-79.188711</td>\n",
       "    </tr>\n",
       "    <tr>\n",
       "      <th>3</th>\n",
       "      <td>M1G</td>\n",
       "      <td>43.770992</td>\n",
       "      <td>-79.216917</td>\n",
       "    </tr>\n",
       "    <tr>\n",
       "      <th>4</th>\n",
       "      <td>M1H</td>\n",
       "      <td>43.773136</td>\n",
       "      <td>-79.239476</td>\n",
       "    </tr>\n",
       "  </tbody>\n",
       "</table>\n",
       "</div>"
      ],
      "text/plain": [
       "  PostalCode   Latitude  Longitude\n",
       "0        M1B  43.806686 -79.194353\n",
       "1        M1C  43.784535 -79.160497\n",
       "2        M1E  43.763573 -79.188711\n",
       "3        M1G  43.770992 -79.216917\n",
       "4        M1H  43.773136 -79.239476"
      ]
     },
     "execution_count": 11,
     "metadata": {},
     "output_type": "execute_result"
    }
   ],
   "source": [
    "# import the csv file from the provided url\n",
    "df_lat_long = pd.read_csv('https://cocl.us/Geospatial_data')\n",
    "df_lat_long.rename(columns={'Postal Code':'PostalCode'}, inplace=True)\n",
    "df_lat_long.head()"
   ]
  },
  {
   "cell_type": "code",
   "execution_count": 12,
   "metadata": {},
   "outputs": [
    {
     "data": {
      "text/html": [
       "<div>\n",
       "<style scoped>\n",
       "    .dataframe tbody tr th:only-of-type {\n",
       "        vertical-align: middle;\n",
       "    }\n",
       "\n",
       "    .dataframe tbody tr th {\n",
       "        vertical-align: top;\n",
       "    }\n",
       "\n",
       "    .dataframe thead th {\n",
       "        text-align: right;\n",
       "    }\n",
       "</style>\n",
       "<table border=\"1\" class=\"dataframe\">\n",
       "  <thead>\n",
       "    <tr style=\"text-align: right;\">\n",
       "      <th></th>\n",
       "      <th>PostalCode</th>\n",
       "      <th>Borough</th>\n",
       "      <th>Neighborhood</th>\n",
       "      <th>Latitude</th>\n",
       "      <th>Longitude</th>\n",
       "    </tr>\n",
       "  </thead>\n",
       "  <tbody>\n",
       "    <tr>\n",
       "      <th>0</th>\n",
       "      <td>M3A</td>\n",
       "      <td>North York</td>\n",
       "      <td>Parkwoods</td>\n",
       "      <td>43.753259</td>\n",
       "      <td>-79.329656</td>\n",
       "    </tr>\n",
       "    <tr>\n",
       "      <th>1</th>\n",
       "      <td>M4A</td>\n",
       "      <td>North York</td>\n",
       "      <td>Victoria Village</td>\n",
       "      <td>43.725882</td>\n",
       "      <td>-79.315572</td>\n",
       "    </tr>\n",
       "    <tr>\n",
       "      <th>2</th>\n",
       "      <td>M5A</td>\n",
       "      <td>Downtown Toronto</td>\n",
       "      <td>Regent Park, Harbourfront</td>\n",
       "      <td>43.654260</td>\n",
       "      <td>-79.360636</td>\n",
       "    </tr>\n",
       "    <tr>\n",
       "      <th>3</th>\n",
       "      <td>M6A</td>\n",
       "      <td>North York</td>\n",
       "      <td>Lawrence Manor, Lawrence Heights</td>\n",
       "      <td>43.718518</td>\n",
       "      <td>-79.464763</td>\n",
       "    </tr>\n",
       "    <tr>\n",
       "      <th>4</th>\n",
       "      <td>M7A</td>\n",
       "      <td>Downtown Toronto</td>\n",
       "      <td>Queen's Park, Ontario Provincial Government</td>\n",
       "      <td>43.662301</td>\n",
       "      <td>-79.389494</td>\n",
       "    </tr>\n",
       "  </tbody>\n",
       "</table>\n",
       "</div>"
      ],
      "text/plain": [
       "  PostalCode           Borough                                 Neighborhood  \\\n",
       "0        M3A        North York                                    Parkwoods   \n",
       "1        M4A        North York                             Victoria Village   \n",
       "2        M5A  Downtown Toronto                    Regent Park, Harbourfront   \n",
       "3        M6A        North York             Lawrence Manor, Lawrence Heights   \n",
       "4        M7A  Downtown Toronto  Queen's Park, Ontario Provincial Government   \n",
       "\n",
       "    Latitude  Longitude  \n",
       "0  43.753259 -79.329656  \n",
       "1  43.725882 -79.315572  \n",
       "2  43.654260 -79.360636  \n",
       "3  43.718518 -79.464763  \n",
       "4  43.662301 -79.389494  "
      ]
     },
     "execution_count": 12,
     "metadata": {},
     "output_type": "execute_result"
    }
   ],
   "source": [
    "# Drop the proviously added latitude and longitude\n",
    "df_table_clean.drop(columns=['latitude','longitude'], inplace=True)\n",
    "\n",
    "# Join both DataFrame with the outher joint method\n",
    "df_table_cord = pd.merge(df_table_clean, df_lat_long, on='PostalCode', how='outer')\n",
    "df_table_cord.head()"
   ]
  },
  {
   "cell_type": "code",
   "execution_count": 13,
   "metadata": {},
   "outputs": [
    {
     "data": {
      "text/plain": [
       "PostalCode      0.0\n",
       "Borough         0.0\n",
       "Neighborhood    0.0\n",
       "Latitude        0.0\n",
       "Longitude       0.0\n",
       "dtype: float64"
      ]
     },
     "execution_count": 13,
     "metadata": {},
     "output_type": "execute_result"
    }
   ],
   "source": [
    "# Check the rate of NaN value un the final DataFrame\n",
    "df_table_cord.isna().sum()/len(df_table_cord)*100"
   ]
  },
  {
   "cell_type": "code",
   "execution_count": 14,
   "metadata": {},
   "outputs": [
    {
     "data": {
      "text/plain": [
       "(103, 5)"
      ]
     },
     "execution_count": 14,
     "metadata": {},
     "output_type": "execute_result"
    }
   ],
   "source": [
    "# Check the shape of the final table\n",
    "df_table_cord.shape"
   ]
  },
  {
   "cell_type": "code",
   "execution_count": 15,
   "metadata": {},
   "outputs": [
    {
     "name": "stdout",
     "output_type": "stream",
     "text": [
      "Collecting package metadata (current_repodata.json): done\n",
      "Solving environment: done\n",
      "\n",
      "# All requested packages already installed.\n",
      "\n"
     ]
    }
   ],
   "source": [
    "!conda install -c conda-forge folium=0.5.0 --yes\n",
    "import folium "
   ]
  },
  {
   "cell_type": "markdown",
   "metadata": {},
   "source": [
    "### Representation on the map"
   ]
  },
  {
   "cell_type": "code",
   "execution_count": 39,
   "metadata": {
    "scrolled": true
   },
   "outputs": [
    {
     "data": {
      "text/html": [
       "<div style=\"width:100%;\"><div style=\"position:relative;width:100%;height:0;padding-bottom:60%;\"><span style=\"color:#565656\">Make this Notebook Trusted to load map: File -> Trust Notebook</span><iframe src=\"about:blank\" style=\"position:absolute;width:100%;height:100%;left:0;top:0;border:none !important;\" data-html=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 onload=\"this.contentDocument.open();this.contentDocument.write(atob(this.getAttribute('data-html')));this.contentDocument.close();\" allowfullscreen webkitallowfullscreen mozallowfullscreen></iframe></div></div>"
      ],
      "text/plain": [
       "<folium.folium.Map at 0x7f5289194850>"
      ]
     },
     "execution_count": 39,
     "metadata": {},
     "output_type": "execute_result"
    }
   ],
   "source": [
    "# Generate map centred around M5A Downtown Toronto \n",
    "venues_map = folium.Map(location=[df_table_cord.Latitude[M6B_index[0]], df_table_cord.Longitude[M6B_index[0]]],\n",
    "                                  zoom_start=11)\n",
    "\n",
    "# Add a red circle marker to represent the Conrad Hotel\n",
    "M6B_index = df_table_cord[df_table_cord['PostalCode']=='M6B'].index\n",
    "folium.features.CircleMarker(\n",
    "                [df_table_cord.Latitude[M6B_index[0]], df_table_cord.Longitude[M6B_index[0]]],\n",
    "                radius=15,\n",
    "                color='red',\n",
    "                popup='Conrad Hotel',\n",
    "                fill = True,\n",
    "                fill_color = 'red',\n",
    "                fill_opacity = 0.7\n",
    "                ).add_to(venues_map)\n",
    "\n",
    "# Add the 103 addresses to the map as blue circle markers\n",
    "for lat, lng, label in zip(df_table_cord.Latitude, df_table_cord.Longitude, df_table_cord.PostalCode):\n",
    "    folium.features.CircleMarker(\n",
    "        [lat, lng],\n",
    "        radius=5,\n",
    "        popup=label,\n",
    "        fill=True,\n",
    "        color='blue',\n",
    "        fill_color='blue',\n",
    "        fill_opacity=0.6\n",
    "        ).add_to(venues_map)\n",
    "\n",
    "# display map\n",
    "venues_map"
   ]
  },
  {
   "cell_type": "code",
   "execution_count": null,
   "metadata": {},
   "outputs": [],
   "source": []
  }
 ],
 "metadata": {
  "kernelspec": {
   "display_name": "Python 3",
   "language": "python",
   "name": "python3"
  },
  "language_info": {
   "codemirror_mode": {
    "name": "ipython",
    "version": 3
   },
   "file_extension": ".py",
   "mimetype": "text/x-python",
   "name": "python",
   "nbconvert_exporter": "python",
   "pygments_lexer": "ipython3",
   "version": "3.7.7"
  }
 },
 "nbformat": 4,
 "nbformat_minor": 4
}
