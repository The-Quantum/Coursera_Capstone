{
  "nbformat": 4,
  "nbformat_minor": 0,
  "metadata": {
    "colab": {
      "name": "Untitled0.ipynb",
      "provenance": [],
      "authorship_tag": "ABX9TyM3SYlWXu7vQd41SmLLAdeG",
      "include_colab_link": true
    },
    "kernelspec": {
      "name": "python3",
      "display_name": "Python 3"
    },
    "accelerator": "GPU"
  },
  "cells": [
    {
      "cell_type": "markdown",
      "metadata": {
        "id": "view-in-github",
        "colab_type": "text"
      },
      "source": [
        "<a href=\"https://colab.research.google.com/github/The-Quantum/Coursera_Capstone/blob/master/Images_classification.ipynb\" target=\"_parent\"><img src=\"https://colab.research.google.com/assets/colab-badge.svg\" alt=\"Open In Colab\"/></a>"
      ]
    },
    {
      "cell_type": "code",
      "metadata": {
        "id": "dbK4q2d3Agme",
        "colab_type": "code",
        "colab": {}
      },
      "source": [
        "import tensorflow as tf\n",
        "from tensorflow.keras import datasets, layers, models\n",
        "from tensorflow.keras.regularizers import l2\n",
        "import matplotlib.pyplot as plt"
      ],
      "execution_count": 1,
      "outputs": []
    },
    {
      "cell_type": "code",
      "metadata": {
        "id": "eIgkmQJNBOXS",
        "colab_type": "code",
        "colab": {}
      },
      "source": [
        "(train_images, train_labels), (test_images, test_labels) = datasets.mnist.load_data()\n",
        "#train_images = train_images[0:10000]\n",
        "#train_labels = train_labels[0:10000]\n",
        "#test_images = train_images[0:1000]\n",
        "#test_labels = train_labels[0:1000]\n",
        "train_images, test_images = train_images/255, test_images/255"
      ],
      "execution_count": 12,
      "outputs": []
    },
    {
      "cell_type": "code",
      "metadata": {
        "id": "UBOXXYgdr18b",
        "colab_type": "code",
        "colab": {
          "base_uri": "https://localhost:8080/",
          "height": 35
        },
        "outputId": "536a69c5-db40-4f03-8189-5a7ee45a0327"
      },
      "source": [
        "print(train_images.shape, test_images.shape)"
      ],
      "execution_count": 13,
      "outputs": [
        {
          "output_type": "stream",
          "text": [
            "(60000, 28, 28) (10000, 28, 28)\n"
          ],
          "name": "stdout"
        }
      ]
    },
    {
      "cell_type": "code",
      "metadata": {
        "id": "foRvxc9cJCvm",
        "colab_type": "code",
        "colab": {
          "base_uri": "https://localhost:8080/",
          "height": 557
        },
        "outputId": "6cd0cc12-a14f-4860-c0a0-61d01b461197"
      },
      "source": [
        "#Conv2D(32, (3, 3), input_shape=x_train.shape[1:], use_bias=False, kernel_regularizer=l2(0.01))\n",
        "model = models.Sequential([tf.keras.layers.Reshape((28, 28, 1)),\n",
        "                           tf.keras.layers.Conv2D(32, (3, 3), activation='relu', input_shape=(28, 28, 1), kernel_regularizer=l2(0.01)),\n",
        "                           tf.keras.layers.BatchNormalization(),\n",
        "                           tf.keras.layers.Flatten(),\n",
        "                           tf.keras.layers.Dense(128, activation='relu'),\n",
        "                           tf.keras.layers.Dropout(0.2),\n",
        "                           tf.keras.layers.Dense(10)\n",
        "                           ])\n",
        "\n",
        "model.compile(optimizer='adam',\n",
        "              loss=tf.keras.losses.SparseCategoricalCrossentropy(from_logits=True),\n",
        "              metrics=['accuracy'])\n",
        "\n",
        "history = model.fit(train_images, train_labels, epochs=15, validation_data=(test_images, test_labels))\n",
        "\n",
        "#model = tf.keras.models.Sequential([\n",
        "#  tf.keras.layers.Flatten(input_shape=(28, 28)),\n",
        "#  tf.keras.layers.Dense(128, activation='relu'),\n",
        "#  tf.keras.layers.Dropout(0.2),\n",
        "#  tf.keras.layers.Dense(10)\n",
        "#])\n",
        "\n",
        "#model.add(layers.Flatten())\n",
        "#model.add(layers.Dense(126, activation=\"relu\"))\n",
        "#model.add(layers.Dense(10, activation='softmax'))"
      ],
      "execution_count": 21,
      "outputs": [
        {
          "output_type": "stream",
          "text": [
            "Epoch 1/15\n",
            "1875/1875 [==============================] - 10s 5ms/step - loss: 0.1999 - accuracy: 0.9474 - val_loss: 0.0851 - val_accuracy: 0.9792\n",
            "Epoch 2/15\n",
            "1875/1875 [==============================] - 10s 5ms/step - loss: 0.0731 - accuracy: 0.9802 - val_loss: 0.0686 - val_accuracy: 0.9820\n",
            "Epoch 3/15\n",
            "1875/1875 [==============================] - 10s 5ms/step - loss: 0.0514 - accuracy: 0.9862 - val_loss: 0.0708 - val_accuracy: 0.9829\n",
            "Epoch 4/15\n",
            "1875/1875 [==============================] - 10s 5ms/step - loss: 0.0419 - accuracy: 0.9884 - val_loss: 0.0704 - val_accuracy: 0.9834\n",
            "Epoch 5/15\n",
            "1875/1875 [==============================] - 10s 5ms/step - loss: 0.0338 - accuracy: 0.9916 - val_loss: 0.0965 - val_accuracy: 0.9785\n",
            "Epoch 6/15\n",
            "1875/1875 [==============================] - 10s 5ms/step - loss: 0.0307 - accuracy: 0.9925 - val_loss: 0.0968 - val_accuracy: 0.9817\n",
            "Epoch 7/15\n",
            "1875/1875 [==============================] - 9s 5ms/step - loss: 0.0280 - accuracy: 0.9932 - val_loss: 0.0806 - val_accuracy: 0.9823\n",
            "Epoch 8/15\n",
            "1875/1875 [==============================] - 10s 5ms/step - loss: 0.0247 - accuracy: 0.9943 - val_loss: 0.0893 - val_accuracy: 0.9870\n",
            "Epoch 9/15\n",
            "1875/1875 [==============================] - 10s 5ms/step - loss: 0.0260 - accuracy: 0.9934 - val_loss: 0.0831 - val_accuracy: 0.9843\n",
            "Epoch 10/15\n",
            "1875/1875 [==============================] - 10s 5ms/step - loss: 0.0227 - accuracy: 0.9945 - val_loss: 0.0797 - val_accuracy: 0.9837\n",
            "Epoch 11/15\n",
            "1875/1875 [==============================] - 10s 5ms/step - loss: 0.0214 - accuracy: 0.9949 - val_loss: 0.0929 - val_accuracy: 0.9834\n",
            "Epoch 12/15\n",
            "1875/1875 [==============================] - 9s 5ms/step - loss: 0.0229 - accuracy: 0.9952 - val_loss: 0.1398 - val_accuracy: 0.9804\n",
            "Epoch 13/15\n",
            "1875/1875 [==============================] - 9s 5ms/step - loss: 0.0229 - accuracy: 0.9953 - val_loss: 0.0799 - val_accuracy: 0.9845\n",
            "Epoch 14/15\n",
            "1875/1875 [==============================] - 10s 5ms/step - loss: 0.0218 - accuracy: 0.9955 - val_loss: 0.1425 - val_accuracy: 0.9814\n",
            "Epoch 15/15\n",
            "1875/1875 [==============================] - 10s 5ms/step - loss: 0.0179 - accuracy: 0.9965 - val_loss: 0.1130 - val_accuracy: 0.9817\n"
          ],
          "name": "stdout"
        }
      ]
    },
    {
      "cell_type": "code",
      "metadata": {
        "id": "oncYSfW9YsRO",
        "colab_type": "code",
        "colab": {
          "base_uri": "https://localhost:8080/",
          "height": 172
        },
        "outputId": "07a16f64-637e-4257-ac56-9eb2e96f17cc"
      },
      "source": [
        "model.summary()"
      ],
      "execution_count": 3,
      "outputs": [
        {
          "output_type": "error",
          "ename": "NameError",
          "evalue": "ignored",
          "traceback": [
            "\u001b[0;31m---------------------------------------------------------------------------\u001b[0m",
            "\u001b[0;31mNameError\u001b[0m                                 Traceback (most recent call last)",
            "\u001b[0;32m<ipython-input-3-5f15418b3570>\u001b[0m in \u001b[0;36m<module>\u001b[0;34m()\u001b[0m\n\u001b[0;32m----> 1\u001b[0;31m \u001b[0mmodel\u001b[0m\u001b[0;34m.\u001b[0m\u001b[0msummary\u001b[0m\u001b[0;34m(\u001b[0m\u001b[0;34m)\u001b[0m\u001b[0;34m\u001b[0m\u001b[0;34m\u001b[0m\u001b[0m\n\u001b[0m",
            "\u001b[0;31mNameError\u001b[0m: name 'model' is not defined"
          ]
        }
      ]
    },
    {
      "cell_type": "code",
      "metadata": {
        "id": "3sd4qc_EHvO0",
        "colab_type": "code",
        "colab": {
          "base_uri": "https://localhost:8080/",
          "height": 53
        },
        "outputId": "0faaa48e-deaa-47a0-caf8-ca99debc4391"
      },
      "source": [
        "input_shape = (1, 28, 28, 1)\n",
        "x = tf.random.normal(input_shape)\n",
        "y = tf.keras.layers.Conv2D(32, (3, 3), activation='relu', input_shape=(28, 28, 1))(x)\n",
        "#y = tf.keras.layers.Flatten(input_shape=(28, 28))(x)\n",
        "#y = model(x)\n",
        "print(x.shape, input_shape[1:])\n",
        "print(y.shape)"
      ],
      "execution_count": 14,
      "outputs": [
        {
          "output_type": "stream",
          "text": [
            "(1, 28, 28, 1) (28, 28, 1)\n",
            "(1, 26, 26, 32)\n"
          ],
          "name": "stdout"
        }
      ]
    },
    {
      "cell_type": "code",
      "metadata": {
        "id": "De0OdIVPuISk",
        "colab_type": "code",
        "colab": {
          "base_uri": "https://localhost:8080/",
          "height": 35
        },
        "outputId": "a2bf5886-9549-4c17-b4e8-62638a9123ca"
      },
      "source": [
        "train_images.shape"
      ],
      "execution_count": 7,
      "outputs": [
        {
          "output_type": "execute_result",
          "data": {
            "text/plain": [
              "(60000, 28, 28)"
            ]
          },
          "metadata": {
            "tags": []
          },
          "execution_count": 7
        }
      ]
    },
    {
      "cell_type": "code",
      "metadata": {
        "id": "ogX01UZqioey",
        "colab_type": "code",
        "colab": {}
      },
      "source": [
        "model = models.Sequential([tf.keras.layers.Reshape((28, 28, 1)),\n",
        "                           layers.Conv2D(64, (3, 3), activation='relu', input_shape=(28, 28, 1)),\n",
        "                           layers.MaxPool2D(pool_size=(2, 2), strides=None, padding='valid'),\n",
        "                           layers.Conv2D(64, (3,3), activation='relu'),\n",
        "                           layers.MaxPool2D((2,2)),\n",
        "                           layers.Conv2D(14, (3,3), activation='relu'),\n",
        "                           layers.Flatten(),\n",
        "                           layers.Dense(126, activation=\"relu\"),\n",
        "                           layers.Dense(10, activation='softmax')\n",
        "                           ])\n",
        "\n",
        "model.compile(optimizer='adam',\n",
        "              loss=tf.keras.losses.SparseCategoricalCrossentropy(from_logits=False),\n",
        "              metrics=['accuracy'])"
      ],
      "execution_count": 86,
      "outputs": []
    },
    {
      "cell_type": "code",
      "metadata": {
        "id": "nw4Qygwsioup",
        "colab_type": "code",
        "colab": {
          "base_uri": "https://localhost:8080/",
          "height": 595
        },
        "outputId": "6d2f2bf2-238d-467d-e155-bd263679317b"
      },
      "source": [
        "history = model.fit(train_images, train_labels, epochs=15, validation_data=(test_images, test_labels), validation_steps=10)\n"
      ],
      "execution_count": 87,
      "outputs": [
        {
          "output_type": "stream",
          "text": [
            "Epoch 1/15\n",
            "32/32 [==============================] - ETA: 0s - loss: 1.8725 - accuracy: 0.3630WARNING:tensorflow:Callbacks method `on_test_batch_end` is slow compared to the batch time (batch time: 0.0036s vs `on_test_batch_end` time: 0.0166s). Check your callbacks.\n",
            "32/32 [==============================] - 1s 24ms/step - loss: 1.8725 - accuracy: 0.3630 - val_loss: 1.0273 - val_accuracy: 0.6734\n",
            "Epoch 2/15\n",
            "32/32 [==============================] - 0s 11ms/step - loss: 0.7273 - accuracy: 0.7760 - val_loss: 0.5989 - val_accuracy: 0.8089\n",
            "Epoch 3/15\n",
            "32/32 [==============================] - 0s 11ms/step - loss: 0.4572 - accuracy: 0.8660 - val_loss: 0.5036 - val_accuracy: 0.8451\n",
            "Epoch 4/15\n",
            "32/32 [==============================] - 0s 11ms/step - loss: 0.3484 - accuracy: 0.9010 - val_loss: 0.3535 - val_accuracy: 0.8894\n",
            "Epoch 5/15\n",
            "32/32 [==============================] - 0s 11ms/step - loss: 0.2387 - accuracy: 0.9310 - val_loss: 0.3157 - val_accuracy: 0.8999\n",
            "Epoch 6/15\n",
            "32/32 [==============================] - 0s 11ms/step - loss: 0.2057 - accuracy: 0.9430 - val_loss: 0.2787 - val_accuracy: 0.9128\n",
            "Epoch 7/15\n",
            "32/32 [==============================] - 0s 11ms/step - loss: 0.1542 - accuracy: 0.9560 - val_loss: 0.2879 - val_accuracy: 0.9123\n",
            "Epoch 8/15\n",
            "32/32 [==============================] - 0s 11ms/step - loss: 0.1301 - accuracy: 0.9580 - val_loss: 0.3151 - val_accuracy: 0.8982\n",
            "Epoch 9/15\n",
            "32/32 [==============================] - 0s 11ms/step - loss: 0.1157 - accuracy: 0.9610 - val_loss: 0.2650 - val_accuracy: 0.9192\n",
            "Epoch 10/15\n",
            "32/32 [==============================] - 0s 11ms/step - loss: 0.0710 - accuracy: 0.9820 - val_loss: 0.2395 - val_accuracy: 0.9276\n",
            "Epoch 11/15\n",
            "32/32 [==============================] - 0s 11ms/step - loss: 0.0680 - accuracy: 0.9820 - val_loss: 0.2754 - val_accuracy: 0.9169\n",
            "Epoch 12/15\n",
            "32/32 [==============================] - 0s 11ms/step - loss: 0.0540 - accuracy: 0.9800 - val_loss: 0.2704 - val_accuracy: 0.9234\n",
            "Epoch 13/15\n",
            "32/32 [==============================] - 0s 11ms/step - loss: 0.0404 - accuracy: 0.9880 - val_loss: 0.2369 - val_accuracy: 0.9321\n",
            "Epoch 14/15\n",
            "32/32 [==============================] - 0s 11ms/step - loss: 0.0229 - accuracy: 0.9950 - val_loss: 0.2700 - val_accuracy: 0.9279\n",
            "Epoch 15/15\n",
            "32/32 [==============================] - 0s 11ms/step - loss: 0.0239 - accuracy: 0.9920 - val_loss: 0.2893 - val_accuracy: 0.9221\n"
          ],
          "name": "stdout"
        }
      ]
    },
    {
      "cell_type": "code",
      "metadata": {
        "id": "2IKG7w2ZtODP",
        "colab_type": "code",
        "colab": {
          "base_uri": "https://localhost:8080/",
          "height": 283
        },
        "outputId": "8d4274ed-c8b9-43e0-8f60-45dd00c0e10c"
      },
      "source": [
        "plt.plot(history.history['val_accuracy'], label='val_accuracy')"
      ],
      "execution_count": 19,
      "outputs": [
        {
          "output_type": "execute_result",
          "data": {
            "text/plain": [
              "[<matplotlib.lines.Line2D at 0x7fc3e425e278>]"
            ]
          },
          "metadata": {
            "tags": []
          },
          "execution_count": 19
        },
        {
          "output_type": "display_data",
          "data": {
            "image/png": "[encoded data removed]",
            "text/plain": [
              "<Figure size 432x288 with 1 Axes>"
            ]
          },
          "metadata": {
            "tags": [],
            "needs_background": "light"
          }
        }
      ]
    },
    {
      "cell_type": "code",
      "metadata": {
        "id": "69HK5ErEio8r",
        "colab_type": "code",
        "colab": {
          "base_uri": "https://localhost:8080/",
          "height": 283
        },
        "outputId": "875d71a8-1fc1-44a2-b206-723bbbf76de4"
      },
      "source": [
        "plt.plot(history.history['accuracy'], label='accuracy')"
      ],
      "execution_count": 20,
      "outputs": [
        {
          "output_type": "execute_result",
          "data": {
            "text/plain": [
              "[<matplotlib.lines.Line2D at 0x7fc3e4226b00>]"
            ]
          },
          "metadata": {
            "tags": []
          },
          "execution_count": 20
        },
        {
          "output_type": "display_data",
          "data": {
            "image/png": "[encoded data removed]",
            "text/plain": [
              "<Figure size 432x288 with 1 Axes>"
            ]
          },
          "metadata": {
            "tags": [],
            "needs_background": "light"
          }
        }
      ]
    },
    {
      "cell_type": "code",
      "metadata": {
        "id": "FNwZygDjLKEv",
        "colab_type": "code",
        "colab": {
          "base_uri": "https://localhost:8080/",
          "height": 53
        },
        "outputId": "a31e3bdc-6b5f-4784-8b6a-e6783a9b2571"
      },
      "source": [
        "input_shape = (1, 28, 28, 1)\n",
        "x = tf.random.normal(input_shape)\n",
        "#y = tf.keras.layers.Conv2D(32, (3, 3), activation='relu', input_shape=(28, 28, 1))(x)\n",
        "#y = tf.keras.layers.Flatten(input_shape=(28, 28))(x)\n",
        "y = model(x)\n",
        "print(input_shape[1:])\n",
        "print(y.shape)"
      ],
      "execution_count": 38,
      "outputs": [
        {
          "output_type": "stream",
          "text": [
            "(28, 28, 1)\n",
            "(1, 10)\n"
          ],
          "name": "stdout"
        }
      ]
    },
    {
      "cell_type": "code",
      "metadata": {
        "id": "ksstDDnGLuBs",
        "colab_type": "code",
        "colab": {
          "base_uri": "https://localhost:8080/",
          "height": 35
        },
        "outputId": "bbe90ed5-7bff-4ce9-8465-ff883e8422ce"
      },
      "source": [
        "tf.__version__"
      ],
      "execution_count": 9,
      "outputs": [
        {
          "output_type": "execute_result",
          "data": {
            "application/vnd.google.colaboratory.intrinsic+json": {
              "type": "string"
            },
            "text/plain": [
              "'2.3.0'"
            ]
          },
          "metadata": {
            "tags": []
          },
          "execution_count": 9
        }
      ]
    },
    {
      "cell_type": "code",
      "metadata": {
        "id": "9bxzahN-fjCA",
        "colab_type": "code",
        "colab": {
          "base_uri": "https://localhost:8080/",
          "height": 301
        },
        "outputId": "4db47766-f81f-48fa-c953-7691598c335d"
      },
      "source": [
        "print(train_images.shape[1:], test_images.shape)\n",
        "plt.imshow(test_images[1])\n",
        "plt.show"
      ],
      "execution_count": 45,
      "outputs": [
        {
          "output_type": "stream",
          "text": [
            "(28, 28) (10000, 28, 28)\n"
          ],
          "name": "stdout"
        },
        {
          "output_type": "execute_result",
          "data": {
            "text/plain": [
              "<function matplotlib.pyplot.show>"
            ]
          },
          "metadata": {
            "tags": []
          },
          "execution_count": 45
        },
        {
          "output_type": "display_data",
          "data": {
            "image/png": "[encoded data removed]",
            "text/plain": [
              "<Figure size 432x288 with 1 Axes>"
            ]
          },
          "metadata": {
            "tags": [],
            "needs_background": "light"
          }
        }
      ]
    }
  ]
}